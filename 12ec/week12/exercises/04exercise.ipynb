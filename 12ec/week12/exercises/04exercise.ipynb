{
 "cells": [
  {
   "cell_type": "markdown",
   "metadata": {},
   "source": [
    "# Exercise 1\n",
    "\n",
    "--> courseutils.py in same folder (great idea for own projects as well!!!)"
   ]
  },
  {
   "cell_type": "code",
   "execution_count": 1,
   "metadata": {},
   "outputs": [
    {
     "name": "stderr",
     "output_type": "stream",
     "text": [
      "/usr/local/lib/python3.8/dist-packages/gensim/similarities/__init__.py:15: UserWarning: The gensim.similarities.levenshtein submodule is disabled, because the optional Levenshtein package <https://pypi.org/project/python-Levenshtein/> is unavailable. Install Levenhstein (e.g. `pip install python-Levenshtein`) to suppress this warning.\n",
      "  warnings.warn(msg)\n"
     ]
    }
   ],
   "source": [
    "from nltk.tokenize import sent_tokenize\n",
    "import string\n",
    "import re\n",
    "\n",
    "# tqdm allows you to display progress bars in loops\n",
    "from tqdm import tqdm\n",
    "from datetime import datetime\n",
    "\n",
    "# you need to have courseutils.py in the same folder\n",
    "from courseutils import get_review_data\n",
    "\n",
    "import gensim\n",
    "\n",
    "# lets get more output\n",
    "import logging\n",
    "logging.basicConfig(format='%(asctime)s : %(levelname)s : %(message)s', level=logging.INFO)"
   ]
  },
  {
   "cell_type": "markdown",
   "metadata": {},
   "source": [
    "note that there are some slight syntax changes between gensim 3 and 4; notebook is now optimized for gensim 4."
   ]
  },
  {
   "cell_type": "code",
   "execution_count": 2,
   "metadata": {},
   "outputs": [
    {
     "data": {
      "text/plain": [
       "'4.0.1'"
      ]
     },
     "execution_count": 2,
     "metadata": {},
     "output_type": "execute_result"
    }
   ],
   "source": [
    "gensim.__version__"
   ]
  },
  {
   "cell_type": "markdown",
   "metadata": {},
   "source": [
    "## Step 1: Get a lot of texts\n",
    "\n",
    "I'll just take the movie reviews here, but you are *very much encouraged* to take your own data. Use any method to get them into a long list (or similar)."
   ]
  },
  {
   "cell_type": "code",
   "execution_count": 3,
   "metadata": {},
   "outputs": [
    {
     "name": "stdout",
     "output_type": "stream",
     "text": [
      "Using cached file reviewdata.pickle.bz2\n"
     ]
    }
   ],
   "source": [
    "train, test, _, _ = get_review_data()"
   ]
  },
  {
   "cell_type": "code",
   "execution_count": 4,
   "metadata": {},
   "outputs": [
    {
     "name": "stdout",
     "output_type": "stream",
     "text": [
      "The original dataset has two sets of reviews of length 25000 and 25000\n",
      "We merged them into one list of 50000 reviews\n"
     ]
    }
   ],
   "source": [
    "# we just need one list\n",
    "print(f\"The original dataset has two sets of reviews of length {len(train)} and {len(test)}\")\n",
    "train.extend(test)\n",
    "del test\n",
    "print(f\"We merged them into one list of {len(train)} reviews\")"
   ]
  },
  {
   "cell_type": "code",
   "execution_count": 5,
   "metadata": {},
   "outputs": [
    {
     "data": {
      "text/plain": [
       "['I rented I AM CURIOUS-YELLOW from my video store because of all the controversy that surrounded it when it was first released in 1967. I also heard that at first it was seized by U.S. customs if it ever tried to enter this country, therefore being a fan of films considered \"controversial\" I really had to see this for myself.<br /><br />The plot is centered around a young Swedish drama student named Lena who wants to learn everything she can about life. In particular she wants to focus her attentions to making some sort of documentary on what the average Swede thought about certain political issues such as the Vietnam War and race issues in the United States. In between asking politicians and ordinary denizens of Stockholm about their opinions on politics, she has sex with her drama teacher, classmates, and married men.<br /><br />What kills me about I AM CURIOUS-YELLOW is that 40 years ago, this was considered pornographic. Really, the sex and nudity scenes are few and far between, even then it\\'s not shot like some cheaply made porno. While my countrymen mind find it shocking, in reality sex and nudity are a major staple in Swedish cinema. Even Ingmar Bergman, arguably their answer to good old boy John Ford, had sex scenes in his films.<br /><br />I do commend the filmmakers for the fact that any sex shown in the film is shown for artistic purposes rather than just to shock people and make money to be shown in pornographic theaters in America. I AM CURIOUS-YELLOW is a good film for anyone wanting to study the meat and potatoes (no pun intended) of Swedish cinema. But really, this film doesn\\'t have much of a plot.',\n",
       " '\"I Am Curious: Yellow\" is a risible and pretentious steaming pile. It doesn\\'t matter what one\\'s political views are because this film can hardly be taken seriously on any level. As for the claim that frontal male nudity is an automatic NC-17, that isn\\'t true. I\\'ve seen R-rated films with male nudity. Granted, they only offer some fleeting views, but where are the R-rated films with gaping vulvas and flapping labia? Nowhere, because they don\\'t exist. The same goes for those crappy cable shows: schlongs swinging in the breeze but not a clitoris in sight. And those pretentious indie movies like The Brown Bunny, in which we\\'re treated to the site of Vincent Gallo\\'s throbbing johnson, but not a trace of pink visible on Chloe Sevigny. Before crying (or implying) \"double-standard\" in matters of nudity, the mentally obtuse should take into account one unavoidably obvious anatomical difference between men and women: there are no genitals on display when actresses appears nude, and the same cannot be said for a man. In fact, you generally won\\'t see female genitals in an American film in anything short of porn or explicit erotica. This alleged double-standard is less a double standard than an admittedly depressing ability to come to terms culturally with the insides of women\\'s bodies.',\n",
       " \"If only to avoid making this type of film in the future. This film is interesting as an experiment but tells no cogent story.<br /><br />One might feel virtuous for sitting thru it because it touches on so many IMPORTANT issues but it does so without any discernable motive. The viewer comes away with no new perspectives (unless one comes up with one while one's mind wanders, as it will invariably do during this pointless film).<br /><br />One might better spend one's time staring out a window at a tree growing.<br /><br />\"]"
      ]
     },
     "execution_count": 5,
     "metadata": {},
     "output_type": "execute_result"
    }
   ],
   "source": [
    "train[:3]"
   ]
  },
  {
   "cell_type": "markdown",
   "metadata": {},
   "source": [
    "## Step 2: Reformat\n",
    "We want to train on sentences, not on whole reviews. We don't need a list of reviews, but a list of sentences.\n",
    "\n",
    "Also, **we only want unique sentences**. It has been shown that this improves the resulting models (and it speeds up training, of course).\n",
    "\n",
    "There are different ways of achieving this, here is one. Some remarks:\n",
    "\n",
    "- tqdm displays a progress bar - it's not strictly necessary\n",
    "- a set is like a list without order, and all items are guaranteed to be unique. You could also use a list, but this is faster. Then, you need to use `uniquesentences = []` and `.append()` instead of `.add()`\n",
    "- we also remove punctuation \n",
    "- depending on whether the texts we want to use our model on later on are lowercased or not, we have to (or not) lowercase here as well. That's a decision to make."
   ]
  },
  {
   "cell_type": "code",
   "execution_count": 6,
   "metadata": {},
   "outputs": [
    {
     "name": "stderr",
     "output_type": "stream",
     "text": [
      "100%|██████████| 50000/50000 [00:22<00:00, 2211.16it/s]\n"
     ]
    }
   ],
   "source": [
    "trans = str.maketrans('', '', string.punctuation) # translation scheme for removing punctuation\n",
    "uniquesentences = set()\n",
    "for review in tqdm(train):\n",
    "    for sentence in sent_tokenize(review):\n",
    "        # remove HTML tags in there\n",
    "        sentence = re.sub(r\"<.*?>\",\" \",sentence)\n",
    "        sentence = sentence.translate(trans) \n",
    "        if sentence not in uniquesentences:\n",
    "            uniquesentences.add(sentence.lower())"
   ]
  },
  {
   "cell_type": "code",
   "execution_count": 7,
   "metadata": {},
   "outputs": [
    {
     "name": "stdout",
     "output_type": "stream",
     "text": [
      "We now have 516343 unique sentences.\n"
     ]
    }
   ],
   "source": [
    "print(f\"We now have {len(uniquesentences)} unique sentences.\")"
   ]
  },
  {
   "cell_type": "code",
   "execution_count": 8,
   "metadata": {},
   "outputs": [],
   "source": [
    "# if we want to, we can turn the set into a list and expect it, e.g. like this:\n",
    "# list(uniquesentences)[:10]"
   ]
  },
  {
   "cell_type": "markdown",
   "metadata": {},
   "source": [
    "**Note that unqiesentences can be also a generator that reads from disk (or from elsewhere) for the next step. Hence, it is possible to train models on more sentences than fit in your memory!**"
   ]
  },
  {
   "cell_type": "markdown",
   "metadata": {},
   "source": [
    "## Step 3: Train the model\n",
    "\n",
    "That's really straightforward in gensim"
   ]
  },
  {
   "cell_type": "code",
   "execution_count": 9,
   "metadata": {},
   "outputs": [],
   "source": [
    "# we do not need a list of lists of tokens later on, so let's use a generator instead of a list to save memory\n",
    "# note that we use round parentheses instead of square brackets to achieve this\n",
    "# we do need two generators, though, as we first need to build the vocabulary and later need to train.\n",
    "# If we use a list, we obviously only need once.\n",
    "tokenizedsentences = (sentence.split() for sentence in uniquesentences)\n",
    "tokenizedsentences2 = (sentence.split() for sentence in uniquesentences)"
   ]
  },
  {
   "cell_type": "code",
   "execution_count": 10,
   "metadata": {},
   "outputs": [
    {
     "name": "stderr",
     "output_type": "stream",
     "text": [
      "2021-04-29 15:23:43,826 : INFO : Word2Vec lifecycle event {'params': 'Word2Vec(vocab=0, vector_size=300, alpha=0.025)', 'datetime': '2021-04-29T15:23:43.812167', 'gensim': '4.0.1', 'python': '3.8.5 (default, Jan 27 2021, 15:41:15) \\n[GCC 9.3.0]', 'platform': 'Linux-5.4.0-72-generic-x86_64-with-glibc2.29', 'event': 'created'}\n",
      "2021-04-29 15:23:43,827 : INFO : collecting all words and their counts\n",
      "2021-04-29 15:23:43,828 : INFO : PROGRESS: at sentence #0, processed 0 words, keeping 0 word types\n",
      "2021-04-29 15:23:43,907 : INFO : PROGRESS: at sentence #10000, processed 217843 words, keeping 20608 word types\n"
     ]
    },
    {
     "name": "stdout",
     "output_type": "stream",
     "text": [
      "Started setting up the model at 2021-04-29 15:23:43.810037\n"
     ]
    },
    {
     "name": "stderr",
     "output_type": "stream",
     "text": [
      "2021-04-29 15:23:43,993 : INFO : PROGRESS: at sentence #20000, processed 435503 words, keeping 30088 word types\n",
      "2021-04-29 15:23:44,072 : INFO : PROGRESS: at sentence #30000, processed 655244 words, keeping 37605 word types\n",
      "2021-04-29 15:23:44,140 : INFO : PROGRESS: at sentence #40000, processed 875466 words, keeping 43853 word types\n",
      "2021-04-29 15:23:44,199 : INFO : PROGRESS: at sentence #50000, processed 1092959 words, keeping 49104 word types\n",
      "2021-04-29 15:23:44,261 : INFO : PROGRESS: at sentence #60000, processed 1309717 words, keeping 53822 word types\n",
      "2021-04-29 15:23:44,330 : INFO : PROGRESS: at sentence #70000, processed 1526510 words, keeping 58101 word types\n",
      "2021-04-29 15:23:44,385 : INFO : PROGRESS: at sentence #80000, processed 1744282 words, keeping 62259 word types\n",
      "2021-04-29 15:23:44,445 : INFO : PROGRESS: at sentence #90000, processed 1961795 words, keeping 66158 word types\n",
      "2021-04-29 15:23:44,525 : INFO : PROGRESS: at sentence #100000, processed 2178748 words, keeping 69870 word types\n",
      "2021-04-29 15:23:44,604 : INFO : PROGRESS: at sentence #110000, processed 2397916 words, keeping 73570 word types\n",
      "2021-04-29 15:23:44,661 : INFO : PROGRESS: at sentence #120000, processed 2615212 words, keeping 76818 word types\n",
      "2021-04-29 15:23:44,727 : INFO : PROGRESS: at sentence #130000, processed 2833951 words, keeping 80073 word types\n",
      "2021-04-29 15:23:44,791 : INFO : PROGRESS: at sentence #140000, processed 3053279 words, keeping 83165 word types\n",
      "2021-04-29 15:23:44,856 : INFO : PROGRESS: at sentence #150000, processed 3271518 words, keeping 86126 word types\n",
      "2021-04-29 15:23:44,928 : INFO : PROGRESS: at sentence #160000, processed 3490748 words, keeping 89127 word types\n",
      "2021-04-29 15:23:44,996 : INFO : PROGRESS: at sentence #170000, processed 3708465 words, keeping 92015 word types\n",
      "2021-04-29 15:23:45,079 : INFO : PROGRESS: at sentence #180000, processed 3930647 words, keeping 94891 word types\n",
      "2021-04-29 15:23:45,146 : INFO : PROGRESS: at sentence #190000, processed 4147630 words, keeping 97740 word types\n",
      "2021-04-29 15:23:45,199 : INFO : PROGRESS: at sentence #200000, processed 4361358 words, keeping 100208 word types\n",
      "2021-04-29 15:23:45,260 : INFO : PROGRESS: at sentence #210000, processed 4581111 words, keeping 102952 word types\n",
      "2021-04-29 15:23:45,327 : INFO : PROGRESS: at sentence #220000, processed 4800508 words, keeping 105301 word types\n",
      "2021-04-29 15:23:45,392 : INFO : PROGRESS: at sentence #230000, processed 5020703 words, keeping 107840 word types\n",
      "2021-04-29 15:23:45,457 : INFO : PROGRESS: at sentence #240000, processed 5238638 words, keeping 110413 word types\n",
      "2021-04-29 15:23:45,525 : INFO : PROGRESS: at sentence #250000, processed 5456240 words, keeping 112932 word types\n",
      "2021-04-29 15:23:45,600 : INFO : PROGRESS: at sentence #260000, processed 5672882 words, keeping 115285 word types\n",
      "2021-04-29 15:23:45,659 : INFO : PROGRESS: at sentence #270000, processed 5890998 words, keeping 117647 word types\n",
      "2021-04-29 15:23:45,726 : INFO : PROGRESS: at sentence #280000, processed 6110045 words, keeping 120056 word types\n",
      "2021-04-29 15:23:45,781 : INFO : PROGRESS: at sentence #290000, processed 6326879 words, keeping 122322 word types\n",
      "2021-04-29 15:23:45,848 : INFO : PROGRESS: at sentence #300000, processed 6545414 words, keeping 124618 word types\n",
      "2021-04-29 15:23:45,915 : INFO : PROGRESS: at sentence #310000, processed 6764959 words, keeping 126827 word types\n",
      "2021-04-29 15:23:45,974 : INFO : PROGRESS: at sentence #320000, processed 6983908 words, keeping 129119 word types\n",
      "2021-04-29 15:23:46,050 : INFO : PROGRESS: at sentence #330000, processed 7201389 words, keeping 131292 word types\n",
      "2021-04-29 15:23:46,129 : INFO : PROGRESS: at sentence #340000, processed 7420641 words, keeping 133360 word types\n",
      "2021-04-29 15:23:46,191 : INFO : PROGRESS: at sentence #350000, processed 7643525 words, keeping 135536 word types\n",
      "2021-04-29 15:23:46,257 : INFO : PROGRESS: at sentence #360000, processed 7862701 words, keeping 137586 word types\n",
      "2021-04-29 15:23:46,327 : INFO : PROGRESS: at sentence #370000, processed 8082133 words, keeping 139682 word types\n",
      "2021-04-29 15:23:46,380 : INFO : PROGRESS: at sentence #380000, processed 8298695 words, keeping 141585 word types\n",
      "2021-04-29 15:23:46,452 : INFO : PROGRESS: at sentence #390000, processed 8516809 words, keeping 143538 word types\n",
      "2021-04-29 15:23:46,514 : INFO : PROGRESS: at sentence #400000, processed 8735532 words, keeping 145436 word types\n",
      "2021-04-29 15:23:46,586 : INFO : PROGRESS: at sentence #410000, processed 8957776 words, keeping 147394 word types\n",
      "2021-04-29 15:23:46,659 : INFO : PROGRESS: at sentence #420000, processed 9177178 words, keeping 149283 word types\n",
      "2021-04-29 15:23:46,718 : INFO : PROGRESS: at sentence #430000, processed 9393639 words, keeping 151306 word types\n",
      "2021-04-29 15:23:46,788 : INFO : PROGRESS: at sentence #440000, processed 9610547 words, keeping 153257 word types\n",
      "2021-04-29 15:23:46,848 : INFO : PROGRESS: at sentence #450000, processed 9828118 words, keeping 155148 word types\n",
      "2021-04-29 15:23:46,911 : INFO : PROGRESS: at sentence #460000, processed 10045035 words, keeping 157038 word types\n",
      "2021-04-29 15:23:46,981 : INFO : PROGRESS: at sentence #470000, processed 10262270 words, keeping 158977 word types\n",
      "2021-04-29 15:23:47,051 : INFO : PROGRESS: at sentence #480000, processed 10481151 words, keeping 160867 word types\n",
      "2021-04-29 15:23:47,117 : INFO : PROGRESS: at sentence #490000, processed 10699053 words, keeping 162809 word types\n",
      "2021-04-29 15:23:47,183 : INFO : PROGRESS: at sentence #500000, processed 10916855 words, keeping 164542 word types\n",
      "2021-04-29 15:23:47,250 : INFO : PROGRESS: at sentence #510000, processed 11133689 words, keeping 166289 word types\n",
      "2021-04-29 15:23:47,291 : INFO : collected 167386 word types from a corpus of 11272631 raw words and 516343 sentences\n",
      "2021-04-29 15:23:47,292 : INFO : Creating a fresh vocabulary\n",
      "2021-04-29 15:23:47,464 : INFO : Word2Vec lifecycle event {'msg': 'effective_min_count=5 retains 42926 unique words (25.644916540212442%% of original 167386, drops 124460)', 'datetime': '2021-04-29T15:23:47.464501', 'gensim': '4.0.1', 'python': '3.8.5 (default, Jan 27 2021, 15:41:15) \\n[GCC 9.3.0]', 'platform': 'Linux-5.4.0-72-generic-x86_64-with-glibc2.29', 'event': 'prepare_vocab'}\n",
      "2021-04-29 15:23:47,465 : INFO : Word2Vec lifecycle event {'msg': 'effective_min_count=5 leaves 11096425 word corpus (98.43686890842076%% of original 11272631, drops 176206)', 'datetime': '2021-04-29T15:23:47.465311', 'gensim': '4.0.1', 'python': '3.8.5 (default, Jan 27 2021, 15:41:15) \\n[GCC 9.3.0]', 'platform': 'Linux-5.4.0-72-generic-x86_64-with-glibc2.29', 'event': 'prepare_vocab'}\n",
      "2021-04-29 15:23:47,685 : INFO : deleting the raw counts dictionary of 167386 items\n",
      "2021-04-29 15:23:47,689 : INFO : sample=0.001 downsamples 47 most-common words\n",
      "2021-04-29 15:23:47,690 : INFO : Word2Vec lifecycle event {'msg': 'downsampling leaves estimated 8359192.91490145 word corpus (75.3%% of prior 11096425)', 'datetime': '2021-04-29T15:23:47.690452', 'gensim': '4.0.1', 'python': '3.8.5 (default, Jan 27 2021, 15:41:15) \\n[GCC 9.3.0]', 'platform': 'Linux-5.4.0-72-generic-x86_64-with-glibc2.29', 'event': 'prepare_vocab'}\n",
      "2021-04-29 15:23:48,058 : INFO : estimated required memory for 42926 words and 300 dimensions: 124485400 bytes\n",
      "2021-04-29 15:23:48,059 : INFO : resetting layer weights\n",
      "2021-04-29 15:23:48,155 : INFO : Word2Vec lifecycle event {'update': False, 'trim_rule': 'None', 'datetime': '2021-04-29T15:23:48.155588', 'gensim': '4.0.1', 'python': '3.8.5 (default, Jan 27 2021, 15:41:15) \\n[GCC 9.3.0]', 'platform': 'Linux-5.4.0-72-generic-x86_64-with-glibc2.29', 'event': 'build_vocab'}\n",
      "2021-04-29 15:23:48,156 : INFO : Word2Vec lifecycle event {'msg': 'training model with 3 workers on 42926 vocabulary and 300 features, using sg=0 hs=0 sample=0.001 negative=5 window=5', 'datetime': '2021-04-29T15:23:48.156390', 'gensim': '4.0.1', 'python': '3.8.5 (default, Jan 27 2021, 15:41:15) \\n[GCC 9.3.0]', 'platform': 'Linux-5.4.0-72-generic-x86_64-with-glibc2.29', 'event': 'train'}\n"
     ]
    },
    {
     "name": "stdout",
     "output_type": "stream",
     "text": [
      "Started training at 2021-04-29 15:23:48.156283\n"
     ]
    },
    {
     "name": "stderr",
     "output_type": "stream",
     "text": [
      "2021-04-29 15:23:49,170 : INFO : EPOCH 1 - PROGRESS: at 7.33% examples, 613244 words/s, in_qsize 6, out_qsize 0\n",
      "2021-04-29 15:23:50,178 : INFO : EPOCH 1 - PROGRESS: at 15.43% examples, 640753 words/s, in_qsize 5, out_qsize 0\n",
      "2021-04-29 15:23:51,199 : INFO : EPOCH 1 - PROGRESS: at 23.69% examples, 652368 words/s, in_qsize 5, out_qsize 1\n",
      "2021-04-29 15:23:52,220 : INFO : EPOCH 1 - PROGRESS: at 31.28% examples, 645084 words/s, in_qsize 5, out_qsize 0\n",
      "2021-04-29 15:23:53,235 : INFO : EPOCH 1 - PROGRESS: at 38.74% examples, 638535 words/s, in_qsize 5, out_qsize 0\n",
      "2021-04-29 15:23:54,239 : INFO : EPOCH 1 - PROGRESS: at 46.59% examples, 641426 words/s, in_qsize 5, out_qsize 0\n",
      "2021-04-29 15:23:55,249 : INFO : EPOCH 1 - PROGRESS: at 54.57% examples, 643836 words/s, in_qsize 5, out_qsize 0\n",
      "2021-04-29 15:23:56,266 : INFO : EPOCH 1 - PROGRESS: at 62.62% examples, 646174 words/s, in_qsize 6, out_qsize 0\n",
      "2021-04-29 15:23:57,275 : INFO : EPOCH 1 - PROGRESS: at 70.63% examples, 648571 words/s, in_qsize 6, out_qsize 0\n",
      "2021-04-29 15:23:58,285 : INFO : EPOCH 1 - PROGRESS: at 78.51% examples, 649006 words/s, in_qsize 5, out_qsize 0\n",
      "2021-04-29 15:23:59,302 : INFO : EPOCH 1 - PROGRESS: at 86.58% examples, 650217 words/s, in_qsize 5, out_qsize 0\n",
      "2021-04-29 15:24:00,307 : INFO : EPOCH 1 - PROGRESS: at 94.55% examples, 651214 words/s, in_qsize 5, out_qsize 0\n",
      "2021-04-29 15:24:00,980 : INFO : worker thread finished; awaiting finish of 2 more threads\n",
      "2021-04-29 15:24:00,986 : INFO : worker thread finished; awaiting finish of 1 more threads\n",
      "2021-04-29 15:24:00,990 : INFO : worker thread finished; awaiting finish of 0 more threads\n",
      "2021-04-29 15:24:00,990 : INFO : EPOCH - 1 : training on 11272631 raw words (8359543 effective words) took 12.8s, 651977 effective words/s\n",
      "2021-04-29 15:24:00,991 : INFO : Word2Vec lifecycle event {'msg': 'training on 11272631 raw words (8359543 effective words) took 12.8s, 651343 effective words/s', 'datetime': '2021-04-29T15:24:00.991226', 'gensim': '4.0.1', 'python': '3.8.5 (default, Jan 27 2021, 15:41:15) \\n[GCC 9.3.0]', 'platform': 'Linux-5.4.0-72-generic-x86_64-with-glibc2.29', 'event': 'train'}\n"
     ]
    },
    {
     "name": "stdout",
     "output_type": "stream",
     "text": [
      "Finished training at 2021-04-29 15:24:00.991890\n"
     ]
    }
   ],
   "source": [
    "print(f\"Started setting up the model at {datetime.now()}\")\n",
    "model = gensim.models.Word2Vec(vector_size=300) # we want 300 dimensions\n",
    "model.build_vocab(tokenizedsentences)\n",
    "print(f\"Started training at {datetime.now()}\")\n",
    "model.train(tokenizedsentences2, total_examples=model.corpus_count,  epochs=1)\n",
    "# our model gets better if we use more epochs, but we can only do so if we use a list instead of a generator as input\n",
    "# after all, you can only pass over a generator once.\n",
    "# model.train(tokenizedsentences2, total_examples=model.corpus_count,  epochs=model.epochs)\n",
    "print(f\"Finished training at {datetime.now()}\")"
   ]
  },
  {
   "cell_type": "code",
   "execution_count": 11,
   "metadata": {},
   "outputs": [],
   "source": [
    "gensim.models.Word2Vec?"
   ]
  },
  {
   "cell_type": "code",
   "execution_count": 12,
   "metadata": {},
   "outputs": [
    {
     "name": "stderr",
     "output_type": "stream",
     "text": [
      "2021-04-29 15:24:01,064 : INFO : Word2Vec lifecycle event {'fname_or_handle': 'mymodel', 'separately': 'None', 'sep_limit': 10485760, 'ignore': frozenset(), 'datetime': '2021-04-29T15:24:01.064686', 'gensim': '4.0.1', 'python': '3.8.5 (default, Jan 27 2021, 15:41:15) \\n[GCC 9.3.0]', 'platform': 'Linux-5.4.0-72-generic-x86_64-with-glibc2.29', 'event': 'saving'}\n",
      "2021-04-29 15:24:01,066 : INFO : storing np array 'vectors' to mymodel.wv.vectors.npy\n",
      "2021-04-29 15:24:01,205 : INFO : storing np array 'syn1neg' to mymodel.syn1neg.npy\n",
      "2021-04-29 15:24:01,341 : INFO : not storing attribute cum_table\n",
      "2021-04-29 15:24:01,370 : INFO : saved mymodel\n"
     ]
    }
   ],
   "source": [
    "model.save(\"mymodel\")"
   ]
  },
  {
   "cell_type": "code",
   "execution_count": 13,
   "metadata": {},
   "outputs": [
    {
     "name": "stderr",
     "output_type": "stream",
     "text": [
      "2021-04-29 15:24:01,378 : INFO : loading Word2Vec object from mymodel\n",
      "2021-04-29 15:24:01,400 : INFO : loading wv recursively from mymodel.wv.* with mmap=None\n",
      "2021-04-29 15:24:01,402 : INFO : loading vectors from mymodel.wv.vectors.npy with mmap=None\n",
      "2021-04-29 15:24:01,486 : INFO : loading syn1neg from mymodel.syn1neg.npy with mmap=None\n",
      "2021-04-29 15:24:01,561 : INFO : setting ignored attribute cum_table to None\n",
      "2021-04-29 15:24:01,907 : INFO : Word2Vec lifecycle event {'fname': 'mymodel', 'datetime': '2021-04-29T15:24:01.907532', 'gensim': '4.0.1', 'python': '3.8.5 (default, Jan 27 2021, 15:41:15) \\n[GCC 9.3.0]', 'platform': 'Linux-5.4.0-72-generic-x86_64-with-glibc2.29', 'event': 'loaded'}\n"
     ]
    }
   ],
   "source": [
    "# and load it again, just to check\n",
    "mymodel = gensim.models.Word2Vec.load(\"mymodel\")"
   ]
  },
  {
   "cell_type": "markdown",
   "metadata": {},
   "source": [
    "# Step 4: Play with the model"
   ]
  },
  {
   "cell_type": "code",
   "execution_count": 14,
   "metadata": {},
   "outputs": [
    {
     "name": "stdout",
     "output_type": "stream",
     "text": [
      "A cat is almost the same as a horse.\n",
      "A dog is almost the same as a baby.\n",
      "A horse is almost the same as a forest.\n",
      "A goldfish is almost the same as a lizard.\n",
      "A lion is almost the same as a pioneer.\n"
     ]
    }
   ],
   "source": [
    "animals = ['cat', 'dog', 'horse', 'goldfish', 'lion']\n",
    "for animal in animals:\n",
    "    try:\n",
    "        print(f\"A {animal} is almost the same as a {model.wv.most_similar(animal)[0][0]}.\")\n",
    "    except Exception as e:\n",
    "        print(e)"
   ]
  },
  {
   "cell_type": "code",
   "execution_count": 15,
   "metadata": {},
   "outputs": [
    {
     "name": "stdout",
     "output_type": "stream",
     "text": [
      "A director is almost the same as a writer.\n",
      "A actor is almost the same as a actress.\n",
      "A bad is almost the same as a good.\n",
      "A good is almost the same as a decent.\n"
     ]
    }
   ],
   "source": [
    "animals = ['director', 'actor', 'bad', 'good']\n",
    "for animal in animals:\n",
    "    try:\n",
    "        print(f\"A {animal} is almost the same as a {model.wv.most_similar(animal)[0][0]}.\")\n",
    "    except Exception as e:\n",
    "        print(e)"
   ]
  },
  {
   "cell_type": "code",
   "execution_count": 16,
   "metadata": {},
   "outputs": [
    {
     "data": {
      "text/plain": [
       "[('suspense', 0.7863096594810486),\n",
       " ('gore', 0.76703941822052),\n",
       " ('cheesy', 0.7289304137229919),\n",
       " ('dramatic', 0.7081713676452637),\n",
       " ('slasher', 0.7052612900733948),\n",
       " ('atmosphere', 0.7052584886550903),\n",
       " ('drama', 0.703515887260437),\n",
       " ('exciting', 0.7013792991638184),\n",
       " ('standard', 0.700564444065094),\n",
       " ('humor', 0.7004095315933228)]"
      ]
     },
     "execution_count": 16,
     "metadata": {},
     "output_type": "execute_result"
    }
   ],
   "source": [
    "model.wv.most_similar(\"action\")"
   ]
  },
  {
   "cell_type": "code",
   "execution_count": 17,
   "metadata": {},
   "outputs": [
    {
     "data": {
      "text/plain": [
       "[('film', 0.9424377679824829),\n",
       " ('show', 0.7994632124900818),\n",
       " ('flick', 0.7537067532539368),\n",
       " ('sequel', 0.7488694190979004),\n",
       " ('documentary', 0.7293484210968018),\n",
       " ('picture', 0.7136430740356445),\n",
       " ('series', 0.708884060382843),\n",
       " ('episode', 0.6871321201324463),\n",
       " ('it', 0.6833255887031555),\n",
       " ('game', 0.6566664576530457)]"
      ]
     },
     "execution_count": 17,
     "metadata": {},
     "output_type": "execute_result"
    }
   ],
   "source": [
    "model.wv.most_similar(\"movie\")"
   ]
  },
  {
   "cell_type": "code",
   "execution_count": 27,
   "metadata": {},
   "outputs": [
    {
     "data": {
      "text/plain": [
       "[('jones', 0.88011234998703),\n",
       " ('taylor', 0.8768390417098999),\n",
       " ('jr', 0.8748553991317749),\n",
       " ('charles', 0.8747254014015198),\n",
       " ('l', 0.8740243911743164),\n",
       " ('gene', 0.8718414306640625),\n",
       " ('julie', 0.8717405200004578),\n",
       " ('de', 0.8704596757888794),\n",
       " ('prince', 0.8697109818458557),\n",
       " ('daniel', 0.8689660429954529)]"
      ]
     },
     "execution_count": 27,
     "metadata": {},
     "output_type": "execute_result"
    }
   ],
   "source": [
    "# the classig king/queen example (of course this one doesn't work out on movie-trained embeddings)\n",
    "model.wv.most_similar(positive=[\"king\", \"woman\"], negative=[\"man\"])"
   ]
  },
  {
   "cell_type": "markdown",
   "metadata": {},
   "source": [
    "# 5 Adapt\n",
    "\n",
    "Now it's time to dive into the gensim documentation (online or via `?` / tab completion) to figure out the options you have - e.g., skipgram vs CBOW, dimensions, etc."
   ]
  },
  {
   "cell_type": "code",
   "execution_count": null,
   "metadata": {},
   "outputs": [],
   "source": []
  },
  {
   "cell_type": "markdown",
   "metadata": {},
   "source": [
    "# Other things we can do\n",
    "\n",
    "Some things that came up.\n",
    "\n",
    "\n",
    "## Dictionary expansion\n",
    "\n",
    "One cool thing that we can do is to expand a list of words with near-synonyms. For instance, imagine we use a simple keyword-based approach to count how often some word we are interested in occurs in a corpus. But maybe we forgot one? In that case, why not expand our list with (near-)synonyms from an embedding model?"
   ]
  },
  {
   "cell_type": "code",
   "execution_count": 18,
   "metadata": {},
   "outputs": [
    {
     "name": "stdout",
     "output_type": "stream",
     "text": [
      "['action', 'horror', 'comedy', 'nature', 'family', 'cartoon', 'suspense', 'gore', 'cheesy', 'dramatic', 'slasher', 'atmosphere', 'drama', 'exciting', 'standard', 'humor', 'slasher', 'scifi', 'genre', 'classic', 'lowbudget', 'b', 'hollywood', 'disney', 'trash', 'comedy', 'thriller', 'drama', 'flick', 'genre', 'entertainment', 'romantic', 'documentary', 'horror', 'masterpiece', 'filmmaking', 'depiction', 'essence', 'beauty', 'context', 'moral', 'terms', 'spirit', 'social', 'narrative', 'strength', 'country', 'dream', 'business', 'relationship', 'dreams', 'soul', 'life', 'child', 'lives', 'friendship', 'miniseries', 'entry', 'sitcom', '1950s', 'milestone', 'era', 'western', '70s', 'segment', 'comedydrama']\n"
     ]
    }
   ],
   "source": [
    "# let's get the most similar words to our seed words\n",
    "seedlist = ['action', 'horror', 'comedy','nature','family','cartoon']\n",
    "words = seedlist.copy()\n",
    "for w in seedlist:\n",
    "    words.extend([e[0] for e in model.wv.most_similar(w)])\n",
    "\n",
    "print(words)"
   ]
  },
  {
   "cell_type": "code",
   "execution_count": 19,
   "metadata": {},
   "outputs": [
    {
     "data": {
      "text/plain": [
       "['suspense',\n",
       " 'gore',\n",
       " 'cheesy',\n",
       " 'dramatic',\n",
       " 'slasher',\n",
       " 'atmosphere',\n",
       " 'drama',\n",
       " 'exciting',\n",
       " 'standard',\n",
       " 'humor']"
      ]
     },
     "execution_count": 19,
     "metadata": {},
     "output_type": "execute_result"
    }
   ],
   "source": [
    "[e[0] for e in model.wv.most_similar(\"action\")]"
   ]
  },
  {
   "cell_type": "markdown",
   "metadata": {},
   "source": [
    "## Plotting\n",
    "\n",
    "We can also use a method called tsne (from our good friend scikit-learn) to make a two-dimensional projection of our 300-dimensional embeddings to plot the distances of the words (not the most interesting data here, but you get the idea):"
   ]
  },
  {
   "cell_type": "code",
   "execution_count": 20,
   "metadata": {},
   "outputs": [],
   "source": [
    "from sklearn.manifold import TSNE\n",
    "import matplotlib.pyplot as plt"
   ]
  },
  {
   "cell_type": "code",
   "execution_count": 21,
   "metadata": {},
   "outputs": [],
   "source": [
    "def plot_words(words, model):\n",
    "    '''takes a list of words and a word embedding model as input and plots the words\n",
    "    in a 2-dimensional projection of the space'''\n",
    "    # make sure words are unique:\n",
    "    words = set(words)\n",
    "    X = model.wv[words]\n",
    "    tsne = TSNE(n_components=2)\n",
    "    X_tsne = tsne.fit_transform(X)\n",
    "\n",
    "    fig = plt.figure()\n",
    "    ax = fig.add_subplot(1, 1, 1)\n",
    "    ax.scatter(X_tsne[:, 0], X_tsne[:, 1])\n",
    "    for w, pos in zip(words,X_tsne):\n",
    "        ax.annotate(w, pos)"
   ]
  },
  {
   "cell_type": "code",
   "execution_count": 22,
   "metadata": {},
   "outputs": [
    {
     "data": {
      "image/png": "[encoded data removed]",
      "text/plain": [
       "<Figure size 432x288 with 1 Axes>"
      ]
     },
     "metadata": {
      "needs_background": "light"
     },
     "output_type": "display_data"
    }
   ],
   "source": [
    "plot_words(words, model)\n"
   ]
  },
  {
   "cell_type": "code",
   "execution_count": null,
   "metadata": {},
   "outputs": [],
   "source": []
  }
 ],
 "metadata": {
  "kernelspec": {
   "display_name": "Python 3",
   "language": "python",
   "name": "python3"
  },
  "language_info": {
   "codemirror_mode": {
    "name": "ipython",
    "version": 3
   },
   "file_extension": ".py",
   "mimetype": "text/x-python",
   "name": "python",
   "nbconvert_exporter": "python",
   "pygments_lexer": "ipython3",
   "version": "3.8.5"
  }
 },
 "nbformat": 4,
 "nbformat_minor": 4
}
