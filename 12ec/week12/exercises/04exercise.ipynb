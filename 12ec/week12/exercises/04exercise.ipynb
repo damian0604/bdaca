{
 "cells": [
  {
   "cell_type": "markdown",
   "metadata": {},
   "source": [
    "# Exercise Monday\n",
    "\n",
    "Train your own model"
   ]
  },
  {
   "cell_type": "code",
   "execution_count": 1,
   "metadata": {},
   "outputs": [
    {
     "name": "stderr",
     "output_type": "stream",
     "text": [
      "/usr/local/lib/python3.8/dist-packages/gensim/similarities/__init__.py:15: UserWarning: The gensim.similarities.levenshtein submodule is disabled, because the optional Levenshtein package <https://pypi.org/project/python-Levenshtein/> is unavailable. Install Levenhstein (e.g. `pip install python-Levenshtein`) to suppress this warning.\n",
      "  warnings.warn(msg)\n"
     ]
    }
   ],
   "source": [
    "from nltk.tokenize import sent_tokenize\n",
    "import string\n",
    "import re\n",
    "\n",
    "# tqdm allows you to display progress bars in loops\n",
    "from tqdm import tqdm\n",
    "from datetime import datetime\n",
    "\n",
    "# you need to have courseutils.py in the same folder\n",
    "from courseutils import get_review_data\n",
    "\n",
    "import gensim\n",
    "\n",
    "# lets get more output\n",
    "import logging\n",
    "logging.basicConfig(format='%(asctime)s : %(levelname)s : %(message)s', level=logging.INFO)"
   ]
  },
  {
   "cell_type": "markdown",
   "metadata": {},
   "source": [
    "note that there are some slight syntax changes between gensim 3 and 4; notebook is now optimized for gensim 4."
   ]
  },
  {
   "cell_type": "code",
   "execution_count": 2,
   "metadata": {},
   "outputs": [
    {
     "data": {
      "text/plain": [
       "'4.0.1'"
      ]
     },
     "execution_count": 2,
     "metadata": {},
     "output_type": "execute_result"
    }
   ],
   "source": [
    "gensim.__version__"
   ]
  },
  {
   "cell_type": "markdown",
   "metadata": {},
   "source": [
    "## Step 1: Get a lot of texts\n",
    "\n",
    "I'll just take the movie reviews here, but you are *very much encouraged* to take your own data. Use any method to get them into a long list (or similar)."
   ]
  },
  {
   "cell_type": "code",
   "execution_count": 3,
   "metadata": {},
   "outputs": [
    {
     "name": "stdout",
     "output_type": "stream",
     "text": [
      "Using cached file reviewdata.pickle.bz2\n"
     ]
    }
   ],
   "source": [
    "train, test, _, _ = get_review_data()"
   ]
  },
  {
   "cell_type": "code",
   "execution_count": 4,
   "metadata": {},
   "outputs": [
    {
     "name": "stdout",
     "output_type": "stream",
     "text": [
      "The original dataset has two sets of reviews of length 25000 and 25000\n",
      "We merged them into one list of 50000 reviews\n"
     ]
    }
   ],
   "source": [
    "# we just need one list\n",
    "print(f\"The original dataset has two sets of reviews of length {len(train)} and {len(test)}\")\n",
    "train.extend(test)\n",
    "del test\n",
    "print(f\"We merged them into one list of {len(train)} reviews\")"
   ]
  },
  {
   "cell_type": "code",
   "execution_count": 5,
   "metadata": {},
   "outputs": [
    {
     "data": {
      "text/plain": [
       "['I rented I AM CURIOUS-YELLOW from my video store because of all the controversy that surrounded it when it was first released in 1967. I also heard that at first it was seized by U.S. customs if it ever tried to enter this country, therefore being a fan of films considered \"controversial\" I really had to see this for myself.<br /><br />The plot is centered around a young Swedish drama student named Lena who wants to learn everything she can about life. In particular she wants to focus her attentions to making some sort of documentary on what the average Swede thought about certain political issues such as the Vietnam War and race issues in the United States. In between asking politicians and ordinary denizens of Stockholm about their opinions on politics, she has sex with her drama teacher, classmates, and married men.<br /><br />What kills me about I AM CURIOUS-YELLOW is that 40 years ago, this was considered pornographic. Really, the sex and nudity scenes are few and far between, even then it\\'s not shot like some cheaply made porno. While my countrymen mind find it shocking, in reality sex and nudity are a major staple in Swedish cinema. Even Ingmar Bergman, arguably their answer to good old boy John Ford, had sex scenes in his films.<br /><br />I do commend the filmmakers for the fact that any sex shown in the film is shown for artistic purposes rather than just to shock people and make money to be shown in pornographic theaters in America. I AM CURIOUS-YELLOW is a good film for anyone wanting to study the meat and potatoes (no pun intended) of Swedish cinema. But really, this film doesn\\'t have much of a plot.',\n",
       " '\"I Am Curious: Yellow\" is a risible and pretentious steaming pile. It doesn\\'t matter what one\\'s political views are because this film can hardly be taken seriously on any level. As for the claim that frontal male nudity is an automatic NC-17, that isn\\'t true. I\\'ve seen R-rated films with male nudity. Granted, they only offer some fleeting views, but where are the R-rated films with gaping vulvas and flapping labia? Nowhere, because they don\\'t exist. The same goes for those crappy cable shows: schlongs swinging in the breeze but not a clitoris in sight. And those pretentious indie movies like The Brown Bunny, in which we\\'re treated to the site of Vincent Gallo\\'s throbbing johnson, but not a trace of pink visible on Chloe Sevigny. Before crying (or implying) \"double-standard\" in matters of nudity, the mentally obtuse should take into account one unavoidably obvious anatomical difference between men and women: there are no genitals on display when actresses appears nude, and the same cannot be said for a man. In fact, you generally won\\'t see female genitals in an American film in anything short of porn or explicit erotica. This alleged double-standard is less a double standard than an admittedly depressing ability to come to terms culturally with the insides of women\\'s bodies.',\n",
       " \"If only to avoid making this type of film in the future. This film is interesting as an experiment but tells no cogent story.<br /><br />One might feel virtuous for sitting thru it because it touches on so many IMPORTANT issues but it does so without any discernable motive. The viewer comes away with no new perspectives (unless one comes up with one while one's mind wanders, as it will invariably do during this pointless film).<br /><br />One might better spend one's time staring out a window at a tree growing.<br /><br />\"]"
      ]
     },
     "execution_count": 5,
     "metadata": {},
     "output_type": "execute_result"
    }
   ],
   "source": [
    "train[:3]"
   ]
  },
  {
   "cell_type": "markdown",
   "metadata": {},
   "source": [
    "## Step 2: Reformat\n",
    "We want to train on sentences, not on whole reviews. We don't need a list of reviews, but a list of sentences.\n",
    "\n",
    "Also, **we only want unique sentences**. It has been shown that this improves the resulting models (and it speeds up training, of course).\n",
    "\n",
    "There are different ways of achieving this, here is one. Some remarks:\n",
    "\n",
    "- tqdm displays a progress bar - it's not strictly necessary\n",
    "- a set is like a list without order, and all items are guaranteed to be unique. You could also use a list, but this is faster. Then, you need to use `uniquesentences = []` and `.append()` instead of `.add()`\n",
    "- we also remove punctuation \n",
    "- depending on whether the texts we want to use our model on later on are lowercased or not, we have to (or not) lowercase here as well. That's a decision to make."
   ]
  },
  {
   "cell_type": "code",
   "execution_count": 6,
   "metadata": {},
   "outputs": [
    {
     "name": "stderr",
     "output_type": "stream",
     "text": [
      "100%|██████████| 50000/50000 [00:29<00:00, 1688.90it/s]\n"
     ]
    }
   ],
   "source": [
    "trans = str.maketrans('', '', string.punctuation) # translation scheme for removing punctuation\n",
    "uniquesentences = set()\n",
    "for review in tqdm(train):\n",
    "    for sentence in sent_tokenize(review):\n",
    "        # remove HTML tags in there\n",
    "        sentence = re.sub(r\"<.*?>\",\" \",sentence)\n",
    "        sentence = sentence.translate(trans) \n",
    "        if sentence not in uniquesentences:\n",
    "            uniquesentences.add(sentence.lower())"
   ]
  },
  {
   "cell_type": "code",
   "execution_count": 7,
   "metadata": {},
   "outputs": [
    {
     "name": "stdout",
     "output_type": "stream",
     "text": [
      "We now have 516343 unique sentences.\n"
     ]
    }
   ],
   "source": [
    "print(f\"We now have {len(uniquesentences)} unique sentences.\")"
   ]
  },
  {
   "cell_type": "code",
   "execution_count": 8,
   "metadata": {},
   "outputs": [],
   "source": [
    "# if we want to, we can turn the set into a list and expect it, e.g. like this:\n",
    "# list(uniquesentences)[:10]"
   ]
  },
  {
   "cell_type": "markdown",
   "metadata": {},
   "source": [
    "**Note that unqiesentences can be also a generator that reads from disk (or from elsewhere) for the next step. Hence, it is possible to train models on more sentences than fit in your memory!**"
   ]
  },
  {
   "cell_type": "markdown",
   "metadata": {},
   "source": [
    "## Step 3: Train the model\n",
    "\n",
    "That's really straightforward in gensim"
   ]
  },
  {
   "cell_type": "code",
   "execution_count": 9,
   "metadata": {},
   "outputs": [],
   "source": [
    "# we do not need a list of lists of tokens later on, so let's use a generator instead of a list to save memory\n",
    "# note that we use round parentheses instead of square brackets to achieve this\n",
    "# we do need two generators, though, as we first need to build the vocabulary and later need to train.\n",
    "# If we use a list, we obviously only need once.\n",
    "tokenizedsentences = (sentence.split() for sentence in uniquesentences)\n",
    "tokenizedsentences2 = (sentence.split() for sentence in uniquesentences)"
   ]
  },
  {
   "cell_type": "code",
   "execution_count": 10,
   "metadata": {},
   "outputs": [
    {
     "name": "stderr",
     "output_type": "stream",
     "text": [
      "2021-04-13 09:04:53,707 : INFO : Word2Vec lifecycle event {'params': 'Word2Vec(vocab=0, vector_size=300, alpha=0.025)', 'datetime': '2021-04-13T09:04:53.686449', 'gensim': '4.0.1', 'python': '3.8.5 (default, Jan 27 2021, 15:41:15) \\n[GCC 9.3.0]', 'platform': 'Linux-5.4.0-70-generic-x86_64-with-glibc2.29', 'event': 'created'}\n",
      "2021-04-13 09:04:53,709 : INFO : collecting all words and their counts\n",
      "2021-04-13 09:04:53,711 : INFO : PROGRESS: at sentence #0, processed 0 words, keeping 0 word types\n",
      "2021-04-13 09:04:53,828 : INFO : PROGRESS: at sentence #10000, processed 219655 words, keeping 20631 word types\n"
     ]
    },
    {
     "name": "stdout",
     "output_type": "stream",
     "text": [
      "Started setting up the model at 2021-04-13 09:04:53.683098\n"
     ]
    },
    {
     "name": "stderr",
     "output_type": "stream",
     "text": [
      "2021-04-13 09:04:53,983 : INFO : PROGRESS: at sentence #20000, processed 440556 words, keeping 30425 word types\n",
      "2021-04-13 09:04:54,081 : INFO : PROGRESS: at sentence #30000, processed 659879 words, keeping 37658 word types\n",
      "2021-04-13 09:04:54,170 : INFO : PROGRESS: at sentence #40000, processed 875385 words, keeping 43551 word types\n",
      "2021-04-13 09:04:54,264 : INFO : PROGRESS: at sentence #50000, processed 1093407 words, keeping 49094 word types\n",
      "2021-04-13 09:04:54,359 : INFO : PROGRESS: at sentence #60000, processed 1311138 words, keeping 53799 word types\n",
      "2021-04-13 09:04:54,451 : INFO : PROGRESS: at sentence #70000, processed 1529739 words, keeping 58273 word types\n",
      "2021-04-13 09:04:54,565 : INFO : PROGRESS: at sentence #80000, processed 1747034 words, keeping 62499 word types\n",
      "2021-04-13 09:04:54,666 : INFO : PROGRESS: at sentence #90000, processed 1967890 words, keeping 66427 word types\n",
      "2021-04-13 09:04:54,755 : INFO : PROGRESS: at sentence #100000, processed 2184643 words, keeping 70000 word types\n",
      "2021-04-13 09:04:54,866 : INFO : PROGRESS: at sentence #110000, processed 2402924 words, keeping 73601 word types\n",
      "2021-04-13 09:04:54,999 : INFO : PROGRESS: at sentence #120000, processed 2621924 words, keeping 77144 word types\n",
      "2021-04-13 09:04:55,102 : INFO : PROGRESS: at sentence #130000, processed 2839444 words, keeping 80282 word types\n",
      "2021-04-13 09:04:55,203 : INFO : PROGRESS: at sentence #140000, processed 3057824 words, keeping 83436 word types\n",
      "2021-04-13 09:04:55,311 : INFO : PROGRESS: at sentence #150000, processed 3278595 words, keeping 86475 word types\n",
      "2021-04-13 09:04:55,419 : INFO : PROGRESS: at sentence #160000, processed 3498092 words, keeping 89410 word types\n",
      "2021-04-13 09:04:55,520 : INFO : PROGRESS: at sentence #170000, processed 3714772 words, keeping 92259 word types\n",
      "2021-04-13 09:04:55,619 : INFO : PROGRESS: at sentence #180000, processed 3931352 words, keeping 94863 word types\n",
      "2021-04-13 09:04:55,751 : INFO : PROGRESS: at sentence #190000, processed 4149708 words, keeping 97513 word types\n",
      "2021-04-13 09:04:55,860 : INFO : PROGRESS: at sentence #200000, processed 4368034 words, keeping 100166 word types\n",
      "2021-04-13 09:04:55,977 : INFO : PROGRESS: at sentence #210000, processed 4586385 words, keeping 102777 word types\n",
      "2021-04-13 09:04:56,071 : INFO : PROGRESS: at sentence #220000, processed 4804691 words, keeping 105227 word types\n",
      "2021-04-13 09:04:56,177 : INFO : PROGRESS: at sentence #230000, processed 5021592 words, keeping 107746 word types\n",
      "2021-04-13 09:04:56,285 : INFO : PROGRESS: at sentence #240000, processed 5239477 words, keeping 110309 word types\n",
      "2021-04-13 09:04:56,404 : INFO : PROGRESS: at sentence #250000, processed 5455679 words, keeping 112705 word types\n",
      "2021-04-13 09:04:56,495 : INFO : PROGRESS: at sentence #260000, processed 5673240 words, keeping 115020 word types\n",
      "2021-04-13 09:04:56,578 : INFO : PROGRESS: at sentence #270000, processed 5891310 words, keeping 117361 word types\n",
      "2021-04-13 09:04:56,678 : INFO : PROGRESS: at sentence #280000, processed 6108824 words, keeping 119750 word types\n",
      "2021-04-13 09:04:56,776 : INFO : PROGRESS: at sentence #290000, processed 6325782 words, keeping 121950 word types\n",
      "2021-04-13 09:04:56,866 : INFO : PROGRESS: at sentence #300000, processed 6540894 words, keeping 124192 word types\n",
      "2021-04-13 09:04:56,979 : INFO : PROGRESS: at sentence #310000, processed 6760824 words, keeping 126462 word types\n",
      "2021-04-13 09:04:57,068 : INFO : PROGRESS: at sentence #320000, processed 6979678 words, keeping 128645 word types\n",
      "2021-04-13 09:04:57,155 : INFO : PROGRESS: at sentence #330000, processed 7196924 words, keeping 130855 word types\n",
      "2021-04-13 09:04:57,257 : INFO : PROGRESS: at sentence #340000, processed 7416586 words, keeping 132934 word types\n",
      "2021-04-13 09:04:57,357 : INFO : PROGRESS: at sentence #350000, processed 7636197 words, keeping 134942 word types\n",
      "2021-04-13 09:04:57,478 : INFO : PROGRESS: at sentence #360000, processed 7852444 words, keeping 137077 word types\n",
      "2021-04-13 09:04:57,613 : INFO : PROGRESS: at sentence #370000, processed 8074746 words, keeping 139244 word types\n",
      "2021-04-13 09:04:57,697 : INFO : PROGRESS: at sentence #380000, processed 8290355 words, keeping 141281 word types\n",
      "2021-04-13 09:04:57,804 : INFO : PROGRESS: at sentence #390000, processed 8510286 words, keeping 143234 word types\n",
      "2021-04-13 09:04:57,898 : INFO : PROGRESS: at sentence #400000, processed 8729456 words, keeping 145292 word types\n",
      "2021-04-13 09:04:58,008 : INFO : PROGRESS: at sentence #410000, processed 8944118 words, keeping 147134 word types\n",
      "2021-04-13 09:04:58,137 : INFO : PROGRESS: at sentence #420000, processed 9165260 words, keeping 149232 word types\n",
      "2021-04-13 09:04:58,231 : INFO : PROGRESS: at sentence #430000, processed 9385328 words, keeping 151223 word types\n",
      "2021-04-13 09:04:58,329 : INFO : PROGRESS: at sentence #440000, processed 9604309 words, keeping 153150 word types\n",
      "2021-04-13 09:04:58,429 : INFO : PROGRESS: at sentence #450000, processed 9823768 words, keeping 155094 word types\n",
      "2021-04-13 09:04:58,548 : INFO : PROGRESS: at sentence #460000, processed 10042926 words, keeping 157043 word types\n",
      "2021-04-13 09:04:58,657 : INFO : PROGRESS: at sentence #470000, processed 10260801 words, keeping 158899 word types\n",
      "2021-04-13 09:04:58,769 : INFO : PROGRESS: at sentence #480000, processed 10478244 words, keeping 160654 word types\n",
      "2021-04-13 09:04:58,876 : INFO : PROGRESS: at sentence #490000, processed 10693243 words, keeping 162395 word types\n",
      "2021-04-13 09:04:59,008 : INFO : PROGRESS: at sentence #500000, processed 10914215 words, keeping 164347 word types\n",
      "2021-04-13 09:04:59,144 : INFO : PROGRESS: at sentence #510000, processed 11134670 words, keeping 166157 word types\n",
      "2021-04-13 09:04:59,217 : INFO : collected 167386 word types from a corpus of 11272631 raw words and 516343 sentences\n",
      "2021-04-13 09:04:59,218 : INFO : Creating a fresh vocabulary\n",
      "2021-04-13 09:04:59,494 : INFO : Word2Vec lifecycle event {'msg': 'effective_min_count=5 retains 42926 unique words (25.644916540212442%% of original 167386, drops 124460)', 'datetime': '2021-04-13T09:04:59.494694', 'gensim': '4.0.1', 'python': '3.8.5 (default, Jan 27 2021, 15:41:15) \\n[GCC 9.3.0]', 'platform': 'Linux-5.4.0-70-generic-x86_64-with-glibc2.29', 'event': 'prepare_vocab'}\n",
      "2021-04-13 09:04:59,495 : INFO : Word2Vec lifecycle event {'msg': 'effective_min_count=5 leaves 11096425 word corpus (98.43686890842076%% of original 11272631, drops 176206)', 'datetime': '2021-04-13T09:04:59.495579', 'gensim': '4.0.1', 'python': '3.8.5 (default, Jan 27 2021, 15:41:15) \\n[GCC 9.3.0]', 'platform': 'Linux-5.4.0-70-generic-x86_64-with-glibc2.29', 'event': 'prepare_vocab'}\n",
      "2021-04-13 09:04:59,880 : INFO : deleting the raw counts dictionary of 167386 items\n",
      "2021-04-13 09:04:59,885 : INFO : sample=0.001 downsamples 47 most-common words\n",
      "2021-04-13 09:04:59,886 : INFO : Word2Vec lifecycle event {'msg': 'downsampling leaves estimated 8359192.91490145 word corpus (75.3%% of prior 11096425)', 'datetime': '2021-04-13T09:04:59.886814', 'gensim': '4.0.1', 'python': '3.8.5 (default, Jan 27 2021, 15:41:15) \\n[GCC 9.3.0]', 'platform': 'Linux-5.4.0-70-generic-x86_64-with-glibc2.29', 'event': 'prepare_vocab'}\n",
      "2021-04-13 09:05:00,555 : INFO : estimated required memory for 42926 words and 300 dimensions: 124485400 bytes\n",
      "2021-04-13 09:05:00,556 : INFO : resetting layer weights\n",
      "2021-04-13 09:05:00,872 : INFO : Word2Vec lifecycle event {'update': False, 'trim_rule': 'None', 'datetime': '2021-04-13T09:05:00.872725', 'gensim': '4.0.1', 'python': '3.8.5 (default, Jan 27 2021, 15:41:15) \\n[GCC 9.3.0]', 'platform': 'Linux-5.4.0-70-generic-x86_64-with-glibc2.29', 'event': 'build_vocab'}\n",
      "2021-04-13 09:05:00,873 : INFO : Word2Vec lifecycle event {'msg': 'training model with 3 workers on 42926 vocabulary and 300 features, using sg=0 hs=0 sample=0.001 negative=5 window=5', 'datetime': '2021-04-13T09:05:00.873893', 'gensim': '4.0.1', 'python': '3.8.5 (default, Jan 27 2021, 15:41:15) \\n[GCC 9.3.0]', 'platform': 'Linux-5.4.0-70-generic-x86_64-with-glibc2.29', 'event': 'train'}\n"
     ]
    },
    {
     "name": "stdout",
     "output_type": "stream",
     "text": [
      "Started training at 2021-04-13 09:05:00.873719\n"
     ]
    },
    {
     "name": "stderr",
     "output_type": "stream",
     "text": [
      "2021-04-13 09:05:01,969 : INFO : EPOCH 1 - PROGRESS: at 2.91% examples, 224953 words/s, in_qsize 4, out_qsize 1\n",
      "2021-04-13 09:05:03,011 : INFO : EPOCH 1 - PROGRESS: at 6.06% examples, 239977 words/s, in_qsize 5, out_qsize 0\n",
      "2021-04-13 09:05:04,012 : INFO : EPOCH 1 - PROGRESS: at 9.54% examples, 255428 words/s, in_qsize 5, out_qsize 0\n",
      "2021-04-13 09:05:05,045 : INFO : EPOCH 1 - PROGRESS: at 13.18% examples, 265006 words/s, in_qsize 6, out_qsize 0\n",
      "2021-04-13 09:05:06,155 : INFO : EPOCH 1 - PROGRESS: at 17.15% examples, 272394 words/s, in_qsize 4, out_qsize 0\n",
      "2021-04-13 09:05:07,168 : INFO : EPOCH 1 - PROGRESS: at 21.16% examples, 281559 words/s, in_qsize 5, out_qsize 0\n",
      "2021-04-13 09:05:08,193 : INFO : EPOCH 1 - PROGRESS: at 25.14% examples, 287568 words/s, in_qsize 6, out_qsize 0\n",
      "2021-04-13 09:05:09,201 : INFO : EPOCH 1 - PROGRESS: at 28.83% examples, 290141 words/s, in_qsize 6, out_qsize 0\n",
      "2021-04-13 09:05:10,214 : INFO : EPOCH 1 - PROGRESS: at 32.64% examples, 292768 words/s, in_qsize 6, out_qsize 0\n",
      "2021-04-13 09:05:11,235 : INFO : EPOCH 1 - PROGRESS: at 36.83% examples, 297680 words/s, in_qsize 5, out_qsize 1\n",
      "2021-04-13 09:05:12,246 : INFO : EPOCH 1 - PROGRESS: at 40.98% examples, 301595 words/s, in_qsize 6, out_qsize 1\n",
      "2021-04-13 09:05:13,280 : INFO : EPOCH 1 - PROGRESS: at 44.81% examples, 302126 words/s, in_qsize 4, out_qsize 1\n",
      "2021-04-13 09:05:14,303 : INFO : EPOCH 1 - PROGRESS: at 48.72% examples, 303379 words/s, in_qsize 5, out_qsize 1\n",
      "2021-04-13 09:05:15,305 : INFO : EPOCH 1 - PROGRESS: at 53.42% examples, 309521 words/s, in_qsize 5, out_qsize 0\n",
      "2021-04-13 09:05:16,326 : INFO : EPOCH 1 - PROGRESS: at 57.71% examples, 312072 words/s, in_qsize 6, out_qsize 0\n",
      "2021-04-13 09:05:17,335 : INFO : EPOCH 1 - PROGRESS: at 61.87% examples, 314066 words/s, in_qsize 5, out_qsize 0\n",
      "2021-04-13 09:05:18,341 : INFO : EPOCH 1 - PROGRESS: at 66.47% examples, 318015 words/s, in_qsize 6, out_qsize 0\n",
      "2021-04-13 09:05:19,361 : INFO : EPOCH 1 - PROGRESS: at 70.71% examples, 319710 words/s, in_qsize 6, out_qsize 1\n",
      "2021-04-13 09:05:20,375 : INFO : EPOCH 1 - PROGRESS: at 75.22% examples, 322402 words/s, in_qsize 6, out_qsize 0\n",
      "2021-04-13 09:05:21,384 : INFO : EPOCH 1 - PROGRESS: at 79.74% examples, 324914 words/s, in_qsize 6, out_qsize 0\n",
      "2021-04-13 09:05:22,397 : INFO : EPOCH 1 - PROGRESS: at 83.08% examples, 322689 words/s, in_qsize 5, out_qsize 0\n",
      "2021-04-13 09:05:23,405 : INFO : EPOCH 1 - PROGRESS: at 86.79% examples, 322049 words/s, in_qsize 6, out_qsize 1\n",
      "2021-04-13 09:05:24,455 : INFO : EPOCH 1 - PROGRESS: at 89.97% examples, 319008 words/s, in_qsize 6, out_qsize 0\n",
      "2021-04-13 09:05:25,477 : INFO : EPOCH 1 - PROGRESS: at 93.60% examples, 318109 words/s, in_qsize 5, out_qsize 0\n",
      "2021-04-13 09:05:26,478 : INFO : EPOCH 1 - PROGRESS: at 97.32% examples, 317803 words/s, in_qsize 6, out_qsize 0\n",
      "2021-04-13 09:05:27,153 : INFO : worker thread finished; awaiting finish of 2 more threads\n",
      "2021-04-13 09:05:27,157 : INFO : worker thread finished; awaiting finish of 1 more threads\n",
      "2021-04-13 09:05:27,159 : INFO : worker thread finished; awaiting finish of 0 more threads\n",
      "2021-04-13 09:05:27,160 : INFO : EPOCH - 1 : training on 11272631 raw words (8358829 effective words) took 26.3s, 318090 effective words/s\n",
      "2021-04-13 09:05:27,162 : INFO : Word2Vec lifecycle event {'msg': 'training on 11272631 raw words (8358829 effective words) took 26.3s, 317982 effective words/s', 'datetime': '2021-04-13T09:05:27.162790', 'gensim': '4.0.1', 'python': '3.8.5 (default, Jan 27 2021, 15:41:15) \\n[GCC 9.3.0]', 'platform': 'Linux-5.4.0-70-generic-x86_64-with-glibc2.29', 'event': 'train'}\n"
     ]
    },
    {
     "name": "stdout",
     "output_type": "stream",
     "text": [
      "Finished training at 2021-04-13 09:05:27.164133\n"
     ]
    }
   ],
   "source": [
    "print(f\"Started setting up the model at {datetime.now()}\")\n",
    "model = gensim.models.Word2Vec(vector_size=300) # we want 300 dimensions\n",
    "model.build_vocab(tokenizedsentences)\n",
    "print(f\"Started training at {datetime.now()}\")\n",
    "model.train(tokenizedsentences2, total_examples=model.corpus_count,  epochs=1)\n",
    "# our model gets better if we use more epochs, but we can only do so if we use a list instead of a generator as input\n",
    "# after all, you can only pass over a generator once.\n",
    "# model.train(tokenizedsentences2, total_examples=model.corpus_count,  epochs=model.epochs)\n",
    "print(f\"Finished training at {datetime.now()}\")"
   ]
  },
  {
   "cell_type": "code",
   "execution_count": 11,
   "metadata": {},
   "outputs": [],
   "source": [
    "gensim.models.Word2Vec?"
   ]
  },
  {
   "cell_type": "code",
   "execution_count": 12,
   "metadata": {},
   "outputs": [
    {
     "name": "stderr",
     "output_type": "stream",
     "text": [
      "2021-04-13 09:05:27,281 : INFO : Word2Vec lifecycle event {'fname_or_handle': 'mymodel', 'separately': 'None', 'sep_limit': 10485760, 'ignore': frozenset(), 'datetime': '2021-04-13T09:05:27.281195', 'gensim': '4.0.1', 'python': '3.8.5 (default, Jan 27 2021, 15:41:15) \\n[GCC 9.3.0]', 'platform': 'Linux-5.4.0-70-generic-x86_64-with-glibc2.29', 'event': 'saving'}\n",
      "2021-04-13 09:05:27,284 : INFO : storing np array 'vectors' to mymodel.wv.vectors.npy\n",
      "2021-04-13 09:05:27,603 : INFO : storing np array 'syn1neg' to mymodel.syn1neg.npy\n",
      "2021-04-13 09:05:27,814 : INFO : not storing attribute cum_table\n",
      "2021-04-13 09:05:27,845 : INFO : saved mymodel\n"
     ]
    }
   ],
   "source": [
    "model.save(\"mymodel\")"
   ]
  },
  {
   "cell_type": "code",
   "execution_count": 13,
   "metadata": {},
   "outputs": [
    {
     "name": "stderr",
     "output_type": "stream",
     "text": [
      "2021-04-13 09:05:27,854 : INFO : loading Word2Vec object from mymodel\n",
      "2021-04-13 09:05:27,901 : INFO : loading wv recursively from mymodel.wv.* with mmap=None\n",
      "2021-04-13 09:05:27,904 : INFO : loading vectors from mymodel.wv.vectors.npy with mmap=None\n",
      "2021-04-13 09:05:28,033 : INFO : loading syn1neg from mymodel.syn1neg.npy with mmap=None\n",
      "2021-04-13 09:05:28,169 : INFO : setting ignored attribute cum_table to None\n",
      "2021-04-13 09:05:28,961 : INFO : Word2Vec lifecycle event {'fname': 'mymodel', 'datetime': '2021-04-13T09:05:28.961112', 'gensim': '4.0.1', 'python': '3.8.5 (default, Jan 27 2021, 15:41:15) \\n[GCC 9.3.0]', 'platform': 'Linux-5.4.0-70-generic-x86_64-with-glibc2.29', 'event': 'loaded'}\n"
     ]
    }
   ],
   "source": [
    "# and load it again, just to check\n",
    "mymodel = gensim.models.Word2Vec.load(\"mymodel\")"
   ]
  },
  {
   "cell_type": "markdown",
   "metadata": {},
   "source": [
    "# Step 4: Play with the model"
   ]
  },
  {
   "cell_type": "code",
   "execution_count": 14,
   "metadata": {},
   "outputs": [
    {
     "name": "stdout",
     "output_type": "stream",
     "text": [
      "A cat is almost the same as a priest.\n",
      "A dog is almost the same as a baby.\n",
      "A horse is almost the same as a mansion.\n",
      "A goldfish is almost the same as a goose.\n",
      "A lion is almost the same as a avenue.\n"
     ]
    }
   ],
   "source": [
    "animals = ['cat', 'dog', 'horse', 'goldfish', 'lion']\n",
    "for animal in animals:\n",
    "    try:\n",
    "        print(f\"A {animal} is almost the same as a {model.wv.most_similar(animal)[0][0]}.\")\n",
    "    except Exception as e:\n",
    "        print(e)"
   ]
  },
  {
   "cell_type": "code",
   "execution_count": 15,
   "metadata": {},
   "outputs": [
    {
     "name": "stdout",
     "output_type": "stream",
     "text": [
      "A director is almost the same as a writer.\n",
      "A actor is almost the same as a actress.\n",
      "A bad is almost the same as a good.\n",
      "A good is almost the same as a great.\n"
     ]
    }
   ],
   "source": [
    "animals = ['director', 'actor', 'bad', 'good']\n",
    "for animal in animals:\n",
    "    try:\n",
    "        print(f\"A {animal} is almost the same as a {model.wv.most_similar(animal)[0][0]}.\")\n",
    "    except Exception as e:\n",
    "        print(e)"
   ]
  },
  {
   "cell_type": "code",
   "execution_count": 16,
   "metadata": {},
   "outputs": [
    {
     "data": {
      "text/plain": [
       "[('gore', 0.7908393144607544),\n",
       " ('suspense', 0.7524462342262268),\n",
       " ('atmosphere', 0.7260503768920898),\n",
       " ('humor', 0.7148340940475464),\n",
       " ('visual', 0.7115718126296997),\n",
       " ('tension', 0.7091074585914612),\n",
       " ('violence', 0.7077242732048035),\n",
       " ('mood', 0.6996650695800781),\n",
       " ('sequences', 0.6885718703269958),\n",
       " ('cheesy', 0.6834672689437866)]"
      ]
     },
     "execution_count": 16,
     "metadata": {},
     "output_type": "execute_result"
    }
   ],
   "source": [
    "model.wv.most_similar(\"action\")"
   ]
  },
  {
   "cell_type": "code",
   "execution_count": 17,
   "metadata": {},
   "outputs": [
    {
     "data": {
      "text/plain": [
       "[('film', 0.9367960691452026),\n",
       " ('show', 0.7688488364219666),\n",
       " ('flick', 0.7500118613243103),\n",
       " ('sequel', 0.7385626435279846),\n",
       " ('documentary', 0.7261659502983093),\n",
       " ('picture', 0.7252005338668823),\n",
       " ('series', 0.6923775672912598),\n",
       " ('it', 0.6771862506866455),\n",
       " ('episode', 0.668094277381897),\n",
       " ('case', 0.6610147953033447)]"
      ]
     },
     "execution_count": 17,
     "metadata": {},
     "output_type": "execute_result"
    }
   ],
   "source": [
    "model.wv.most_similar(\"movie\")"
   ]
  },
  {
   "cell_type": "markdown",
   "metadata": {},
   "source": [
    "# 5 Adapt\n",
    "\n",
    "Now it's time to dive into the gensim documentation (online or via `?` / tab completion) to figure out the options you have - e.g., skipgram vs CBOW, dimensions, etc."
   ]
  },
  {
   "cell_type": "code",
   "execution_count": null,
   "metadata": {},
   "outputs": [],
   "source": []
  },
  {
   "cell_type": "markdown",
   "metadata": {},
   "source": [
    "# Other things we can do\n",
    "\n",
    "Some things that came up.\n",
    "\n",
    "\n",
    "## Dictionary expansion\n",
    "\n",
    "One cool thing that we can do is to expand a list of words with near-synonyms. For instance, imagine we use a simple keyword-based approach to count how often some word we are interested in occurs in a corpus. But maybe we forgot one? In that case, why not expand our list with (near-)synonyms from an embedding model?"
   ]
  },
  {
   "cell_type": "code",
   "execution_count": 27,
   "metadata": {},
   "outputs": [
    {
     "name": "stdout",
     "output_type": "stream",
     "text": [
      "['action', 'horror', 'comedy', 'nature', 'family', 'cartoon', 'gore', 'suspense', 'atmosphere', 'humor', 'visual', 'tension', 'violence', 'mood', 'sequences', 'cheesy', 'slasher', 'scifi', 'genre', 'classic', 'lowbudget', '80s', 'hollywood', 'b', 'fiction', 'porn', 'thriller', 'drama', 'flick', 'genre', 'entertainment', 'piece', 'masterpiece', 'documentary', 'romance', 'satire', 'beauty', 'strength', 'essence', 'depiction', 'complexity', 'emotions', 'realism', 'magic', 'spirit', 'existence', 'country', 'lives', 'life', 'spirit', 'business', 'dream', 'living', 'child', 'heart', 'relationship', 'sitcom', 'miniseries', '80s', '1980s', '70s', 'opera', 'biopic', 'soap', 'masterpiece', 'documentary']\n"
     ]
    }
   ],
   "source": [
    "# let's get the most similar words to our seed words\n",
    "seedlist = ['action', 'horror', 'comedy','nature','family','cartoon']\n",
    "words = seedlist.copy()\n",
    "for w in seedlist:\n",
    "    words.extend([e[0] for e in model.wv.most_similar(w)])\n",
    "\n",
    "print(words)"
   ]
  },
  {
   "cell_type": "code",
   "execution_count": 26,
   "metadata": {},
   "outputs": [
    {
     "data": {
      "text/plain": [
       "['gore',\n",
       " 'suspense',\n",
       " 'atmosphere',\n",
       " 'humor',\n",
       " 'visual',\n",
       " 'tension',\n",
       " 'violence',\n",
       " 'mood',\n",
       " 'sequences',\n",
       " 'cheesy']"
      ]
     },
     "execution_count": 26,
     "metadata": {},
     "output_type": "execute_result"
    }
   ],
   "source": [
    "[e[0] for e in model.wv.most_similar(\"action\")]"
   ]
  },
  {
   "cell_type": "markdown",
   "metadata": {},
   "source": [
    "## Plotting\n",
    "\n",
    "We can also use a method called tsne (from our good friend scikit-learn) to make a two-dimensional projection of our 300-dimensional embeddings to plot the distances of the words (not the most interesting data here, but you get the idea):"
   ]
  },
  {
   "cell_type": "code",
   "execution_count": 19,
   "metadata": {},
   "outputs": [],
   "source": [
    "from sklearn.manifold import TSNE\n",
    "import matplotlib.pyplot as plt"
   ]
  },
  {
   "cell_type": "code",
   "execution_count": 28,
   "metadata": {},
   "outputs": [],
   "source": [
    "def plot_words(words, model):\n",
    "    '''takes a list of words and a word embedding model as input and plots the words\n",
    "    in a 2-dimensional projection of the space'''\n",
    "    # make sure words are unique:\n",
    "    words = set(words)\n",
    "    X = model.wv[words]\n",
    "    tsne = TSNE(n_components=2)\n",
    "    X_tsne = tsne.fit_transform(X)\n",
    "\n",
    "    fig = plt.figure()\n",
    "    ax = fig.add_subplot(1, 1, 1)\n",
    "    ax.scatter(X_tsne[:, 0], X_tsne[:, 1])\n",
    "    for w, pos in zip(words,X_tsne):\n",
    "        ax.annotate(w, pos)"
   ]
  },
  {
   "cell_type": "code",
   "execution_count": 30,
   "metadata": {},
   "outputs": [
    {
     "data": {
      "image/png": "[encoded data removed]",
      "text/plain": [
       "<Figure size 432x288 with 1 Axes>"
      ]
     },
     "metadata": {
      "needs_background": "light"
     },
     "output_type": "display_data"
    }
   ],
   "source": [
    "plot_words(words, model)\n"
   ]
  },
  {
   "cell_type": "code",
   "execution_count": null,
   "metadata": {},
   "outputs": [],
   "source": []
  }
 ],
 "metadata": {
  "kernelspec": {
   "display_name": "Python 3",
   "language": "python",
   "name": "python3"
  },
  "language_info": {
   "codemirror_mode": {
    "name": "ipython",
    "version": 3
   },
   "file_extension": ".py",
   "mimetype": "text/x-python",
   "name": "python",
   "nbconvert_exporter": "python",
   "pygments_lexer": "ipython3",
   "version": "3.8.5"
  }
 },
 "nbformat": 4,
 "nbformat_minor": 4
}
