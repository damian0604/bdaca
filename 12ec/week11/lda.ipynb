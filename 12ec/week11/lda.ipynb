{
 "cells": [
  {
   "cell_type": "markdown",
   "metadata": {},
   "source": [
    "# LDA Topic Modeling with gensim\n",
    "\n",
    "based on a Workshop by Cornelius Puschmann, Tatjana Scheffler, Damian Trilling at IC2S2 Conference, 11-13 July, 2017\n",
    "\n",
    "### Workshop overview\n",
    "2. Algorithms/formal background (Tatjana)\n",
    "3. From text to features: preprocessing, tokens, n-grams (Damian)\n",
    "4. Heuristics for the removal of stopwords (Cornelius)\n",
    "5. Tuning of the topic number for optimal model fit (Cornelius)\n",
    "6. Evaluating and comparing different models (Tatjana/Damian)\n",
    "7. Visualizing and interactively exploring topic models (Damian/Cornelius)\n",
    "8. What’s the next step in the pipeline? Using the results of a topic model (Damian)\n",
    "9. Alternatives to LDA: Dynamic topic models / CTM / L-LDA (Tatjana)\n"
   ]
  },
  {
   "cell_type": "markdown",
   "metadata": {},
   "source": [
    "# Preparation\n",
    "We assume that you run Python 3 and have NLTK (Bird, Loper, & Klein, 2009) installed. If you use Anaconda, you have it anyway. Otherwise, use \n",
    "```\n",
    "pip install nltk\n",
    "```\n",
    "or \n",
    "```\n",
    "sudo pip install nltk\n",
    "```\n",
    "(or possibly pip3) in your terminal to install it.\n",
    "\n",
    "\n",
    "We also assume you have `gensim` and `pyldavis` installed, if not, do so as well using pip.\n",
    "\n",
    "Furthermore, we have to download some data for some specific NLTK modules. Download them by executing the following cell (you only have to do this once):\n",
    "\n",
    "Bird, S., Loper, E., & Klein, E. (2009). *Natural language processing with Python*. Sebastopol, CA: O'Reilly."
   ]
  },
  {
   "cell_type": "code",
   "execution_count": 1,
   "metadata": {},
   "outputs": [
    {
     "name": "stderr",
     "output_type": "stream",
     "text": [
      "[nltk_data] Downloading package stopwords to /home/damian/nltk_data...\n",
      "[nltk_data]   Package stopwords is already up-to-date!\n",
      "[nltk_data] Downloading package maxent_treebank_pos_tagger to\n",
      "[nltk_data]     /home/damian/nltk_data...\n",
      "[nltk_data]   Package maxent_treebank_pos_tagger is already up-to-\n",
      "[nltk_data]       date!\n",
      "[nltk_data] Downloading package punkt to /home/damian/nltk_data...\n",
      "[nltk_data]   Package punkt is already up-to-date!\n",
      "[nltk_data] Downloading package averaged_perceptron_tagger to\n",
      "[nltk_data]     /home/damian/nltk_data...\n",
      "[nltk_data]   Package averaged_perceptron_tagger is already up-to-\n",
      "[nltk_data]       date!\n"
     ]
    },
    {
     "data": {
      "text/plain": [
       "True"
      ]
     },
     "execution_count": 1,
     "metadata": {},
     "output_type": "execute_result"
    }
   ],
   "source": [
    "import nltk\n",
    "# nltk.download('vader_lexicon')\n",
    "nltk.download('stopwords')\n",
    "nltk.download('maxent_treebank_pos_tagger')\n",
    "nltk.download('punkt')\n",
    "nltk.download('averaged_perceptron_tagger')"
   ]
  },
  {
   "cell_type": "markdown",
   "metadata": {},
   "source": [
    "# Let's get started!\n",
    "\n",
    "## Import modules\n",
    "Before we start, let's import some modules that we need today. It is good practice to do so at the beginning of a script, so we'll do it right now and not later when we need them. The benefit is that you immediately see if something goes wrong (for instance, because the module is not installed)."
   ]
  },
  {
   "cell_type": "code",
   "execution_count": 2,
   "metadata": {},
   "outputs": [
    {
     "name": "stderr",
     "output_type": "stream",
     "text": [
      "/usr/local/lib/python3.8/dist-packages/gensim/similarities/__init__.py:15: UserWarning: The gensim.similarities.levenshtein submodule is disabled, because the optional Levenshtein package <https://pypi.org/project/python-Levenshtein/> is unavailable. Install Levenhstein (e.g. `pip install python-Levenshtein`) to suppress this warning.\n",
      "  warnings.warn(msg)\n",
      "/usr/local/lib/python3.8/dist-packages/sklearn/decomposition/_lda.py:28: DeprecationWarning: `np.float` is a deprecated alias for the builtin `float`. To silence this warning, use `float` by itself. Doing this will not modify any behavior and is safe. If you specifically wanted the numpy scalar type, use `np.float64` here.\n",
      "Deprecated in NumPy 1.20; for more details and guidance: https://numpy.org/devdocs/release/1.20.0-notes.html#deprecations\n",
      "  EPS = np.finfo(np.float).eps\n"
     ]
    },
    {
     "name": "stdout",
     "output_type": "stream",
     "text": [
      "STARTING NOW: 2021-04-20 16:10:56.846647\n"
     ]
    }
   ],
   "source": [
    "import csv\n",
    "import re\n",
    "from glob import glob\n",
    "from string import punctuation\n",
    "import random\n",
    "random.seed(\"ic2s2colgne\")\n",
    "from nltk.sentiment import vader\n",
    "from nltk.corpus import stopwords\n",
    "import nltk\n",
    "import gensim\n",
    "from gensim import corpora\n",
    "from gensim import models\n",
    "import pyLDAvis\n",
    "import pyLDAvis.gensim_models as gensimvis\n",
    "import pandas as pd\n",
    "import seaborn as sns\n",
    "import matplotlib.pyplot as plt\n",
    "import random\n",
    "import numpy as np\n",
    "%matplotlib inline\n",
    "from datetime import datetime\n",
    "print(\"STARTING NOW:\",str(datetime.now()))"
   ]
  },
  {
   "cell_type": "code",
   "execution_count": 3,
   "metadata": {},
   "outputs": [
    {
     "name": "stdout",
     "output_type": "stream",
     "text": [
      "Your gensim version is 4.0.1. This notebook assumes that you have version 4.0 or higher. If not, please upgrade.\n",
      "Your pyLDAvis version is 3.3.1. This notebook assumes that you have version 3.0 or higher. If not, please upgrade.\n"
     ]
    },
    {
     "name": "stderr",
     "output_type": "stream",
     "text": [
      "/usr/local/lib/python3.8/dist-packages/ipykernel/ipkernel.py:283: DeprecationWarning: `should_run_async` will not call `transform_cell` automatically in the future. Please pass the result to `transformed_cell` argument and any exception that happen during thetransform in `preprocessing_exc_tuple` in IPython 7.17 and above.\n",
      "  and should_run_async(code)\n"
     ]
    }
   ],
   "source": [
    "print(f\"Your gensim version is {gensim.__version__}. This notebook assumes that you have version 4.0 or higher. If not, please upgrade.\")\n",
    "assert int(gensim.__version__[0])>=4\n",
    "\n",
    "print(f\"Your pyLDAvis version is {pyLDAvis.__version__}. This notebook assumes that you have version 3.0 or higher. If not, please upgrade.\")\n",
    "assert int(pyLDAvis.__version__[0])>=3\n"
   ]
  },
  {
   "cell_type": "markdown",
   "metadata": {},
   "source": [
    "If you set a random seed *and* use `distributed=False` as an argument to your models, you get reprodable results"
   ]
  },
  {
   "cell_type": "code",
   "execution_count": 4,
   "metadata": {},
   "outputs": [
    {
     "name": "stderr",
     "output_type": "stream",
     "text": [
      "/usr/local/lib/python3.8/dist-packages/ipykernel/ipkernel.py:283: DeprecationWarning: `should_run_async` will not call `transform_cell` automatically in the future. Please pass the result to `transformed_cell` argument and any exception that happen during thetransform in `preprocessing_exc_tuple` in IPython 7.17 and above.\n",
      "  and should_run_async(code)\n"
     ]
    }
   ],
   "source": [
    "random.seed(1983)\n",
    "np.random.seed(1983)"
   ]
  },
  {
   "cell_type": "markdown",
   "metadata": {},
   "source": [
    "## Download the data\n",
    "We will use a dataset by Schumacher et al. (2016). From the abstract:\n",
    "> This paper presents EUSpeech, a new dataset of 18,403 speeches from EU leaders (i.e., heads of government in 10 member states, EU commissioners, party leaders in the European Parliament, and ECB and IMF leaders) from 2007 to 2015. These speeches vary in sentiment, topics and ideology, allowing for fine-grained, over-time comparison of representation in the EU. The member states we included are Czech Republic, France, Germany, Greece, Netherlands, Italy, Spain, United Kingdom, Poland and Portugal.\n",
    "\n",
    "Schumacher, G, Schoonvelde, M., Dahiya, T., Traber, D, & de Vries, E. (2016): *EUSpeech: a New Dataset of EU Elite Speeches*. [doi:10.7910/DVN/XPCVEI](http://dx.doi.org/10.7910/DVN/XPCVEI)\n",
    "\n",
    "Download and unpack the following file:\n",
    "```\n",
    "speeches_csv.tar.gz\n",
    "```\n",
    "\n",
    "In the .tar.gz file, you find a .zip file. Extract the whole folder to your home directory.\n",
    "See below a screenshot of how this looks like in Lubuntu (double-click on \"speeches_csv.zip\" in the left window, then the right window will open. Click on \"Extract\")"
   ]
  },
  {
   "cell_type": "code",
   "execution_count": 5,
   "metadata": {
    "scrolled": true
   },
   "outputs": [
    {
     "name": "stderr",
     "output_type": "stream",
     "text": [
      "/usr/local/lib/python3.8/dist-packages/ipykernel/ipkernel.py:283: DeprecationWarning: `should_run_async` will not call `transform_cell` automatically in the future. Please pass the result to `transformed_cell` argument and any exception that happen during thetransform in `preprocessing_exc_tuple` in IPython 7.17 and above.\n",
      "  and should_run_async(code)\n"
     ]
    },
    {
     "data": {
      "image/png": "[encoded data removed]",
      "text/plain": [
       "<IPython.core.display.Image object>"
      ]
     },
     "execution_count": 5,
     "metadata": {},
     "output_type": "execute_result"
    }
   ],
   "source": [
    "from IPython.display import Image\n",
    "Image(\"https://github.com/damian0604/bdaca/raw/master/ipynb/euspeech_download.png\")"
   ]
  },
  {
   "cell_type": "markdown",
   "metadata": {},
   "source": [
    "Let's have a look at the files we downloaded.\n",
    "\n",
    "**NB: This command line magic only works on Linux and MacOS**"
   ]
  },
  {
   "cell_type": "code",
   "execution_count": 6,
   "metadata": {},
   "outputs": [
    {
     "name": "stdout",
     "output_type": "stream",
     "text": [
      "\u001b[0m\u001b[01;32mSpeeches_ALDE_Cleaned.csv\u001b[0m*       \u001b[01;32mSpeeches_GR_Cleaned.csv\u001b[0m*\r\n",
      "\u001b[01;32mSpeeches_CZ_Cleaned.csv\u001b[0m*         \u001b[01;32mSpeeches_IMF_Cleaned.csv\u001b[0m*\r\n",
      "\u001b[01;32mSpeeches_DE_Cleaned.csv\u001b[0m*         \u001b[01;32mSpeeches_IT_Cleaned.csv\u001b[0m*\r\n",
      "\u001b[01;32mSpeeches_ECB_Cleaned.csv\u001b[0m*        \u001b[01;32mSpeeches_NL_Cleaned.csv\u001b[0m*\r\n",
      "\u001b[01;32mSpeeches_EC_Cleaned.csv\u001b[0m*         \u001b[01;32mSpeeches_PL_Cleaned.csv\u001b[0m*\r\n",
      "\u001b[01;32mSpeeches_ECR_Cleaned.csv\u001b[0m*        \u001b[01;32mSpeeches_PO_Cleaned.csv\u001b[0m*\r\n",
      "\u001b[01;32mSpeeches_EP_Cleaned.csv\u001b[0m*         \u001b[01;32mSpeeches_SP_Cleaned.csv\u001b[0m*\r\n",
      "\u001b[01;32mSpeeches_EUCouncil_Cleaned.csv\u001b[0m*  \u001b[01;34mTranslated\u001b[0m/\r\n",
      "\u001b[01;32mSpeeches_FR_Cleaned.csv\u001b[0m*\r\n"
     ]
    },
    {
     "name": "stderr",
     "output_type": "stream",
     "text": [
      "/usr/local/lib/python3.8/dist-packages/ipykernel/ipkernel.py:283: DeprecationWarning: `should_run_async` will not call `transform_cell` automatically in the future. Please pass the result to `transformed_cell` argument and any exception that happen during thetransform in `preprocessing_exc_tuple` in IPython 7.17 and above.\n",
      "  and should_run_async(code)\n"
     ]
    }
   ],
   "source": [
    "%ls ~/Downloads/Cleaned_Speeches/"
   ]
  },
  {
   "cell_type": "markdown",
   "metadata": {},
   "source": [
    "## Let's start!\n",
    "Let's retrieve a list of all speeches from one of the files. Of course, we could also loop over all the files..."
   ]
  },
  {
   "cell_type": "code",
   "execution_count": 7,
   "metadata": {},
   "outputs": [
    {
     "name": "stderr",
     "output_type": "stream",
     "text": [
      "/usr/local/lib/python3.8/dist-packages/ipykernel/ipkernel.py:283: DeprecationWarning: `should_run_async` will not call `transform_cell` automatically in the future. Please pass the result to `transformed_cell` argument and any exception that happen during thetransform in `preprocessing_exc_tuple` in IPython 7.17 and above.\n",
      "  and should_run_async(code)\n"
     ]
    },
    {
     "name": "stdout",
     "output_type": "stream",
     "text": [
      "['/home/damian/Downloads/Cleaned_Speeches/Speeches_NL_Cleaned.csv']\n"
     ]
    }
   ],
   "source": [
    "#filelist = glob('Cleaned_Speeches/Speeches_*_Cleaned.csv')\n",
    "# instead of all speeches, to speed up things, we are focusing on speeches from the Netherlands only\n",
    "filelist = glob('/home/damian/Downloads/Cleaned_Speeches/Speeches_NL_Cleaned.csv')\n",
    "print(filelist)\n",
    "speeches_nl=[]\n",
    "for fn in filelist:\n",
    "    with open(fn) as fi:\n",
    "        reader=csv.reader(fi)\n",
    "        for row in reader:\n",
    "            if row[7]=='en':   # only include english-language speches; we might as well choose 'nl' or 'fr'\n",
    "                speeches_nl.append(row[5])"
   ]
  },
  {
   "cell_type": "code",
   "execution_count": 8,
   "metadata": {},
   "outputs": [
    {
     "name": "stderr",
     "output_type": "stream",
     "text": [
      "/usr/local/lib/python3.8/dist-packages/ipykernel/ipkernel.py:283: DeprecationWarning: `should_run_async` will not call `transform_cell` automatically in the future. Please pass the result to `transformed_cell` argument and any exception that happen during thetransform in `preprocessing_exc_tuple` in IPython 7.17 and above.\n",
      "  and should_run_async(code)\n"
     ]
    },
    {
     "data": {
      "text/plain": [
       "132"
      ]
     },
     "execution_count": 8,
     "metadata": {},
     "output_type": "execute_result"
    }
   ],
   "source": [
    "len(speeches_nl)"
   ]
  },
  {
   "cell_type": "code",
   "execution_count": 9,
   "metadata": {},
   "outputs": [
    {
     "name": "stderr",
     "output_type": "stream",
     "text": [
      "/usr/local/lib/python3.8/dist-packages/ipykernel/ipkernel.py:283: DeprecationWarning: `should_run_async` will not call `transform_cell` automatically in the future. Please pass the result to `transformed_cell` argument and any exception that happen during thetransform in `preprocessing_exc_tuple` in IPython 7.17 and above.\n",
      "  and should_run_async(code)\n"
     ]
    }
   ],
   "source": [
    "# To speed things up, we could also sample some speeches. \n",
    "# speeches = random.sample(speeches,100)\n",
    "# len(speeches)"
   ]
  },
  {
   "cell_type": "code",
   "execution_count": 10,
   "metadata": {},
   "outputs": [
    {
     "name": "stderr",
     "output_type": "stream",
     "text": [
      "/usr/local/lib/python3.8/dist-packages/ipykernel/ipkernel.py:283: DeprecationWarning: `should_run_async` will not call `transform_cell` automatically in the future. Please pass the result to `transformed_cell` argument and any exception that happen during thetransform in `preprocessing_exc_tuple` in IPython 7.17 and above.\n",
      "  and should_run_async(code)\n"
     ]
    },
    {
     "data": {
      "text/plain": [
       "\"<p>Ladies and gentlemen,</p><p>It is an honour to be here today to introduce the theme of 'recession and recovery'. If you will permit, I would like to suggest that this afternoon we focus more on recovery than on recession. I think we know enough about the recession side of the story.</p><p>It started with the fall of Lehman Brothers on 15 September 2008. I happened to be here, at the Blouin Creative Leadership Summit, only ten days later. Everyone was talking about the collapse of Lehman. They\""
      ]
     },
     "execution_count": 10,
     "metadata": {},
     "output_type": "execute_result"
    }
   ],
   "source": [
    "speeches_nl[0][:500]"
   ]
  },
  {
   "cell_type": "markdown",
   "metadata": {},
   "source": [
    "# 2. From text to features: preprocessing, tokens, n-grams (Damian)\n",
    "## General approach\n",
    "\n",
    "From a machine-learning perspective, one could argue that all information in a text might be useful information. However, we are interested in getting *interpretable* topics, so even if for instance the use of specific HTML tags would help us distinguising between some documents, we want to get rid of them. More in general, we start by cleaning up a bit to get only 'real' text.\n",
    "\n",
    "### Some typical clean-up steps:"
   ]
  },
  {
   "cell_type": "code",
   "execution_count": 11,
   "metadata": {},
   "outputs": [
    {
     "name": "stderr",
     "output_type": "stream",
     "text": [
      "/usr/local/lib/python3.8/dist-packages/ipykernel/ipkernel.py:283: DeprecationWarning: `should_run_async` will not call `transform_cell` automatically in the future. Please pass the result to `transformed_cell` argument and any exception that happen during thetransform in `preprocessing_exc_tuple` in IPython 7.17 and above.\n",
      "  and should_run_async(code)\n"
     ]
    }
   ],
   "source": [
    "speeches_nl=[speech.replace('<p>',' ').replace('</p>',' ') for speech in speeches_nl]   #remove HTML tags\n",
    "speeches_nl=[\"\".join([l for l in speech if l not in punctuation]) for speech in speeches_nl]  #remove punctuation\n",
    "speeches_nl=[speech.lower() for speech in speeches_nl]  # convert to lower case\n",
    "speeches_nl=[\" \".join(speech.split()) for speech in speeches_nl]   # remove double spaces by splitting the strings into words and joining these words again"
   ]
  },
  {
   "cell_type": "markdown",
   "metadata": {},
   "source": [
    "Let's look at the first speech to check everything's fine."
   ]
  },
  {
   "cell_type": "code",
   "execution_count": 12,
   "metadata": {},
   "outputs": [
    {
     "name": "stderr",
     "output_type": "stream",
     "text": [
      "/usr/local/lib/python3.8/dist-packages/ipykernel/ipkernel.py:283: DeprecationWarning: `should_run_async` will not call `transform_cell` automatically in the future. Please pass the result to `transformed_cell` argument and any exception that happen during thetransform in `preprocessing_exc_tuple` in IPython 7.17 and above.\n",
      "  and should_run_async(code)\n"
     ]
    },
    {
     "data": {
      "text/plain": [
       "'ladies and gentlemen it is an honour to be here today to introduce the theme of recession and recovery if you will permit i would like to suggest that this afternoon we focus more on recovery than on recession i think we know enough about the recession side of the story it started with the fall of lehman brothers on 15 september 2008 i happened to be here at the blouin creative leadership summit only ten days later everyone was talking about the collapse of lehman they were shocked and alarmed b'"
      ]
     },
     "execution_count": 12,
     "metadata": {},
     "output_type": "execute_result"
    }
   ],
   "source": [
    "speeches_nl[0][:500]"
   ]
  },
  {
   "cell_type": "markdown",
   "metadata": {},
   "source": [
    "However, as with other unsupervised machine learning techniques, we are not really interesting a long string of text. We rather want to have each document being represented by a set of *features*. To this end, `gensim` has a finciton `doc2bow` that converts a list of words (tokens) to `(token_id, token_count)` tuples. "
   ]
  },
  {
   "cell_type": "code",
   "execution_count": 13,
   "metadata": {},
   "outputs": [
    {
     "name": "stderr",
     "output_type": "stream",
     "text": [
      "/usr/local/lib/python3.8/dist-packages/ipykernel/ipkernel.py:283: DeprecationWarning: `should_run_async` will not call `transform_cell` automatically in the future. Please pass the result to `transformed_cell` argument and any exception that happen during thetransform in `preprocessing_exc_tuple` in IPython 7.17 and above.\n",
      "  and should_run_async(code)\n"
     ]
    }
   ],
   "source": [
    "# to avoid messing things up, I'll call all objects relating to our first model _m1\n",
    "ldainput_m1 = [speech.split() for speech in speeches_nl]           # convert all strings to list of words\n",
    "id2word_m1 = corpora.Dictionary(ldainput_m1)                       # assign a token_id to each word\n",
    "ldacorpus_m1 = [id2word_m1.doc2bow(doc) for doc in ldainput_m1]       # represent each speech by (token_id, token_count) tuples"
   ]
  },
  {
   "cell_type": "markdown",
   "metadata": {},
   "source": [
    "Let's just run a simple LDA on this to check out whether it works. We specify the corpus (in wich each document is represented by a `(token_id, token_count)` tuple), the table to translate the token_id's back to words, and the number of topics we want. "
   ]
  },
  {
   "cell_type": "code",
   "execution_count": 14,
   "metadata": {},
   "outputs": [
    {
     "name": "stderr",
     "output_type": "stream",
     "text": [
      "/usr/local/lib/python3.8/dist-packages/ipykernel/ipkernel.py:283: DeprecationWarning: `should_run_async` will not call `transform_cell` automatically in the future. Please pass the result to `transformed_cell` argument and any exception that happen during thetransform in `preprocessing_exc_tuple` in IPython 7.17 and above.\n",
      "  and should_run_async(code)\n"
     ]
    },
    {
     "data": {
      "text/plain": [
       "[(0,\n",
       "  '0.063*\"the\" + 0.038*\"and\" + 0.025*\"in\" + 0.023*\"of\" + 0.019*\"to\" + 0.018*\"a\" + 0.016*\"is\" + 0.013*\"we\" + 0.011*\"that\" + 0.010*\"for\"'),\n",
       " (1,\n",
       "  '0.059*\"the\" + 0.026*\"to\" + 0.024*\"and\" + 0.019*\"of\" + 0.015*\"in\" + 0.014*\"that\" + 0.010*\"is\" + 0.009*\"a\" + 0.008*\"we\" + 0.007*\"for\"'),\n",
       " (2,\n",
       "  '0.047*\"the\" + 0.034*\"and\" + 0.027*\"to\" + 0.023*\"in\" + 0.022*\"of\" + 0.016*\"is\" + 0.013*\"we\" + 0.012*\"a\" + 0.012*\"for\" + 0.011*\"that\"'),\n",
       " (3,\n",
       "  '0.026*\"and\" + 0.025*\"the\" + 0.019*\"to\" + 0.014*\"of\" + 0.011*\"is\" + 0.011*\"in\" + 0.010*\"for\" + 0.008*\"a\" + 0.008*\"are\" + 0.008*\"we\"'),\n",
       " (4,\n",
       "  '0.062*\"the\" + 0.041*\"and\" + 0.027*\"to\" + 0.026*\"of\" + 0.023*\"a\" + 0.021*\"in\" + 0.015*\"that\" + 0.012*\"is\" + 0.011*\"for\" + 0.011*\"we\"'),\n",
       " (5,\n",
       "  '0.055*\"the\" + 0.048*\"and\" + 0.028*\"in\" + 0.025*\"to\" + 0.021*\"of\" + 0.019*\"a\" + 0.016*\"that\" + 0.014*\"we\" + 0.013*\"is\" + 0.012*\"for\"'),\n",
       " (6,\n",
       "  '0.060*\"the\" + 0.036*\"and\" + 0.027*\"to\" + 0.023*\"of\" + 0.017*\"in\" + 0.016*\"a\" + 0.013*\"we\" + 0.012*\"is\" + 0.012*\"that\" + 0.010*\"are\"'),\n",
       " (7,\n",
       "  '0.040*\"the\" + 0.028*\"and\" + 0.018*\"of\" + 0.017*\"a\" + 0.015*\"to\" + 0.015*\"in\" + 0.011*\"that\" + 0.009*\"is\" + 0.008*\"for\" + 0.007*\"we\"'),\n",
       " (8,\n",
       "  '0.061*\"the\" + 0.040*\"and\" + 0.038*\"of\" + 0.030*\"to\" + 0.024*\"in\" + 0.018*\"a\" + 0.014*\"we\" + 0.013*\"that\" + 0.012*\"is\" + 0.010*\"for\"'),\n",
       " (9,\n",
       "  '0.059*\"the\" + 0.034*\"and\" + 0.029*\"to\" + 0.026*\"in\" + 0.022*\"of\" + 0.016*\"we\" + 0.015*\"is\" + 0.015*\"a\" + 0.011*\"that\" + 0.010*\"for\"')]"
      ]
     },
     "execution_count": 14,
     "metadata": {},
     "output_type": "execute_result"
    }
   ],
   "source": [
    "lda_m1 = models.LdaModel(ldacorpus_m1, id2word=id2word_m1, num_topics=10)\n",
    "lda_m1.print_topics()\n",
    "                            "
   ]
  },
  {
   "cell_type": "markdown",
   "metadata": {},
   "source": [
    "## Stopwords\n",
    "We immediately see that the result of our first LDA doesn't make much sense: We see only stopwords. \n",
    "\n",
    "\n",
    "### Explicit stopword removal\n",
    "The most straightforward approach is to use a pre-existing list with stopwords, possibly with the addition of some own, case-specific words. We then split up each speech in words, and only if a word is not on the stopwordlist, we keep it and join it with the previous and next word using a space."
   ]
  },
  {
   "cell_type": "code",
   "execution_count": 15,
   "metadata": {},
   "outputs": [
    {
     "name": "stderr",
     "output_type": "stream",
     "text": [
      "/usr/local/lib/python3.8/dist-packages/ipykernel/ipkernel.py:283: DeprecationWarning: `should_run_async` will not call `transform_cell` automatically in the future. Please pass the result to `transformed_cell` argument and any exception that happen during thetransform in `preprocessing_exc_tuple` in IPython 7.17 and above.\n",
      "  and should_run_async(code)\n"
     ]
    }
   ],
   "source": [
    "mystopwords = set(stopwords.words('english')) # use default NLTK stopword list; alternatively:\n",
    "# mystopwords = set(open('mystopwordfile.txt').readlines())  #read stopword list from a textfile with one stopword per line\n",
    "\n",
    "speeches_nl_clean = [\" \".join([w for w in speech.split() if w not in mystopwords]) for speech in speeches_nl]"
   ]
  },
  {
   "cell_type": "code",
   "execution_count": 16,
   "metadata": {},
   "outputs": [
    {
     "name": "stderr",
     "output_type": "stream",
     "text": [
      "/usr/local/lib/python3.8/dist-packages/ipykernel/ipkernel.py:283: DeprecationWarning: `should_run_async` will not call `transform_cell` automatically in the future. Please pass the result to `transformed_cell` argument and any exception that happen during thetransform in `preprocessing_exc_tuple` in IPython 7.17 and above.\n",
      "  and should_run_async(code)\n"
     ]
    },
    {
     "data": {
      "text/plain": [
       "'ladies gentlemen honour today introduce theme recession recovery permit would like suggest afternoon focus recovery recession think know enough recession side story started fall lehman brothers 15 september 2008 happened blouin creative leadership summit ten days later everyone talking collapse lehman shocked alarmed even could hardly imagine impact would dramatic historic know event triggered global financial economic crisis governments forced give cash injections running billions prevent econo'"
      ]
     },
     "execution_count": 16,
     "metadata": {},
     "output_type": "execute_result"
    }
   ],
   "source": [
    "speeches_nl_clean[0][:500]"
   ]
  },
  {
   "cell_type": "markdown",
   "metadata": {},
   "source": [
    "Let's check whether this looks better:"
   ]
  },
  {
   "cell_type": "code",
   "execution_count": 17,
   "metadata": {},
   "outputs": [
    {
     "name": "stderr",
     "output_type": "stream",
     "text": [
      "/usr/local/lib/python3.8/dist-packages/ipykernel/ipkernel.py:283: DeprecationWarning: `should_run_async` will not call `transform_cell` automatically in the future. Please pass the result to `transformed_cell` argument and any exception that happen during thetransform in `preprocessing_exc_tuple` in IPython 7.17 and above.\n",
      "  and should_run_async(code)\n"
     ]
    },
    {
     "data": {
      "text/plain": [
       "[(0,\n",
       "  '0.015*\"netherlands\" + 0.009*\"dutch\" + 0.006*\"also\" + 0.006*\"world\" + 0.005*\"us\"'),\n",
       " (1,\n",
       "  '0.014*\"netherlands\" + 0.010*\"dutch\" + 0.006*\"countries\" + 0.006*\"one\" + 0.005*\"us\"'),\n",
       " (2,\n",
       "  '0.010*\"netherlands\" + 0.007*\"dutch\" + 0.006*\"like\" + 0.006*\"also\" + 0.006*\"world\"'),\n",
       " (3,\n",
       "  '0.009*\"netherlands\" + 0.007*\"world\" + 0.006*\"people\" + 0.006*\"dutch\" + 0.006*\"countries\"'),\n",
       " (4,\n",
       "  '0.013*\"netherlands\" + 0.007*\"dutch\" + 0.007*\"security\" + 0.006*\"also\" + 0.006*\"us\"'),\n",
       " (5,\n",
       "  '0.011*\"netherlands\" + 0.010*\"dutch\" + 0.006*\"today\" + 0.006*\"also\" + 0.005*\"like\"'),\n",
       " (6,\n",
       "  '0.012*\"netherlands\" + 0.006*\"dutch\" + 0.006*\"world\" + 0.005*\"countries\" + 0.005*\"like\"'),\n",
       " (7,\n",
       "  '0.010*\"netherlands\" + 0.006*\"countries\" + 0.006*\"also\" + 0.005*\"dutch\" + 0.005*\"people\"'),\n",
       " (8,\n",
       "  '0.012*\"netherlands\" + 0.008*\"dutch\" + 0.007*\"like\" + 0.007*\"us\" + 0.006*\"one\"'),\n",
       " (9,\n",
       "  '0.007*\"netherlands\" + 0.007*\"dutch\" + 0.006*\"also\" + 0.006*\"economic\" + 0.005*\"people\"')]"
      ]
     },
     "execution_count": 17,
     "metadata": {},
     "output_type": "execute_result"
    }
   ],
   "source": [
    "ldainput_m2 = [speech.split() for speech in speeches_nl_clean]      # speechesclean instead of speeches\n",
    "id2word_m2 = corpora.Dictionary(ldainput_m2)                       \n",
    "ldacorpus_m2 = [id2word_m2.doc2bow(doc) for doc in ldainput_m2]  \n",
    "lda_m2 = models.LdaModel(ldacorpus_m2, id2word=id2word_m2, num_topics=10)\n",
    "lda_m2.print_topics(num_words=5)"
   ]
  },
  {
   "cell_type": "markdown",
   "metadata": {},
   "source": [
    "### TF-IDF scores instead of word counts as features\n",
    "Explicitly removing stopwords is a common practice and often very useful. We shouldn't forget, though, that there are some problematic aspects to it as well\n",
    "- It is kind of arbitrary what is on the stopword list and what now\n",
    "- Depending on the research question one is interested in, it might differ what words are 'meaningful'\n",
    "- Although the list is meant to consist of words that occur with a high frequency in all texts, it is not based on actual frequencies in the corpus but set a priori.\n",
    "A different approach would therefore be to simply use (a) the frequency of each word in the corpus and (b) the number of documents in which the document occurs. \n",
    "In other words: If we use tf-idf scores (term frequency weighed by the inverse document frequncy) instead of raw word counts as featues, the stopwords should disappear automatically:"
   ]
  },
  {
   "cell_type": "code",
   "execution_count": 18,
   "metadata": {},
   "outputs": [
    {
     "name": "stderr",
     "output_type": "stream",
     "text": [
      "/usr/local/lib/python3.8/dist-packages/ipykernel/ipkernel.py:283: DeprecationWarning: `should_run_async` will not call `transform_cell` automatically in the future. Please pass the result to `transformed_cell` argument and any exception that happen during thetransform in `preprocessing_exc_tuple` in IPython 7.17 and above.\n",
      "  and should_run_async(code)\n"
     ]
    },
    {
     "data": {
      "text/plain": [
       "[(0,\n",
       "  '0.001*\"women\" + 0.001*\"texas\" + 0.001*\"internet\" + 0.001*\"vietnam\" + 0.001*\"rights\"'),\n",
       " (1,\n",
       "  '0.002*\"indonesia\" + 0.001*\"she\" + 0.001*\"911\" + 0.001*\"york\" + 0.001*\"indonesian\"'),\n",
       " (2,\n",
       "  '0.001*\"indonesia\" + 0.001*\"indonesian\" + 0.001*\"internet\" + 0.001*\"russia\" + 0.001*\"russian\"'),\n",
       " (3,\n",
       "  '0.001*\"palestinian\" + 0.001*\"cyber\" + 0.001*\"mekong\" + 0.001*\"security\" + 0.001*\"internet\"'),\n",
       " (4,\n",
       "  '0.001*\"indian\" + 0.001*\"india\" + 0.001*\"–\" + 0.001*\"chinas\" + 0.001*\"american\"'),\n",
       " (5,\n",
       "  '0.001*\"sustainable\" + 0.001*\"japan\" + 0.001*\"fighters\" + 0.001*\"lula\" + 0.001*\"parliamentary\"'),\n",
       " (6,\n",
       "  '0.001*\"africa\" + 0.001*\"south\" + 0.001*\"sanitation\" + 0.001*\"texas\" + 0.001*\"patent\"'),\n",
       " (7,\n",
       "  '0.001*\"nuclear\" + 0.001*\"malaysia\" + 0.001*\"mdbc\" + 0.001*\"missions\" + 0.001*\"summit\"'),\n",
       " (8,\n",
       "  '0.001*\"vietnam\" + 0.001*\"yesdelft\" + 0.001*\"palestinian\" + 0.001*\"canada\" + 0.001*\"indonesia\"'),\n",
       " (9,\n",
       "  '0.001*\"texas\" + 0.001*\"turkey\" + 0.001*\"mekong\" + 0.001*\"delta\" + 0.001*\"freedom\"')]"
      ]
     },
     "execution_count": 18,
     "metadata": {},
     "output_type": "execute_result"
    }
   ],
   "source": [
    "ldacorpus_m3 = ldacorpus_m1       # reuse corpus from Model 1 \n",
    "id2word_m3 = id2word_m1           # and thus, also use id2word-mapping\n",
    "tfidfcorpus_m3 = models.TfidfModel(ldacorpus_m3)\n",
    "lda_m3 = models.ldamodel.LdaModel(corpus=tfidfcorpus_m3[ldacorpus_m3],id2word=id2word_m3,num_topics=10)\n",
    "lda_m3.print_topics(num_words=5)"
   ]
  },
  {
   "cell_type": "markdown",
   "metadata": {},
   "source": [
    "## Filtering extremes\n",
    "Just as we don't want to include words that are all over the place and do little to distinguish documents, we also do not want to include words that virtually never occur. If among millions of words, a word occurs exactly one time, it might be simply a spelling mistake. But even if it is not, it does not help us to infer topics across documents. \n",
    "\n",
    "Also in purely pragmatic terms, it makes sense to remove unneccessary features to speed up the analysis process.\n"
   ]
  },
  {
   "cell_type": "code",
   "execution_count": 19,
   "metadata": {},
   "outputs": [
    {
     "name": "stderr",
     "output_type": "stream",
     "text": [
      "/usr/local/lib/python3.8/dist-packages/ipykernel/ipkernel.py:283: DeprecationWarning: `should_run_async` will not call `transform_cell` automatically in the future. Please pass the result to `transformed_cell` argument and any exception that happen during thetransform in `preprocessing_exc_tuple` in IPython 7.17 and above.\n",
      "  and should_run_async(code)\n"
     ]
    },
    {
     "data": {
      "text/plain": [
       "[(0,\n",
       "  '0.004*\"vietnam\" + 0.002*\"peace\" + 0.002*\"india\" + 0.002*\"indonesia\" + 0.002*\"trade\"'),\n",
       " (1,\n",
       "  '0.003*\"tragedy\" + 0.003*\"victims\" + 0.002*\"vietnam\" + 0.002*\"mh17\" + 0.002*\"recovery\"'),\n",
       " (2,\n",
       "  '0.003*\"indonesia\" + 0.002*\"atlanta\" + 0.002*\"china\" + 0.002*\"cyber\" + 0.002*\"security\"'),\n",
       " (3,\n",
       "  '0.002*\"indonesian\" + 0.002*\"malaysia\" + 0.002*\"mh17\" + 0.002*\"mdgs\" + 0.002*\"development\"'),\n",
       " (4,\n",
       "  '0.003*\"american\" + 0.002*\"malaysia\" + 0.002*\"–\" + 0.002*\"europe\" + 0.002*\"that’s\"'),\n",
       " (5,\n",
       "  '0.005*\"internet\" + 0.003*\"delta\" + 0.002*\"indonesia\" + 0.002*\"square\" + 0.002*\"town\"'),\n",
       " (6,\n",
       "  '0.003*\"she\" + 0.003*\"her\" + 0.002*\"delta\" + 0.002*\"flanders\" + 0.002*\"georgia\"'),\n",
       " (7,\n",
       "  '0.003*\"freedom\" + 0.002*\"freedoms\" + 0.002*\"africa\" + 0.002*\"human\" + 0.002*\"rights\"'),\n",
       " (8,\n",
       "  '0.003*\"indonesia\" + 0.003*\"water\" + 0.002*\"japan\" + 0.002*\"india\" + 0.002*\"freedom\"'),\n",
       " (9,\n",
       "  '0.003*\"nuclear\" + 0.003*\"indonesia\" + 0.002*\"terrorist\" + 0.002*\"indonesian\" + 0.002*\"material\"')]"
      ]
     },
     "execution_count": 19,
     "metadata": {},
     "output_type": "execute_result"
    }
   ],
   "source": [
    "id2word_m4 = corpora.Dictionary(ldainput_m1)        # reuse input from M1     \n",
    "\n",
    "id2word_m4.filter_extremes(no_below=5, no_above=0.5)   # do not consider all words that occur in less than n=5 documents\n",
    "                                                    # or in more than 50% of all documents.\n",
    "\n",
    "ldacorpus_m4 = [id2word_m4.doc2bow(doc) for doc in ldainput_m1]\n",
    "tfidfcorpus_m4 = models.TfidfModel(ldacorpus_m4)\n",
    "lda_m4 = models.ldamodel.LdaModel(corpus=tfidfcorpus_m4[ldacorpus_m4],id2word=id2word_m4,num_topics=10, distributed=False, random_state=42) \n",
    "lda_m4.print_topics(num_words=5)"
   ]
  },
  {
   "cell_type": "markdown",
   "metadata": {},
   "source": [
    "## Other preprocessing ideas\n",
    "\n",
    "### Stemming\n",
    "Stemming can be useful to avoid that 'economics', 'economic', and 'economy' are seen as different concepts by the topic model. In practice, however, standard stemming algorithms are far from perfect:"
   ]
  },
  {
   "cell_type": "code",
   "execution_count": 20,
   "metadata": {},
   "outputs": [
    {
     "name": "stderr",
     "output_type": "stream",
     "text": [
      "/usr/local/lib/python3.8/dist-packages/ipykernel/ipkernel.py:283: DeprecationWarning: `should_run_async` will not call `transform_cell` automatically in the future. Please pass the result to `transformed_cell` argument and any exception that happen during thetransform in `preprocessing_exc_tuple` in IPython 7.17 and above.\n",
      "  and should_run_async(code)\n"
     ]
    },
    {
     "data": {
      "text/plain": [
       "'ladi and gentlemen it is an honour to be here today to introduc the theme of recess and recoveri if you will permit i would like to suggest that this afternoon we focus more on recoveri than on recess i think we know enough about the recess side of the stori it start with the fall of lehman brother on 15 septemb 2008 i happen to be here at the blouin creativ leadership summit onli ten day later everyon was talk about the collaps of lehman they were shock and alarm but even then we could hard ima'"
      ]
     },
     "execution_count": 20,
     "metadata": {},
     "output_type": "execute_result"
    }
   ],
   "source": [
    "stemmer = nltk.stem.snowball.EnglishStemmer()\n",
    "speeches_nl_stemmed = [\" \".join([stemmer.stem(word) for word in speech.split()]) for speech in speeches_nl]\n",
    "speeches_nl_stemmed[0][:500]"
   ]
  },
  {
   "cell_type": "markdown",
   "metadata": {},
   "source": [
    "### Parsing and retaining only nouns and adjectives\n",
    "Depending on the specific use case at hand, one might discover that some parts of speech (POS) are more informative than others. We could, for instance, create a topic model based on only the nouns and adjectives in a text, disregarding everything else. \n",
    "Look at the NLTK documentation to find out what each code means (e.g., 'NN' is 'noun') "
   ]
  },
  {
   "cell_type": "code",
   "execution_count": 21,
   "metadata": {},
   "outputs": [
    {
     "name": "stderr",
     "output_type": "stream",
     "text": [
      "/usr/local/lib/python3.8/dist-packages/ipykernel/ipkernel.py:283: DeprecationWarning: `should_run_async` will not call `transform_cell` automatically in the future. Please pass the result to `transformed_cell` argument and any exception that happen during thetransform in `preprocessing_exc_tuple` in IPython 7.17 and above.\n",
      "  and should_run_async(code)\n"
     ]
    }
   ],
   "source": [
    "speeches_nl_nounsadj=[]\n",
    "for speech in speeches_nl:\n",
    "    tokens = nltk.word_tokenize(speech)\n",
    "    tagged = nltk.pos_tag(tokens)\n",
    "    cleanspeech = \"\"\n",
    "    for element in tagged:\n",
    "        if element[1] in ('NN','NNP','JJ'):\n",
    "            cleanspeech=cleanspeech+element[0]+\" \"\n",
    "    speeches_nl_nounsadj.append(cleanspeech)"
   ]
  },
  {
   "cell_type": "code",
   "execution_count": 22,
   "metadata": {},
   "outputs": [
    {
     "name": "stderr",
     "output_type": "stream",
     "text": [
      "/usr/local/lib/python3.8/dist-packages/ipykernel/ipkernel.py:283: DeprecationWarning: `should_run_async` will not call `transform_cell` automatically in the future. Please pass the result to `transformed_cell` argument and any exception that happen during thetransform in `preprocessing_exc_tuple` in IPython 7.17 and above.\n",
      "  and should_run_async(code)\n"
     ]
    },
    {
     "data": {
      "text/plain": [
       "'honour today theme recession recovery afternoon recovery recession i recession side story fall lehman september i blouin creative leadership summit ten everyone collapse lehman impact dramatic historic event global financial economic crisis cash economic financial meltdown credit demand water many ordinary risk aftermath high unemployment ten cent many public balance question road economic recovery look road sustainable balanced recovery i sustainable balanced recovery future economic system sus'"
      ]
     },
     "execution_count": 22,
     "metadata": {},
     "output_type": "execute_result"
    }
   ],
   "source": [
    "speeches_nl_nounsadj[0][:500]"
   ]
  },
  {
   "cell_type": "markdown",
   "metadata": {
    "collapsed": true
   },
   "source": [
    "### Using ngrams as features\n",
    "Topic models follow a bag-of-words approach, meaning they do not take word order into account. However, sometimes we want to be able to do so to a limited extend: The \"white house\" is something else than a \"house with a white wall\", even though both strings contain the words 'white' and 'house'. We can do so by joining adjacent words together in so-called bigrams (or trigrams, if we take three words)."
   ]
  },
  {
   "cell_type": "code",
   "execution_count": 23,
   "metadata": {},
   "outputs": [
    {
     "name": "stderr",
     "output_type": "stream",
     "text": [
      "/usr/local/lib/python3.8/dist-packages/ipykernel/ipkernel.py:283: DeprecationWarning: `should_run_async` will not call `transform_cell` automatically in the future. Please pass the result to `transformed_cell` argument and any exception that happen during thetransform in `preprocessing_exc_tuple` in IPython 7.17 and above.\n",
      "  and should_run_async(code)\n"
     ]
    }
   ],
   "source": [
    "speeches_nl_bigrams = [[\"_\".join(tup) for tup in nltk.ngrams(speech.split(),2)] for speech in speeches_nl_clean]"
   ]
  },
  {
   "cell_type": "code",
   "execution_count": 24,
   "metadata": {},
   "outputs": [
    {
     "name": "stderr",
     "output_type": "stream",
     "text": [
      "/usr/local/lib/python3.8/dist-packages/ipykernel/ipkernel.py:283: DeprecationWarning: `should_run_async` will not call `transform_cell` automatically in the future. Please pass the result to `transformed_cell` argument and any exception that happen during thetransform in `preprocessing_exc_tuple` in IPython 7.17 and above.\n",
      "  and should_run_async(code)\n"
     ]
    },
    {
     "data": {
      "text/plain": [
       "['completely_balance',\n",
       " 'balance_question',\n",
       " 'question_road',\n",
       " 'road_economic',\n",
       " 'economic_recovery',\n",
       " 'recovery_look',\n",
       " 'look_like',\n",
       " 'like_road',\n",
       " 'road_sustainable',\n",
       " 'sustainable_balanced',\n",
       " 'balanced_recovery',\n",
       " 'recovery_firmly',\n",
       " 'firmly_add',\n",
       " 'add_sustainable',\n",
       " 'sustainable_balanced',\n",
       " 'balanced_recovery',\n",
       " 'recovery_prevent',\n",
       " 'prevent_future',\n",
       " 'future_imbalances',\n",
       " 'imbalances_economic',\n",
       " 'economic_system',\n",
       " 'system_sustainable',\n",
       " 'sustainable_balanced',\n",
       " 'balanced_recovery',\n",
       " 'recovery_enable',\n",
       " 'enable_us',\n",
       " 'us_combine',\n",
       " 'combine_economic',\n",
       " 'economic_growth',\n",
       " 'growth_measures',\n",
       " 'measures_tackle',\n",
       " 'tackle_global',\n",
       " 'global_challenges',\n",
       " 'challenges_combat',\n",
       " 'combat_climate',\n",
       " 'climate_change',\n",
       " 'change_maintain',\n",
       " 'maintain_biodiversity',\n",
       " 'biodiversity_fight',\n",
       " 'fight_international',\n",
       " 'international_terrorism',\n",
       " 'terrorism_resolve',\n",
       " 'resolve_migration',\n",
       " 'migration_issues',\n",
       " 'issues_find',\n",
       " 'find_response',\n",
       " 'response_major',\n",
       " 'major_shortages',\n",
       " 'shortages_natural',\n",
       " 'natural_resources',\n",
       " 'resources_oil',\n",
       " 'oil_gas',\n",
       " 'gas_food',\n",
       " 'food_water',\n",
       " 'water_two',\n",
       " 'two_dimensions',\n",
       " 'dimensions_theme',\n",
       " 'theme_shortterm',\n",
       " 'shortterm_recovery',\n",
       " 'recovery_measures',\n",
       " 'measures_bring',\n",
       " 'bring_sustainable',\n",
       " 'sustainable_longterm',\n",
       " 'longterm_recovery',\n",
       " 'recovery_let',\n",
       " 'let_us',\n",
       " 'us_take',\n",
       " 'take_brief',\n",
       " 'brief_look',\n",
       " 'look_dimension',\n",
       " 'dimension_current',\n",
       " 'current_debate',\n",
       " 'debate_shortterm',\n",
       " 'shortterm_recovery',\n",
       " 'recovery_revolves',\n",
       " 'revolves_around',\n",
       " 'around_whether',\n",
       " 'whether_vulnerable',\n",
       " 'vulnerable_economies',\n",
       " 'economies_need',\n",
       " 'need_stimulus',\n",
       " 'stimulus_whether',\n",
       " 'whether_time',\n",
       " 'time_governments',\n",
       " 'governments_withdraw',\n",
       " 'withdraw_private',\n",
       " 'private_sector',\n",
       " 'sector_play',\n",
       " 'play_natural',\n",
       " 'natural_role',\n",
       " 'role_engine',\n",
       " 'engine_economic',\n",
       " 'economic_growth',\n",
       " 'growth_opinions',\n",
       " 'opinions_vary',\n",
       " 'vary_widely',\n",
       " 'widely_im',\n",
       " 'im_sure',\n",
       " 'sure_applies',\n",
       " 'applies_understandable',\n",
       " 'understandable_theres',\n",
       " 'theres_thing',\n",
       " 'thing_one',\n",
       " 'one_truth',\n",
       " 'truth_one',\n",
       " 'one_answer',\n",
       " 'answer_differences',\n",
       " 'differences_countries',\n",
       " 'countries_rather',\n",
       " 'rather_citizens',\n",
       " 'citizens_behaviour',\n",
       " 'behaviour_simply',\n",
       " 'simply_big',\n",
       " 'big_example',\n",
       " 'example_dutch',\n",
       " 'dutch_companies',\n",
       " 'companies_citizens',\n",
       " 'citizens_get',\n",
       " 'get_uncomfortable',\n",
       " 'uncomfortable_government',\n",
       " 'government_runs',\n",
       " 'runs_enormous',\n",
       " 'enormous_debt',\n",
       " 'debt_makes',\n",
       " 'makes_bigger',\n",
       " 'bigger_continuing',\n",
       " 'continuing_spend',\n",
       " 'spend_regardless',\n",
       " 'regardless_happens',\n",
       " 'happens_keep',\n",
       " 'keep_tight',\n",
       " 'tight_hold',\n",
       " 'hold_purse',\n",
       " 'purse_strings',\n",
       " 'strings_companies',\n",
       " 'companies_invest',\n",
       " 'invest_less',\n",
       " 'less_ordinary',\n",
       " 'ordinary_people',\n",
       " 'people_save',\n",
       " 'save_well',\n",
       " 'well_aware',\n",
       " 'aware_sooner',\n",
       " 'sooner_later',\n",
       " 'later_pay',\n",
       " 'pay_price',\n",
       " 'price_governments',\n",
       " 'governments_runaway',\n",
       " 'runaway_spending',\n",
       " 'spending_form',\n",
       " 'form_higher',\n",
       " 'higher_taxes',\n",
       " 'taxes_higher',\n",
       " 'higher_contributions',\n",
       " 'contributions_towards',\n",
       " 'towards_health',\n",
       " 'health_care',\n",
       " 'care_education',\n",
       " 'education_pensions',\n",
       " 'pensions_start',\n",
       " 'start_spending',\n",
       " 'spending_climate',\n",
       " 'climate_economic',\n",
       " 'economic_certainty',\n",
       " 'certainty_financial',\n",
       " 'financial_stability',\n",
       " 'stability_america',\n",
       " 'america_things',\n",
       " 'things_different',\n",
       " 'different_probably',\n",
       " 'probably_know',\n",
       " 'know_better',\n",
       " 'better_country',\n",
       " 'country_least',\n",
       " 'least_argue',\n",
       " 'argue_budget',\n",
       " 'budget_discipline',\n",
       " 'discipline_reforms',\n",
       " 'reforms_reduction',\n",
       " 'reduction_government',\n",
       " 'government_deficits',\n",
       " 'deficits_short',\n",
       " 'short_long',\n",
       " 'long_term',\n",
       " 'term_fully',\n",
       " 'fully_agree',\n",
       " 'agree_olivier',\n",
       " 'olivier_blanchard',\n",
       " 'blanchard_carlo',\n",
       " 'carlo_cottarelli',\n",
       " 'cottarelli_chief',\n",
       " 'chief_economist',\n",
       " 'economist_head',\n",
       " 'head_fiscal',\n",
       " 'fiscal_affairs',\n",
       " 'affairs_imf',\n",
       " 'imf_become',\n",
       " 'become_obsessed',\n",
       " 'obsessed_shortterm',\n",
       " 'shortterm_policy',\n",
       " 'policy_recently',\n",
       " 'recently_wrote',\n",
       " 'wrote_article',\n",
       " 'article_financial',\n",
       " 'financial_times',\n",
       " 'times_entitled',\n",
       " 'entitled_great',\n",
       " 'great_false',\n",
       " 'false_choice',\n",
       " 'choice_stimulus',\n",
       " 'stimulus_austerity',\n",
       " 'austerity_conclude',\n",
       " 'conclude_quote',\n",
       " 'quote_important',\n",
       " 'important_measures',\n",
       " 'measures_improve',\n",
       " 'improve_longterm',\n",
       " 'longterm_fiscal',\n",
       " 'fiscal_outlook',\n",
       " 'outlook_countries',\n",
       " 'countries_high',\n",
       " 'high_deficits',\n",
       " 'deficits_debt',\n",
       " 'debt_governments',\n",
       " 'governments_focus',\n",
       " 'focus_efforts',\n",
       " 'efforts_without',\n",
       " 'without_longterm',\n",
       " 'longterm_fiscal',\n",
       " 'fiscal_reforms',\n",
       " 'reforms_lasting',\n",
       " 'lasting_recovery',\n",
       " 'recovery_doomed',\n",
       " 'doomed_far',\n",
       " 'far_certainly',\n",
       " 'certainly_world',\n",
       " 'world_gets',\n",
       " 'gets_2011',\n",
       " '2011_plans',\n",
       " 'plans_wrong',\n",
       " 'wrong_fraction',\n",
       " 'fraction_per',\n",
       " 'per_cent',\n",
       " 'cent_gdp',\n",
       " 'gdp_words',\n",
       " 'words_longterm',\n",
       " 'longterm_measures',\n",
       " 'measures_surest',\n",
       " 'surest_route',\n",
       " 'route_sustainable',\n",
       " 'sustainable_recovery',\n",
       " 'recovery_let',\n",
       " 'let_us',\n",
       " 'us_focus',\n",
       " 'focus_ask',\n",
       " 'ask_think',\n",
       " 'think_crucial',\n",
       " 'crucial_make',\n",
       " 'make_world',\n",
       " 'world_economies',\n",
       " 'economies_lives',\n",
       " 'lives_stable',\n",
       " 'stable_sustainable',\n",
       " 'sustainable_dynamic',\n",
       " 'dynamic_future',\n",
       " 'future_sum',\n",
       " 'sum_answer',\n",
       " 'answer_one',\n",
       " 'one_word',\n",
       " 'word_values',\n",
       " 'values_two',\n",
       " 'two_weeks',\n",
       " 'weeks_ago',\n",
       " 'ago_website',\n",
       " 'website_new',\n",
       " 'new_york',\n",
       " 'york_times',\n",
       " 'times_read',\n",
       " 'read_analysis',\n",
       " 'analysis_thomas',\n",
       " 'thomas_friedman',\n",
       " 'friedman_struck',\n",
       " 'struck_chord',\n",
       " 'chord_let',\n",
       " 'let_give',\n",
       " 'give_idea',\n",
       " 'idea_central',\n",
       " 'central_message',\n",
       " 'message_wrote',\n",
       " 'wrote_values',\n",
       " 'values_breakdown',\n",
       " 'breakdown_national',\n",
       " 'national_epidemic',\n",
       " 'epidemic_getrichquickism',\n",
       " 'getrichquickism_somethingfornothingism',\n",
       " 'somethingfornothingism_wall',\n",
       " 'wall_street',\n",
       " 'street_may',\n",
       " 'may_dealing',\n",
       " 'dealing_dope',\n",
       " 'dope_lawmakers',\n",
       " 'lawmakers_encouraged',\n",
       " 'encouraged_far',\n",
       " 'far_many',\n",
       " 'many_us',\n",
       " 'us_happy',\n",
       " 'happy_buy',\n",
       " 'buy_dotcom',\n",
       " 'dotcom_subprime',\n",
       " 'subprime_crack',\n",
       " 'crack_quick',\n",
       " 'quick_prosperity',\n",
       " 'prosperity_highs',\n",
       " 'highs_…',\n",
       " '…_china',\n",
       " 'china_india',\n",
       " 'india_catching',\n",
       " 'catching_america',\n",
       " 'america_via',\n",
       " 'via_cheap',\n",
       " 'cheap_labour',\n",
       " 'labour_currencies',\n",
       " 'currencies_catching',\n",
       " 'catching_us',\n",
       " 'us_free',\n",
       " 'free_markets',\n",
       " 'markets_like',\n",
       " 'like_education',\n",
       " 'education_like',\n",
       " 'like_access',\n",
       " 'access_capital',\n",
       " 'capital_technology',\n",
       " 'technology_like',\n",
       " 'like_importantly',\n",
       " 'importantly_values',\n",
       " 'values_like',\n",
       " 'like_greatest',\n",
       " 'greatest_generation',\n",
       " 'generation_willingness',\n",
       " 'willingness_postpone',\n",
       " 'postpone_gratification',\n",
       " 'gratification_invest',\n",
       " 'invest_future',\n",
       " 'future_work',\n",
       " 'work_harder',\n",
       " 'harder_next',\n",
       " 'next_guy',\n",
       " 'guy_hold',\n",
       " 'hold_kids',\n",
       " 'kids_highest',\n",
       " 'highest_expectations',\n",
       " 'expectations_flat',\n",
       " 'flat_world',\n",
       " 'world_everyone',\n",
       " 'everyone_access',\n",
       " 'access_everything',\n",
       " 'everything_values',\n",
       " 'values_matter',\n",
       " 'matter_ever',\n",
       " 'ever_course',\n",
       " 'course_need',\n",
       " 'need_reform',\n",
       " 'reform_economic',\n",
       " 'economic_tax',\n",
       " 'tax_financial',\n",
       " 'financial_systems',\n",
       " 'systems_make',\n",
       " 'make_robust',\n",
       " 'robust_better',\n",
       " 'better_able',\n",
       " 'able_withstand',\n",
       " 'withstand_future',\n",
       " 'future_challenges',\n",
       " 'challenges_example',\n",
       " 'example_raising',\n",
       " 'raising_retirement',\n",
       " 'retirement_age',\n",
       " 'age_making',\n",
       " 'making_labour',\n",
       " 'labour_market',\n",
       " 'market_flexible',\n",
       " 'flexible_improving',\n",
       " 'improving_supervision',\n",
       " 'supervision_financial',\n",
       " 'financial_sector',\n",
       " 'sector_successful',\n",
       " 'successful_future',\n",
       " 'future_demands',\n",
       " 'demands_another',\n",
       " 'another_fundamental',\n",
       " 'fundamental_reform',\n",
       " 'reform_greater',\n",
       " 'greater_moral',\n",
       " 'moral_awareness',\n",
       " 'awareness_globally',\n",
       " 'globally_nationally',\n",
       " 'nationally_business',\n",
       " 'business_among',\n",
       " 'among_ordinary',\n",
       " 'ordinary_people',\n",
       " 'people_let',\n",
       " 'let_outline',\n",
       " 'outline_mean',\n",
       " 'mean_globally',\n",
       " 'globally_hope',\n",
       " 'hope_intensify',\n",
       " 'intensify_current',\n",
       " 'current_international',\n",
       " 'international_cooperation',\n",
       " 'cooperation_good',\n",
       " 'good_times',\n",
       " 'times_bad',\n",
       " 'bad_crisis',\n",
       " 'crisis_deepest',\n",
       " 'deepest_g20',\n",
       " 'g20_assumed',\n",
       " 'assumed_prominent',\n",
       " 'prominent_role',\n",
       " 'role_declared',\n",
       " 'declared_premier',\n",
       " 'premier_forum',\n",
       " 'forum_economic',\n",
       " 'economic_cooperation',\n",
       " 'cooperation_certainly',\n",
       " 'certainly_lived',\n",
       " 'lived_promise',\n",
       " 'promise_know',\n",
       " 'know_personal',\n",
       " 'personal_experience',\n",
       " 'experience_launched',\n",
       " 'launched_framework',\n",
       " 'framework_strong',\n",
       " 'strong_sustainable',\n",
       " 'sustainable_balanced',\n",
       " 'balanced_growth',\n",
       " 'growth_applaud',\n",
       " 'applaud_framework',\n",
       " 'framework_matters',\n",
       " 'matters_fill',\n",
       " 'fill_detail',\n",
       " 'detail_harmonise',\n",
       " 'harmonise_policies',\n",
       " 'policies_practice',\n",
       " 'practice_g20',\n",
       " 'g20_still',\n",
       " 'still_struggling',\n",
       " 'struggling_ambition',\n",
       " 'ambition_truly',\n",
       " 'truly_sustainable',\n",
       " 'sustainable_balanced',\n",
       " 'balanced_growth',\n",
       " 'growth_issue',\n",
       " 'issue_scarcity',\n",
       " 'scarcity_seems',\n",
       " 'seems_faded',\n",
       " 'faded_view',\n",
       " 'view_crisis',\n",
       " 'crisis_predict',\n",
       " 'predict_g20',\n",
       " 'g20_ignores',\n",
       " 'ignores_surely',\n",
       " 'surely_back',\n",
       " 'back_agenda',\n",
       " 'agenda_years',\n",
       " 'years_say',\n",
       " 'say_time',\n",
       " 'time_take',\n",
       " 'take_moral',\n",
       " 'moral_responsibility',\n",
       " 'responsibility_taking',\n",
       " 'taking_concrete',\n",
       " 'concrete_action',\n",
       " 'action_tackle',\n",
       " 'tackle_climate',\n",
       " 'climate_change',\n",
       " 'change_example',\n",
       " 'example_climate',\n",
       " 'climate_summit',\n",
       " 'summit_cancun',\n",
       " 'cancun_excellent',\n",
       " 'excellent_opportunity',\n",
       " 'opportunity_make',\n",
       " 'make_real',\n",
       " 'real_progress',\n",
       " 'progress_national',\n",
       " 'national_governments',\n",
       " 'governments_also',\n",
       " 'also_part',\n",
       " 'part_play',\n",
       " 'play_lessons',\n",
       " 'lessons_crisis',\n",
       " 'crisis_harsh',\n",
       " 'harsh_two',\n",
       " 'two_ways',\n",
       " 'ways_owe',\n",
       " 'owe_next',\n",
       " 'next_generation',\n",
       " 'generation_introduce',\n",
       " 'introduce_structural',\n",
       " 'structural_reforms',\n",
       " 'reforms_exercise',\n",
       " 'exercise_proper',\n",
       " 'proper_stewardship',\n",
       " 'stewardship_put',\n",
       " 'put_public',\n",
       " 'public_finances',\n",
       " 'finances_back',\n",
       " 'back_order',\n",
       " 'order_act',\n",
       " 'act_address',\n",
       " 'address_problem',\n",
       " 'problem_demographic',\n",
       " 'demographic_ageing',\n",
       " 'ageing_children',\n",
       " 'children_left',\n",
       " 'left_sort',\n",
       " 'sort_ensure',\n",
       " 'ensure_financial',\n",
       " 'financial_sector',\n",
       " 'sector_first',\n",
       " 'first_foremost',\n",
       " 'foremost_serves',\n",
       " 'serves_real',\n",
       " 'real_economy',\n",
       " 'economy_business',\n",
       " 'business_community',\n",
       " 'community_general',\n",
       " 'general_public',\n",
       " 'public_businesses',\n",
       " 'businesses_responsibility',\n",
       " 'responsibility_im',\n",
       " 'im_talking',\n",
       " 'talking_banks',\n",
       " 'banks_people',\n",
       " 'people_line',\n",
       " 'line_pockets',\n",
       " 'pockets_excessive',\n",
       " 'excessive_bonuses',\n",
       " 'bonuses_perverse',\n",
       " 'perverse_incentives',\n",
       " 'incentives_shorttermism',\n",
       " 'shorttermism_reckless',\n",
       " 'reckless_risktaking',\n",
       " 'risktaking_seen',\n",
       " 'seen_still',\n",
       " 'still_see',\n",
       " 'see_unfortunately',\n",
       " 'unfortunately_kind',\n",
       " 'kind_thing',\n",
       " 'thing_unique',\n",
       " 'unique_financial',\n",
       " 'financial_sector',\n",
       " 'sector_view',\n",
       " 'view_achieve',\n",
       " 'achieve_sustainable',\n",
       " 'sustainable_recovery',\n",
       " 'recovery_growth',\n",
       " 'growth_businesses',\n",
       " 'businesses_business',\n",
       " 'business_people',\n",
       " 'people_behave',\n",
       " 'behave_responsibly',\n",
       " 'responsibly_go',\n",
       " 'go_much',\n",
       " 'much_embracing',\n",
       " 'embracing_corporate',\n",
       " 'corporate_social',\n",
       " 'social_responsibility',\n",
       " 'responsibility_terms',\n",
       " 'terms_like',\n",
       " 'like_green',\n",
       " 'green_sustainable',\n",
       " 'sustainable_socially',\n",
       " 'socially_responsible',\n",
       " 'responsible_good',\n",
       " 'good_image',\n",
       " 'image_boost',\n",
       " 'boost_sales',\n",
       " 'sales_really',\n",
       " 'really_feel',\n",
       " 'feel_longterm',\n",
       " 'longterm_responsibility',\n",
       " 'responsibility_world',\n",
       " 'world_operate',\n",
       " 'operate_role',\n",
       " 'role_finally',\n",
       " 'finally_ordinary',\n",
       " 'ordinary_citizens',\n",
       " 'citizens_guided',\n",
       " 'guided_moral',\n",
       " 'moral_principles',\n",
       " 'principles_future',\n",
       " 'future_standards',\n",
       " 'standards_values',\n",
       " 'values_value',\n",
       " 'value_saving',\n",
       " 'saving_value',\n",
       " 'value_social',\n",
       " 'social_engagement',\n",
       " 'engagement_value',\n",
       " 'value_caring',\n",
       " 'caring_others',\n",
       " 'others_kind',\n",
       " 'kind_values',\n",
       " 'values_use',\n",
       " 'use_friedmans',\n",
       " 'friedmans_words',\n",
       " 'words_matter',\n",
       " 'matter_ever',\n",
       " 'ever_without',\n",
       " 'without_moral',\n",
       " 'moral_awareness',\n",
       " 'awareness_sustainable',\n",
       " 'sustainable_recovery',\n",
       " 'recovery_let',\n",
       " 'let_us',\n",
       " 'us_continue',\n",
       " 'continue_resolutely',\n",
       " 'resolutely_road',\n",
       " 'road_recovery',\n",
       " 'recovery_without',\n",
       " 'without_running',\n",
       " 'running_away',\n",
       " 'away_responsibilities',\n",
       " 'responsibilities_short',\n",
       " 'short_term',\n",
       " 'term_certainly',\n",
       " 'certainly_long',\n",
       " 'long_thank']"
      ]
     },
     "execution_count": 24,
     "metadata": {},
     "output_type": "execute_result"
    }
   ],
   "source": [
    "speeches_nl_bigrams[0][100:]"
   ]
  },
  {
   "cell_type": "markdown",
   "metadata": {},
   "source": [
    "Damian is explaining what ngrams are.\n",
    "\n",
    "unigrams:\n",
    "\n",
    "Damian, is, explaining, ...\n",
    "\n",
    "bigrams:\n",
    "\n",
    "Damian_is\n",
    "is_explaining\n",
    "explianing_what\n",
    "what_ngrams\n",
    "ngrams_are\n",
    "\n",
    "Trump is sitting in the White House\n",
    "\n"
   ]
  },
  {
   "cell_type": "code",
   "execution_count": 25,
   "metadata": {},
   "outputs": [
    {
     "name": "stderr",
     "output_type": "stream",
     "text": [
      "/usr/local/lib/python3.8/dist-packages/ipykernel/ipkernel.py:283: DeprecationWarning: `should_run_async` will not call `transform_cell` automatically in the future. Please pass the result to `transformed_cell` argument and any exception that happen during thetransform in `preprocessing_exc_tuple` in IPython 7.17 and above.\n",
      "  and should_run_async(code)\n"
     ]
    }
   ],
   "source": [
    "# maybe we want both unigrams and bigrams in the feature set?\n",
    "assert len(speeches_nl_clean)==len(speeches_nl_bigrams)\n",
    "speeches_nl_uniandbigrams = []\n",
    "for a,b in zip([speech.split() for speech in speeches_nl_clean],speeches_nl_bigrams):\n",
    "    speeches_nl_uniandbigrams.append(a + b)"
   ]
  },
  {
   "cell_type": "code",
   "execution_count": 26,
   "metadata": {
    "scrolled": true
   },
   "outputs": [
    {
     "name": "stderr",
     "output_type": "stream",
     "text": [
      "/usr/local/lib/python3.8/dist-packages/ipykernel/ipkernel.py:283: DeprecationWarning: `should_run_async` will not call `transform_cell` automatically in the future. Please pass the result to `transformed_cell` argument and any exception that happen during thetransform in `preprocessing_exc_tuple` in IPython 7.17 and above.\n",
      "  and should_run_async(code)\n"
     ]
    },
    {
     "data": {
      "text/plain": [
       "(613, 306, 307)"
      ]
     },
     "execution_count": 26,
     "metadata": {},
     "output_type": "execute_result"
    }
   ],
   "source": [
    "len(speeches_nl_uniandbigrams[6]),len(speeches_nl_bigrams[6]),len(speeches_nl_clean[6].split())"
   ]
  },
  {
   "cell_type": "code",
   "execution_count": 27,
   "metadata": {},
   "outputs": [
    {
     "name": "stderr",
     "output_type": "stream",
     "text": [
      "/usr/local/lib/python3.8/dist-packages/ipykernel/ipkernel.py:283: DeprecationWarning: `should_run_async` will not call `transform_cell` automatically in the future. Please pass the result to `transformed_cell` argument and any exception that happen during thetransform in `preprocessing_exc_tuple` in IPython 7.17 and above.\n",
      "  and should_run_async(code)\n"
     ]
    },
    {
     "data": {
      "text/plain": [
       "[(0,\n",
       "  '0.003*\"delta\" + 0.002*\"flanders\" + 0.002*\"atlanta\" + 0.002*\"school\" + 0.002*\"georgia\"'),\n",
       " (1,\n",
       "  '0.003*\"indonesia\" + 0.002*\"freedom\" + 0.002*\"it’s\" + 0.002*\"–\" + 0.002*\"europe\"'),\n",
       " (2,\n",
       "  '0.006*\"vietnam\" + 0.002*\"freedom\" + 0.002*\"vietnamese\" + 0.002*\"indonesian\" + 0.001*\"water\"'),\n",
       " (3,\n",
       "  '0.002*\"indonesia\" + 0.002*\"private_sector\" + 0.002*\"mdgs\" + 0.001*\"gave\" + 0.001*\"independent\"'),\n",
       " (4,\n",
       "  '0.004*\"internet\" + 0.004*\"cyber\" + 0.003*\"missions\" + 0.002*\"un\" + 0.002*\"malaysia\"'),\n",
       " (5,\n",
       "  '0.002*\"south\" + 0.002*\"new_york\" + 0.002*\"york\" + 0.002*\"indonesia\" + 0.002*\"africa\"'),\n",
       " (6,\n",
       "  '0.002*\"indonesia\" + 0.002*\"nuclear\" + 0.001*\"material\" + 0.001*\"atlanta\" + 0.001*\"culture\"'),\n",
       " (7,\n",
       "  '0.002*\"india\" + 0.002*\"climate\" + 0.002*\"sustainable\" + 0.002*\"water\" + 0.002*\"women\"'),\n",
       " (8,\n",
       "  '0.002*\"russia\" + 0.002*\"freedom\" + 0.002*\"european\" + 0.001*\"freedoms\" + 0.001*\"indonesian\"'),\n",
       " (9,\n",
       "  '0.002*\"japan\" + 0.002*\"nuclear\" + 0.002*\"india\" + 0.001*\"head\" + 0.001*\"summit\"')]"
      ]
     },
     "execution_count": 27,
     "metadata": {},
     "output_type": "execute_result"
    }
   ],
   "source": [
    "id2word_m5 = corpora.Dictionary(speeches_nl_uniandbigrams)                       \n",
    "id2word_m5.filter_extremes(no_below=5, no_above=0.5)\n",
    "ldacorpus_m5 = [id2word_m5.doc2bow(doc) for doc in speeches_nl_uniandbigrams]\n",
    "tfidfcorpus_m5 = models.TfidfModel(ldacorpus_m5)\n",
    "lda_m5 = models.ldamodel.LdaModel(corpus=tfidfcorpus_m5[ldacorpus_m5],id2word=id2word_m5,num_topics=10)\n",
    "lda_m5.print_topics(num_words=5)"
   ]
  },
  {
   "cell_type": "markdown",
   "metadata": {},
   "source": [
    "## Summing up\n",
    "While there are different ways to achieve the desired results and different modules to help you with it (writing from scratch, NLTK, but also gensim.utils), these are some steps to consider when transforming texts to feature sets for topic modeling (recall that not all of them might be neccessary of even diserable, depending on the use case):\n",
    "\n",
    "- transforming to lowercase\n",
    "- removing stopwords\n",
    "- stemming\n",
    "- POS-tagging (and removing unwanted elements)\n",
    "- filtering extremely common and extremely uncommon words\n",
    "- ngrams and/or unigrams as features?\n",
    "- raw frequencies or TF-IDF scores as features?\n",
    "\n"
   ]
  },
  {
   "cell_type": "code",
   "execution_count": null,
   "metadata": {},
   "outputs": [],
   "source": []
  },
  {
   "cell_type": "code",
   "execution_count": null,
   "metadata": {},
   "outputs": [],
   "source": []
  },
  {
   "cell_type": "markdown",
   "metadata": {},
   "source": [
    "# 5. Evaluating and comparing different models (Tatjana/Damian)\n"
   ]
  },
  {
   "cell_type": "markdown",
   "metadata": {},
   "source": [
    "## Perplexity\n",
    "\n",
    "## Log perplexity\n",
    "To print more info while estimating a topic model, you can either\n",
    "\n",
    "- use the method ldamodel.bound(corpus, gamma=None, subsample_ratio=1.0) (but you need a holdout corpus)\n",
    "- or just activate logging before you estimate the models:"
   ]
  },
  {
   "cell_type": "code",
   "execution_count": 28,
   "metadata": {},
   "outputs": [
    {
     "name": "stderr",
     "output_type": "stream",
     "text": [
      "/usr/local/lib/python3.8/dist-packages/ipykernel/ipkernel.py:283: DeprecationWarning: `should_run_async` will not call `transform_cell` automatically in the future. Please pass the result to `transformed_cell` argument and any exception that happen during thetransform in `preprocessing_exc_tuple` in IPython 7.17 and above.\n",
      "  and should_run_async(code)\n"
     ]
    }
   ],
   "source": [
    "# import logging\n",
    "# logging.basicConfig(format='%(asctime)s : %(levelname)s : %(message)s', level=logging.INFO)"
   ]
  },
  {
   "cell_type": "code",
   "execution_count": 29,
   "metadata": {},
   "outputs": [
    {
     "name": "stderr",
     "output_type": "stream",
     "text": [
      "/usr/local/lib/python3.8/dist-packages/ipykernel/ipkernel.py:283: DeprecationWarning: `should_run_async` will not call `transform_cell` automatically in the future. Please pass the result to `transformed_cell` argument and any exception that happen during thetransform in `preprocessing_exc_tuple` in IPython 7.17 and above.\n",
      "  and should_run_async(code)\n"
     ]
    }
   ],
   "source": [
    "ldacorpus_perplex = ldacorpus_m5.copy()\n",
    "random.shuffle(ldacorpus_perplex)\n",
    "\n",
    "\n",
    "splitidx = int(0.8 * len(ldacorpus_perplex))\n",
    "\n",
    "train = ldacorpus_perplex[:splitidx]\n",
    "test = ldacorpus_perplex[splitidx:]"
   ]
  },
  {
   "cell_type": "code",
   "execution_count": 30,
   "metadata": {},
   "outputs": [
    {
     "name": "stderr",
     "output_type": "stream",
     "text": [
      "/usr/local/lib/python3.8/dist-packages/ipykernel/ipkernel.py:283: DeprecationWarning: `should_run_async` will not call `transform_cell` automatically in the future. Please pass the result to `transformed_cell` argument and any exception that happen during thetransform in `preprocessing_exc_tuple` in IPython 7.17 and above.\n",
      "  and should_run_async(code)\n"
     ]
    },
    {
     "name": "stdout",
     "output_type": "stream",
     "text": [
      "-11.339007311442845 -110054.19134837389\n",
      "-14.75665641690735 -143224.80403757095\n",
      "-23.00660784241958 -223304.11796444654\n",
      "-29.36376428197591 -285007.5179502368\n",
      "-35.345262480622196 -343063.682169199\n"
     ]
    }
   ],
   "source": [
    "perplexityvalues = []\n",
    "for n in [10, 20, 50, 75, 100]:\n",
    "    lda = models.LdaModel(train, id2word=id2word_m1, num_topics=n)\n",
    "    print(lda.log_perplexity(test), lda.bound(test))\n",
    "    perplexityvalues.append((n, lda.log_perplexity(test)))"
   ]
  },
  {
   "cell_type": "code",
   "execution_count": 31,
   "metadata": {},
   "outputs": [
    {
     "name": "stderr",
     "output_type": "stream",
     "text": [
      "/usr/local/lib/python3.8/dist-packages/ipykernel/ipkernel.py:283: DeprecationWarning: `should_run_async` will not call `transform_cell` automatically in the future. Please pass the result to `transformed_cell` argument and any exception that happen during thetransform in `preprocessing_exc_tuple` in IPython 7.17 and above.\n",
      "  and should_run_async(code)\n"
     ]
    },
    {
     "data": {
      "text/plain": [
       "([<matplotlib.axis.XTick at 0x7fd8d71e1d60>,\n",
       "  <matplotlib.axis.XTick at 0x7fd8d71e1d30>,\n",
       "  <matplotlib.axis.XTick at 0x7fd8d71cd880>,\n",
       "  <matplotlib.axis.XTick at 0x7fd8d725ca30>,\n",
       "  <matplotlib.axis.XTick at 0x7fd8d725cf40>],\n",
       " [Text(0, 0, '10'),\n",
       "  Text(1, 0, '20'),\n",
       "  Text(2, 0, '50'),\n",
       "  Text(3, 0, '75'),\n",
       "  Text(4, 0, '100')])"
      ]
     },
     "execution_count": 31,
     "metadata": {},
     "output_type": "execute_result"
    },
    {
     "data": {
      "image/png": "[encoded data removed]",
      "text/plain": [
       "<Figure size 432x288 with 1 Axes>"
      ]
     },
     "metadata": {
      "needs_background": "light"
     },
     "output_type": "display_data"
    }
   ],
   "source": [
    "fig, ax = plt.subplots()\n",
    "plt.plot([e[1] for e in perplexityvalues])\n",
    "plt.xticks(range(len(perplexityvalues)), [e[0] for e in perplexityvalues])"
   ]
  },
  {
   "cell_type": "code",
   "execution_count": 32,
   "metadata": {},
   "outputs": [
    {
     "name": "stderr",
     "output_type": "stream",
     "text": [
      "/usr/local/lib/python3.8/dist-packages/ipykernel/ipkernel.py:283: DeprecationWarning: `should_run_async` will not call `transform_cell` automatically in the future. Please pass the result to `transformed_cell` argument and any exception that happen during thetransform in `preprocessing_exc_tuple` in IPython 7.17 and above.\n",
      "  and should_run_async(code)\n"
     ]
    },
    {
     "name": "stdout",
     "output_type": "stream",
     "text": [
      "-14.659997119378877 -142287.05576515198\n",
      "-14.467626548816856 -140422.08241525292\n",
      "-14.808002876002298 -143724.91010189056\n",
      "-14.792400951511265 -143575.41680288315\n",
      "-14.623906567001892 -141938.49124580622\n",
      "-14.550893599240775 -141230.4835060835\n",
      "-14.565370438051254 -141369.9768652916\n",
      "-14.713602767343401 -142811.04641509056\n",
      "-14.81217621133275 -143765.86256563663\n"
     ]
    },
    {
     "data": {
      "text/plain": [
       "([<matplotlib.axis.XTick at 0x7fd8d73d3ca0>,\n",
       "  <matplotlib.axis.XTick at 0x7fd8d73d3c70>,\n",
       "  <matplotlib.axis.XTick at 0x7fd8d73c5820>,\n",
       "  <matplotlib.axis.XTick at 0x7fd8d73e4940>,\n",
       "  <matplotlib.axis.XTick at 0x7fd8d73e4ca0>,\n",
       "  <matplotlib.axis.XTick at 0x7fd8d73e51f0>,\n",
       "  <matplotlib.axis.XTick at 0x7fd8d73e5700>,\n",
       "  <matplotlib.axis.XTick at 0x7fd8d73e5c10>,\n",
       "  <matplotlib.axis.XTick at 0x7fd8d73ef160>],\n",
       " [Text(0, 0, '0.01'),\n",
       "  Text(1, 0, '0.02'),\n",
       "  Text(2, 0, '0.03'),\n",
       "  Text(3, 0, '0.04'),\n",
       "  Text(4, 0, '0.05'),\n",
       "  Text(5, 0, '0.060000000000000005'),\n",
       "  Text(6, 0, '0.06999999999999999'),\n",
       "  Text(7, 0, '0.08'),\n",
       "  Text(8, 0, '0.09')])"
      ]
     },
     "execution_count": 32,
     "metadata": {},
     "output_type": "execute_result"
    },
    {
     "data": {
      "image/png": "[encoded data removed]",
      "text/plain": [
       "<Figure size 432x288 with 1 Axes>"
      ]
     },
     "metadata": {
      "needs_background": "light"
     },
     "output_type": "display_data"
    }
   ],
   "source": [
    "perplexityvalues = []\n",
    "\n",
    "n = 20\n",
    "\n",
    "for alpha in np.arange(0.01, 0.1, 0.01):\n",
    "    lda = models.LdaModel(train, id2word=id2word_m1, num_topics=n, alpha=alpha)\n",
    "    print(lda.log_perplexity(test), lda.bound(test))\n",
    "    perplexityvalues.append((alpha, lda.log_perplexity(test)))\n",
    "fig, ax = plt.subplots()\n",
    "plt.plot([e[1] for e in perplexityvalues])\n",
    "plt.xticks(range(len(perplexityvalues)), [e[0] for e in perplexityvalues])"
   ]
  },
  {
   "cell_type": "code",
   "execution_count": null,
   "metadata": {},
   "outputs": [],
   "source": []
  },
  {
   "cell_type": "code",
   "execution_count": null,
   "metadata": {},
   "outputs": [],
   "source": []
  },
  {
   "cell_type": "markdown",
   "metadata": {},
   "source": [
    "## Topic coherence\n",
    "We can calculate the Umass topic coherence for each topic. See Mimno, Wallach, Talley, Leenders, McCallum: Optimizing Semantic Coherence in Topic Models, CEMNLP 2011"
   ]
  },
  {
   "cell_type": "code",
   "execution_count": 33,
   "metadata": {
    "scrolled": true
   },
   "outputs": [
    {
     "name": "stderr",
     "output_type": "stream",
     "text": [
      "/usr/local/lib/python3.8/dist-packages/ipykernel/ipkernel.py:283: DeprecationWarning: `should_run_async` will not call `transform_cell` automatically in the future. Please pass the result to `transformed_cell` argument and any exception that happen during thetransform in `preprocessing_exc_tuple` in IPython 7.17 and above.\n",
      "  and should_run_async(code)\n"
     ]
    }
   ],
   "source": [
    "# print coherence per topic:\n",
    "# lda_m5.top_topics(ldacorpus_m5)"
   ]
  },
  {
   "cell_type": "code",
   "execution_count": 34,
   "metadata": {},
   "outputs": [
    {
     "name": "stderr",
     "output_type": "stream",
     "text": [
      "/usr/local/lib/python3.8/dist-packages/ipykernel/ipkernel.py:283: DeprecationWarning: `should_run_async` will not call `transform_cell` automatically in the future. Please pass the result to `transformed_cell` argument and any exception that happen during thetransform in `preprocessing_exc_tuple` in IPython 7.17 and above.\n",
      "  and should_run_async(code)\n"
     ]
    },
    {
     "name": "stdout",
     "output_type": "stream",
     "text": [
      "Coherence of naive model = -0.04163752520092164\n",
      "Coherence of clean model = -0.44930768559400647\n",
      "Coherence of tf-idf model = -11.743074043241364\n",
      "Coherence of tf-idf model without extreme words -6.894405124821461\n",
      "NB: Note that it may not make too much sense to compare these vaues across different corpora\n"
     ]
    }
   ],
   "source": [
    "# Or: overall coherence\n",
    "# NB: CoherenceModel is only available in newer versions of gensim.\n",
    "# if it's not available, consider upgrading with `pip3 install gensim -upgrade`\n",
    "cm1 = models.CoherenceModel(model=lda_m1, corpus=ldacorpus_m1, dictionary= id2word_m1, coherence='u_mass')  \n",
    "naivecoh = cm1.get_coherence()\n",
    "cm2 = models.CoherenceModel(model=lda_m2, corpus=ldacorpus_m2, dictionary= id2word_m2, coherence='u_mass')  \n",
    "cleancoh = cm2.get_coherence()\n",
    "#cm3 = models.CoherenceModel(model=lda_m3, corpus=ldacorpus_m3, coherence='u_mass')\n",
    "cm3 = models.CoherenceModel(model=lda_m3, corpus=tfidfcorpus_m3[ldacorpus_m3], dictionary= id2word_m3, coherence='u_mass')\n",
    "tfidfcoh = cm3.get_coherence()\n",
    "cm4 = models.CoherenceModel(model=lda_m4, corpus=tfidfcorpus_m4[ldacorpus_m4], dictionary= id2word_m4, coherence='u_mass')\n",
    "tfidffiltercoh = cm4.get_coherence()\n",
    "print(\"Coherence of naive model = {}\\nCoherence of clean model = {}\\nCoherence of tf-idf model = {}\\nCoherence of tf-idf model without extreme words {}\".format(naivecoh, cleancoh, tfidfcoh,tfidffiltercoh))\n",
    "print(\"NB: Note that it may not make too much sense to compare these vaues across different corpora\")"
   ]
  },
  {
   "cell_type": "code",
   "execution_count": 35,
   "metadata": {},
   "outputs": [
    {
     "name": "stderr",
     "output_type": "stream",
     "text": [
      "/usr/local/lib/python3.8/dist-packages/ipykernel/ipkernel.py:283: DeprecationWarning: `should_run_async` will not call `transform_cell` automatically in the future. Please pass the result to `transformed_cell` argument and any exception that happen during thetransform in `preprocessing_exc_tuple` in IPython 7.17 and above.\n",
      "  and should_run_async(code)\n"
     ]
    },
    {
     "name": "stdout",
     "output_type": "stream",
     "text": [
      "-4.466049436356953\n",
      "-5.996543672909246\n"
     ]
    }
   ],
   "source": [
    "lda_m4_bad = models.LdaModel(tfidfcorpus_m4[ldacorpus_m4], id2word=id2word_m4, num_topics=10,iterations=1)\n",
    "print(models.CoherenceModel(model=lda_m4_bad, corpus=tfidfcorpus_m4[ldacorpus_m4], coherence='u_mass').get_coherence())\n",
    "\n",
    "lda_m4_good = models.LdaModel(tfidfcorpus_m4[ldacorpus_m4], id2word=id2word_m4, num_topics=10,iterations=50, passes=5)\n",
    "print(models.CoherenceModel(model=lda_m4_good, corpus=tfidfcorpus_m4[ldacorpus_m4], coherence='u_mass').get_coherence())"
   ]
  },
  {
   "cell_type": "code",
   "execution_count": 36,
   "metadata": {
    "scrolled": true
   },
   "outputs": [
    {
     "name": "stderr",
     "output_type": "stream",
     "text": [
      "/usr/local/lib/python3.8/dist-packages/ipykernel/ipkernel.py:283: DeprecationWarning: `should_run_async` will not call `transform_cell` automatically in the future. Please pass the result to `transformed_cell` argument and any exception that happen during thetransform in `preprocessing_exc_tuple` in IPython 7.17 and above.\n",
      "  and should_run_async(code)\n"
     ]
    },
    {
     "data": {
      "text/plain": [
       "[([(0.0015927439, 'indonesia'),\n",
       "   (0.0015691238, 'freedom'),\n",
       "   (0.0012362808, '–'),\n",
       "   (0.0012297006, 'trade'),\n",
       "   (0.0011735746, 'climate'),\n",
       "   (0.0011655566, 'sustainable'),\n",
       "   (0.0011528933, 'water'),\n",
       "   (0.0011520458, 'un'),\n",
       "   (0.0011467681, 'delta'),\n",
       "   (0.0011433653, 'peace'),\n",
       "   (0.001134212, 'war'),\n",
       "   (0.00110858, 'security'),\n",
       "   (0.0010662831, 'china'),\n",
       "   (0.0010655049, 'it’s'),\n",
       "   (0.0010596846, 'victims'),\n",
       "   (0.001050576, 'how'),\n",
       "   (0.0010377738, 'internet'),\n",
       "   (0.0010226216, 'must'),\n",
       "   (0.0010214112, 'we’re'),\n",
       "   (0.0010187752, 'states')],\n",
       "  -3.1254549462952683),\n",
       " ([(0.0015049494, 'indonesia'),\n",
       "   (0.0014844656, 'sustainable'),\n",
       "   (0.0012688893, 'security'),\n",
       "   (0.001240517, 'water'),\n",
       "   (0.0012137613, 'indonesian'),\n",
       "   (0.0012030517, 'victims'),\n",
       "   (0.0011978007, 'nuclear'),\n",
       "   (0.0011513181, 'europe'),\n",
       "   (0.0011123607, 'climate'),\n",
       "   (0.0011046436, 'he'),\n",
       "   (0.0011024382, 'internet'),\n",
       "   (0.0010786608, 'development'),\n",
       "   (0.0010590154, 'year'),\n",
       "   (0.0010387971, 'peace'),\n",
       "   (0.0010362499, 'forum'),\n",
       "   (0.0010272376, 'china'),\n",
       "   (0.0010221817, 'freedom'),\n",
       "   (0.0010195926, 'do'),\n",
       "   (0.0010085511, '–'),\n",
       "   (0.0009940179, 'energy')],\n",
       "  -3.522719433846291),\n",
       " ([(0.0016414383, 'indonesia'),\n",
       "   (0.0012776012, 'freedom'),\n",
       "   (0.0012133664, 'peace'),\n",
       "   (0.0012019969, 'nuclear'),\n",
       "   (0.0011522083, 'vietnam'),\n",
       "   (0.0011281809, 'she'),\n",
       "   (0.0011192464, 'un'),\n",
       "   (0.0011015536, 'security'),\n",
       "   (0.0010821244, 'he'),\n",
       "   (0.0010650649, 'european'),\n",
       "   (0.0010610236, 'victims'),\n",
       "   (0.0010512467, 'investment'),\n",
       "   (0.0010458427, 'united'),\n",
       "   (0.0010401773, 'that’s'),\n",
       "   (0.0010278021, '–'),\n",
       "   (0.0010233034, 'sustainable'),\n",
       "   (0.0010055469, 'states'),\n",
       "   (0.0010044834, 'never'),\n",
       "   (0.0009978137, 'climate'),\n",
       "   (0.0009828161, 'growth')],\n",
       "  -3.5565496047203493),\n",
       " ([(0.0015274727, 'indonesia'),\n",
       "   (0.0014609265, '–'),\n",
       "   (0.0013016061, 'trade'),\n",
       "   (0.0012455343, 'vietnam'),\n",
       "   (0.0012273524, 'it’s'),\n",
       "   (0.0011761377, 'development'),\n",
       "   (0.0011679268, 'indonesian'),\n",
       "   (0.0011668766, 'sustainable'),\n",
       "   (0.0011469567, 'freedom'),\n",
       "   (0.0011415085, 'climate'),\n",
       "   (0.0011014997, 'europe'),\n",
       "   (0.0011014544, 'investment'),\n",
       "   (0.0010967249, 'security'),\n",
       "   (0.0010852182, 'ties'),\n",
       "   (0.0010393825, 'states'),\n",
       "   (0.0010307278, 'un'),\n",
       "   (0.0010303354, 'nuclear'),\n",
       "   (0.0010283183, 'internet'),\n",
       "   (0.0010197114, 'that’s'),\n",
       "   (0.0010148404, 'united')],\n",
       "  -3.6764231053281646),\n",
       " ([(0.0016519751, 'indonesia'),\n",
       "   (0.0014849212, 'vietnam'),\n",
       "   (0.0012977754, 'it’s'),\n",
       "   (0.0012513954, 'freedom'),\n",
       "   (0.0012313307, '–'),\n",
       "   (0.0011627291, 'security'),\n",
       "   (0.0011331165, 'water'),\n",
       "   (0.0011306981, 'women'),\n",
       "   (0.0011140794, 'men'),\n",
       "   (0.0010986911, 'trade'),\n",
       "   (0.001056976, 'peace'),\n",
       "   (0.001051147, 'development'),\n",
       "   (0.0010412252, 'investment'),\n",
       "   (0.0010393753, 'indonesian'),\n",
       "   (0.0010336253, 'climate'),\n",
       "   (0.0010230489, 'states'),\n",
       "   (0.0010121029, 'un'),\n",
       "   (0.0010115138, 'war'),\n",
       "   (0.0010020979, 'european'),\n",
       "   (0.0009861463, 'internet')],\n",
       "  -3.845624584392657),\n",
       " ([(0.0016169096, 'indonesia'),\n",
       "   (0.0013951676, '–'),\n",
       "   (0.0012350742, 'european'),\n",
       "   (0.001204461, 'security'),\n",
       "   (0.0012011979, 'investment'),\n",
       "   (0.0011778532, 'peace'),\n",
       "   (0.0011714563, 'climate'),\n",
       "   (0.0011503943, 'president'),\n",
       "   (0.0011252599, 'china'),\n",
       "   (0.0011180593, 'it’s'),\n",
       "   (0.0011089513, 'victims'),\n",
       "   (0.0011048692, 'vietnam'),\n",
       "   (0.001098125, 'freedom'),\n",
       "   (0.0010907006, 'nuclear'),\n",
       "   (0.0010898815, 'trade'),\n",
       "   (0.0010854732, 'internet'),\n",
       "   (0.001074538, 'how'),\n",
       "   (0.0010732011, 'europe'),\n",
       "   (0.0010721125, 'delta'),\n",
       "   (0.0010213761, 'that’s')],\n",
       "  -4.280340433281219),\n",
       " ([(0.0014601978, '–'),\n",
       "   (0.0014191027, 'indonesia'),\n",
       "   (0.0013202967, 'delta'),\n",
       "   (0.0012956457, 'development'),\n",
       "   (0.0012461946, 'peace'),\n",
       "   (0.0012126513, 'europe'),\n",
       "   (0.0012104244, 'freedom'),\n",
       "   (0.0012049244, 'he'),\n",
       "   (0.001181879, 'internet'),\n",
       "   (0.0011584338, 'change'),\n",
       "   (0.0011388817, 'sustainable'),\n",
       "   (0.0011351601, 'it’s'),\n",
       "   (0.0011176555, 'security'),\n",
       "   (0.0010638819, 'trade'),\n",
       "   (0.0010613976, 'states'),\n",
       "   (0.0010451251, 'victims'),\n",
       "   (0.0010311129, 'european'),\n",
       "   (0.00100774, 'atlanta'),\n",
       "   (0.0009981868, 'vietnam'),\n",
       "   (0.0009929886, 'summit')],\n",
       "  -4.728842854560624),\n",
       " ([(0.0014829746, 'indonesia'),\n",
       "   (0.0014511539, 'nuclear'),\n",
       "   (0.0013382635, '–'),\n",
       "   (0.0012247144, 'sustainable'),\n",
       "   (0.0011886731, 'freedom'),\n",
       "   (0.0011428642, 'water'),\n",
       "   (0.0011166119, 'security'),\n",
       "   (0.0011131061, 'china'),\n",
       "   (0.0011122733, 'energy'),\n",
       "   (0.0011090322, 'europe'),\n",
       "   (0.0010869771, 'vietnam'),\n",
       "   (0.0010864248, 'victims'),\n",
       "   (0.0010747287, 'delta'),\n",
       "   (0.0010501725, 'internet'),\n",
       "   (0.0010175811, 'president'),\n",
       "   (0.0010127091, 'states'),\n",
       "   (0.0010124919, 'need'),\n",
       "   (0.001006157, 'that’s'),\n",
       "   (0.0010029488, 'she'),\n",
       "   (0.0009856226, 'peace')],\n",
       "  -5.168559852599767),\n",
       " ([(0.0021005357, 'indonesia'),\n",
       "   (0.0016226622, 'freedom'),\n",
       "   (0.001341375, 'security'),\n",
       "   (0.0013055939, 'nuclear'),\n",
       "   (0.0012932089, 'it’s'),\n",
       "   (0.0012813259, 'victims'),\n",
       "   (0.0012170578, 'development'),\n",
       "   (0.001215962, 'peace'),\n",
       "   (0.0011923346, 'delta'),\n",
       "   (0.0011505153, 'indonesian'),\n",
       "   (0.0011498358, '–'),\n",
       "   (0.0011408923, 'trade'),\n",
       "   (0.001137593, 'he'),\n",
       "   (0.0010834291, 'war'),\n",
       "   (0.0010535422, 'she'),\n",
       "   (0.0010460773, 'her'),\n",
       "   (0.0010360372, 'un'),\n",
       "   (0.0010263496, 'georgia'),\n",
       "   (0.0010235376, 'vietnam'),\n",
       "   (0.0010156401, 'summit')],\n",
       "  -5.905843459496965),\n",
       " ([(0.0014652072, 'freedom'),\n",
       "   (0.0014203216, 'climate'),\n",
       "   (0.0013801445, 'indonesia'),\n",
       "   (0.0012262891, 'peace'),\n",
       "   (0.0011598971, 'women'),\n",
       "   (0.0011577045, 'water'),\n",
       "   (0.0011398396, 'it’s'),\n",
       "   (0.0011391949, 'security'),\n",
       "   (0.0010981177, 'trade'),\n",
       "   (0.0010606605, 'that’s'),\n",
       "   (0.0010517936, 'delta'),\n",
       "   (0.001046921, 'vietnam'),\n",
       "   (0.001044125, 'china'),\n",
       "   (0.0010436452, 'malaysia'),\n",
       "   (0.0010340363, 'victims'),\n",
       "   (0.0010275563, 'justice'),\n",
       "   (0.0010271918, 'war'),\n",
       "   (0.0010228119, 'her'),\n",
       "   (0.0010190142, 'nuclear'),\n",
       "   (0.0010111476, 'european')],\n",
       "  -6.85013608904823)]"
      ]
     },
     "execution_count": 36,
     "metadata": {},
     "output_type": "execute_result"
    }
   ],
   "source": [
    "lda_m4_bad.top_topics(tfidfcorpus_m4[ldacorpus_m4])"
   ]
  },
  {
   "cell_type": "code",
   "execution_count": 37,
   "metadata": {
    "scrolled": true
   },
   "outputs": [
    {
     "name": "stderr",
     "output_type": "stream",
     "text": [
      "/usr/local/lib/python3.8/dist-packages/ipykernel/ipkernel.py:283: DeprecationWarning: `should_run_async` will not call `transform_cell` automatically in the future. Please pass the result to `transformed_cell` argument and any exception that happen during thetransform in `preprocessing_exc_tuple` in IPython 7.17 and above.\n",
      "  and should_run_async(code)\n"
     ]
    },
    {
     "data": {
      "text/plain": [
       "[([(0.007529624, 'victims'),\n",
       "   (0.0062850136, 'tragedy'),\n",
       "   (0.0057770866, 'mh17'),\n",
       "   (0.0044209827, 'site'),\n",
       "   (0.0036590172, 'crash'),\n",
       "   (0.003550301, 'disaster'),\n",
       "   (0.003508007, 'ones'),\n",
       "   (0.0034898673, 'flight'),\n",
       "   (0.003452674, 'loved'),\n",
       "   (0.0033613795, 'belongings'),\n",
       "   (0.003183097, 'loss'),\n",
       "   (0.0031270878, 'pain'),\n",
       "   (0.0031039037, 'conditions'),\n",
       "   (0.0030955018, 'aftermath'),\n",
       "   (0.0030055253, 'crew'),\n",
       "   (0.0029578602, 'cause'),\n",
       "   (0.002854154, 'remains'),\n",
       "   (0.0027704875, 'lives'),\n",
       "   (0.0027650418, 'remembrance'),\n",
       "   (0.0027307656, 'malaysia')],\n",
       "  -0.7430723584797088),\n",
       " ([(0.0032171027, 'freedom'),\n",
       "   (0.0029204057, 'nuclear'),\n",
       "   (0.002613172, 'indonesia'),\n",
       "   (0.0025487137, 'peace'),\n",
       "   (0.0024812282, 'security'),\n",
       "   (0.0023340185, 'european'),\n",
       "   (0.0022839066, 'climate'),\n",
       "   (0.0022286226, '–'),\n",
       "   (0.0020983045, 'he'),\n",
       "   (0.0020802752, 'summit'),\n",
       "   (0.0020467364, 'how'),\n",
       "   (0.001957559, 'president'),\n",
       "   (0.0018926329, 'sustainable'),\n",
       "   (0.0018709439, 'states'),\n",
       "   (0.001868863, 'energy'),\n",
       "   (0.0018117515, 'china'),\n",
       "   (0.0017744935, 'her'),\n",
       "   (0.0017540317, 'his'),\n",
       "   (0.001753283, 'need'),\n",
       "   (0.0017506869, 'human')],\n",
       "  -2.403370064886198),\n",
       " ([(0.005371171, 'indonesian'),\n",
       "   (0.0038307665, 'women'),\n",
       "   (0.0037046336, 'that’s'),\n",
       "   (0.0036808269, 'indonesia'),\n",
       "   (0.0032929655, 'it’s'),\n",
       "   (0.0031232557, 'opportunities'),\n",
       "   (0.0028780343, 'research'),\n",
       "   (0.0026845569, 'we’re'),\n",
       "   (0.0025501568, 'cent'),\n",
       "   (0.0025449318, 'sectors'),\n",
       "   (0.0025277522, 'per'),\n",
       "   (0.0023852333, 'culture'),\n",
       "   (0.002382398, 'agricultural'),\n",
       "   (0.002298895, 'foreign'),\n",
       "   (0.0022947853, 'level'),\n",
       "   (0.002260336, 'innovation'),\n",
       "   (0.0022430292, 'university'),\n",
       "   (0.0021882583, 'i’m'),\n",
       "   (0.002181157, 'lot'),\n",
       "   (0.0021419206, 'terrorist')],\n",
       "  -2.464814002979052),\n",
       " ([(0.005542131, 'flanders'),\n",
       "   (0.005258481, 'atlanta'),\n",
       "   (0.004769262, 'investment'),\n",
       "   (0.004392701, 'cyber'),\n",
       "   (0.0040362566, 'region'),\n",
       "   (0.003654653, 'georgia'),\n",
       "   (0.0031474323, 'internet'),\n",
       "   (0.002913039, 'flemish'),\n",
       "   (0.0028910304, 'jobs'),\n",
       "   (0.0027844214, 'delta'),\n",
       "   (0.002721651, 'fintech'),\n",
       "   (0.002533376, 'logistics'),\n",
       "   (0.0025329832, 'information'),\n",
       "   (0.0024654365, 'meeting'),\n",
       "   (0.0023420835, 'state'),\n",
       "   (0.0023409417, 'trade'),\n",
       "   (0.0022078129, 'created'),\n",
       "   (0.0021980994, 'amsterdam'),\n",
       "   (0.0020667885, 'weve'),\n",
       "   (0.0019700734, 'famous')],\n",
       "  -2.490697163884985),\n",
       " ([(0.005420954, 'malaysia'),\n",
       "   (0.004884425, 'india'),\n",
       "   (0.0021648426, 'delta'),\n",
       "   (0.0018013911, 'pleasure'),\n",
       "   (0.0017763814, 'immense'),\n",
       "   (0.0017598505, 'known'),\n",
       "   (0.0016436505, 'mh17'),\n",
       "   (0.0015847384, 'entrepreneurs'),\n",
       "   (0.0015327211, 'afternoon'),\n",
       "   (0.0015188479, 'integrated'),\n",
       "   (0.0015157508, 'evening'),\n",
       "   (0.0014189277, 'collaboration'),\n",
       "   (0.0013944306, 'uk'),\n",
       "   (0.001362429, 'firms'),\n",
       "   (0.0013382687, 'exporters'),\n",
       "   (0.0012732476, 'disaster'),\n",
       "   (0.0012606877, 'express'),\n",
       "   (0.0012414667, 'faraway'),\n",
       "   (0.0012368741, '8'),\n",
       "   (0.0012354732, 'language')],\n",
       "  -7.390107375543472),\n",
       " ([(0.002672431, 'africa'),\n",
       "   (0.0016827736, 'house'),\n",
       "   (0.0015179346, 'south'),\n",
       "   (0.0009873211, 'african'),\n",
       "   (0.0009379241, 'liberation'),\n",
       "   (0.0009073089, 'collective'),\n",
       "   (0.00084450643, 'her'),\n",
       "   (0.0008170583, 'old'),\n",
       "   (0.0008048399, 'pension'),\n",
       "   (0.00080368307, 'she'),\n",
       "   (0.0007503658, 'standing'),\n",
       "   (0.00074324704, 'klm'),\n",
       "   (0.0007292632, 'unilever'),\n",
       "   (0.00070768525, 'general'),\n",
       "   (0.00070510845, 'knew'),\n",
       "   (0.00069434586, 'truly'),\n",
       "   (0.00069026183, 'country’s'),\n",
       "   (0.00068786676, 'democracy'),\n",
       "   (0.00068121636, 'solidarity'),\n",
       "   (0.00067767664, 'allied')],\n",
       "  -7.627651335122109),\n",
       " ([(0.0026440348, 'him'),\n",
       "   (0.0016569122, 'liberation'),\n",
       "   (0.0015468312, 'seventeen'),\n",
       "   (0.0014214226, 'gift'),\n",
       "   (0.0014100285, 'brazil'),\n",
       "   (0.0012254748, 'fellow'),\n",
       "   (0.0011670149, 'his'),\n",
       "   (0.0010882601, 'labour'),\n",
       "   (0.0010486421, 'priorities'),\n",
       "   (0.0010062901, 'july'),\n",
       "   (0.00094952795, 'he'),\n",
       "   (0.00092325587, 'became'),\n",
       "   (0.000892734, 'month'),\n",
       "   (0.00088035053, 'freedoms'),\n",
       "   (0.00087132, 'grew'),\n",
       "   (0.0008559168, 'turned'),\n",
       "   (0.00084617705, 'driven'),\n",
       "   (0.0008449535, 'old'),\n",
       "   (0.0008437592, 'fought'),\n",
       "   (0.00079585245, 'week')],\n",
       "  -7.733674079246097),\n",
       " ([(0.008871705, 'vietnam'),\n",
       "   (0.0043888777, 'internet'),\n",
       "   (0.0042596958, 'missions'),\n",
       "   (0.0033187657, 'delta'),\n",
       "   (0.0032885144, 'sustainable'),\n",
       "   (0.003270533, 'un'),\n",
       "   (0.0028387355, 'plan'),\n",
       "   (0.0026948836, 'decade'),\n",
       "   (0.0025883843, 'vietnamese'),\n",
       "   (0.0022296098, 'square'),\n",
       "   (0.0022000058, 'conflict'),\n",
       "   (0.002093686, 'thats'),\n",
       "   (0.0020484123, 'strategic'),\n",
       "   (0.0020423257, 'operations'),\n",
       "   (0.001997367, 'town'),\n",
       "   (0.0019472518, 'goals'),\n",
       "   (0.0019435486, 'affairs'),\n",
       "   (0.0018891265, 'leading'),\n",
       "   (0.00183787, 'challenges'),\n",
       "   (0.0017825618, 'ready')],\n",
       "  -7.8623101866594505),\n",
       " ([(0.0039472007, 'girls'),\n",
       "   (0.0035796785, 'school'),\n",
       "   (0.0030489028, 'she'),\n",
       "   (0.0025752983, 'children'),\n",
       "   (0.0025095984, 'fifteen'),\n",
       "   (0.0023082225, 'africa'),\n",
       "   (0.0021922793, 'african'),\n",
       "   (0.0019592561, 'education'),\n",
       "   (0.0018889104, 'publicprivate'),\n",
       "   (0.0017719278, 'missing'),\n",
       "   (0.0017167047, 'her'),\n",
       "   (0.0016213906, 'child'),\n",
       "   (0.0015225969, 'indonesia'),\n",
       "   (0.0014875114, 'difference'),\n",
       "   (0.0014830208, 'farmers'),\n",
       "   (0.0014387815, 'fixed'),\n",
       "   (0.0013280842, 'simple'),\n",
       "   (0.0013165768, 'placed'),\n",
       "   (0.0012974126, 'read'),\n",
       "   (0.0012439555, 'secretarygeneral')],\n",
       "  -9.018106070113923),\n",
       " ([(0.0018037752, 'indonesia'),\n",
       "   (0.0017090717, 'yesterday'),\n",
       "   (0.0016644158, 'vietnam'),\n",
       "   (0.0012893544, 'russia'),\n",
       "   (0.0012047429, 'answer'),\n",
       "   (0.0011989087, 'square'),\n",
       "   (0.0011294555, 'transport'),\n",
       "   (0.0010980148, 'solidarity'),\n",
       "   (0.0010938621, 'police'),\n",
       "   (0.001021033, 'tonight'),\n",
       "   (0.0009501288, 'full'),\n",
       "   (0.00092255656, 'gathered'),\n",
       "   (0.00091414846, 'victims'),\n",
       "   (0.00090948737, 'maritime'),\n",
       "   (0.0008864586, 'indonesian'),\n",
       "   (0.0008802055, 'binds'),\n",
       "   (0.00087894045, 'protecting'),\n",
       "   (0.00087870593, 'france'),\n",
       "   (0.00087318453, 'vietnamese'),\n",
       "   (0.00086892303, 'cold')],\n",
       "  -12.231634092177448)]"
      ]
     },
     "execution_count": 37,
     "metadata": {},
     "output_type": "execute_result"
    }
   ],
   "source": [
    "lda_m4_good.top_topics(tfidfcorpus_m4[ldacorpus_m4])"
   ]
  },
  {
   "cell_type": "code",
   "execution_count": 38,
   "metadata": {},
   "outputs": [
    {
     "name": "stderr",
     "output_type": "stream",
     "text": [
      "/usr/local/lib/python3.8/dist-packages/ipykernel/ipkernel.py:283: DeprecationWarning: `should_run_async` will not call `transform_cell` automatically in the future. Please pass the result to `transformed_cell` argument and any exception that happen during thetransform in `preprocessing_exc_tuple` in IPython 7.17 and above.\n",
      "  and should_run_async(code)\n"
     ]
    }
   ],
   "source": [
    "lda_m3.top_topics?"
   ]
  },
  {
   "cell_type": "code",
   "execution_count": 39,
   "metadata": {},
   "outputs": [
    {
     "name": "stderr",
     "output_type": "stream",
     "text": [
      "/usr/local/lib/python3.8/dist-packages/ipykernel/ipkernel.py:283: DeprecationWarning: `should_run_async` will not call `transform_cell` automatically in the future. Please pass the result to `transformed_cell` argument and any exception that happen during thetransform in `preprocessing_exc_tuple` in IPython 7.17 and above.\n",
      "  and should_run_async(code)\n"
     ]
    }
   ],
   "source": [
    "a= cm1.get_coherence_per_topic()"
   ]
  },
  {
   "cell_type": "code",
   "execution_count": 40,
   "metadata": {},
   "outputs": [
    {
     "name": "stderr",
     "output_type": "stream",
     "text": [
      "/usr/local/lib/python3.8/dist-packages/ipykernel/ipkernel.py:283: DeprecationWarning: `should_run_async` will not call `transform_cell` automatically in the future. Please pass the result to `transformed_cell` argument and any exception that happen during thetransform in `preprocessing_exc_tuple` in IPython 7.17 and above.\n",
      "  and should_run_async(code)\n"
     ]
    },
    {
     "data": {
      "text/plain": [
       "-0.04556810236723935"
      ]
     },
     "execution_count": 40,
     "metadata": {},
     "output_type": "execute_result"
    }
   ],
   "source": [
    "a[2]"
   ]
  },
  {
   "cell_type": "markdown",
   "metadata": {},
   "source": []
  },
  {
   "cell_type": "code",
   "execution_count": null,
   "metadata": {},
   "outputs": [],
   "source": []
  },
  {
   "cell_type": "code",
   "execution_count": null,
   "metadata": {},
   "outputs": [],
   "source": []
  },
  {
   "cell_type": "markdown",
   "metadata": {},
   "source": [
    "# 6. Visualizing and interactively exploring topic models (Damian/Cornelius)\n",
    "A great tool for interactively exploring topicmodels is pyLDAvis.\n",
    "pyLDAvis can estimate its own topic models, but it als has a nice function called `gensim.prepare`, which you can use to visualize the model you already estimated with gensim."
   ]
  },
  {
   "cell_type": "code",
   "execution_count": 41,
   "metadata": {},
   "outputs": [
    {
     "name": "stderr",
     "output_type": "stream",
     "text": [
      "/usr/local/lib/python3.8/dist-packages/ipykernel/ipkernel.py:283: DeprecationWarning: `should_run_async` will not call `transform_cell` automatically in the future. Please pass the result to `transformed_cell` argument and any exception that happen during thetransform in `preprocessing_exc_tuple` in IPython 7.17 and above.\n",
      "  and should_run_async(code)\n"
     ]
    },
    {
     "data": {
      "text/html": [
       "\n",
       "<link rel=\"stylesheet\" type=\"text/css\" href=\"https://cdn.jsdelivr.net/gh/bmabey/pyLDAvis@3.3.1/pyLDAvis/js/ldavis.v1.0.0.css\">\n",
       "\n",
       "\n",
       "<div id=\"ldavis_el462621405693002705441663097681\"></div>\n",
       "<script type=\"text/javascript\">\n",
       "\n",
       "var ldavis_el462621405693002705441663097681_data = {\"mdsDat\": {\"x\": [0.02682008896925042, -0.015352198884102917, -0.009526275294258358, -0.005179736895225512, 0.002135255381050449, -0.002564796062786369, 0.01801907807901331, -0.006376083773969637, -0.005957322314520847, -0.0020180092044505306], \"y\": [0.00230279722316964, 0.005254094885523739, -0.004998297384066625, -0.020391392269963286, 0.0001225430239656513, 0.017012064871287716, -0.004063544746834172, -0.0002909789150281095, 0.0023870298749500214, 0.0026656834369954735], \"topics\": [1, 2, 3, 4, 5, 6, 7, 8, 9, 10], \"cluster\": [1, 1, 1, 1, 1, 1, 1, 1, 1, 1], \"Freq\": [34.296224782109256, 32.24661005546498, 7.952870504155239, 6.686484346002214, 5.83057217427738, 5.3414090229391675, 3.7754315053319316, 1.7242463341479413, 1.6746534062826446, 0.47149786928924]}, \"tinfo\": {\"Term\": [\"indonesia\", \"internet\", \"vietnam\", \"atlanta\", \"cyber\", \"nuclear\", \"china\", \"georgia\", \"security\", \"freedom\", \"culture\", \"malaysia\", \"sustainable\", \"europe\", \"summit\", \"\\u2013\", \"flanders\", \"un\", \"indonesian\", \"american\", \"crisis\", \"india\", \"energy\", \"water\", \"peace\", \"missions\", \"development\", \"russia\", \"european\", \"states\", \"delta\", \"atlanta\", \"flanders\", \"netherlands_flanders\", \"malaysia\", \"school\", \"georgia\", \"flemish\", \"town\", \"flanders_netherlands\", \"tragedy\", \"girls\", \"fintech\", \"africa\", \"brazil\", \"site\", \"children\", \"delta_region\", \"immense\", \"solution\", \"forum\", \"award\", \"vision\", \"plan\", \"region\", \"disaster\", \"african\", \"downing\", \"antwerp\", \"startups\", \"weve\", \"internet\", \"victims\", \"thats\", \"mh17\", \"china\", \"water\", \"food\", \"want\", \"education\", \"terrorist\", \"states\", \"that\\u2019s\", \"development\", \"peace\", \"trade\", \"indonesia\", \"culture\", \"dday\", \"nato\", \"liberation\", \"seventy\", \"allied\", \"seventy_years\", \"general\", \"instance\", \"court\", \"comfort\", \"palace\", \"news\", \"legal_order\", \"defence\", \"says\", \"feeling\", \"ever_closer\", \"united_nations\", \"choice\", \"america\", \"rule\", \"significance\", \"perfectly\", \"lines\", \"rule_law\", \"thought\", \"grateful\", \"bond\", \"veterans\", \"american\", \"law\", \"europe\", \"women\", \"day\", \"freedom\", \"it\\u2019s\", \"legal\", \"\\u2013\", \"men\", \"innovation\", \"never\", \"crisis\", \"that\\u2019s\", \"responsibility\", \"russia\", \"european\", \"development\", \"jobs\", \"need\", \"sustainable\", \"india\", \"drinking\", \"drinking_water\", \"business_netherlands\", \"\\u2212\", \"recovery\", \"trading_partners\", \"nuclear\", \"terrorists\", \"driving\", \"unilever\", \"trading\", \"foremost\", \"400\", \"first_foremost\", \"lets\", \"mrs\", \"uk\", \"tonight\", \"targets\", \"advance\", \"prevent\", \"international_efforts\", \"effects_climate\", \"running\", \"today_tomorrow\", \"conclude\", \"climate_agreement\", \"effects\", \"nuclear_material\", \"they\\u2019re\", \"climate\", \"water\", \"sustainable\", \"summit\", \"women\", \"act\", \"men\", \"governments\", \"we\\u2019re\", \"without\", \"indonesia\", \"easy\", \"climate_change\", \"special\", \"goals\", \"back\", \"change\", \"efforts\", \"responsibility\", \"delta\", \"that\\u2019s\", \"\\u2013\", \"vietnam\", \"maritime\", \"vietnamese\", \"tenfold\", \"thirdbiggest\", \"numbers\", \"last_decade\", \"trade_agreement\", \"affairs\", \"business_people\", \"increased\", \"36\", \"seventeen\", \"dutch_firms\", \"operate\", \"strategic\", \"chinas\", \"firms\", \"coastal\", \"representatives\", \"fellow\", \"agreement_eu\", \"biggest_investor\", \"footsteps\", \"decade\", \"country_many\", \"vietnam_netherlands\", \"paid\", \"netherlands_remain\", \"round\", \"ready\", \"indonesian\", \"fought\", \"freedom\", \"fighting\", \"challenges\", \"water\", \"sector\", \"security\", \"remain\", \"agricultural\", \"war\", \"climate\", \"forum\", \"peace\", \"must\", \"trade\", \"committed\", \"yesterday\", \"development\", \"goals\", \"act\", \"victims\", \"roosevelt_said\", \"2010\", \"russia\", \"applications\", \"roosevelt\", \"freedoms\", \"sacrifices\", \"finally\", \"royal\", \"forever\", \"missing\", \"65\", \"hold\", \"hit\", \"800\", \"holland\", \"deepest\", \"hit_hard\", \"ministerial\", \"happy\", \"quality_life\", \"business_people\", \"let\\u2019s\", \"make_new\", \"trip\", \"forty\", \"name\", \"evening\", \"flag\", \"ive\", \"australia\", \"indonesian\", \"office\", \"european\", \"human_rights\", \"thousand\", \"chinese\", \"street\", \"space\", \"human\", \"terrorist\", \"freedom\", \"investment\", \"threat\", \"rights\", \"climate\", \"energy\", \"foreign\", \"united_states\", \"innovative\", \"best\", \"court\", \"\\u2013\", \"thats\", \"states\", \"individuals\", \"york\", \"new_york\", \"house\", \"japanese\", \"south\", \"50\", \"japan\", \"japan_netherlands\", \"watching\", \"lost\", \"coming\", \"nuclear\", \"producers\", \"terrorism\", \"production\", \"honour_memory\", \"unity\", \"memories\", \"\\u2212\", \"parents\", \"shock\", \"atlantic\", \"since_first\", \"world_trade\", \"thank_coming\", \"games\", \"require\", \"glad\", \"plane\", \"africa\", \"remember\", \"2020\", \"healthy\", \"commerce\", \"afghanistan\", \"war\", \"president_obama\", \"american\", \"indonesia\", \"obama\", \"july\", \"victims\", \"\\u2013\", \"day\", \"shared\", \"it\\u2019s\", \"lives\", \"trade\", \"cyber\", \"missions\", \"internet\", \"cyber_security\", \"crime\", \"dutchmen\", \"decade\", \"network\", \"belief\", \"id\", \"warm_welcome\", \"id_like\", \"ignore\", \"startups\", \"conflict\", \"seat_un\", \"un_security\", \"council\", \"un\", \"2018\", \"japan\", \"expectations\", \"infrastructure\", \"2017_2018\", \"security_council\", \"netherlands_believes\", \"council_2017\", \"affects\", \"anywhere\", \"roosevelt_said\", \"2017\", \"attacks\", \"secretarygeneral\", \"malaysia\", \"security\", \"effective\", \"fintech\", \"atlanta\", \"mh17\", \"peace\", \"thats\", \"keep\", \"information\", \"tragedy\", \"investment\", \"victims\", \"part\", \"challenges\", \"independent\", \"private_sector\", \"mdgs\", \"struggle\", \"gave\", \"enable\", \"shock\", \"seminar\", \"developing_countries\", \"lady\", \"poorest\", \"particular\", \"applies\", \"finance\", \"personally\", \"private\", \"movement\", \"pension\", \"statement\", \"mortality\", \"legislation\", \"combine\", \"socially\", \"good_reason\", \"achievements\", \"sector\", \"knowledge_experience\", \"solidarity\", \"recognition\", \"20_per\", \"equal\", \"heroes\", \"relatives\", \"book\", \"battle\", \"indonesia\", \"general\", \"sustainable\", \"years_ago\", \"partnerships\", \"europe\", \"growth\", \"energy\", \"development\", \"women\", \"democracy\", \"\\u2013\", \"freedom\", \"china\", \"japan\", \"head\", \"japan_netherlands\", \"india\", \"nuclear\", \"today_tomorrow\", \"congratulate\", \"material\", \"ageold\", \"worlds\", \"nuclear_material\", \"dutch_firms\", \"stable_world\", \"earlier_today\", \"chinas\", \"wide_range\", \"70\", \"summit\", \"nuclear_security\", \"agricultural\", \"need_take\", \"produced\", \"green\", \"range\", \"china_netherlands\", \"amounts\", \"modern\", \"heritage\", \"friendship_two\", \"played\", \"production\", \"office\", \"amsterdam\", \"they\\u2019re\", \"security_summit\", \"billion_euros\", \"agriculture\", \"china\", \"chinese\", \"partnership\", \"united_states\", \"research\", \"american\", \"back\", \"peace\", \"welcome\", \"material\", \"price\", \"nuclear\", \"arena\", \"selfinterest\", \"producers\", \"pursuit\", \"profit\", \"nuclear_material\", \"binding\", \"measures\", \"existing\", \"aviation\", \"summit\", \"step_towards\", \"lose\", \"whole_world\", \"financial_sector\", \"chinas\", \"terrorism\", \"tax\", \"reduce\", \"related\", \"conclude\", \"intensive\", \"hands\", \"terrorists\", \"launch\", \"2006\", \"jakarta\", \"culture\", \"love\", \"indonesia\", \"financial\", \"crisis\", \"agreements\", \"nuclear_security\", \"atlanta\", \"improvement\", \"longterm\", \"talk\", \"system\", \"energy\", \"georgia\", \"america\", \"china\", \"could\", \"step\", \"history\", \"change\", \"security\", \"sustainable\", \"europe\", \"shared\", \"political\", \"lives\", \"flanders\", \"indonesian\"], \"Freq\": [59.0, 36.0, 35.0, 38.0, 24.0, 23.0, 41.0, 41.0, 39.0, 52.0, 27.0, 37.0, 41.0, 45.0, 22.0, 52.0, 41.0, 34.0, 30.0, 34.0, 27.0, 20.0, 29.0, 39.0, 44.0, 18.0, 44.0, 31.0, 34.0, 37.0, 45.29637901004861, 30.257873339216975, 31.38245093228099, 20.88600630622061, 26.83223627286592, 28.158218736742082, 28.051217545781082, 15.99750311681831, 18.072968662516548, 15.378684356940841, 21.59011681685701, 22.662068298435333, 13.805240571050735, 20.365442132504416, 12.997511207649193, 17.52302676815946, 20.561940715717036, 16.08246131061454, 13.078072273548223, 12.88440715966691, 25.420072572996954, 13.220937014980429, 11.387204082825606, 18.845193622758583, 22.651401535035504, 16.81690609148858, 14.310550249491213, 11.566385941604223, 11.029961928494815, 13.06114293405238, 15.724704702026461, 20.83223833571445, 23.512940342957087, 18.729085797260332, 19.707261886176518, 20.940501395608425, 20.146379920888943, 15.343553219906259, 18.693287546300347, 15.829701021507946, 16.50579804183238, 17.55188915211724, 18.526900862016895, 17.19862938554484, 17.110605644424734, 16.791158670701, 40.19426866350905, 18.565607534585222, 14.313408759855172, 16.591892367875086, 16.098598400854844, 14.172281775816307, 12.431190168877789, 13.198030505340357, 13.858197572955472, 12.053667023733796, 15.988581480506607, 11.659665401553333, 12.495002471750361, 14.569389758100721, 11.98641814405819, 11.125833601114579, 11.280061393390989, 11.444817124598764, 9.142549617342782, 10.902447812015339, 12.497336390279317, 15.057642527473636, 14.205718290824104, 9.360002291831085, 9.055472801298531, 8.463573472923034, 13.650143629038096, 10.637553451965106, 10.590990408323602, 13.012001517437795, 12.806673105823165, 18.59692833958632, 16.264284214775365, 22.60527286801509, 20.34195931558829, 19.034646338336533, 25.205606579155713, 23.749370848758065, 16.152918218164036, 23.18095175300591, 17.609462593315605, 15.698838728695367, 15.469694889617118, 14.531064708442157, 19.692379924598846, 14.854273844108345, 15.468076993729644, 15.650784731766793, 16.08371541807048, 14.467384326311178, 14.993616994219996, 14.659738042598466, 6.096859146949385, 3.8906807311134193, 3.890598472410368, 3.2837498281750532, 3.6970286019813328, 4.985903797084392, 2.58259485486965, 5.169898508929888, 2.8637540787808087, 2.769431584443205, 3.999078057865652, 3.444669950696462, 2.2803391383567835, 3.1726396012112428, 2.219475269173478, 3.1544802763299296, 2.6847337676098824, 2.0868820155530745, 2.345885205657552, 2.6598660613334597, 2.9105306335074803, 2.968443420562911, 2.522766790549144, 2.4043220338535654, 2.5862375648988025, 2.4073611041463963, 2.2679958311790207, 2.5651844525086545, 2.547385879103658, 2.2943728414198867, 2.706594529504865, 5.933608770422135, 5.694922252229493, 5.920394585034953, 3.5339771196316097, 5.4586416987892825, 3.410632240642574, 4.38853536606392, 3.2308525711457188, 3.9286253203149655, 3.49546899692707, 5.047200854512373, 2.9494377723089102, 3.3818155027487706, 3.0597661323464544, 3.4885457607105583, 3.2388259358797913, 3.43943363176342, 3.292618625955276, 3.210240422698545, 3.373721205443794, 3.227117166607904, 3.1847797171150507, 16.65624134928207, 3.732710348608252, 4.821123517061219, 2.9652614134953708, 2.6210223890192434, 3.016718612108616, 2.6214960154578333, 2.7535330193939616, 3.135039889858711, 2.6972026124627, 2.7529575452068626, 2.621368877812313, 2.6327796105278667, 2.3901280378656447, 2.269124998791633, 3.436697093251713, 3.394809798115768, 2.580666422953364, 1.9763705273071508, 2.8274201201349243, 2.1752900186725124, 1.9043486855008749, 2.107341570686249, 2.202368616767226, 2.3431640109547804, 2.4498017003657835, 2.9993422163401937, 2.422434246916768, 1.9434497909626591, 2.0692701253170767, 2.6184249273520326, 4.437643002388875, 3.1359558314348295, 6.116089424774134, 3.472882978952543, 3.488862064901049, 4.247386935131061, 2.813284444026408, 3.6362488320423627, 2.9760211464130224, 2.8117858025783304, 3.1959561981147293, 3.4714691532815176, 3.4575879245041583, 3.496002761944317, 3.139893141523304, 3.133766104841886, 2.878248168044964, 2.8292268854302645, 3.0052418159886236, 2.9076176523206674, 2.826915354435388, 2.8428731074095444, 2.148244565853519, 2.9215484139028334, 5.694892948443529, 2.5239457835594514, 3.274889164210298, 3.8491900730360236, 2.712863319687046, 2.073407088429551, 2.104008788931464, 2.144330898988994, 2.5149565612277582, 1.6990830350066732, 1.8453020275900414, 2.1511163584320077, 1.705568308640276, 2.159732486256952, 2.0436036331509637, 2.0032327672773125, 2.1147221669391003, 2.6143081629616907, 1.5899843205316795, 1.7691092884957984, 2.0825620805360563, 1.5990902567862724, 1.8787458171270834, 1.5523160270501024, 2.596122093530575, 2.110378248749542, 1.9311637201016556, 1.4931999750478473, 2.5633863884615096, 3.760131949219501, 2.5790239538794943, 4.086545387345844, 3.143697314227077, 2.2844635155235786, 3.0659220363504867, 2.324206406485588, 2.7725407386552265, 3.1959191438118943, 3.3499905231129046, 4.504701669551189, 3.411382946665386, 2.7472237185671675, 2.923032990999251, 2.969949587718495, 2.67502100544639, 2.647361905969763, 2.585532030233252, 2.5962217054133583, 2.4431554460139244, 2.503635010670721, 2.804906499593354, 2.538569828073698, 2.522985669026603, 3.1742197244279966, 4.999543695381873, 4.999763036784605, 3.2161966663876598, 3.0784664824429133, 5.394863420171728, 2.545159850813385, 2.7944933042977693, 2.309807900001636, 2.1023242639170605, 3.549578282113597, 2.3607959804915772, 4.030195425630489, 1.7697370049002652, 2.248453052161524, 3.1045219322305906, 1.9886651497386596, 2.001741250681221, 2.755423323084087, 2.372526347715122, 2.6479048061584822, 1.6106088027450225, 1.671124216194228, 1.9063139972971903, 1.859816780853032, 1.5127150580359106, 1.841514554896883, 1.5404030620360267, 1.7483546539328212, 1.7945739829607366, 4.258902266476767, 3.0244469278543127, 1.9891572935752404, 1.9396225560263325, 2.0821908945711876, 2.481356515234507, 3.080060143411634, 2.219204233430314, 3.293113484401294, 4.448354692423606, 2.232631747885899, 2.472105970235833, 3.459211823099365, 2.9076971064039583, 2.6062640227646603, 2.3770462099037477, 2.62741782438828, 2.3736892969318624, 2.3147895335644337, 7.326441380142511, 4.670953121382461, 7.483952866015281, 3.201722123490705, 2.745602009263674, 1.9185516945682717, 2.1218295668904785, 1.5434455388870436, 1.7674172611464454, 1.632487154247159, 1.4094901356237062, 1.632471806113366, 1.4053462366396579, 2.50614042582381, 2.3773295615837777, 1.5560313971577306, 1.553501286443965, 2.491893277780151, 3.9451208348498996, 1.5787761657580495, 1.6332242532295769, 1.241967198073823, 1.8815621092863895, 1.5459410677297312, 2.070173771228334, 1.2520027404925864, 1.5368855716517178, 1.2731452804930108, 1.5511445707860267, 1.2422004314234256, 1.5299596777075402, 1.6343409756731555, 1.8634952187299965, 3.353344977271466, 3.1829892404957962, 1.8220960563253057, 1.8352711663655428, 2.3058076466683053, 2.222887119629103, 2.3630690082080723, 2.0861066883469634, 1.9778982652219788, 1.8055426083290167, 1.9482831668074168, 1.7841245790410147, 1.7852187649843403, 1.6575104407351415, 1.6420886747558747, 0.940323675443607, 1.1771424451293777, 1.1620727752361313, 0.745045984350754, 0.9624673708759098, 0.6433405967107674, 0.6036241228462997, 0.6117476687622514, 0.6238078588276641, 0.7051446454818258, 0.5746774662323327, 0.7002220102778567, 0.5812571875046026, 0.730232250673186, 0.5392596471812086, 0.9336829092358588, 0.5787861541752418, 0.581480249957789, 0.662299796130308, 0.5941256905964782, 0.48595029398468514, 0.5629732089556858, 0.44370710990566403, 0.5781381284684612, 0.5822395850709031, 0.9017618203950956, 0.5197744231977399, 0.7347638611232997, 0.7021539760120171, 0.4873297941799575, 0.777708396499541, 0.694652902108925, 0.6951636654389836, 0.6743879799124989, 0.703459476968643, 1.297502561700397, 0.7630132479328257, 0.8977707415538962, 0.7242325893801148, 0.6841819654763871, 0.8511709188456378, 0.7161692898467064, 0.7433182263477026, 0.8104267960818845, 0.7735032167436486, 0.6899752008357518, 0.769285703781315, 0.7329758123736533, 0.7026645618858679, 1.5536335422940866, 1.04626435298194, 0.8618119120998571, 1.3349223968042545, 1.4631365745276272, 0.8060601991915984, 0.6810069607502965, 0.8004915859018459, 0.6682776307564986, 0.8595792617476246, 0.6871539449231359, 0.6316770045039961, 0.5950984824206828, 0.5003093417310474, 0.8786668366190055, 0.5153621947726325, 0.8277945867431734, 0.9800369012239792, 0.6761115120516533, 0.9255244006078738, 0.4549206062479929, 0.535542439481173, 0.6319268290126855, 0.5411939110893473, 0.6350601057672332, 0.4548529580109039, 0.5329159643601546, 0.4826037729465413, 0.5275586548631948, 0.5843942907346454, 0.7756671819970209, 0.8133961119032896, 0.9668658325507948, 0.6368304213526088, 0.586950704687825, 0.6442272605657292, 0.6404019897426148, 0.9027519357773505, 0.7312284949086009, 0.7594208330833792, 0.6943881267508989, 0.6939330738643401, 0.710525290548118, 0.6677855652357618, 0.7040579467302106, 0.6566265361034113, 0.3067109932484892, 0.2505177233618534, 0.4301584034694983, 0.17739175752150702, 0.14927927894404575, 0.14504558330457049, 0.1451266090568243, 0.1484524862964405, 0.16452881320128898, 0.13773828329838195, 0.1595225523603194, 0.13971099772052595, 0.12042018427185328, 0.25017549601178896, 0.1356585333601224, 0.12254172695101928, 0.11380382927533936, 0.13199838698177258, 0.19466688705941715, 0.14540079127372638, 0.11074894368924107, 0.12289339254561939, 0.12530269250034473, 0.1270860839864694, 0.11302296618276228, 0.15918732483942855, 0.1297869262197041, 0.10330965383659022, 0.10989182249235682, 0.159103678700517, 0.26360611798599193, 0.1607264016639811, 0.48020492561665656, 0.21302292609363158, 0.2428972507558097, 0.18571154581682636, 0.14761204580165974, 0.2699311490695513, 0.15121246920076933, 0.1747795474406853, 0.15395647502533796, 0.16509784957428167, 0.18865760043669183, 0.20599936786307785, 0.17467862616010443, 0.19782740091694442, 0.1709756437387529, 0.16697885046340594, 0.18121932962329676, 0.1723815903633903, 0.17789282154985556, 0.1786652169114739, 0.1799949418260633, 0.16470464599858903, 0.16272837707046953, 0.16439239538663195, 0.16530809920930356, 0.1634385867746462], \"Total\": [59.0, 36.0, 35.0, 38.0, 24.0, 23.0, 41.0, 41.0, 39.0, 52.0, 27.0, 37.0, 41.0, 45.0, 22.0, 52.0, 41.0, 34.0, 30.0, 34.0, 27.0, 20.0, 29.0, 39.0, 44.0, 18.0, 44.0, 31.0, 34.0, 37.0, 57.44099637733088, 38.70648973709303, 41.44029972959253, 28.79769241318254, 37.41980708714884, 39.810931313395486, 41.19324364708739, 24.382597594297163, 27.704979655157878, 23.841405716426934, 33.53359789254338, 35.20202853814976, 21.657477713810213, 32.096362858654196, 20.52457728506447, 27.73058046646266, 32.642457626935716, 25.645850952855593, 20.94699045609394, 20.646179144088883, 40.89394246298935, 21.356879905764448, 18.43708493397047, 30.532322212541338, 36.887132470474505, 27.47678594424215, 23.45577040864774, 18.987778278582795, 18.189709647848115, 21.79473698182516, 26.270972398634264, 36.12932178040412, 44.35779764799469, 34.05183624440307, 36.65811868713477, 41.25159399667722, 39.78698230731692, 26.62282955257698, 36.844875174590136, 28.480795031768345, 31.07060231146487, 37.595558514948, 47.117757208619736, 44.195892948020976, 44.44846053970023, 41.473741196142534, 59.520615809402436, 27.66990678370594, 21.40338757953247, 25.227244879260507, 24.891810176449933, 22.065606292003444, 19.59410983433917, 21.1983767140379, 22.271665686003754, 19.513924282499964, 25.97991235586258, 18.977750588277136, 20.36339619643826, 23.846134621972, 19.7693843085371, 18.79262286572948, 19.10515268997257, 19.472562069289022, 15.605659732108212, 18.827020572890838, 21.649197540982897, 26.105656690887862, 24.778427784729356, 16.35713363131665, 15.85805804773662, 14.89732396143236, 24.040351147719473, 18.77939646322772, 18.758049550795583, 23.04988463048761, 23.206180274318992, 34.9785813346504, 30.77124708747323, 45.18912651374337, 40.16977612866226, 37.288663186706515, 52.20924071988719, 51.4987784635157, 31.536100295729536, 52.13722152539105, 36.57520449156513, 31.039944070306593, 30.33441034269401, 27.729003470141407, 47.117757208619736, 29.321693177110404, 31.81834493635263, 34.843368535030685, 44.195892948020976, 30.07431979814397, 39.00924920960105, 41.95764052706294, 20.80216994291572, 13.466261093061744, 13.490010655299855, 12.547526093222327, 15.315088963854706, 21.166251971244684, 11.499690105480056, 23.722689513564067, 13.16990777647133, 13.169645451433633, 19.214354125435122, 16.91181201455593, 11.240689522855334, 15.929776156192691, 11.195638914951457, 16.282797396777994, 13.875139469765422, 10.84832979056284, 12.196170616960869, 13.939671547214871, 15.294275414448034, 15.759757510395703, 13.429257954594227, 12.834573381614764, 14.01802574287132, 13.417095184418049, 12.724949422555596, 14.518563053100129, 14.454062479826591, 13.021465108492283, 15.759634487441293, 40.178237356748234, 39.78698230731692, 41.95764052706294, 22.11815100070226, 40.16977612866226, 22.768533221874723, 36.57520449156513, 22.39781514151485, 33.075903399853914, 26.873051944321322, 59.520615809402436, 18.934293010508576, 26.700215306871915, 20.80215917805434, 31.053186557944432, 24.962116952375144, 31.518461295115728, 27.209517308807754, 29.321693177110404, 57.44099637733088, 47.117757208619736, 52.13722152539105, 35.11436225855048, 12.755458852950017, 16.84405406210372, 11.577667781139409, 11.524090571140542, 13.298836253712222, 11.759809669525042, 12.892549851074344, 14.711829718837983, 13.11674458107973, 13.421487220565885, 13.226133895545852, 13.509386111105915, 12.667458702592382, 12.03987002126099, 18.277530191985228, 18.567050262433483, 14.350514127582453, 11.23963047998094, 16.169826480894837, 12.580678300035279, 11.123094560553238, 12.387494843636409, 13.105320524831695, 14.04942776987608, 14.693007256638454, 18.143216686148996, 14.710483195555902, 11.841677508112895, 12.612498992126637, 16.174783309295385, 30.68301736514069, 20.834946638521977, 52.20924071988719, 24.864327983915597, 26.54984297062913, 39.78698230731692, 21.0445112615562, 39.9323323192958, 24.403267117090156, 21.174737125814016, 30.481971161539363, 40.178237356748234, 40.89394246298935, 44.44846053970023, 32.600412578726136, 41.473741196142534, 25.116071804301313, 22.178656918315475, 44.195892948020976, 31.053186557944432, 22.768533221874723, 44.35779764799469, 11.673673291569342, 16.305604221211023, 31.81834493635263, 14.216743494535644, 18.52477318938645, 22.655398978932492, 16.47516674198297, 12.850908496223783, 13.836654253385518, 14.500340852389288, 17.134832541744323, 11.651841348686732, 12.66199784140564, 14.843350446282827, 11.922686289034308, 15.10678928749708, 14.422574182704286, 14.138049250781227, 15.386212231295579, 19.157867433048068, 11.722989697309488, 13.11674458107973, 15.56764572141688, 11.954103380727359, 14.105668067253584, 11.762706017734187, 19.87259281451921, 16.416820481786548, 15.067287776238915, 11.665417995019068, 20.059372578366098, 30.68301736514069, 20.59629906129013, 34.843368535030685, 26.092754624957664, 18.079887129019806, 26.1567849051874, 18.5029769174338, 23.40305446463029, 28.924531626586848, 31.07060231146487, 52.20924071988719, 35.31798617651313, 27.578854095203727, 32.67951821026634, 40.178237356748234, 29.815966410073113, 28.913745180059077, 26.834605508095247, 27.492351975175836, 23.469471925238174, 25.97991235586258, 52.13722152539105, 34.05183624440307, 37.595558514948, 11.816932376994435, 19.070850554427444, 19.105746405143506, 12.712257962267973, 14.20724567846372, 25.529484157890757, 13.05422123756132, 14.963469004696085, 12.394770812242367, 12.004846727094183, 20.358838003660164, 13.709906569491952, 23.722689513564067, 10.562375816110576, 13.953745197313973, 19.278951043524753, 12.361691879103079, 12.475204596247265, 17.417855622486183, 15.315088963854706, 17.16668378747603, 10.975411173218049, 11.476036637909504, 13.614812718858303, 13.564705501429295, 11.160010991066164, 13.64064677977679, 11.462202847202205, 13.100291974102628, 13.50735673987372, 32.096362858654196, 23.20831766857591, 15.017137467713813, 14.74791883638166, 16.20779036940203, 20.834433824218657, 30.481971161539363, 18.161940914519384, 34.9785813346504, 59.520615809402436, 18.396145025104296, 22.600949069816544, 44.35779764799469, 52.13722152539105, 37.288663186706515, 26.148900750931823, 51.4987784635157, 28.128470234249065, 41.473741196142534, 24.181598943086975, 18.566509405161618, 36.12932178040412, 18.48464435136303, 15.999288026752339, 11.838045771718935, 14.04942776987608, 12.207903686786636, 14.605328199229554, 13.78451528005888, 11.981648926195627, 14.006305224883294, 12.109275979074887, 21.79473698182516, 20.88462151114349, 13.689137278233062, 13.747491340219849, 22.065581674794494, 34.994860666702266, 14.214604365881476, 14.963469004696085, 11.411548341335443, 17.461816167746804, 14.362612904117762, 19.278325455715343, 11.707544355492175, 14.373365262835879, 11.922263801839152, 14.545949951054954, 11.673673291569342, 14.44484406259921, 15.6284372659174, 18.65026860764862, 37.41980708714884, 39.9323323192958, 19.26812367219825, 21.657477713810213, 38.70648973709303, 36.65811868713477, 44.44846053970023, 34.05183624440307, 29.31961336094078, 23.444555997439394, 33.53359789254338, 35.31798617651313, 44.35779764799469, 25.754354345021298, 26.54984297062913, 13.250965894864587, 16.880501523267842, 18.587026287910994, 12.152697192467047, 16.374791113054574, 11.335540146033324, 10.975411173218049, 11.526674371498885, 11.917256601240169, 13.495562862922919, 11.1559058737623, 13.97880047984694, 11.739750933767702, 15.059207860693904, 11.216767162005423, 20.26627551947407, 12.588619931998416, 12.728477001668848, 14.506450109457964, 13.148072885535806, 10.794524457877655, 12.777168653271369, 10.141367007143101, 13.395331064472122, 13.493782039362896, 21.0445112615562, 12.208445967900296, 17.355911091650068, 16.58991260201999, 11.599047975653626, 18.556169760030084, 17.102332874013673, 17.59648029616511, 17.29508867811177, 18.90120737122371, 59.520615809402436, 22.271665686003754, 41.95764052706294, 23.841736787093364, 21.797529111546645, 45.18912651374337, 25.475952181764036, 29.815966410073113, 44.195892948020976, 40.16977612866226, 23.48108706908281, 52.13722152539105, 52.20924071988719, 41.25159399667722, 14.963469004696085, 11.609217923973878, 12.394770812242367, 20.80216994291572, 23.722689513564067, 13.417095184418049, 12.019052028385477, 14.277501779716122, 12.558195833867062, 16.255291697212193, 13.021465108492283, 12.667458702592382, 12.160458952082756, 10.553114670017893, 18.567050262433483, 11.433892543015736, 18.504799602163597, 22.11815100070226, 15.465926082811661, 21.174737125814016, 10.44144468997024, 12.304485172229201, 14.522016340966692, 12.566665210191804, 15.033546699295329, 10.795719011886224, 12.725760114465611, 11.55420172797856, 12.799869127978951, 14.197315699728016, 19.278951043524753, 20.59629906129013, 25.29624943615312, 15.759634487441293, 14.759971706269388, 18.065679472357218, 18.508457832856585, 41.25159399667722, 26.1567849051874, 29.764326454758884, 26.834605508095247, 27.354209621527993, 34.9785813346504, 24.962116952375144, 44.44846053970023, 22.854883968177223, 14.277501779716122, 12.172817373218844, 23.722689513564067, 10.531292408380983, 10.866871881524608, 10.562375816110576, 10.663199927322285, 11.431848424651985, 13.021465108492283, 11.486224617781172, 13.508089717000408, 11.830498531113063, 10.346343418535412, 22.11815100070226, 11.99593667843883, 11.104059640793432, 10.410691060511605, 12.245497781936438, 18.567050262433483, 13.953745197313973, 10.66830437448006, 11.919236544347024, 12.522140954295658, 12.724949422555596, 11.317513198040244, 16.150941987705536, 13.16990777647133, 10.52287421553205, 11.251968915122367, 16.36638193591542, 27.66990678370594, 16.808207989552603, 59.520615809402436, 23.44741535239038, 27.729003470141407, 20.268899734608837, 15.465926082811661, 38.70648973709303, 16.342657035575016, 21.149562249051943, 16.97890139981914, 20.55085511108115, 29.815966410073113, 41.19324364708739, 26.105656690887862, 41.25159399667722, 24.80681735139503, 23.233742115235504, 33.43402720096035, 31.518461295115728, 39.9323323192958, 41.95764052706294, 45.18912651374337, 26.148900750931823, 22.71680401962032, 28.128470234249065, 41.44029972959253, 30.68301736514069], \"Category\": [\"Default\", \"Default\", \"Default\", \"Default\", \"Default\", \"Default\", \"Default\", \"Default\", \"Default\", \"Default\", \"Default\", \"Default\", \"Default\", \"Default\", \"Default\", \"Default\", \"Default\", \"Default\", \"Default\", \"Default\", \"Default\", \"Default\", \"Default\", \"Default\", \"Default\", \"Default\", \"Default\", \"Default\", \"Default\", \"Default\", \"Topic1\", \"Topic1\", \"Topic1\", \"Topic1\", \"Topic1\", \"Topic1\", \"Topic1\", \"Topic1\", \"Topic1\", \"Topic1\", \"Topic1\", \"Topic1\", \"Topic1\", \"Topic1\", \"Topic1\", \"Topic1\", \"Topic1\", \"Topic1\", \"Topic1\", \"Topic1\", \"Topic1\", \"Topic1\", \"Topic1\", \"Topic1\", \"Topic1\", \"Topic1\", \"Topic1\", \"Topic1\", \"Topic1\", \"Topic1\", \"Topic1\", \"Topic1\", \"Topic1\", \"Topic1\", \"Topic1\", \"Topic1\", \"Topic1\", \"Topic1\", \"Topic1\", \"Topic1\", \"Topic1\", \"Topic1\", \"Topic1\", \"Topic1\", \"Topic1\", \"Topic1\", \"Topic2\", \"Topic2\", \"Topic2\", \"Topic2\", \"Topic2\", \"Topic2\", \"Topic2\", \"Topic2\", \"Topic2\", \"Topic2\", \"Topic2\", \"Topic2\", \"Topic2\", \"Topic2\", \"Topic2\", \"Topic2\", \"Topic2\", \"Topic2\", \"Topic2\", \"Topic2\", \"Topic2\", \"Topic2\", \"Topic2\", \"Topic2\", \"Topic2\", \"Topic2\", \"Topic2\", \"Topic2\", \"Topic2\", \"Topic2\", \"Topic2\", \"Topic2\", \"Topic2\", \"Topic2\", \"Topic2\", \"Topic2\", \"Topic2\", \"Topic2\", \"Topic2\", \"Topic2\", \"Topic2\", \"Topic2\", \"Topic2\", \"Topic2\", \"Topic2\", \"Topic2\", \"Topic2\", \"Topic2\", \"Topic2\", \"Topic2\", \"Topic2\", \"Topic2\", \"Topic3\", \"Topic3\", \"Topic3\", \"Topic3\", \"Topic3\", \"Topic3\", \"Topic3\", \"Topic3\", \"Topic3\", \"Topic3\", \"Topic3\", \"Topic3\", \"Topic3\", \"Topic3\", \"Topic3\", \"Topic3\", \"Topic3\", \"Topic3\", \"Topic3\", \"Topic3\", \"Topic3\", \"Topic3\", \"Topic3\", \"Topic3\", \"Topic3\", \"Topic3\", \"Topic3\", \"Topic3\", \"Topic3\", \"Topic3\", \"Topic3\", \"Topic3\", \"Topic3\", \"Topic3\", \"Topic3\", \"Topic3\", \"Topic3\", \"Topic3\", \"Topic3\", \"Topic3\", \"Topic3\", \"Topic3\", \"Topic3\", \"Topic3\", \"Topic3\", \"Topic3\", \"Topic3\", \"Topic3\", \"Topic3\", \"Topic3\", \"Topic3\", \"Topic3\", \"Topic3\", \"Topic4\", \"Topic4\", \"Topic4\", \"Topic4\", \"Topic4\", \"Topic4\", \"Topic4\", \"Topic4\", \"Topic4\", \"Topic4\", \"Topic4\", \"Topic4\", \"Topic4\", \"Topic4\", \"Topic4\", \"Topic4\", \"Topic4\", \"Topic4\", \"Topic4\", \"Topic4\", \"Topic4\", \"Topic4\", \"Topic4\", \"Topic4\", \"Topic4\", \"Topic4\", \"Topic4\", \"Topic4\", \"Topic4\", \"Topic4\", \"Topic4\", \"Topic4\", \"Topic4\", \"Topic4\", \"Topic4\", \"Topic4\", \"Topic4\", \"Topic4\", \"Topic4\", \"Topic4\", \"Topic4\", \"Topic4\", \"Topic4\", \"Topic4\", \"Topic4\", \"Topic4\", \"Topic4\", \"Topic4\", \"Topic4\", \"Topic4\", \"Topic4\", \"Topic4\", \"Topic4\", \"Topic5\", \"Topic5\", \"Topic5\", \"Topic5\", \"Topic5\", \"Topic5\", \"Topic5\", \"Topic5\", \"Topic5\", \"Topic5\", \"Topic5\", \"Topic5\", \"Topic5\", \"Topic5\", \"Topic5\", \"Topic5\", \"Topic5\", \"Topic5\", \"Topic5\", \"Topic5\", \"Topic5\", \"Topic5\", \"Topic5\", \"Topic5\", \"Topic5\", \"Topic5\", \"Topic5\", \"Topic5\", \"Topic5\", \"Topic5\", \"Topic5\", \"Topic5\", \"Topic5\", \"Topic5\", \"Topic5\", \"Topic5\", \"Topic5\", \"Topic5\", \"Topic5\", \"Topic5\", \"Topic5\", \"Topic5\", \"Topic5\", \"Topic5\", \"Topic5\", \"Topic5\", \"Topic5\", \"Topic5\", \"Topic5\", \"Topic5\", \"Topic5\", \"Topic5\", \"Topic5\", \"Topic5\", \"Topic5\", \"Topic6\", \"Topic6\", \"Topic6\", \"Topic6\", \"Topic6\", \"Topic6\", \"Topic6\", \"Topic6\", \"Topic6\", \"Topic6\", \"Topic6\", \"Topic6\", \"Topic6\", \"Topic6\", \"Topic6\", \"Topic6\", \"Topic6\", \"Topic6\", \"Topic6\", \"Topic6\", \"Topic6\", \"Topic6\", \"Topic6\", \"Topic6\", \"Topic6\", \"Topic6\", \"Topic6\", \"Topic6\", \"Topic6\", \"Topic6\", \"Topic6\", \"Topic6\", \"Topic6\", \"Topic6\", \"Topic6\", \"Topic6\", \"Topic6\", \"Topic6\", \"Topic6\", \"Topic6\", \"Topic6\", \"Topic6\", \"Topic6\", \"Topic6\", \"Topic6\", \"Topic6\", \"Topic6\", \"Topic6\", \"Topic6\", \"Topic7\", \"Topic7\", \"Topic7\", \"Topic7\", \"Topic7\", \"Topic7\", \"Topic7\", \"Topic7\", \"Topic7\", \"Topic7\", \"Topic7\", \"Topic7\", \"Topic7\", \"Topic7\", \"Topic7\", \"Topic7\", \"Topic7\", \"Topic7\", \"Topic7\", \"Topic7\", \"Topic7\", \"Topic7\", \"Topic7\", \"Topic7\", \"Topic7\", \"Topic7\", \"Topic7\", \"Topic7\", \"Topic7\", \"Topic7\", \"Topic7\", \"Topic7\", \"Topic7\", \"Topic7\", \"Topic7\", \"Topic7\", \"Topic7\", \"Topic7\", \"Topic7\", \"Topic7\", \"Topic7\", \"Topic7\", \"Topic7\", \"Topic7\", \"Topic7\", \"Topic7\", \"Topic7\", \"Topic7\", \"Topic8\", \"Topic8\", \"Topic8\", \"Topic8\", \"Topic8\", \"Topic8\", \"Topic8\", \"Topic8\", \"Topic8\", \"Topic8\", \"Topic8\", \"Topic8\", \"Topic8\", \"Topic8\", \"Topic8\", \"Topic8\", \"Topic8\", \"Topic8\", \"Topic8\", \"Topic8\", \"Topic8\", \"Topic8\", \"Topic8\", \"Topic8\", \"Topic8\", \"Topic8\", \"Topic8\", \"Topic8\", \"Topic8\", \"Topic8\", \"Topic8\", \"Topic8\", \"Topic8\", \"Topic8\", \"Topic8\", \"Topic8\", \"Topic8\", \"Topic8\", \"Topic8\", \"Topic8\", \"Topic8\", \"Topic8\", \"Topic8\", \"Topic8\", \"Topic8\", \"Topic8\", \"Topic8\", \"Topic8\", \"Topic8\", \"Topic9\", \"Topic9\", \"Topic9\", \"Topic9\", \"Topic9\", \"Topic9\", \"Topic9\", \"Topic9\", \"Topic9\", \"Topic9\", \"Topic9\", \"Topic9\", \"Topic9\", \"Topic9\", \"Topic9\", \"Topic9\", \"Topic9\", \"Topic9\", \"Topic9\", \"Topic9\", \"Topic9\", \"Topic9\", \"Topic9\", \"Topic9\", \"Topic9\", \"Topic9\", \"Topic9\", \"Topic9\", \"Topic9\", \"Topic9\", \"Topic9\", \"Topic9\", \"Topic9\", \"Topic9\", \"Topic9\", \"Topic9\", \"Topic9\", \"Topic9\", \"Topic9\", \"Topic9\", \"Topic9\", \"Topic9\", \"Topic9\", \"Topic9\", \"Topic9\", \"Topic9\", \"Topic10\", \"Topic10\", \"Topic10\", \"Topic10\", \"Topic10\", \"Topic10\", \"Topic10\", \"Topic10\", \"Topic10\", \"Topic10\", \"Topic10\", \"Topic10\", \"Topic10\", \"Topic10\", \"Topic10\", \"Topic10\", \"Topic10\", \"Topic10\", \"Topic10\", \"Topic10\", \"Topic10\", \"Topic10\", \"Topic10\", \"Topic10\", \"Topic10\", \"Topic10\", \"Topic10\", \"Topic10\", \"Topic10\", \"Topic10\", \"Topic10\", \"Topic10\", \"Topic10\", \"Topic10\", \"Topic10\", \"Topic10\", \"Topic10\", \"Topic10\", \"Topic10\", \"Topic10\", \"Topic10\", \"Topic10\", \"Topic10\", \"Topic10\", \"Topic10\", \"Topic10\", \"Topic10\", \"Topic10\", \"Topic10\", \"Topic10\", \"Topic10\", \"Topic10\", \"Topic10\", \"Topic10\", \"Topic10\", \"Topic10\", \"Topic10\", \"Topic10\"], \"logprob\": [30.0, 29.0, 28.0, 27.0, 26.0, 25.0, 24.0, 23.0, 22.0, 21.0, 20.0, 19.0, 18.0, 17.0, 16.0, 15.0, 14.0, 13.0, 12.0, 11.0, 10.0, 9.0, 8.0, 7.0, 6.0, 5.0, 4.0, 3.0, 2.0, 1.0, -5.8132, -6.2167, -6.1802, -6.5873, -6.3368, -6.2886, -6.2924, -6.854, -6.732, -6.8934, -6.5542, -6.5057, -7.0014, -6.6126, -7.0617, -6.7629, -6.603, -6.8487, -7.0555, -7.0704, -6.3909, -7.0446, -7.1939, -6.6902, -6.5062, -6.804, -6.9654, -7.1783, -7.2258, -7.0568, -6.8712, -6.5899, -6.4689, -6.6963, -6.6454, -6.5847, -6.6234, -6.8957, -6.6982, -6.8645, -6.8227, -6.7613, -6.7072, -6.7816, -6.7867, -6.8056, -5.8711, -6.6435, -6.9036, -6.7559, -6.7861, -6.9135, -7.0446, -6.9847, -6.9359, -7.0754, -6.7929, -7.1087, -7.0395, -6.8859, -7.081, -7.1555, -7.1418, -7.1273, -7.3519, -7.1758, -7.0393, -6.8529, -6.9111, -7.3283, -7.3614, -7.429, -6.951, -7.2004, -7.2048, -6.9989, -7.0148, -6.6418, -6.7758, -6.4466, -6.5521, -6.6185, -6.3377, -6.3972, -6.7827, -6.4215, -6.6964, -6.8112, -6.8259, -6.8885, -6.5846, -6.8665, -6.826, -6.8143, -6.787, -6.8929, -6.8572, -6.8797, -6.3571, -6.8063, -6.8063, -6.9759, -6.8574, -6.5583, -7.2161, -6.5221, -7.1128, -7.1463, -6.7788, -6.9281, -7.3406, -7.0103, -7.3676, -7.0161, -7.1773, -7.4292, -7.3122, -7.1866, -7.0966, -7.0769, -7.2396, -7.2876, -7.2147, -7.2864, -7.346, -7.2229, -7.2298, -7.3345, -7.1692, -6.3843, -6.4253, -6.3865, -6.9025, -6.4677, -6.938, -6.6859, -6.9922, -6.7966, -6.9134, -6.5461, -7.0833, -6.9465, -7.0466, -6.9154, -6.9897, -6.9296, -6.9732, -6.9986, -6.9489, -6.9933, -7.0065, -5.1787, -6.6743, -6.4185, -6.9045, -7.0279, -6.8873, -7.0277, -6.9786, -6.8488, -6.9993, -6.9788, -7.0278, -7.0234, -7.1201, -7.1721, -6.757, -6.7692, -7.0434, -7.3102, -6.9521, -7.2143, -7.3473, -7.246, -7.2019, -7.14, -7.0955, -6.8931, -7.1067, -7.327, -7.2643, -7.0289, -6.5013, -6.8485, -6.1805, -6.7465, -6.7419, -6.5452, -6.9571, -6.7005, -6.9009, -6.9576, -6.8296, -6.7469, -6.7509, -6.7398, -6.8473, -6.8492, -6.9343, -6.9515, -6.8911, -6.9241, -6.9523, -6.9467, -7.0898, -6.7824, -6.1149, -6.9287, -6.6682, -6.5066, -6.8565, -7.1253, -7.1106, -7.0917, -6.9322, -7.3244, -7.2418, -7.0885, -7.3206, -7.0845, -7.1398, -7.1597, -7.1056, -6.8935, -7.3908, -7.284, -7.1209, -7.3851, -7.2239, -7.4147, -6.9005, -7.1076, -7.1964, -7.4536, -6.9132, -6.53, -6.9071, -6.4468, -6.7091, -7.0284, -6.7341, -7.0111, -6.8347, -6.6926, -6.6455, -6.3494, -6.6274, -6.8439, -6.7819, -6.7659, -6.8705, -6.8809, -6.9046, -6.9004, -6.9612, -6.9367, -6.8231, -6.9229, -6.929, -6.6118, -6.1575, -6.1575, -6.5987, -6.6424, -6.0814, -6.8327, -6.7392, -6.9297, -7.0238, -6.5, -6.9079, -6.3731, -7.196, -6.9566, -6.634, -7.0794, -7.0728, -6.7533, -6.9029, -6.7931, -7.2903, -7.2534, -7.1217, -7.1464, -7.353, -7.1563, -7.3348, -7.2082, -7.1821, -6.3179, -6.6601, -7.0792, -7.1044, -7.0334, -6.8581, -6.6419, -6.9697, -6.575, -6.2743, -6.9637, -6.8618, -6.5258, -6.6995, -6.8089, -6.901, -6.8009, -6.9024, -6.9275, -5.4284, -5.8785, -5.4071, -6.2562, -6.4099, -6.7683, -6.6676, -6.9859, -6.8504, -6.9298, -7.0767, -6.9298, -7.0796, -6.5011, -6.5539, -6.9778, -6.9794, -6.5068, -6.0474, -6.9632, -6.9293, -7.2032, -6.7878, -6.9843, -6.6923, -7.1951, -6.9901, -7.1784, -6.9809, -7.203, -6.9947, -6.9287, -6.7974, -6.2099, -6.2621, -6.8199, -6.8127, -6.5845, -6.6211, -6.5599, -6.6846, -6.7379, -6.829, -6.7529, -6.841, -6.8404, -6.9146, -6.9239, -6.6977, -6.4731, -6.486, -6.9305, -6.6744, -7.0772, -7.141, -7.1276, -7.1081, -6.9855, -7.1901, -6.9925, -7.1787, -6.9506, -7.2537, -6.7048, -7.183, -7.1783, -7.0482, -7.1568, -7.3578, -7.2107, -7.4488, -7.1841, -7.177, -6.7396, -7.2905, -6.9444, -6.9898, -7.355, -6.8876, -7.0005, -6.9998, -7.0301, -6.9879, -6.3757, -6.9066, -6.744, -6.9588, -7.0157, -6.7973, -6.97, -6.9328, -6.8464, -6.893, -7.0073, -6.8985, -6.9468, -6.989, -6.1664, -6.5618, -6.7557, -6.3181, -6.2264, -6.8226, -6.9912, -6.8295, -7.01, -6.7583, -6.9822, -7.0664, -7.126, -7.2995, -6.7363, -7.2699, -6.796, -6.6271, -6.9984, -6.6844, -7.3946, -7.2315, -7.066, -7.221, -7.061, -7.3948, -7.2364, -7.3355, -7.2465, -7.1442, -6.861, -6.8135, -6.6407, -7.0582, -7.1398, -7.0467, -7.0526, -6.7093, -6.92, -6.8822, -6.9717, -6.9724, -6.9487, -7.0108, -6.9579, -7.0276, -6.5214, -6.7238, -6.1831, -7.0689, -7.2415, -7.2702, -7.2697, -7.247, -7.1442, -7.3219, -7.1751, -7.3077, -7.4563, -6.7251, -7.3372, -7.4388, -7.5128, -7.3645, -6.976, -7.2678, -7.54, -7.436, -7.4166, -7.4024, -7.5197, -7.1772, -7.3814, -7.6096, -7.5478, -7.1777, -6.6728, -7.1676, -6.0731, -6.8859, -6.7547, -7.0231, -7.2527, -6.6491, -7.2286, -7.0838, -7.2106, -7.1408, -7.0074, -6.9194, -7.0843, -6.9599, -7.1058, -7.1294, -7.0476, -7.0976, -7.0661, -7.0618, -7.0544, -7.1431, -7.1552, -7.145, -7.1395, -7.1509], \"loglift\": [30.0, 29.0, 28.0, 27.0, 26.0, 25.0, 24.0, 23.0, 22.0, 21.0, 20.0, 19.0, 18.0, 17.0, 16.0, 15.0, 14.0, 13.0, 12.0, 11.0, 10.0, 9.0, 8.0, 7.0, 6.0, 5.0, 4.0, 3.0, 2.0, 1.0, 0.8326, 0.8239, 0.7921, 0.7489, 0.7375, 0.7238, 0.6859, 0.6487, 0.6429, 0.6317, 0.6298, 0.6297, 0.6198, 0.6152, 0.6133, 0.6111, 0.608, 0.6035, 0.5991, 0.5986, 0.5947, 0.5906, 0.5883, 0.5876, 0.5825, 0.5792, 0.576, 0.5744, 0.5699, 0.5581, 0.5569, 0.5195, 0.4354, 0.4723, 0.4495, 0.3921, 0.3896, 0.5191, 0.3916, 0.4828, 0.4376, 0.3084, 0.1367, 0.1263, 0.1155, 0.1659, 0.7392, 0.7327, 0.7294, 0.7127, 0.696, 0.689, 0.6767, 0.6579, 0.6573, 0.65, 0.6463, 0.6446, 0.6433, 0.6391, 0.6314, 0.6076, 0.6048, 0.6003, 0.5971, 0.5855, 0.5823, 0.5815, 0.5754, 0.5735, 0.5714, 0.5663, 0.5658, 0.5634, 0.5601, 0.56, 0.5373, 0.5, 0.4941, 0.4391, 0.4513, 0.4593, 0.4036, 0.3578, 0.4627, 0.3212, 0.4008, 0.4501, 0.4584, 0.4856, 0.2593, 0.4517, 0.4105, 0.3314, 0.1209, 0.4, 0.1756, 0.0802, 1.3044, 1.29, 1.2883, 1.1911, 1.1103, 1.0858, 1.0381, 1.0081, 1.0058, 0.9724, 0.962, 0.9405, 0.9364, 0.918, 0.9134, 0.8904, 0.8891, 0.8833, 0.8832, 0.8752, 0.8725, 0.8622, 0.8596, 0.8568, 0.8415, 0.8136, 0.807, 0.7982, 0.7957, 0.7955, 0.7699, 0.6189, 0.5877, 0.5734, 0.6977, 0.5357, 0.6332, 0.4113, 0.5954, 0.4011, 0.492, 0.0641, 0.6723, 0.4654, 0.6149, 0.3454, 0.4895, 0.3164, 0.4198, 0.3197, -0.3031, -0.1494, -0.2639, 1.9593, 1.4763, 1.4541, 1.343, 1.2242, 1.2216, 1.2041, 1.1613, 1.1591, 1.1234, 1.1209, 1.0866, 1.0697, 1.0374, 1.0363, 1.0339, 1.0059, 0.9893, 0.9669, 0.9613, 0.9501, 0.9402, 0.9338, 0.9216, 0.914, 0.9137, 0.9052, 0.9013, 0.8979, 0.8976, 0.8842, 0.7715, 0.8114, 0.5607, 0.7366, 0.6756, 0.4678, 0.6928, 0.3088, 0.601, 0.6861, 0.4498, 0.2563, 0.2347, 0.1624, 0.3649, 0.1223, 0.5388, 0.646, 0.0168, 0.3367, 0.6189, -0.0424, 1.1494, 1.1227, 1.1216, 1.1135, 1.1092, 1.0695, 1.0382, 1.0178, 0.9586, 0.9307, 0.9232, 0.9167, 0.9161, 0.9105, 0.8975, 0.8969, 0.888, 0.8879, 0.8575, 0.8503, 0.8442, 0.8386, 0.8305, 0.8304, 0.8261, 0.8169, 0.8067, 0.7906, 0.7877, 0.7863, 0.7847, 0.7428, 0.7644, 0.6989, 0.7258, 0.7734, 0.6983, 0.7675, 0.709, 0.6392, 0.6148, 0.3919, 0.5048, 0.5356, 0.4279, 0.2373, 0.431, 0.4513, 0.5023, 0.4822, 0.5796, 0.5025, -0.0805, 0.2458, 0.1406, 1.6152, 1.5909, 1.5891, 1.5553, 1.4004, 1.3753, 1.2948, 1.2517, 1.2496, 1.1874, 1.183, 1.1706, 1.1571, 1.1432, 1.1042, 1.1035, 1.1025, 1.1, 1.0858, 1.0648, 1.0605, 1.0106, 1.0029, 0.9637, 0.9427, 0.9312, 0.9272, 0.9227, 0.9157, 0.9112, 0.9099, 0.8919, 0.9082, 0.9011, 0.8776, 0.8019, 0.6375, 0.8275, 0.5668, 0.3359, 0.8207, 0.7168, 0.3784, 0.0432, 0.2689, 0.5317, -0.0459, 0.4573, 0.0439, 2.0826, 1.8967, 1.7023, 1.5234, 1.5141, 1.4569, 1.3864, 1.2086, 1.1648, 1.1432, 1.1365, 1.1272, 1.123, 1.1137, 1.1036, 1.1022, 1.0963, 1.0957, 1.0939, 1.079, 1.0616, 1.0587, 1.0487, 1.0477, 1.0453, 1.0412, 1.041, 1.0397, 1.0383, 1.0362, 1.0316, 1.0188, 0.9732, 0.8644, 0.7473, 0.9182, 0.8085, 0.4561, 0.4738, 0.3423, 0.4841, 0.5804, 0.7129, 0.4311, 0.2912, 0.0639, 0.5334, 0.4936, 1.4148, 1.3973, 1.2881, 1.2685, 1.2264, 1.1914, 1.1599, 1.1243, 1.1105, 1.1087, 1.0945, 1.0665, 1.0548, 1.034, 1.0254, 0.9828, 0.9808, 0.9744, 0.9737, 0.9634, 0.9597, 0.9382, 0.9312, 0.9175, 0.9173, 0.9103, 0.9039, 0.8982, 0.898, 0.8906, 0.8882, 0.8568, 0.8291, 0.816, 0.7694, 0.2345, 0.6866, 0.2159, 0.5663, 0.5991, 0.0884, 0.4888, 0.3687, 0.0616, 0.1104, 0.5331, -0.1558, -0.2055, -0.0122, 1.8245, 1.683, 1.4236, 1.3434, 1.3037, 1.2774, 1.2189, 1.2083, 1.1561, 1.1498, 1.1478, 1.0912, 1.0723, 1.0406, 1.0388, 0.9901, 0.9825, 0.973, 0.9595, 0.9594, 0.9561, 0.9551, 0.9549, 0.9445, 0.9252, 0.9226, 0.9165, 0.914, 0.9006, 0.8993, 0.8765, 0.8579, 0.8252, 0.8809, 0.8648, 0.7558, 0.7257, 0.2676, 0.5124, 0.4211, 0.4351, 0.4153, 0.1931, 0.4684, -0.0557, 0.5398, 1.5165, 1.4736, 1.347, 1.2733, 1.0694, 1.069, 1.0601, 1.0131, 0.9857, 0.9335, 0.9182, 0.9182, 0.9036, 0.875, 0.8748, 0.8504, 0.8409, 0.8269, 0.7992, 0.793, 0.7892, 0.7824, 0.7525, 0.7506, 0.7505, 0.7374, 0.7372, 0.7334, 0.7282, 0.7236, 0.7034, 0.7071, 0.5371, 0.6559, 0.6194, 0.6644, 0.7052, 0.3914, 0.6742, 0.5612, 0.654, 0.5329, 0.2941, 0.0589, 0.3501, 0.017, 0.3797, 0.4215, 0.1394, 0.1484, -0.0567, -0.1019, -0.1687, 0.2896, 0.4182, 0.2147, -0.1672, 0.122]}, \"token.table\": {\"Topic\": [1, 2, 3, 4, 5, 6, 1, 2, 3, 4, 5, 6, 9, 1, 2, 3, 4, 5, 6, 7, 1, 2, 3, 4, 5, 6, 7, 1, 2, 3, 4, 5, 6, 7, 1, 2, 3, 4, 5, 6, 7, 8, 1, 2, 3, 4, 5, 6, 7, 1, 2, 3, 4, 5, 6, 1, 2, 3, 4, 5, 6, 7, 1, 2, 3, 4, 5, 6, 1, 2, 3, 4, 5, 6, 7, 1, 2, 3, 4, 5, 6, 9, 1, 2, 3, 4, 5, 6, 1, 2, 3, 4, 5, 6, 7, 8, 1, 2, 3, 4, 5, 6, 7, 8, 1, 2, 3, 4, 5, 6, 1, 2, 3, 4, 5, 6, 7, 1, 2, 3, 4, 5, 6, 7, 1, 2, 3, 4, 5, 6, 7, 1, 2, 3, 4, 5, 6, 7, 1, 2, 3, 4, 5, 6, 7, 1, 2, 3, 4, 5, 6, 9, 1, 2, 3, 4, 5, 6, 1, 2, 3, 4, 5, 6, 7, 1, 2, 3, 4, 5, 6, 7, 9, 1, 2, 3, 4, 5, 6, 9, 1, 2, 3, 4, 5, 6, 1, 2, 3, 4, 5, 6, 1, 2, 3, 4, 5, 6, 9, 1, 2, 3, 4, 5, 6, 7, 1, 2, 3, 4, 5, 6, 7, 9, 1, 2, 3, 4, 5, 6, 1, 2, 3, 4, 5, 6, 7, 1, 2, 3, 4, 5, 6, 1, 2, 3, 4, 5, 6, 8, 1, 2, 3, 4, 5, 6, 1, 2, 3, 4, 5, 6, 7, 1, 2, 3, 4, 5, 6, 1, 2, 3, 4, 5, 6, 7, 1, 2, 3, 4, 5, 6, 7, 1, 2, 3, 4, 5, 6, 1, 2, 3, 4, 5, 6, 7, 1, 2, 3, 4, 5, 6, 9, 1, 2, 3, 4, 5, 6, 8, 9, 1, 2, 3, 4, 5, 6, 7, 1, 2, 3, 4, 5, 6, 7, 1, 2, 3, 4, 5, 6, 1, 2, 3, 4, 5, 6, 9, 1, 2, 3, 4, 5, 6, 1, 2, 3, 4, 5, 6, 1, 2, 3, 4, 5, 6, 8, 1, 2, 3, 4, 5, 6, 1, 2, 3, 4, 5, 6, 1, 2, 3, 4, 5, 6, 1, 2, 3, 4, 5, 6, 7, 1, 2, 3, 4, 5, 6, 7, 8, 1, 2, 3, 4, 5, 6, 1, 2, 3, 4, 5, 6, 7, 8, 9, 1, 2, 3, 4, 5, 6, 9, 1, 2, 3, 4, 5, 6, 9, 1, 2, 3, 4, 5, 6, 9, 1, 2, 3, 4, 5, 6, 1, 2, 3, 4, 5, 6, 7, 8, 1, 2, 3, 4, 5, 6, 1, 2, 3, 4, 5, 6, 7, 8, 1, 2, 3, 4, 5, 6, 1, 2, 3, 4, 5, 6, 8, 1, 2, 3, 4, 5, 6, 1, 2, 3, 4, 5, 6, 7, 1, 2, 3, 4, 5, 6, 1, 2, 3, 4, 5, 6, 7, 1, 2, 3, 4, 5, 6, 1, 2, 3, 4, 5, 6, 7, 1, 2, 3, 4, 5, 6, 9, 1, 2, 3, 4, 5, 6, 7, 1, 2, 3, 4, 5, 6, 7, 1, 2, 3, 4, 5, 6, 7, 1, 2, 3, 4, 5, 6, 7, 1, 2, 3, 4, 5, 6, 7, 1, 2, 3, 4, 5, 6, 7, 1, 2, 3, 4, 5, 6, 7, 8, 1, 2, 3, 4, 5, 6, 1, 2, 3, 4, 5, 6, 7, 1, 2, 3, 4, 5, 6, 7, 1, 2, 3, 4, 5, 6, 7, 1, 2, 3, 4, 5, 6, 1, 2, 3, 4, 5, 6, 7, 1, 2, 3, 4, 5, 6, 7, 1, 2, 3, 4, 5, 6, 7, 1, 2, 3, 4, 5, 6, 1, 2, 3, 4, 5, 6, 1, 2, 3, 4, 5, 6, 7, 8, 1, 2, 3, 4, 5, 6, 7, 8, 1, 2, 3, 4, 5, 6, 7, 8, 9, 1, 2, 3, 4, 5, 6, 7, 8, 1, 2, 3, 4, 5, 6, 7, 1, 2, 3, 4, 5, 6, 1, 2, 3, 4, 5, 6, 1, 2, 3, 4, 5, 6, 1, 2, 3, 4, 5, 6, 9, 1, 2, 3, 4, 5, 6, 7, 1, 2, 3, 4, 5, 6, 9, 1, 2, 3, 4, 5, 6, 7, 1, 2, 3, 4, 5, 6, 7, 1, 2, 3, 4, 5, 6, 7, 1, 2, 3, 4, 5, 6, 1, 2, 3, 4, 5, 6, 7, 1, 2, 3, 4, 5, 6, 7, 1, 2, 3, 4, 5, 6, 8, 1, 2, 3, 4, 5, 6, 7, 8, 1, 2, 3, 4, 5, 6, 8, 1, 2, 3, 4, 5, 6, 7, 8, 1, 2, 3, 4, 5, 6, 7, 8, 1, 2, 3, 4, 5, 6, 1, 2, 3, 4, 5, 6, 1, 2, 3, 4, 5, 6, 1, 2, 3, 4, 5, 6, 7, 1, 2, 3, 4, 5, 6, 1, 2, 3, 4, 5, 6, 7, 1, 2, 3, 4, 5, 6, 1, 2, 3, 4, 5, 6, 7, 1, 2, 3, 4, 5, 6, 8, 1, 2, 3, 4, 5, 6, 7, 1, 2, 3, 4, 5, 6, 7, 1, 2, 3, 4, 5, 6, 7, 1, 2, 3, 4, 5, 6, 7, 9, 1, 2, 3, 4, 5, 6, 1, 2, 3, 4, 5, 6, 1, 2, 3, 4, 5, 6, 7, 1, 2, 3, 4, 5, 6, 1, 2, 3, 4, 5, 6, 1, 2, 3, 4, 5, 6, 7, 9, 1, 2, 3, 4, 5, 6, 7, 1, 2, 3, 4, 5, 6, 7, 9, 1, 2, 3, 4, 5, 6, 1, 2, 3, 4, 5, 6, 7, 1, 2, 3, 4, 5, 6, 7, 1, 2, 3, 4, 5, 6, 7, 1, 2, 3, 4, 5, 6, 8, 1, 2, 3, 4, 5, 6, 7, 8, 1, 2, 3, 4, 5, 6, 1, 2, 3, 4, 5, 6, 9, 1, 2, 3, 4, 5, 6, 7, 1, 2, 3, 4, 5, 6, 7, 8, 1, 2, 3, 4, 5, 6, 7, 8, 9, 1, 2, 3, 4, 5, 6, 7, 9, 1, 2, 3, 4, 5, 6, 1, 2, 3, 4, 5, 6, 7, 1, 2, 3, 4, 5, 6, 7, 1, 2, 3, 4, 5, 6, 7, 8, 1, 2, 3, 4, 5, 6, 7, 8, 1, 2, 3, 4, 5, 6, 7, 1, 2, 3, 4, 5, 6, 9, 1, 2, 3, 4, 5, 6, 7, 8, 1, 2, 3, 4, 5, 6, 1, 2, 3, 4, 5, 6, 1, 2, 3, 4, 5, 6, 7, 9, 1, 2, 3, 4, 5, 6, 1, 2, 3, 4, 5, 6, 1, 2, 3, 4, 5, 6, 8, 1, 2, 3, 4, 5, 6, 7, 9, 1, 2, 3, 4, 5, 6, 7, 1, 2, 3, 4, 5, 6, 7, 1, 2, 3, 4, 5, 6, 7, 1, 2, 3, 4, 5, 6, 1, 2, 3, 4, 5, 6, 1, 2, 3, 4, 5, 6, 1, 2, 3, 4, 5, 6, 7, 1, 2, 3, 4, 5, 6, 7, 1, 2, 3, 4, 5, 6, 7, 1, 2, 3, 4, 5, 6, 7, 1, 2, 3, 4, 5, 6, 7, 1, 2, 3, 4, 5, 6, 7, 1, 2, 3, 4, 5, 6, 1, 2, 3, 4, 5, 6, 1, 2, 3, 4, 5, 6, 8, 1, 2, 3, 4, 5, 6, 7, 9, 1, 2, 3, 4, 5, 6, 1, 2, 3, 4, 5, 6, 8, 1, 2, 3, 4, 5, 6, 8, 1, 2, 3, 4, 5, 6, 7, 1, 2, 3, 4, 5, 6, 7, 1, 2, 3, 4, 5, 6, 7, 9, 1, 2, 3, 4, 5, 6, 7, 1, 2, 3, 4, 5, 6, 1, 2, 3, 4, 5, 6, 1, 2, 3, 4, 5, 6, 1, 2, 3, 4, 5, 6, 7, 1, 2, 3, 4, 5, 6, 7, 1, 2, 3, 4, 5, 6, 7, 8, 1, 2, 3, 4, 5, 6, 1, 2, 3, 4, 5, 6, 1, 2, 3, 4, 5, 6, 7, 9, 1, 2, 3, 4, 5, 6, 7, 9, 1, 2, 3, 4, 5, 6, 7, 9, 1, 2, 3, 4, 5, 6, 7, 1, 2, 3, 4, 5, 6, 7, 1, 2, 3, 4, 5, 6, 7, 1, 2, 3, 4, 5, 6, 8, 1, 2, 3, 4, 5, 6, 8, 1, 2, 3, 4, 5, 6, 1, 2, 3, 4, 5, 6, 7, 1, 2, 3, 4, 5, 6, 7, 1, 2, 3, 4, 5, 6, 7, 1, 2, 3, 4, 5, 6, 7, 1, 2, 3, 4, 5, 6, 1, 2, 3, 4, 5, 6, 1, 2, 3, 4, 5, 6, 1, 2, 3, 4, 5, 6, 1, 2, 3, 4, 5, 6, 1, 2, 3, 4, 5, 6, 7, 1, 2, 3, 4, 5, 6, 7, 1, 2, 3, 4, 5, 6, 7, 1, 2, 3, 4, 5, 6, 7, 1, 2, 3, 4, 5, 6, 1, 2, 3, 4, 5, 6, 7, 1, 2, 3, 4, 5, 6, 7, 1, 2, 3, 4, 5, 6, 1, 2, 3, 4, 5, 6, 9, 1, 2, 3, 4, 5, 6, 7, 8, 1, 2, 3, 4, 5, 6, 7, 1, 2, 3, 4, 5, 6, 7, 8, 1, 2, 3, 4, 5, 6, 7, 9, 1, 2, 3, 4, 5, 6, 7, 1, 2, 3, 4, 5, 6, 7, 1, 2, 3, 4, 5, 6, 1, 2, 3, 4, 5, 6, 7, 1, 2, 3, 4, 5, 6, 9, 1, 2, 3, 4, 5, 6, 8, 1, 2, 3, 4, 5, 6, 8, 1, 2, 3, 4, 5, 6, 1, 2, 3, 4, 5, 6, 7, 1, 2, 3, 4, 5, 6, 1, 2, 3, 4, 5, 6, 1, 2, 3, 4, 5, 6, 7, 1, 2, 3, 4, 5, 6, 1, 2, 3, 4, 5, 6, 7, 1, 2, 3, 4, 5, 6, 7, 1, 2, 3, 4, 5, 6, 7, 1, 2, 3, 4, 5, 6, 7, 1, 2, 3, 4, 5, 6, 7, 8, 1, 2, 3, 4, 5, 6, 1, 2, 3, 4, 5, 6, 7, 1, 2, 3, 4, 5, 6, 7, 9, 1, 2, 3, 4, 5, 6, 9, 1, 2, 3, 4, 5, 6, 7, 9, 1, 2, 3, 4, 5, 6, 1, 2, 3, 4, 5, 6, 7, 9, 1, 2, 3, 4, 5, 6, 9, 1, 2, 3, 4, 5, 6, 1, 2, 3, 4, 5, 6, 1, 2, 3, 4, 5, 6, 1, 2, 3, 4, 5, 6, 1, 2, 3, 4, 5, 6, 7, 1, 2, 3, 4, 5, 6, 7, 8, 1, 2, 3, 4, 5, 6, 9, 1, 2, 3, 4, 5, 6, 7, 8, 1, 2, 3, 4, 5, 6, 7, 9, 1, 2, 3, 4, 5, 6, 7, 8, 1, 2, 3, 4, 5, 6, 1, 2, 3, 4, 5, 6, 8, 1, 2, 3, 4, 5, 6, 1, 2, 3, 4, 5, 6, 7, 1, 2, 3, 4, 5, 6, 9, 1, 2, 3, 4, 5, 6, 7, 1, 2, 3, 4, 5, 6, 7, 8, 1, 2, 3, 4, 5, 6, 7, 9, 1, 2, 3, 4, 5, 6, 9, 1, 2, 3, 4, 5, 6, 1, 2, 3, 4, 5, 6, 7, 8, 9, 1, 2, 3, 4, 5, 6, 7, 8, 1, 2, 3, 4, 5, 6, 9, 1, 2, 3, 4, 5, 6, 1, 2, 3, 4, 5, 6, 7, 9, 1, 2, 3, 4, 5, 6, 1, 2, 3, 4, 5, 6, 1, 2, 3, 4, 5, 6, 7, 1, 2, 3, 4, 5, 6, 7, 9, 1, 2, 3, 4, 5, 6, 7, 1, 2, 3, 4, 5, 6, 8, 1, 2, 3, 4, 5, 6, 7, 1, 2, 3, 4, 5, 6, 1, 2, 3, 4, 5, 6, 7, 1, 2, 3, 4, 5, 6, 1, 2, 3, 4, 5, 6, 7, 8, 1, 2, 3, 4, 5, 6, 7, 1, 2, 3, 4, 5, 6, 7, 8, 1, 2, 3, 4, 5, 6, 1, 2, 3, 4, 5, 6, 1, 2, 3, 4, 5, 6, 9, 1, 2, 3, 4, 5, 6, 7, 8, 1, 2, 3, 4, 5, 6, 7, 8, 9, 1, 2, 3, 4, 5, 6, 7, 1, 2, 3, 4, 5, 6, 7, 1, 2, 3, 4, 5, 6, 1, 2, 3, 4, 5, 6, 1, 2, 3, 4, 5, 6, 7, 1, 2, 3, 4, 5, 6, 7, 1, 2, 3, 4, 5, 6, 1, 2, 3, 4, 5, 6, 1, 2, 3, 4, 5, 6, 9, 1, 2, 3, 4, 5, 6, 1, 2, 3, 4, 5, 6, 9, 1, 2, 3, 4, 5, 6, 7, 1, 2, 3, 4, 5, 6, 7, 1, 2, 3, 4, 5, 6, 7, 8, 9, 1, 2, 3, 4, 5, 6, 7, 9, 1, 2, 3, 4, 5, 6, 7, 1, 2, 3, 4, 5, 6, 7, 9, 1, 2, 3, 4, 5, 6, 1, 2, 3, 4, 5, 6, 7, 8, 1, 2, 3, 4, 5, 6, 7, 1, 2, 3, 4, 5, 6, 1, 2, 3, 4, 5, 6, 1, 2, 3, 4, 5, 6, 1, 2, 3, 4, 5, 6, 7, 8, 1, 2, 3, 4, 5, 6, 7, 1, 2, 3, 4, 5, 6, 1, 2, 3, 4, 5, 6, 7, 1, 2, 3, 4, 5, 6, 1, 2, 3, 4, 5, 6, 8, 1, 2, 3, 4, 5, 6, 7, 1, 2, 3, 4, 5, 6, 7, 1, 2, 3, 4, 5, 6, 1, 2, 3, 4, 5, 6, 7, 1, 2, 3, 4, 5, 6, 7, 9, 1, 2, 3, 4, 5, 6, 7, 1, 2, 3, 4, 5, 6, 8, 1, 2, 3, 4, 5, 6, 7, 8, 9, 1, 2, 3, 4, 5, 6, 7, 1, 2, 3, 4, 5, 6, 1, 2, 3, 4, 5, 6, 1, 2, 3, 4, 5, 6, 1, 2, 3, 4, 5, 6, 8, 1, 2, 3, 4, 5, 6, 7, 9, 1, 2, 3, 4, 5, 6, 7, 8, 1, 2, 3, 4, 5, 6, 7, 8, 1, 2, 3, 4, 5, 6, 7, 1, 2, 3, 4, 5, 6, 1, 2, 3, 4, 5, 6, 1, 2, 3, 4, 5, 6, 1, 2, 3, 4, 5, 6, 7, 1, 2, 3, 4, 5, 6, 7, 1, 2, 3, 4, 5, 6, 1, 2, 3, 4, 5, 6, 1, 2, 3, 4, 5, 6, 7, 1, 2, 3, 4, 5, 6, 7, 1, 2, 3, 4, 5, 6, 9, 1, 2, 3, 4, 5, 6, 1, 2, 3, 4, 5, 6, 1, 2, 3, 4, 5, 6, 1, 2, 3, 4, 5, 6, 7, 1, 2, 3, 4, 5, 6, 7, 9, 1, 2, 3, 4, 5, 6, 1, 2, 3, 4, 5, 6, 7, 1, 2, 3, 4, 5, 6, 7, 9, 1, 2, 3, 4, 5, 6, 1, 2, 3, 4, 5, 6, 9, 1, 2, 3, 4, 5, 6, 1, 2, 3, 4, 5, 6, 7, 1, 2, 3, 4, 5, 6, 1, 2, 3, 4, 5, 6, 1, 2, 3, 4, 5, 6, 7, 1, 2, 3, 4, 5, 6, 7, 1, 2, 3, 4, 5, 6, 7, 1, 2, 3, 4, 5, 6, 7, 1, 2, 3, 4, 5, 6, 7, 9, 1, 2, 3, 4, 5, 6, 7, 1, 2, 3, 4, 5, 6, 1, 2, 3, 4, 5, 6, 7, 1, 2, 3, 4, 5, 6, 1, 2, 3, 4, 5, 6, 1, 2, 3, 4, 5, 6, 1, 2, 3, 4, 5, 6, 1, 2, 3, 4, 5, 6, 7, 1, 2, 3, 4, 5, 6, 7, 8, 1, 2, 3, 4, 5, 6, 7, 1, 2, 3, 4, 5, 6, 1, 2, 3, 4, 5, 6, 8, 1, 2, 3, 4, 5, 6, 7, 9, 1, 2, 3, 4, 5, 6, 7, 1, 2, 3, 4, 5, 6, 1, 2, 3, 4, 5, 6, 1, 2, 3, 4, 5, 6, 7, 9, 1, 2, 3, 4, 5, 6, 7, 1, 2, 3, 4, 5, 6, 7, 8, 1, 2, 3, 4, 5, 6, 1, 2, 3, 4, 5, 6, 7, 9, 1, 2, 3, 4, 5, 6, 7, 8, 9, 1, 2, 3, 4, 5, 6, 1, 2, 3, 4, 5, 6, 1, 2, 3, 4, 5, 6, 7, 8, 9, 1, 2, 3, 4, 5, 6], \"Freq\": [0.2666200042525957, 0.3554933390034609, 0.08887333475086523, 0.08887333475086523, 0.08887333475086523, 0.08887333475086523, 0.24531442967299733, 0.24531442967299733, 0.12265721483649866, 0.06132860741824933, 0.183985822254748, 0.06132860741824933, 0.06132860741824933, 0.4153731237248371, 0.20768656186241854, 0.06922885395413952, 0.06922885395413952, 0.06922885395413952, 0.06922885395413952, 0.13845770790827905, 0.4177512852330511, 0.20887564261652555, 0.06962521420550852, 0.06962521420550852, 0.06962521420550852, 0.06962521420550852, 0.13925042841101704, 0.4221010902281224, 0.2110505451140612, 0.07035018170468707, 0.07035018170468707, 0.07035018170468707, 0.07035018170468707, 0.14070036340937414, 0.19977176119282844, 0.2663623482571046, 0.1331811741285523, 0.06659058706427615, 0.06659058706427615, 0.1331811741285523, 0.06659058706427615, 0.06659058706427615, 0.2586419166725573, 0.3448558888967431, 0.08621397222418578, 0.08621397222418578, 0.08621397222418578, 0.08621397222418578, 0.08621397222418578, 0.22682365260269338, 0.37803942100448895, 0.0756078842008978, 0.22682365260269338, 0.0756078842008978, 0.0756078842008978, 0.25110208459803135, 0.3138776057475392, 0.18832656344852353, 0.06277552114950784, 0.06277552114950784, 0.06277552114950784, 0.06277552114950784, 0.22981072140619205, 0.22981072140619205, 0.076603573802064, 0.076603573802064, 0.076603573802064, 0.22981072140619205, 0.2574700350119449, 0.3432933800159265, 0.08582334500398163, 0.08582334500398163, 0.17164669000796326, 0.08582334500398163, 0.08582334500398163, 0.27020017009075825, 0.43232027214521324, 0.054040034018151654, 0.054040034018151654, 0.054040034018151654, 0.054040034018151654, 0.054040034018151654, 0.25162114705300936, 0.3354948627373458, 0.1677474313686729, 0.08387371568433645, 0.1677474313686729, 0.08387371568433645, 0.22232462264831748, 0.2964328301977567, 0.07410820754943917, 0.07410820754943917, 0.07410820754943917, 0.07410820754943917, 0.07410820754943917, 0.07410820754943917, 0.26352158663587244, 0.26352158663587244, 0.13176079331793622, 0.13176079331793622, 0.08784052887862415, 0.04392026443931207, 0.04392026443931207, 0.04392026443931207, 0.19615182273793708, 0.45768758638851986, 0.19615182273793708, 0.0653839409126457, 0.0653839409126457, 0.0653839409126457, 0.20391753149226605, 0.3398625524871101, 0.06797251049742202, 0.20391753149226605, 0.06797251049742202, 0.06797251049742202, 0.06797251049742202, 0.3355067516106255, 0.2516300637079691, 0.08387668790265637, 0.08387668790265637, 0.08387668790265637, 0.08387668790265637, 0.08387668790265637, 0.2399873230146446, 0.4799746460292892, 0.04799746460292892, 0.04799746460292892, 0.04799746460292892, 0.09599492920585784, 0.04799746460292892, 0.6231235635039366, 0.0934685345255905, 0.06231235635039366, 0.03115617817519683, 0.03115617817519683, 0.12462471270078732, 0.03115617817519683, 0.5968680523423967, 0.17053372924068477, 0.04263343231017119, 0.04263343231017119, 0.04263343231017119, 0.08526686462034239, 0.04263343231017119, 0.23888781793874972, 0.3981463632312495, 0.0796292726462499, 0.0796292726462499, 0.0796292726462499, 0.0796292726462499, 0.0796292726462499, 0.2697091159000978, 0.2697091159000978, 0.08990303863336592, 0.17980607726673184, 0.08990303863336592, 0.08990303863336592, 0.34535668396679703, 0.34535668396679703, 0.09867333827622772, 0.04933666913811386, 0.04933666913811386, 0.04933666913811386, 0.04933666913811386, 0.5194869685815346, 0.14167826415860035, 0.04722608805286678, 0.14167826415860035, 0.04722608805286678, 0.04722608805286678, 0.04722608805286678, 0.04722608805286678, 0.4862641761553477, 0.16208805871844925, 0.05402935290614975, 0.1080587058122995, 0.05402935290614975, 0.05402935290614975, 0.05402935290614975, 0.15310723607062895, 0.6124289442825158, 0.05103574535687632, 0.05103574535687632, 0.05103574535687632, 0.05103574535687632, 0.2298352449449889, 0.5745881123624722, 0.03830587415749815, 0.03830587415749815, 0.03830587415749815, 0.03830587415749815, 0.22871139122143466, 0.5431895541509073, 0.028588923902679333, 0.028588923902679333, 0.028588923902679333, 0.085766771708038, 0.028588923902679333, 0.27788792915941607, 0.27788792915941607, 0.09262930971980535, 0.09262930971980535, 0.09262930971980535, 0.09262930971980535, 0.09262930971980535, 0.316252416003081, 0.3557839680034662, 0.07906310400077025, 0.07906310400077025, 0.03953155200038513, 0.03953155200038513, 0.03953155200038513, 0.03953155200038513, 0.6047375253898748, 0.1649284160154204, 0.0549761386718068, 0.0549761386718068, 0.0549761386718068, 0.0549761386718068, 0.343738292571079, 0.343738292571079, 0.0687476585142158, 0.0687476585142158, 0.0687476585142158, 0.0687476585142158, 0.1374953170284316, 0.35169798216601456, 0.28135838573281163, 0.07033959643320291, 0.07033959643320291, 0.2110187892996087, 0.07033959643320291, 0.2555420482874924, 0.34072273104998985, 0.08518068276249746, 0.08518068276249746, 0.08518068276249746, 0.08518068276249746, 0.08518068276249746, 0.28486532171612183, 0.28486532171612183, 0.09495510723870727, 0.09495510723870727, 0.09495510723870727, 0.09495510723870727, 0.7750638253111993, 0.07750638253111992, 0.025835460843706644, 0.025835460843706644, 0.025835460843706644, 0.025835460843706644, 0.05167092168741329, 0.26141429263914284, 0.26141429263914284, 0.08713809754638095, 0.08713809754638095, 0.08713809754638095, 0.1742761950927619, 0.38391554433179576, 0.19195777216589788, 0.06398592405529929, 0.06398592405529929, 0.06398592405529929, 0.12797184811059859, 0.12797184811059859, 0.5483720867652375, 0.1495560236632466, 0.049852007887748864, 0.049852007887748864, 0.1495560236632466, 0.049852007887748864, 0.049852007887748864, 0.28995751239278583, 0.28995751239278583, 0.09665250413092862, 0.09665250413092862, 0.09665250413092862, 0.09665250413092862, 0.6087031465907697, 0.14046995690556224, 0.046823318968520745, 0.046823318968520745, 0.09364663793704149, 0.046823318968520745, 0.046823318968520745, 0.20030352431804668, 0.4406677534997027, 0.120182114590828, 0.08012140972721868, 0.04006070486360934, 0.04006070486360934, 0.04006070486360934, 0.3174400387318509, 0.3174400387318509, 0.052906673121975153, 0.10581334624395031, 0.10581334624395031, 0.052906673121975153, 0.052906673121975153, 0.052906673121975153, 0.2738726542421008, 0.342340817802626, 0.0684681635605252, 0.0684681635605252, 0.0684681635605252, 0.0684681635605252, 0.1369363271210504, 0.2982597998923217, 0.34086834273408195, 0.042608542841760244, 0.08521708568352049, 0.08521708568352049, 0.042608542841760244, 0.042608542841760244, 0.24217971735755214, 0.4036328622625869, 0.08072657245251738, 0.16145314490503476, 0.08072657245251738, 0.08072657245251738, 0.2767678906099621, 0.33212146873195453, 0.11070715624398483, 0.05535357812199242, 0.05535357812199242, 0.05535357812199242, 0.05535357812199242, 0.2611824250203039, 0.34824323336040525, 0.08706080834010131, 0.08706080834010131, 0.08706080834010131, 0.08706080834010131, 0.17353666034012516, 0.5639941461054068, 0.04338416508503129, 0.04338416508503129, 0.08676833017006258, 0.04338416508503129, 0.34691929666677274, 0.34691929666677274, 0.057819882777795456, 0.057819882777795456, 0.057819882777795456, 0.057819882777795456, 0.057819882777795456, 0.6333869789103997, 0.14616622590239994, 0.048722075300799986, 0.048722075300799986, 0.048722075300799986, 0.048722075300799986, 0.23909095527766866, 0.23909095527766866, 0.23909095527766866, 0.07969698509255622, 0.07969698509255622, 0.07969698509255622, 0.22871528689575574, 0.22871528689575574, 0.07623842896525192, 0.22871528689575574, 0.15247685793050383, 0.07623842896525192, 0.37665006196317397, 0.2636550433742218, 0.07533001239263479, 0.11299501858895218, 0.037665006196317394, 0.037665006196317394, 0.07533001239263479, 0.4124566830302262, 0.25381949724937, 0.09518231146851373, 0.0634548743123425, 0.0634548743123425, 0.03172743715617125, 0.03172743715617125, 0.03172743715617125, 0.6433339131509308, 0.18380968947169452, 0.061269896490564836, 0.030634948245282418, 0.030634948245282418, 0.061269896490564836, 0.5090712373851912, 0.290897849934395, 0.024241487494532917, 0.048482974989065834, 0.048482974989065834, 0.024241487494532917, 0.024241487494532917, 0.024241487494532917, 0.024241487494532917, 0.5321432234201252, 0.19955370878254697, 0.06651790292751565, 0.06651790292751565, 0.06651790292751565, 0.06651790292751565, 0.06651790292751565, 0.4308708107601947, 0.161576554035073, 0.053858851345024335, 0.161576554035073, 0.053858851345024335, 0.053858851345024335, 0.053858851345024335, 0.3823099832891467, 0.34407898496023204, 0.03823099832891467, 0.03823099832891467, 0.11469299498674401, 0.03823099832891467, 0.03823099832891467, 0.13857326555965255, 0.5542930622386102, 0.04619108851988418, 0.04619108851988418, 0.04619108851988418, 0.04619108851988418, 0.39822553333870137, 0.2240018625030195, 0.149334575002013, 0.0746672875010065, 0.0746672875010065, 0.024889095833668835, 0.024889095833668835, 0.024889095833668835, 0.20663201923136698, 0.34438669871894495, 0.20663201923136698, 0.137754679487578, 0.068877339743789, 0.068877339743789, 0.4494345780392087, 0.18726440751633697, 0.11235864450980218, 0.11235864450980218, 0.07490576300653479, 0.03745288150326739, 0.03745288150326739, 0.03745288150326739, 0.2669126894645995, 0.2669126894645995, 0.08897089648819984, 0.17794179297639967, 0.08897089648819984, 0.08897089648819984, 0.3130584019469658, 0.23479380146022436, 0.07826460048674146, 0.07826460048674146, 0.07826460048674146, 0.07826460048674146, 0.07826460048674146, 0.15807985177406372, 0.6323194070962549, 0.0526932839246879, 0.0526932839246879, 0.0526932839246879, 0.0526932839246879, 0.21881987195126237, 0.21881987195126237, 0.07293995731708747, 0.07293995731708747, 0.07293995731708747, 0.14587991463417493, 0.07293995731708747, 0.18509617484093127, 0.43189107462883963, 0.061698724946977083, 0.061698724946977083, 0.12339744989395417, 0.12339744989395417, 0.39815143378780377, 0.23889086027268228, 0.07963028675756076, 0.11944543013634114, 0.03981514337878038, 0.03981514337878038, 0.03981514337878038, 0.23575732212203163, 0.392928870203386, 0.15717154808135442, 0.07858577404067721, 0.07858577404067721, 0.07858577404067721, 0.33517485563552024, 0.2872927334018745, 0.04788212223364575, 0.0957642444672915, 0.04788212223364575, 0.04788212223364575, 0.0957642444672915, 0.3328049492217167, 0.24960371191628752, 0.08320123730542918, 0.08320123730542918, 0.08320123730542918, 0.08320123730542918, 0.08320123730542918, 0.3628034935926143, 0.3628034935926143, 0.04031149928806826, 0.04031149928806826, 0.04031149928806826, 0.04031149928806826, 0.04031149928806826, 0.3172361419321249, 0.3172361419321249, 0.04531944884744641, 0.09063889769489282, 0.09063889769489282, 0.04531944884744641, 0.09063889769489282, 0.417438775838651, 0.2087193879193255, 0.06957312930644184, 0.06957312930644184, 0.06957312930644184, 0.06957312930644184, 0.13914625861288368, 0.20417875984132305, 0.3402979330688718, 0.06805958661377436, 0.1361191732275487, 0.06805958661377436, 0.06805958661377436, 0.06805958661377436, 0.11547383066221258, 0.6158604301984671, 0.0384912768874042, 0.0384912768874042, 0.11547383066221258, 0.0384912768874042, 0.0384912768874042, 0.43751946888482357, 0.18750834380778153, 0.06250278126926051, 0.06250278126926051, 0.06250278126926051, 0.06250278126926051, 0.18750834380778153, 0.2163799361365727, 0.5409498403414317, 0.07212664537885756, 0.03606332268942878, 0.03606332268942878, 0.03606332268942878, 0.03606332268942878, 0.03606332268942878, 0.14456138328429397, 0.6866665706003963, 0.03614034582107349, 0.03614034582107349, 0.03614034582107349, 0.03614034582107349, 0.4548913422098035, 0.12406127514812823, 0.04135375838270941, 0.04135375838270941, 0.04135375838270941, 0.04135375838270941, 0.28947630867896584, 0.48689062277448436, 0.16229687425816144, 0.05409895808605381, 0.05409895808605381, 0.05409895808605381, 0.05409895808605381, 0.16229687425816144, 0.21454241896373524, 0.5095382450388712, 0.05363560474093381, 0.05363560474093381, 0.05363560474093381, 0.08045340711140071, 0.026817802370466905, 0.1401647280764483, 0.6541020643567588, 0.04672157602548277, 0.04672157602548277, 0.04672157602548277, 0.04672157602548277, 0.213531828423106, 0.213531828423106, 0.14235455228207067, 0.14235455228207067, 0.07117727614103533, 0.07117727614103533, 0.14235455228207067, 0.3466787507320334, 0.20800725043922005, 0.13867150029281336, 0.06933575014640668, 0.13867150029281336, 0.06933575014640668, 0.06933575014640668, 0.1596371098081709, 0.5853360692966265, 0.05321236993605696, 0.05321236993605696, 0.05321236993605696, 0.05321236993605696, 0.05321236993605696, 0.7834125944542158, 0.05222750629694772, 0.05222750629694772, 0.05222750629694772, 0.03481833753129848, 0.01740916876564924, 0.6238825933057388, 0.11697798624482603, 0.11697798624482603, 0.038992662081608676, 0.038992662081608676, 0.038992662081608676, 0.3406997289547756, 0.29811226283542863, 0.04258746611934695, 0.0851749322386939, 0.0851749322386939, 0.04258746611934695, 0.04258746611934695, 0.04258746611934695, 0.25173578956819687, 0.33564771942426247, 0.08391192985606562, 0.08391192985606562, 0.08391192985606562, 0.08391192985606562, 0.08391192985606562, 0.08391192985606562, 0.38465112629342707, 0.36202458945263727, 0.06787961052236949, 0.06787961052236949, 0.02262653684078983, 0.02262653684078983, 0.02262653684078983, 0.02262653684078983, 0.02262653684078983, 0.6187040956863591, 0.10918307570935748, 0.036394358569785824, 0.036394358569785824, 0.07278871713957165, 0.036394358569785824, 0.036394358569785824, 0.036394358569785824, 0.6319854710719559, 0.15799636776798898, 0.052665455922662995, 0.052665455922662995, 0.052665455922662995, 0.052665455922662995, 0.052665455922662995, 0.22277898662945853, 0.29703864883927805, 0.29703864883927805, 0.07425966220981951, 0.07425966220981951, 0.07425966220981951, 0.2223867776428614, 0.29651570352381523, 0.29651570352381523, 0.07412892588095381, 0.07412892588095381, 0.07412892588095381, 0.2277965652957972, 0.30372875372772956, 0.2277965652957972, 0.07593218843193239, 0.07593218843193239, 0.07593218843193239, 0.23682729665312058, 0.23682729665312058, 0.15788486443541372, 0.15788486443541372, 0.07894243221770686, 0.07894243221770686, 0.07894243221770686, 0.2534202061599553, 0.2534202061599553, 0.08447340205331844, 0.08447340205331844, 0.08447340205331844, 0.08447340205331844, 0.16894680410663687, 0.2842762628670379, 0.2842762628670379, 0.09475875428901262, 0.09475875428901262, 0.09475875428901262, 0.09475875428901262, 0.09475875428901262, 0.3696995708324036, 0.21125689761851635, 0.15844267321388728, 0.10562844880925817, 0.05281422440462909, 0.05281422440462909, 0.05281422440462909, 0.5617820704145763, 0.21066827640546612, 0.07022275880182204, 0.03511137940091102, 0.03511137940091102, 0.03511137940091102, 0.03511137940091102, 0.36329432585593263, 0.31139513644794226, 0.051899189407990376, 0.051899189407990376, 0.051899189407990376, 0.051899189407990376, 0.10379837881598075, 0.2075541048883021, 0.2767388065177361, 0.2075541048883021, 0.13836940325886804, 0.06918470162943402, 0.06918470162943402, 0.23374364778633253, 0.23374364778633253, 0.15582909852422167, 0.07791454926211083, 0.15582909852422167, 0.07791454926211083, 0.07791454926211083, 0.4042703100962135, 0.2572629246066813, 0.11025553911714914, 0.036751846372383046, 0.036751846372383046, 0.07350369274476609, 0.036751846372383046, 0.3528724655789544, 0.2646543491842158, 0.0882181163947386, 0.0882181163947386, 0.0882181163947386, 0.0882181163947386, 0.0882181163947386, 0.3689298494877472, 0.2683126178092707, 0.033539077226158835, 0.06707815445231767, 0.10061723167847651, 0.06707815445231767, 0.033539077226158835, 0.033539077226158835, 0.2694521587515318, 0.4850138857527572, 0.10778086350061272, 0.05389043175030636, 0.05389043175030636, 0.05389043175030636, 0.05389043175030636, 0.30980904213189825, 0.5089719977881185, 0.04425843459027118, 0.02212921729513559, 0.04425843459027118, 0.02212921729513559, 0.02212921729513559, 0.02212921729513559, 0.20089906040405847, 0.4591978523521337, 0.05739973154401671, 0.05739973154401671, 0.11479946308803342, 0.05739973154401671, 0.028699865772008355, 0.028699865772008355, 0.36547880916750175, 0.18273940458375088, 0.12182626972250059, 0.060913134861250294, 0.12182626972250059, 0.060913134861250294, 0.19223794773812627, 0.5767138432143788, 0.06407931591270875, 0.06407931591270875, 0.06407931591270875, 0.06407931591270875, 0.2535818750249866, 0.3381091666999821, 0.08452729167499552, 0.08452729167499552, 0.08452729167499552, 0.08452729167499552, 0.3505221097395709, 0.26289158230467813, 0.08763052743489272, 0.08763052743489272, 0.08763052743489272, 0.08763052743489272, 0.08763052743489272, 0.1540629316946137, 0.5648974162135835, 0.051354310564871226, 0.051354310564871226, 0.051354310564871226, 0.10270862112974245, 0.23846091033037442, 0.3179478804404992, 0.1589739402202496, 0.1589739402202496, 0.0794869701101248, 0.0794869701101248, 0.0794869701101248, 0.361964337255444, 0.28152781786534536, 0.120654779085148, 0.120654779085148, 0.04021825969504934, 0.04021825969504934, 0.23344653032752857, 0.23344653032752857, 0.0778155101091762, 0.0778155101091762, 0.1556310202183524, 0.0778155101091762, 0.0778155101091762, 0.3320227761149721, 0.19921366566898324, 0.19921366566898324, 0.06640455522299442, 0.13280911044598884, 0.06640455522299442, 0.06640455522299442, 0.2985403676608806, 0.3838376155639893, 0.1279458718546631, 0.042648623951554374, 0.042648623951554374, 0.042648623951554374, 0.042648623951554374, 0.24498799913429048, 0.24498799913429048, 0.16332533275619365, 0.08166266637809683, 0.08166266637809683, 0.08166266637809683, 0.08166266637809683, 0.6464279998345649, 0.13852028567883531, 0.046173428559611776, 0.046173428559611776, 0.046173428559611776, 0.046173428559611776, 0.09234685711922355, 0.2787356581400653, 0.20905174360504897, 0.13936782907003264, 0.20905174360504897, 0.06968391453501632, 0.06968391453501632, 0.06968391453501632, 0.06968391453501632, 0.2679614823941477, 0.2679614823941477, 0.17864098826276514, 0.08932049413138257, 0.08932049413138257, 0.08932049413138257, 0.3982136725006334, 0.1991068362503167, 0.13273789083354445, 0.06636894541677223, 0.13273789083354445, 0.06636894541677223, 0.7480640874289548, 0.07239329878344725, 0.04826219918896483, 0.024131099594482414, 0.04826219918896483, 0.024131099594482414, 0.024131099594482414, 0.6291575328406441, 0.12583150656812883, 0.08388767104541922, 0.04194383552270961, 0.08388767104541922, 0.04194383552270961, 0.656205719596596, 0.12303857242436175, 0.0820257149495745, 0.04101285747478725, 0.04101285747478725, 0.04101285747478725, 0.5634262117171561, 0.22537048468686247, 0.03756174744781041, 0.07512349489562083, 0.03756174744781041, 0.03756174744781041, 0.03756174744781041, 0.03756174744781041, 0.30521954746706736, 0.22891466060030052, 0.07630488686676684, 0.15260977373353368, 0.07630488686676684, 0.07630488686676684, 0.07630488686676684, 0.3804418947285446, 0.27668501434803244, 0.10375688038051217, 0.034585626793504055, 0.10375688038051217, 0.034585626793504055, 0.034585626793504055, 0.034585626793504055, 0.2668875422544316, 0.2668875422544316, 0.1779250281696211, 0.08896251408481055, 0.08896251408481055, 0.08896251408481055, 0.20689168830853216, 0.3448194805142203, 0.06896389610284405, 0.06896389610284405, 0.1379277922056881, 0.06896389610284405, 0.06896389610284405, 0.25504335443536663, 0.25504335443536663, 0.08501445147845553, 0.08501445147845553, 0.17002890295691106, 0.08501445147845553, 0.08501445147845553, 0.6113374865391371, 0.1467209967693929, 0.07336049838469645, 0.07336049838469645, 0.024453499461565484, 0.024453499461565484, 0.024453499461565484, 0.1919851329306672, 0.3839702658613344, 0.0479962832326668, 0.1439888496980004, 0.0959925664653336, 0.0479962832326668, 0.0479962832326668, 0.19153697433854594, 0.4788424358463648, 0.038307394867709184, 0.11492218460312756, 0.09576848716927297, 0.038307394867709184, 0.019153697433854592, 0.019153697433854592, 0.5738146572518473, 0.1324187670581186, 0.04413958901937287, 0.04413958901937287, 0.17655835607749149, 0.04413958901937287, 0.23437739636277735, 0.39062899393796224, 0.1562515975751849, 0.07812579878759245, 0.07812579878759245, 0.07812579878759245, 0.07812579878759245, 0.4398618406346698, 0.2199309203173349, 0.07331030677244497, 0.07331030677244497, 0.07331030677244497, 0.14662061354488995, 0.07331030677244497, 0.42748636924103095, 0.24427792528058911, 0.06106948132014728, 0.12213896264029456, 0.06106948132014728, 0.06106948132014728, 0.06106948132014728, 0.06106948132014728, 0.13470029778173703, 0.6286013896481061, 0.04490009926057901, 0.04490009926057901, 0.04490009926057901, 0.04490009926057901, 0.04490009926057901, 0.04490009926057901, 0.04490009926057901, 0.6797231177006321, 0.2184824306894889, 0.024275825632165432, 0.024275825632165432, 0.024275825632165432, 0.024275825632165432, 0.024275825632165432, 0.024275825632165432, 0.653371437815694, 0.19885217672651553, 0.0568149076361473, 0.02840745381807365, 0.02840745381807365, 0.0568149076361473, 0.30533670607551483, 0.2290025295566361, 0.07633417651887871, 0.07633417651887871, 0.07633417651887871, 0.15266835303775741, 0.07633417651887871, 0.3220281429521013, 0.3220281429521013, 0.09660844288563039, 0.09660844288563039, 0.06440562859042026, 0.03220281429521013, 0.03220281429521013, 0.3732643841301759, 0.3732643841301759, 0.07465287682603518, 0.07465287682603518, 0.07465287682603518, 0.07465287682603518, 0.07465287682603518, 0.07465287682603518, 0.2678832717428257, 0.3125304836999634, 0.13394163587141286, 0.044647211957137625, 0.044647211957137625, 0.044647211957137625, 0.044647211957137625, 0.044647211957137625, 0.15993133997626963, 0.5864149132463219, 0.05331044665875654, 0.05331044665875654, 0.05331044665875654, 0.05331044665875654, 0.05331044665875654, 0.34430480469127217, 0.2065828828147633, 0.13772192187650886, 0.06886096093825443, 0.06886096093825443, 0.06886096093825443, 0.06886096093825443, 0.23551622161918115, 0.4317797396351654, 0.07850540720639371, 0.07850540720639371, 0.07850540720639371, 0.039252703603196853, 0.039252703603196853, 0.039252703603196853, 0.3095794662507062, 0.3095794662507062, 0.12383178650028248, 0.06191589325014124, 0.06191589325014124, 0.06191589325014124, 0.41758301272090903, 0.20879150636045452, 0.05219787659011363, 0.05219787659011363, 0.1565936297703409, 0.05219787659011363, 0.25841534026205004, 0.25841534026205004, 0.08613844675401669, 0.08613844675401669, 0.08613844675401669, 0.08613844675401669, 0.08613844675401669, 0.08613844675401669, 0.27122470935576315, 0.33903088669470394, 0.06780617733894079, 0.06780617733894079, 0.06780617733894079, 0.13561235467788157, 0.2596458042389449, 0.2596458042389449, 0.17309720282596325, 0.08654860141298162, 0.08654860141298162, 0.08654860141298162, 0.1754146654786718, 0.4677724412764581, 0.058471555159557265, 0.058471555159557265, 0.11694311031911453, 0.058471555159557265, 0.058471555159557265, 0.388825429908922, 0.3589157814543895, 0.05981929690906492, 0.05981929690906492, 0.05981929690906492, 0.05981929690906492, 0.02990964845453246, 0.02990964845453246, 0.33685117238824835, 0.20211070343294904, 0.13474046895529934, 0.06737023447764967, 0.13474046895529934, 0.06737023447764967, 0.06737023447764967, 0.3536555794445061, 0.21219334766670364, 0.07073111588890121, 0.07073111588890121, 0.14146223177780243, 0.07073111588890121, 0.07073111588890121, 0.2369294354315703, 0.3159059139087604, 0.1579529569543802, 0.0789764784771901, 0.1579529569543802, 0.0789764784771901, 0.0789764784771901, 0.33097701337094704, 0.1985862080225682, 0.0661954026741894, 0.0661954026741894, 0.1323908053483788, 0.0661954026741894, 0.32358030268994425, 0.24268522701745818, 0.08089507567248606, 0.08089507567248606, 0.08089507567248606, 0.16179015134497213, 0.23599269373737403, 0.23599269373737403, 0.07866423124579133, 0.07866423124579133, 0.07866423124579133, 0.23599269373737403, 0.34572729228943505, 0.31115456306049155, 0.06914545845788701, 0.034572729228943506, 0.10371818768683053, 0.06914545845788701, 0.034572729228943506, 0.34492333712407347, 0.34492333712407347, 0.03832481523600816, 0.03832481523600816, 0.1149744457080245, 0.03832481523600816, 0.03832481523600816, 0.36272584841870786, 0.29018067873496634, 0.07254516968374158, 0.07254516968374158, 0.07254516968374158, 0.07254516968374158, 0.14509033936748317, 0.3569820819781301, 0.21418924918687807, 0.07139641639562602, 0.07139641639562602, 0.07139641639562602, 0.07139641639562602, 0.14279283279125204, 0.24774396133873489, 0.3303252817849799, 0.08258132044624497, 0.08258132044624497, 0.08258132044624497, 0.08258132044624497, 0.08258132044624497, 0.6206142131610135, 0.190958219434158, 0.0477395548585395, 0.0477395548585395, 0.0477395548585395, 0.0477395548585395, 0.0477395548585395, 0.4283269228964582, 0.3059478020688987, 0.061189560413779744, 0.061189560413779744, 0.061189560413779744, 0.061189560413779744, 0.22352217386185555, 0.3725369564364259, 0.07450739128728519, 0.22352217386185555, 0.07450739128728519, 0.07450739128728519, 0.226398590397297, 0.37733098399549503, 0.07546619679909901, 0.07546619679909901, 0.07546619679909901, 0.07546619679909901, 0.07546619679909901, 0.3365033561022264, 0.14421572404381133, 0.28843144808762267, 0.04807190801460377, 0.04807190801460377, 0.04807190801460377, 0.04807190801460377, 0.04807190801460377, 0.2538729937932531, 0.2538729937932531, 0.08462433126441771, 0.08462433126441771, 0.08462433126441771, 0.2538729937932531, 0.05040270432696182, 0.6720360576928242, 0.08400450721160302, 0.03360180288464121, 0.03360180288464121, 0.06720360576928242, 0.016800901442320604, 0.09777395633221955, 0.4236871441062847, 0.09777395633221955, 0.13036527510962606, 0.13036527510962606, 0.06518263755481303, 0.032591318777406515, 0.4691920802936689, 0.25592295288745576, 0.08530765096248524, 0.04265382548124262, 0.04265382548124262, 0.04265382548124262, 0.08530765096248524, 0.3436068701194106, 0.22907124674627372, 0.11453562337313686, 0.05726781168656843, 0.11453562337313686, 0.05726781168656843, 0.11453562337313686, 0.22551587026525394, 0.5154648463205804, 0.06443310579007255, 0.03221655289503628, 0.06443310579007255, 0.03221655289503628, 0.03221655289503628, 0.03221655289503628, 0.4364850272117633, 0.2546162658735286, 0.07274750453529388, 0.03637375226764694, 0.10912125680294082, 0.03637375226764694, 0.03637375226764694, 0.15373637596259365, 0.6149455038503746, 0.051245458654197884, 0.051245458654197884, 0.051245458654197884, 0.051245458654197884, 0.3534345337182947, 0.265075900288721, 0.08835863342957367, 0.08835863342957367, 0.08835863342957367, 0.08835863342957367, 0.22339283452170808, 0.37232139086951344, 0.22339283452170808, 0.07446427817390269, 0.07446427817390269, 0.07446427817390269, 0.581245342152811, 0.13839174813162167, 0.027678349626324334, 0.027678349626324334, 0.027678349626324334, 0.027678349626324334, 0.19374844738427036, 0.39639859220824325, 0.2831418515773166, 0.05662837031546332, 0.05662837031546332, 0.08494255547319497, 0.02831418515773166, 0.05662837031546332, 0.31068698088315233, 0.4660304713247285, 0.058253808915591065, 0.01941793630519702, 0.03883587261039404, 0.058253808915591065, 0.01941793630519702, 0.01941793630519702, 0.25717038183123386, 0.25717038183123386, 0.08572346061041128, 0.17144692122082256, 0.08572346061041128, 0.08572346061041128, 0.18330257791531865, 0.4277060151357435, 0.12220171861021244, 0.06110085930510622, 0.06110085930510622, 0.06110085930510622, 0.2004882690677202, 0.2004882690677202, 0.0668294230225734, 0.0668294230225734, 0.0668294230225734, 0.2004882690677202, 0.1336588460451468, 0.1336588460451468, 0.24203755321049483, 0.24203755321049483, 0.08067918440349828, 0.08067918440349828, 0.08067918440349828, 0.16135836880699655, 0.08067918440349828, 0.08067918440349828, 0.21115985940523277, 0.28154647920697706, 0.07038661980174427, 0.07038661980174427, 0.07038661980174427, 0.21115985940523277, 0.07038661980174427, 0.07038661980174427, 0.2660076787669764, 0.4655134378422087, 0.0665019196917441, 0.03325095984587205, 0.03325095984587205, 0.0665019196917441, 0.03325095984587205, 0.3539674362916007, 0.3539674362916007, 0.04424592953645009, 0.04424592953645009, 0.04424592953645009, 0.08849185907290018, 0.04424592953645009, 0.37517547945069635, 0.3410686176824512, 0.03410686176824512, 0.03410686176824512, 0.03410686176824512, 0.06821372353649025, 0.06821372353649025, 0.3276420283562062, 0.24573152126715464, 0.1638210141781031, 0.08191050708905155, 0.08191050708905155, 0.08191050708905155, 0.08191050708905155, 0.22229528552988778, 0.44459057105977556, 0.0740984285099626, 0.0740984285099626, 0.0740984285099626, 0.0740984285099626, 0.0740984285099626, 0.25510616959850546, 0.25510616959850546, 0.08503538986616849, 0.25510616959850546, 0.08503538986616849, 0.08503538986616849, 0.2850932110897912, 0.2850932110897912, 0.09503107036326373, 0.09503107036326373, 0.09503107036326373, 0.09503107036326373, 0.09503107036326373, 0.22748509282386717, 0.5199659264545535, 0.032497870403409596, 0.06499574080681919, 0.06499574080681919, 0.032497870403409596, 0.032497870403409596, 0.2853872202207175, 0.5073550581701645, 0.03170969113563528, 0.06341938227127056, 0.03170969113563528, 0.03170969113563528, 0.03170969113563528, 0.15174979418577528, 0.6069991767431011, 0.05058326472859176, 0.10116652945718352, 0.05058326472859176, 0.05058326472859176, 0.05058326472859176, 0.27791868105969714, 0.27791868105969714, 0.09263956035323237, 0.09263956035323237, 0.09263956035323237, 0.09263956035323237, 0.24565803421416468, 0.24565803421416468, 0.18424352566062352, 0.12282901710708234, 0.06141450855354117, 0.06141450855354117, 0.19270736588467, 0.4496505203975633, 0.06423578862822332, 0.06423578862822332, 0.12847157725644665, 0.12847157725644665, 0.12052156828828346, 0.6427816975375118, 0.04017385609609449, 0.12052156828828346, 0.04017385609609449, 0.04017385609609449, 0.20137844942935332, 0.5370091984782756, 0.06712614980978444, 0.06712614980978444, 0.06712614980978444, 0.06712614980978444, 0.2844093522817763, 0.4266140284226644, 0.035551169035222034, 0.035551169035222034, 0.035551169035222034, 0.07110233807044407, 0.035551169035222034, 0.47282302499893414, 0.18912920999957364, 0.09456460499978682, 0.09456460499978682, 0.04728230249989341, 0.04728230249989341, 0.04728230249989341, 0.27017145954248833, 0.36022861272331774, 0.09005715318082944, 0.09005715318082944, 0.09005715318082944, 0.09005715318082944, 0.09005715318082944, 0.44206845196086125, 0.19647486753816057, 0.04911871688454014, 0.04911871688454014, 0.04911871688454014, 0.19647486753816057, 0.04911871688454014, 0.35696845277791606, 0.4164631949075688, 0.05949474212965268, 0.05949474212965268, 0.05949474212965268, 0.05949474212965268, 0.2509598507267939, 0.2509598507267939, 0.08365328357559795, 0.08365328357559795, 0.1673065671511959, 0.08365328357559795, 0.08365328357559795, 0.7215430036055067, 0.0801714448450563, 0.0267238149483521, 0.0267238149483521, 0.0267238149483521, 0.0267238149483521, 0.0801714448450563, 0.23519342068248492, 0.23519342068248492, 0.07839780689416165, 0.3135912275766466, 0.07839780689416165, 0.07839780689416165, 0.21012079327926014, 0.21012079327926014, 0.14008052885284009, 0.07004026442642004, 0.07004026442642004, 0.14008052885284009, 0.07004026442642004, 0.5380096764862274, 0.16140290294586826, 0.05380096764862275, 0.05380096764862275, 0.05380096764862275, 0.05380096764862275, 0.05380096764862275, 0.05380096764862275, 0.22208913790559107, 0.29611885054078807, 0.14805942527039404, 0.07402971263519702, 0.07402971263519702, 0.07402971263519702, 0.07402971263519702, 0.17223704599589437, 0.459298789322385, 0.057412348665298124, 0.057412348665298124, 0.057412348665298124, 0.17223704599589437, 0.057412348665298124, 0.057412348665298124, 0.21872741687185746, 0.4921366879616793, 0.10936370843592873, 0.054681854217964364, 0.027340927108982182, 0.054681854217964364, 0.027340927108982182, 0.027340927108982182, 0.5455817351319514, 0.2182326940527806, 0.027279086756597574, 0.027279086756597574, 0.027279086756597574, 0.05455817351319515, 0.05455817351319515, 0.3249662701148755, 0.2599730160919004, 0.0649932540229751, 0.0649932540229751, 0.1299865080459502, 0.0649932540229751, 0.0649932540229751, 0.35016391233370064, 0.29180326027808384, 0.11672130411123355, 0.058360652055616774, 0.17508195616685032, 0.058360652055616774, 0.16158126088935054, 0.37702294207515125, 0.05386042029645018, 0.05386042029645018, 0.05386042029645018, 0.05386042029645018, 0.2693021014822509, 0.31432307100093176, 0.31432307100093176, 0.07858076775023294, 0.07858076775023294, 0.07858076775023294, 0.07858076775023294, 0.07858076775023294, 0.3802838669612563, 0.30422709356900507, 0.07605677339225127, 0.07605677339225127, 0.07605677339225127, 0.07605677339225127, 0.07605677339225127, 0.3971841255839917, 0.31774730046719335, 0.07943682511679834, 0.07943682511679834, 0.07943682511679834, 0.07943682511679834, 0.07943682511679834, 0.3603567380994788, 0.21621404285968732, 0.21621404285968732, 0.07207134761989577, 0.07207134761989577, 0.07207134761989577, 0.3067445841628901, 0.3680935009954681, 0.06134891683257802, 0.09202337524886703, 0.06134891683257802, 0.03067445841628901, 0.06134891683257802, 0.5032056004636624, 0.20128224018546495, 0.05032056004636624, 0.05032056004636624, 0.1509616801390987, 0.05032056004636624, 0.11891905019189475, 0.6738746177540702, 0.0792793667945965, 0.03963968339729825, 0.03963968339729825, 0.03963968339729825, 0.3845241911579309, 0.3845241911579309, 0.07690483823158618, 0.05126989215439079, 0.05126989215439079, 0.025634946077195395, 0.025634946077195395, 0.28731656289686774, 0.28731656289686774, 0.09577218763228924, 0.09577218763228924, 0.09577218763228924, 0.09577218763228924, 0.2562450253363898, 0.3416600337818531, 0.08541500844546328, 0.08541500844546328, 0.08541500844546328, 0.08541500844546328, 0.08541500844546328, 0.7292250954936571, 0.104175013641951, 0.034725004547317, 0.034725004547317, 0.034725004547317, 0.034725004547317, 0.034725004547317, 0.253342484453293, 0.253342484453293, 0.08444749481776433, 0.16889498963552865, 0.08444749481776433, 0.08444749481776433, 0.08444749481776433, 0.24574243678274463, 0.32765658237699286, 0.08191414559424821, 0.08191414559424821, 0.08191414559424821, 0.08191414559424821, 0.16382829118849643, 0.19779517492566293, 0.4944879373141573, 0.06593172497522097, 0.06593172497522097, 0.032965862487610485, 0.06593172497522097, 0.032965862487610485, 0.032965862487610485, 0.1570208217142651, 0.36638191733328523, 0.052340273904755034, 0.052340273904755034, 0.052340273904755034, 0.2617013695237752, 0.1258065530350474, 0.629032765175237, 0.04193551767834913, 0.04193551767834913, 0.04193551767834913, 0.08387103535669826, 0.04193551767834913, 0.21076868190434814, 0.21076868190434814, 0.21076868190434814, 0.042153736380869625, 0.042153736380869625, 0.1686149455234785, 0.042153736380869625, 0.042153736380869625, 0.307185095277128, 0.230388821457846, 0.153592547638564, 0.076796273819282, 0.076796273819282, 0.153592547638564, 0.076796273819282, 0.19397480525489544, 0.3232913420914924, 0.12931653683659697, 0.06465826841829848, 0.06465826841829848, 0.06465826841829848, 0.06465826841829848, 0.06465826841829848, 0.225583648280697, 0.300778197707596, 0.075194549426899, 0.225583648280697, 0.075194549426899, 0.075194549426899, 0.2174368594366592, 0.3805145040141536, 0.0543592148591648, 0.0543592148591648, 0.0543592148591648, 0.1087184297183296, 0.0543592148591648, 0.0543592148591648, 0.33986688478204335, 0.2913144726703229, 0.04855241211172048, 0.04855241211172048, 0.14565723633516145, 0.04855241211172048, 0.04855241211172048, 0.2491721251726434, 0.2491721251726434, 0.0830573750575478, 0.1661147501150956, 0.0830573750575478, 0.0830573750575478, 0.2719149294299467, 0.2719149294299467, 0.13595746471497336, 0.13595746471497336, 0.06797873235748668, 0.06797873235748668, 0.1473231660897865, 0.589292664359146, 0.09821544405985766, 0.04910772202992883, 0.04910772202992883, 0.04910772202992883, 0.17475710726311933, 0.46601895270165156, 0.058252369087706445, 0.058252369087706445, 0.058252369087706445, 0.17475710726311933, 0.3494554699151227, 0.2717986988228732, 0.07765677109224949, 0.03882838554612474, 0.07765677109224949, 0.07765677109224949, 0.07765677109224949, 0.28614758510694455, 0.42922137766041685, 0.07153689627673614, 0.07153689627673614, 0.07153689627673614, 0.07153689627673614, 0.07153689627673614, 0.07153689627673614, 0.5039589934211905, 0.16798633114039685, 0.06719453245615874, 0.10079179868423811, 0.06719453245615874, 0.03359726622807937, 0.03359726622807937, 0.4128908351925309, 0.22938379732918382, 0.04587675946583677, 0.09175351893167354, 0.04587675946583677, 0.04587675946583677, 0.04587675946583677, 0.04587675946583677, 0.38246543960315643, 0.31497153849671705, 0.06749390110643937, 0.06749390110643937, 0.02249796703547979, 0.04499593407095958, 0.04499593407095958, 0.02249796703547979, 0.3142559788948477, 0.3142559788948477, 0.07856399472371192, 0.07856399472371192, 0.07856399472371192, 0.07856399472371192, 0.07856399472371192, 0.07856399472371192, 0.18917827081785607, 0.5675348124535682, 0.06305942360595201, 0.06305942360595201, 0.06305942360595201, 0.06305942360595201, 0.267456741917752, 0.267456741917752, 0.17830449461183467, 0.08915224730591734, 0.08915224730591734, 0.08915224730591734, 0.08915224730591734, 0.6222913497288992, 0.19651305780912606, 0.03275217630152101, 0.06550435260304202, 0.03275217630152101, 0.03275217630152101, 0.22210118957945335, 0.37016864929908894, 0.07403372985981779, 0.07403372985981779, 0.07403372985981779, 0.14806745971963559, 0.07403372985981779, 0.21130755020524566, 0.42261510041049133, 0.07043585006841521, 0.07043585006841521, 0.07043585006841521, 0.07043585006841521, 0.07043585006841521, 0.3521622140636713, 0.3521622140636713, 0.08804055351591783, 0.08804055351591783, 0.044020276757958915, 0.044020276757958915, 0.044020276757958915, 0.2689158580170288, 0.35855447735603835, 0.08963861933900959, 0.08963861933900959, 0.08963861933900959, 0.08963861933900959, 0.08963861933900959, 0.08963861933900959, 0.22024077816497242, 0.38542136178870173, 0.11012038908248621, 0.055060194541243106, 0.055060194541243106, 0.11012038908248621, 0.055060194541243106, 0.055060194541243106, 0.19035825887683183, 0.31726376479471974, 0.19035825887683183, 0.12690550591788788, 0.06345275295894394, 0.06345275295894394, 0.06345275295894394, 0.32860100314988006, 0.24645075236241004, 0.16430050157494003, 0.16430050157494003, 0.08215025078747001, 0.08215025078747001, 0.24671528792724884, 0.3454014030981484, 0.09868611517089954, 0.09868611517089954, 0.04934305758544977, 0.04934305758544977, 0.04934305758544977, 0.04934305758544977, 0.04934305758544977, 0.2961997303876352, 0.2961997303876352, 0.059239946077527035, 0.11847989215505407, 0.059239946077527035, 0.059239946077527035, 0.059239946077527035, 0.059239946077527035, 0.24381353287099702, 0.24381353287099702, 0.16254235524733135, 0.08127117762366567, 0.08127117762366567, 0.08127117762366567, 0.08127117762366567, 0.2840270079600994, 0.2840270079600994, 0.09467566932003313, 0.09467566932003313, 0.09467566932003313, 0.18935133864006626, 0.4668303778396098, 0.1556101259465366, 0.051870041982178865, 0.051870041982178865, 0.051870041982178865, 0.1556101259465366, 0.051870041982178865, 0.051870041982178865, 0.3498996707631531, 0.3498996707631531, 0.08747491769078827, 0.08747491769078827, 0.08747491769078827, 0.08747491769078827, 0.2813414378842423, 0.3751219171789898, 0.09378047929474745, 0.09378047929474745, 0.09378047929474745, 0.09378047929474745, 0.3412098878597521, 0.2559074158948141, 0.08530247196493802, 0.08530247196493802, 0.17060494392987605, 0.08530247196493802, 0.08530247196493802, 0.23872681811933233, 0.23872681811933233, 0.07957560603977744, 0.07957560603977744, 0.07957560603977744, 0.07957560603977744, 0.07957560603977744, 0.07957560603977744, 0.1854738912190526, 0.30912315203175433, 0.06182463040635087, 0.1854738912190526, 0.06182463040635087, 0.06182463040635087, 0.06182463040635087, 0.482220744130136, 0.241110372065068, 0.060277593016267, 0.060277593016267, 0.060277593016267, 0.060277593016267, 0.060277593016267, 0.23622510054178356, 0.330715140758497, 0.23622510054178356, 0.04724502010835671, 0.04724502010835671, 0.04724502010835671, 0.04724502010835671, 0.2516939729183259, 0.41948995486387647, 0.0838979909727753, 0.0838979909727753, 0.0838979909727753, 0.0838979909727753, 0.623523664204851, 0.16265834718387417, 0.08132917359193709, 0.05421944906129139, 0.027109724530645696, 0.027109724530645696, 0.027109724530645696, 0.2395756453269171, 0.39929274221152855, 0.07985854844230571, 0.07985854844230571, 0.07985854844230571, 0.07985854844230571, 0.39780682739863293, 0.2841477338561664, 0.11365909354246656, 0.05682954677123328, 0.05682954677123328, 0.05682954677123328, 0.05682954677123328, 0.05682954677123328, 0.36880307693296926, 0.28684683761453167, 0.040978119659218805, 0.12293435897765642, 0.08195623931843761, 0.040978119659218805, 0.040978119659218805, 0.2154400017873767, 0.34470400285980274, 0.08617600071495068, 0.08617600071495068, 0.04308800035747534, 0.12926400107242603, 0.04308800035747534, 0.04308800035747534, 0.30921791312403124, 0.24737433049922503, 0.12368716524961251, 0.18553074787441876, 0.12368716524961251, 0.061843582624806256, 0.26172979487378956, 0.34897305983171945, 0.08724326495792986, 0.08724326495792986, 0.08724326495792986, 0.17448652991585972, 0.21934466698237004, 0.47524677846180174, 0.10967233349118502, 0.03655744449706167, 0.03655744449706167, 0.03655744449706167, 0.03655744449706167, 0.17052221267710366, 0.511566638031311, 0.1023133276062622, 0.1023133276062622, 0.034104442535420734, 0.034104442535420734, 0.034104442535420734, 0.034104442535420734, 0.3366022696302887, 0.3366022696302887, 0.061200412660052494, 0.061200412660052494, 0.09180061899007874, 0.061200412660052494, 0.030600206330026247, 0.030600206330026247, 0.030600206330026247, 0.4318541403024305, 0.16194530261341145, 0.053981767537803815, 0.053981767537803815, 0.16194530261341145, 0.053981767537803815, 0.053981767537803815, 0.2569885181013745, 0.2569885181013745, 0.08566283936712484, 0.08566283936712484, 0.17132567873424967, 0.08566283936712484, 0.08566283936712484, 0.3171457141441203, 0.23785928560809022, 0.07928642853603007, 0.15857285707206015, 0.07928642853603007, 0.07928642853603007, 0.2168154197584266, 0.2890872263445688, 0.0722718065861422, 0.0722718065861422, 0.1445436131722844, 0.0722718065861422, 0.12107305701812379, 0.565007599417911, 0.04035768567270793, 0.08071537134541586, 0.08071537134541586, 0.04035768567270793, 0.04035768567270793, 0.12479019052450852, 0.5823542224477064, 0.04159673017483617, 0.08319346034967234, 0.08319346034967234, 0.04159673017483617, 0.04159673017483617, 0.2853468864568284, 0.3566836080710355, 0.2140101648426213, 0.0713367216142071, 0.0713367216142071, 0.0713367216142071, 0.1885704618515518, 0.4714261546288795, 0.06285682061718394, 0.03142841030859197, 0.1885704618515518, 0.03142841030859197, 0.18209223900327678, 0.42488189100764584, 0.060697413001092264, 0.060697413001092264, 0.18209223900327678, 0.060697413001092264, 0.060697413001092264, 0.1570257013216421, 0.575760904846021, 0.052341900440547366, 0.052341900440547366, 0.052341900440547366, 0.052341900440547366, 0.7033244155878018, 0.1507123747688147, 0.02511872912813578, 0.02511872912813578, 0.02511872912813578, 0.02511872912813578, 0.02511872912813578, 0.43830373514776055, 0.21915186757388028, 0.07305062252462677, 0.07305062252462677, 0.07305062252462677, 0.07305062252462677, 0.14610124504925354, 0.2680926535261514, 0.375329714936612, 0.05361853070523028, 0.10723706141046056, 0.05361853070523028, 0.05361853070523028, 0.10723706141046056, 0.33262829974994457, 0.1900733141428255, 0.09503665707141275, 0.1425549856071191, 0.09503665707141275, 0.047518328535706374, 0.047518328535706374, 0.047518328535706374, 0.047518328535706374, 0.400677823475605, 0.2253812757050278, 0.050084727934450624, 0.10016945586890125, 0.050084727934450624, 0.050084727934450624, 0.07512709190167594, 0.025042363967225312, 0.31123035108950353, 0.31123035108950353, 0.05187172518158393, 0.10374345036316786, 0.05187172518158393, 0.05187172518158393, 0.10374345036316786, 0.20325242213883998, 0.33875403689806666, 0.13550161475922665, 0.06775080737961332, 0.06775080737961332, 0.06775080737961332, 0.06775080737961332, 0.06775080737961332, 0.36809120817929486, 0.36809120817929486, 0.09202280204482371, 0.09202280204482371, 0.09202280204482371, 0.09202280204482371, 0.2602658757688052, 0.2602658757688052, 0.17351058384587015, 0.08675529192293507, 0.08675529192293507, 0.08675529192293507, 0.08675529192293507, 0.08675529192293507, 0.2960904342434661, 0.22206782568259956, 0.07402260856086652, 0.22206782568259956, 0.07402260856086652, 0.07402260856086652, 0.07402260856086652, 0.13595819486216418, 0.6344715760234327, 0.045319398287388055, 0.045319398287388055, 0.09063879657477611, 0.045319398287388055, 0.14152027018245, 0.61325450412395, 0.047173423394149996, 0.047173423394149996, 0.09434684678829999, 0.047173423394149996, 0.2676976774922576, 0.4589103042724416, 0.038242525356036804, 0.038242525356036804, 0.038242525356036804, 0.07648505071207361, 0.2733382788720055, 0.2733382788720055, 0.09111275962400182, 0.09111275962400182, 0.09111275962400182, 0.18222551924800365, 0.09111275962400182, 0.09111275962400182, 0.1834062169826828, 0.5502186509480484, 0.061135405660894274, 0.061135405660894274, 0.061135405660894274, 0.061135405660894274, 0.061135405660894274, 0.4406964769841609, 0.22034823849208046, 0.07344941283069349, 0.07344941283069349, 0.07344941283069349, 0.14689882566138698, 0.6491028928070649, 0.10818381546784415, 0.03606127182261472, 0.03606127182261472, 0.03606127182261472, 0.03606127182261472, 0.07212254364522944, 0.29581810794214836, 0.29581810794214836, 0.09860603598071613, 0.09860603598071613, 0.09860603598071613, 0.09860603598071613, 0.17285177275673536, 0.5185553182702061, 0.057617257585578445, 0.057617257585578445, 0.057617257585578445, 0.057617257585578445, 0.057617257585578445, 0.6296564564936449, 0.14530533611391805, 0.04843511203797268, 0.04843511203797268, 0.04843511203797268, 0.04843511203797268, 0.04843511203797268, 0.35253356254040263, 0.2350223750269351, 0.07834079167564503, 0.039170395837822516, 0.039170395837822516, 0.1958519791891126, 0.039170395837822516, 0.2563767908615507, 0.4272946514359178, 0.04272946514359178, 0.04272946514359178, 0.12818839543077534, 0.04272946514359178, 0.2884315973473476, 0.2884315973473476, 0.1442157986736738, 0.0961438657824492, 0.0961438657824492, 0.0480719328912246, 0.0480719328912246, 0.24670121512857715, 0.32893495350476953, 0.16446747675238477, 0.08223373837619238, 0.08223373837619238, 0.08223373837619238, 0.08223373837619238, 0.08223373837619238, 0.596474277750671, 0.13764791025015483, 0.04588263675005161, 0.04588263675005161, 0.04588263675005161, 0.04588263675005161, 0.13764791025015483, 0.4136091155814957, 0.2757394103876638, 0.06893485259691595, 0.06893485259691595, 0.06893485259691595, 0.06893485259691595, 0.06893485259691595, 0.4787799599477474, 0.2659888666376375, 0.053197773327527495, 0.053197773327527495, 0.07979665999129124, 0.053197773327527495, 0.026598886663763747, 0.026598886663763747, 0.026598886663763747, 0.21520424799418147, 0.47344934558719926, 0.0860816991976726, 0.0430408495988363, 0.0430408495988363, 0.0860816991976726, 0.0430408495988363, 0.2500846812064387, 0.41680780201073114, 0.08336156040214623, 0.08336156040214623, 0.08336156040214623, 0.08336156040214623, 0.32827192388559284, 0.32827192388559284, 0.05471198731426547, 0.16413596194279642, 0.05471198731426547, 0.05471198731426547, 0.3242721442486752, 0.3783175016234544, 0.054045357374779196, 0.054045357374779196, 0.10809071474955839, 0.054045357374779196, 0.32914503971015047, 0.24685877978261284, 0.08228625992753762, 0.08228625992753762, 0.08228625992753762, 0.08228625992753762, 0.08228625992753762, 0.18084694330339812, 0.3164821507809467, 0.18084694330339812, 0.04521173582584953, 0.04521173582584953, 0.09042347165169906, 0.04521173582584953, 0.04521173582584953, 0.3336698590324666, 0.3575034203919285, 0.1430013681567714, 0.0476671227189238, 0.0238335613594619, 0.0476671227189238, 0.0238335613594619, 0.0238335613594619, 0.24329887846389264, 0.43793798123500677, 0.09731955138555706, 0.04865977569277853, 0.04865977569277853, 0.04865977569277853, 0.04865977569277853, 0.04865977569277853, 0.3533797540083431, 0.2944831283402859, 0.05889662566805718, 0.05889662566805718, 0.05889662566805718, 0.05889662566805718, 0.05889662566805718, 0.21521310526139306, 0.28695080701519077, 0.21521310526139306, 0.07173770175379769, 0.07173770175379769, 0.07173770175379769, 0.2812068248799107, 0.2812068248799107, 0.09373560829330357, 0.09373560829330357, 0.09373560829330357, 0.09373560829330357, 0.2591195443426998, 0.2591195443426998, 0.0863731814475666, 0.2591195443426998, 0.0863731814475666, 0.0863731814475666, 0.28666139043229627, 0.21499604282422222, 0.14333069521614814, 0.07166534760807407, 0.07166534760807407, 0.14333069521614814, 0.07166534760807407, 0.5471409865050186, 0.09655429173617974, 0.09655429173617974, 0.09655429173617974, 0.09655429173617974, 0.06436952782411984, 0.03218476391205992, 0.2277920279259391, 0.2277920279259391, 0.2277920279259391, 0.15186135195062608, 0.07593067597531304, 0.07593067597531304, 0.26881693955333613, 0.26881693955333613, 0.08960564651777872, 0.08960564651777872, 0.08960564651777872, 0.17921129303555744, 0.5579728465633901, 0.14683495962194476, 0.058733983848777906, 0.08810097577316686, 0.08810097577316686, 0.029366991924388953, 0.058733983848777906, 0.4032449998813639, 0.4244684209277515, 0.06367026313916273, 0.021223421046387577, 0.042446842092775154, 0.021223421046387577, 0.021223421046387577, 0.1903597448526279, 0.3807194897052558, 0.1903597448526279, 0.0634532482842093, 0.0634532482842093, 0.0634532482842093, 0.0634532482842093, 0.26032422961971646, 0.26032422961971646, 0.08677474320657215, 0.26032422961971646, 0.08677474320657215, 0.08677474320657215, 0.15974954285002477, 0.5857483237834241, 0.05324984761667492, 0.10649969523334984, 0.05324984761667492, 0.05324984761667492, 0.2765503990328878, 0.38717055864604294, 0.05531007980657757, 0.05531007980657757, 0.11062015961315513, 0.05531007980657757, 0.5076353046312666, 0.1450386584660762, 0.0725193292330381, 0.10877899384955714, 0.10877899384955714, 0.03625966461651905, 0.03625966461651905, 0.22359534301314726, 0.22359534301314726, 0.14906356200876483, 0.07453178100438242, 0.07453178100438242, 0.07453178100438242, 0.07453178100438242, 0.07453178100438242, 0.24597884813352686, 0.24597884813352686, 0.16398589875568456, 0.08199294937784228, 0.08199294937784228, 0.08199294937784228, 0.6497026969174804, 0.14437837709277343, 0.03609459427319336, 0.03609459427319336, 0.03609459427319336, 0.03609459427319336, 0.07218918854638672, 0.4098979139499758, 0.28933970396468883, 0.07233492599117221, 0.07233492599117221, 0.0482232839941148, 0.0482232839941148, 0.0241116419970574, 0.0241116419970574, 0.23269252666492565, 0.31025670221990087, 0.07756417555497522, 0.23269252666492565, 0.07756417555497522, 0.07756417555497522, 0.23652107749052648, 0.23652107749052648, 0.17739080811789484, 0.11826053874526324, 0.05913026937263162, 0.05913026937263162, 0.05913026937263162, 0.2608765951501929, 0.2608765951501929, 0.2608765951501929, 0.08695886505006431, 0.08695886505006431, 0.08695886505006431, 0.6560584423567617, 0.08946251486683114, 0.029820838288943715, 0.029820838288943715, 0.029820838288943715, 0.05964167657788743, 0.05964167657788743, 0.2835739492045776, 0.2835739492045776, 0.0708934873011444, 0.1417869746022888, 0.1417869746022888, 0.0708934873011444, 0.2765402654526372, 0.2765402654526372, 0.1843601769684248, 0.0921800884842124, 0.0921800884842124, 0.0921800884842124, 0.3429074947401646, 0.3429074947401646, 0.05715124912336077, 0.05715124912336077, 0.05715124912336077, 0.028575624561680384, 0.11430249824672153, 0.43644326455739, 0.218221632278695, 0.07274054409289835, 0.07274054409289835, 0.07274054409289835, 0.07274054409289835, 0.1454810881857967, 0.20817769745926432, 0.36431097055371253, 0.20817769745926432, 0.05204442436481608, 0.05204442436481608, 0.05204442436481608, 0.05204442436481608, 0.15934544652910837, 0.5842666372733973, 0.05311514884303612, 0.05311514884303612, 0.05311514884303612, 0.05311514884303612, 0.05311514884303612, 0.37265313987877635, 0.3353878258908987, 0.07453062797575527, 0.037265313987877635, 0.1117959419636329, 0.07453062797575527, 0.037265313987877635, 0.037265313987877635, 0.24047701798032609, 0.3206360239737681, 0.08015900599344203, 0.08015900599344203, 0.08015900599344203, 0.16031801198688406, 0.08015900599344203, 0.1292759068720989, 0.5601955964457618, 0.04309196895736629, 0.1292759068720989, 0.08618393791473258, 0.04309196895736629, 0.5410548149945174, 0.20289555562294398, 0.022543950624771554, 0.06763185187431467, 0.04508790124954311, 0.06763185187431467, 0.04508790124954311, 0.3702188837797973, 0.08543512702610706, 0.02847837567536902, 0.4841323864812734, 0.02847837567536902, 0.02847837567536902, 0.4960531616684507, 0.16535105388948357, 0.05511701796316119, 0.16535105388948357, 0.05511701796316119, 0.05511701796316119, 0.3562087831040027, 0.17810439155200136, 0.05936813051733379, 0.296840652586669, 0.05936813051733379, 0.05936813051733379, 0.5966236007153395, 0.16271552746781986, 0.05423850915593995, 0.05423850915593995, 0.05423850915593995, 0.05423850915593995, 0.5156755155219862, 0.24426734945778295, 0.05428163321284065, 0.027140816606420325, 0.05428163321284065, 0.027140816606420325, 0.027140816606420325, 0.1640313867335703, 0.42648160550728276, 0.06561255469342811, 0.09841883204014218, 0.06561255469342811, 0.09841883204014218, 0.032806277346714055, 0.032806277346714055, 0.333843866118857, 0.2503828995891428, 0.08346096652971426, 0.08346096652971426, 0.08346096652971426, 0.08346096652971426, 0.08346096652971426, 0.3331987563799754, 0.24989906728498157, 0.08329968909499386, 0.08329968909499386, 0.08329968909499386, 0.1665993781899877, 0.5026769772464486, 0.12566924431161214, 0.1508030931739346, 0.10053539544928972, 0.05026769772464486, 0.02513384886232243, 0.02513384886232243, 0.39378891673794786, 0.21877162040997103, 0.08750864816398841, 0.08750864816398841, 0.08750864816398841, 0.04375432408199421, 0.04375432408199421, 0.04375432408199421, 0.60903722013852, 0.1903241312932875, 0.0380648262586575, 0.076129652517315, 0.0380648262586575, 0.0380648262586575, 0.0380648262586575, 0.362801881929943, 0.362801881929943, 0.12093396064331434, 0.030233490160828585, 0.06046698032165717, 0.030233490160828585, 0.2881653083894868, 0.2881653083894868, 0.09605510279649561, 0.09605510279649561, 0.09605510279649561, 0.09605510279649561, 0.2623778375311491, 0.2623778375311491, 0.08745927917704971, 0.08745927917704971, 0.08745927917704971, 0.08745927917704971, 0.08745927917704971, 0.08745927917704971, 0.22327199800125008, 0.44654399600250017, 0.11163599900062504, 0.037211999666875016, 0.037211999666875016, 0.037211999666875016, 0.037211999666875016, 0.19915470712050537, 0.49788676780126345, 0.12447169195031586, 0.04978867678012634, 0.02489433839006317, 0.02489433839006317, 0.02489433839006317, 0.02489433839006317, 0.29488292241792685, 0.36860365302240855, 0.07372073060448171, 0.07372073060448171, 0.07372073060448171, 0.14744146120896343, 0.36911057099203015, 0.18455528549601508, 0.061518428498671694, 0.061518428498671694, 0.061518428498671694, 0.061518428498671694, 0.061518428498671694, 0.061518428498671694, 0.20971626541514088, 0.41943253083028176, 0.08388650616605635, 0.08388650616605635, 0.08388650616605635, 0.08388650616605635, 0.041943253083028174, 0.041943253083028174, 0.041943253083028174, 0.3607071442361993, 0.2705303581771495, 0.09017678605904983, 0.13526517908857474, 0.045088393029524915, 0.045088393029524915, 0.15730813848276562, 0.36705232312645314, 0.05243604616092187, 0.05243604616092187, 0.05243604616092187, 0.2621802308046094, 0.3068824830300543, 0.44114356935570304, 0.057540465568135184, 0.038360310378756785, 0.057540465568135184, 0.057540465568135184, 0.019180155189378392, 0.019180155189378392, 0.019180155189378392, 0.19588524801131288, 0.19588524801131288, 0.2611803306817505, 0.06529508267043763, 0.13059016534087525, 0.13059016534087525], \"Term\": [\"2006\", \"2006\", \"2006\", \"2006\", \"2006\", \"2006\", \"2010\", \"2010\", \"2010\", \"2010\", \"2010\", \"2010\", \"2010\", \"2017\", \"2017\", \"2017\", \"2017\", \"2017\", \"2017\", \"2017\", \"2017_2018\", \"2017_2018\", \"2017_2018\", \"2017_2018\", \"2017_2018\", \"2017_2018\", \"2017_2018\", \"2018\", \"2018\", \"2018\", \"2018\", \"2018\", \"2018\", \"2018\", \"2020\", \"2020\", \"2020\", \"2020\", \"2020\", \"2020\", \"2020\", \"2020\", \"20_per\", \"20_per\", \"20_per\", \"20_per\", \"20_per\", \"20_per\", \"20_per\", \"36\", \"36\", \"36\", \"36\", \"36\", \"36\", \"400\", \"400\", \"400\", \"400\", \"400\", \"400\", \"400\", \"50\", \"50\", \"50\", \"50\", \"50\", \"50\", \"65\", \"65\", \"65\", \"65\", \"65\", \"65\", \"65\", \"70\", \"70\", \"70\", \"70\", \"70\", \"70\", \"70\", \"800\", \"800\", \"800\", \"800\", \"800\", \"800\", \"achievements\", \"achievements\", \"achievements\", \"achievements\", \"achievements\", \"achievements\", \"achievements\", \"achievements\", \"act\", \"act\", \"act\", \"act\", \"act\", \"act\", \"act\", \"act\", \"advance\", \"advance\", \"advance\", \"advance\", \"advance\", \"advance\", \"affairs\", \"affairs\", \"affairs\", \"affairs\", \"affairs\", \"affairs\", \"affairs\", \"affects\", \"affects\", \"affects\", \"affects\", \"affects\", \"affects\", \"affects\", \"afghanistan\", \"afghanistan\", \"afghanistan\", \"afghanistan\", \"afghanistan\", \"afghanistan\", \"afghanistan\", \"africa\", \"africa\", \"africa\", \"africa\", \"africa\", \"africa\", \"africa\", \"african\", \"african\", \"african\", \"african\", \"african\", \"african\", \"african\", \"ageold\", \"ageold\", \"ageold\", \"ageold\", \"ageold\", \"ageold\", \"ageold\", \"agreement_eu\", \"agreement_eu\", \"agreement_eu\", \"agreement_eu\", \"agreement_eu\", \"agreement_eu\", \"agreements\", \"agreements\", \"agreements\", \"agreements\", \"agreements\", \"agreements\", \"agreements\", \"agricultural\", \"agricultural\", \"agricultural\", \"agricultural\", \"agricultural\", \"agricultural\", \"agricultural\", \"agricultural\", \"agriculture\", \"agriculture\", \"agriculture\", \"agriculture\", \"agriculture\", \"agriculture\", \"agriculture\", \"allied\", \"allied\", \"allied\", \"allied\", \"allied\", \"allied\", \"america\", \"america\", \"america\", \"america\", \"america\", \"america\", \"american\", \"american\", \"american\", \"american\", \"american\", \"american\", \"american\", \"amounts\", \"amounts\", \"amounts\", \"amounts\", \"amounts\", \"amounts\", \"amounts\", \"amsterdam\", \"amsterdam\", \"amsterdam\", \"amsterdam\", \"amsterdam\", \"amsterdam\", \"amsterdam\", \"amsterdam\", \"antwerp\", \"antwerp\", \"antwerp\", \"antwerp\", \"antwerp\", \"antwerp\", \"anywhere\", \"anywhere\", \"anywhere\", \"anywhere\", \"anywhere\", \"anywhere\", \"anywhere\", \"applications\", \"applications\", \"applications\", \"applications\", \"applications\", \"applications\", \"applies\", \"applies\", \"applies\", \"applies\", \"applies\", \"applies\", \"applies\", \"arena\", \"arena\", \"arena\", \"arena\", \"arena\", \"arena\", \"atlanta\", \"atlanta\", \"atlanta\", \"atlanta\", \"atlanta\", \"atlanta\", \"atlanta\", \"atlantic\", \"atlantic\", \"atlantic\", \"atlantic\", \"atlantic\", \"atlantic\", \"attacks\", \"attacks\", \"attacks\", \"attacks\", \"attacks\", \"attacks\", \"attacks\", \"australia\", \"australia\", \"australia\", \"australia\", \"australia\", \"australia\", \"australia\", \"aviation\", \"aviation\", \"aviation\", \"aviation\", \"aviation\", \"aviation\", \"award\", \"award\", \"award\", \"award\", \"award\", \"award\", \"award\", \"back\", \"back\", \"back\", \"back\", \"back\", \"back\", \"back\", \"battle\", \"battle\", \"battle\", \"battle\", \"battle\", \"battle\", \"battle\", \"battle\", \"belief\", \"belief\", \"belief\", \"belief\", \"belief\", \"belief\", \"belief\", \"best\", \"best\", \"best\", \"best\", \"best\", \"best\", \"best\", \"biggest_investor\", \"biggest_investor\", \"biggest_investor\", \"biggest_investor\", \"biggest_investor\", \"biggest_investor\", \"billion_euros\", \"billion_euros\", \"billion_euros\", \"billion_euros\", \"billion_euros\", \"billion_euros\", \"billion_euros\", \"binding\", \"binding\", \"binding\", \"binding\", \"binding\", \"binding\", \"bond\", \"bond\", \"bond\", \"bond\", \"bond\", \"bond\", \"book\", \"book\", \"book\", \"book\", \"book\", \"book\", \"book\", \"brazil\", \"brazil\", \"brazil\", \"brazil\", \"brazil\", \"brazil\", \"business_netherlands\", \"business_netherlands\", \"business_netherlands\", \"business_netherlands\", \"business_netherlands\", \"business_netherlands\", \"business_people\", \"business_people\", \"business_people\", \"business_people\", \"business_people\", \"business_people\", \"challenges\", \"challenges\", \"challenges\", \"challenges\", \"challenges\", \"challenges\", \"challenges\", \"change\", \"change\", \"change\", \"change\", \"change\", \"change\", \"change\", \"change\", \"children\", \"children\", \"children\", \"children\", \"children\", \"children\", \"china\", \"china\", \"china\", \"china\", \"china\", \"china\", \"china\", \"china\", \"china\", \"china_netherlands\", \"china_netherlands\", \"china_netherlands\", \"china_netherlands\", \"china_netherlands\", \"china_netherlands\", \"china_netherlands\", \"chinas\", \"chinas\", \"chinas\", \"chinas\", \"chinas\", \"chinas\", \"chinas\", \"chinese\", \"chinese\", \"chinese\", \"chinese\", \"chinese\", \"chinese\", \"chinese\", \"choice\", \"choice\", \"choice\", \"choice\", \"choice\", \"choice\", \"climate\", \"climate\", \"climate\", \"climate\", \"climate\", \"climate\", \"climate\", \"climate\", \"climate_agreement\", \"climate_agreement\", \"climate_agreement\", \"climate_agreement\", \"climate_agreement\", \"climate_agreement\", \"climate_change\", \"climate_change\", \"climate_change\", \"climate_change\", \"climate_change\", \"climate_change\", \"climate_change\", \"climate_change\", \"coastal\", \"coastal\", \"coastal\", \"coastal\", \"coastal\", \"coastal\", \"combine\", \"combine\", \"combine\", \"combine\", \"combine\", \"combine\", \"combine\", \"comfort\", \"comfort\", \"comfort\", \"comfort\", \"comfort\", \"comfort\", \"coming\", \"coming\", \"coming\", \"coming\", \"coming\", \"coming\", \"coming\", \"commerce\", \"commerce\", \"commerce\", \"commerce\", \"commerce\", \"commerce\", \"committed\", \"committed\", \"committed\", \"committed\", \"committed\", \"committed\", \"committed\", \"conclude\", \"conclude\", \"conclude\", \"conclude\", \"conclude\", \"conclude\", \"conflict\", \"conflict\", \"conflict\", \"conflict\", \"conflict\", \"conflict\", \"conflict\", \"congratulate\", \"congratulate\", \"congratulate\", \"congratulate\", \"congratulate\", \"congratulate\", \"congratulate\", \"could\", \"could\", \"could\", \"could\", \"could\", \"could\", \"could\", \"council\", \"council\", \"council\", \"council\", \"council\", \"council\", \"council\", \"council_2017\", \"council_2017\", \"council_2017\", \"council_2017\", \"council_2017\", \"council_2017\", \"council_2017\", \"country_many\", \"country_many\", \"country_many\", \"country_many\", \"country_many\", \"country_many\", \"country_many\", \"court\", \"court\", \"court\", \"court\", \"court\", \"court\", \"court\", \"crime\", \"crime\", \"crime\", \"crime\", \"crime\", \"crime\", \"crime\", \"crisis\", \"crisis\", \"crisis\", \"crisis\", \"crisis\", \"crisis\", \"crisis\", \"crisis\", \"culture\", \"culture\", \"culture\", \"culture\", \"culture\", \"culture\", \"cyber\", \"cyber\", \"cyber\", \"cyber\", \"cyber\", \"cyber\", \"cyber\", \"cyber_security\", \"cyber_security\", \"cyber_security\", \"cyber_security\", \"cyber_security\", \"cyber_security\", \"cyber_security\", \"day\", \"day\", \"day\", \"day\", \"day\", \"day\", \"day\", \"dday\", \"dday\", \"dday\", \"dday\", \"dday\", \"dday\", \"decade\", \"decade\", \"decade\", \"decade\", \"decade\", \"decade\", \"decade\", \"deepest\", \"deepest\", \"deepest\", \"deepest\", \"deepest\", \"deepest\", \"deepest\", \"defence\", \"defence\", \"defence\", \"defence\", \"defence\", \"defence\", \"defence\", \"delta\", \"delta\", \"delta\", \"delta\", \"delta\", \"delta\", \"delta_region\", \"delta_region\", \"delta_region\", \"delta_region\", \"delta_region\", \"delta_region\", \"democracy\", \"democracy\", \"democracy\", \"democracy\", \"democracy\", \"democracy\", \"democracy\", \"democracy\", \"developing_countries\", \"developing_countries\", \"developing_countries\", \"developing_countries\", \"developing_countries\", \"developing_countries\", \"developing_countries\", \"developing_countries\", \"development\", \"development\", \"development\", \"development\", \"development\", \"development\", \"development\", \"development\", \"development\", \"disaster\", \"disaster\", \"disaster\", \"disaster\", \"disaster\", \"disaster\", \"disaster\", \"disaster\", \"downing\", \"downing\", \"downing\", \"downing\", \"downing\", \"downing\", \"downing\", \"drinking\", \"drinking\", \"drinking\", \"drinking\", \"drinking\", \"drinking\", \"drinking_water\", \"drinking_water\", \"drinking_water\", \"drinking_water\", \"drinking_water\", \"drinking_water\", \"driving\", \"driving\", \"driving\", \"driving\", \"driving\", \"driving\", \"dutch_firms\", \"dutch_firms\", \"dutch_firms\", \"dutch_firms\", \"dutch_firms\", \"dutch_firms\", \"dutch_firms\", \"dutchmen\", \"dutchmen\", \"dutchmen\", \"dutchmen\", \"dutchmen\", \"dutchmen\", \"dutchmen\", \"earlier_today\", \"earlier_today\", \"earlier_today\", \"earlier_today\", \"earlier_today\", \"earlier_today\", \"earlier_today\", \"easy\", \"easy\", \"easy\", \"easy\", \"easy\", \"easy\", \"easy\", \"education\", \"education\", \"education\", \"education\", \"education\", \"education\", \"education\", \"effective\", \"effective\", \"effective\", \"effective\", \"effective\", \"effective\", \"effective\", \"effects\", \"effects\", \"effects\", \"effects\", \"effects\", \"effects\", \"effects_climate\", \"effects_climate\", \"effects_climate\", \"effects_climate\", \"effects_climate\", \"effects_climate\", \"effects_climate\", \"efforts\", \"efforts\", \"efforts\", \"efforts\", \"efforts\", \"efforts\", \"efforts\", \"enable\", \"enable\", \"enable\", \"enable\", \"enable\", \"enable\", \"enable\", \"energy\", \"energy\", \"energy\", \"energy\", \"energy\", \"energy\", \"energy\", \"energy\", \"equal\", \"equal\", \"equal\", \"equal\", \"equal\", \"equal\", \"equal\", \"europe\", \"europe\", \"europe\", \"europe\", \"europe\", \"europe\", \"europe\", \"europe\", \"european\", \"european\", \"european\", \"european\", \"european\", \"european\", \"european\", \"european\", \"evening\", \"evening\", \"evening\", \"evening\", \"evening\", \"evening\", \"ever_closer\", \"ever_closer\", \"ever_closer\", \"ever_closer\", \"ever_closer\", \"ever_closer\", \"existing\", \"existing\", \"existing\", \"existing\", \"existing\", \"existing\", \"expectations\", \"expectations\", \"expectations\", \"expectations\", \"expectations\", \"expectations\", \"expectations\", \"feeling\", \"feeling\", \"feeling\", \"feeling\", \"feeling\", \"feeling\", \"fellow\", \"fellow\", \"fellow\", \"fellow\", \"fellow\", \"fellow\", \"fellow\", \"fighting\", \"fighting\", \"fighting\", \"fighting\", \"fighting\", \"fighting\", \"finally\", \"finally\", \"finally\", \"finally\", \"finally\", \"finally\", \"finally\", \"finance\", \"finance\", \"finance\", \"finance\", \"finance\", \"finance\", \"finance\", \"financial\", \"financial\", \"financial\", \"financial\", \"financial\", \"financial\", \"financial\", \"financial_sector\", \"financial_sector\", \"financial_sector\", \"financial_sector\", \"financial_sector\", \"financial_sector\", \"financial_sector\", \"fintech\", \"fintech\", \"fintech\", \"fintech\", \"fintech\", \"fintech\", \"fintech\", \"firms\", \"firms\", \"firms\", \"firms\", \"firms\", \"firms\", \"firms\", \"firms\", \"first_foremost\", \"first_foremost\", \"first_foremost\", \"first_foremost\", \"first_foremost\", \"first_foremost\", \"flag\", \"flag\", \"flag\", \"flag\", \"flag\", \"flag\", \"flanders\", \"flanders\", \"flanders\", \"flanders\", \"flanders\", \"flanders\", \"flanders\", \"flanders_netherlands\", \"flanders_netherlands\", \"flanders_netherlands\", \"flanders_netherlands\", \"flanders_netherlands\", \"flanders_netherlands\", \"flemish\", \"flemish\", \"flemish\", \"flemish\", \"flemish\", \"flemish\", \"food\", \"food\", \"food\", \"food\", \"food\", \"food\", \"food\", \"food\", \"footsteps\", \"footsteps\", \"footsteps\", \"footsteps\", \"footsteps\", \"footsteps\", \"footsteps\", \"foreign\", \"foreign\", \"foreign\", \"foreign\", \"foreign\", \"foreign\", \"foreign\", \"foreign\", \"foremost\", \"foremost\", \"foremost\", \"foremost\", \"foremost\", \"foremost\", \"forever\", \"forever\", \"forever\", \"forever\", \"forever\", \"forever\", \"forever\", \"forty\", \"forty\", \"forty\", \"forty\", \"forty\", \"forty\", \"forty\", \"forum\", \"forum\", \"forum\", \"forum\", \"forum\", \"forum\", \"forum\", \"fought\", \"fought\", \"fought\", \"fought\", \"fought\", \"fought\", \"fought\", \"freedom\", \"freedom\", \"freedom\", \"freedom\", \"freedom\", \"freedom\", \"freedom\", \"freedom\", \"freedoms\", \"freedoms\", \"freedoms\", \"freedoms\", \"freedoms\", \"freedoms\", \"friendship_two\", \"friendship_two\", \"friendship_two\", \"friendship_two\", \"friendship_two\", \"friendship_two\", \"friendship_two\", \"games\", \"games\", \"games\", \"games\", \"games\", \"games\", \"games\", \"gave\", \"gave\", \"gave\", \"gave\", \"gave\", \"gave\", \"gave\", \"gave\", \"general\", \"general\", \"general\", \"general\", \"general\", \"general\", \"general\", \"general\", \"general\", \"georgia\", \"georgia\", \"georgia\", \"georgia\", \"georgia\", \"georgia\", \"georgia\", \"georgia\", \"girls\", \"girls\", \"girls\", \"girls\", \"girls\", \"girls\", \"glad\", \"glad\", \"glad\", \"glad\", \"glad\", \"glad\", \"glad\", \"goals\", \"goals\", \"goals\", \"goals\", \"goals\", \"goals\", \"goals\", \"good_reason\", \"good_reason\", \"good_reason\", \"good_reason\", \"good_reason\", \"good_reason\", \"good_reason\", \"good_reason\", \"governments\", \"governments\", \"governments\", \"governments\", \"governments\", \"governments\", \"governments\", \"governments\", \"grateful\", \"grateful\", \"grateful\", \"grateful\", \"grateful\", \"grateful\", \"grateful\", \"green\", \"green\", \"green\", \"green\", \"green\", \"green\", \"green\", \"growth\", \"growth\", \"growth\", \"growth\", \"growth\", \"growth\", \"growth\", \"growth\", \"hands\", \"hands\", \"hands\", \"hands\", \"hands\", \"hands\", \"happy\", \"happy\", \"happy\", \"happy\", \"happy\", \"happy\", \"head\", \"head\", \"head\", \"head\", \"head\", \"head\", \"head\", \"head\", \"healthy\", \"healthy\", \"healthy\", \"healthy\", \"healthy\", \"healthy\", \"heritage\", \"heritage\", \"heritage\", \"heritage\", \"heritage\", \"heritage\", \"heroes\", \"heroes\", \"heroes\", \"heroes\", \"heroes\", \"heroes\", \"heroes\", \"history\", \"history\", \"history\", \"history\", \"history\", \"history\", \"history\", \"history\", \"hit\", \"hit\", \"hit\", \"hit\", \"hit\", \"hit\", \"hit\", \"hit_hard\", \"hit_hard\", \"hit_hard\", \"hit_hard\", \"hit_hard\", \"hit_hard\", \"hit_hard\", \"hold\", \"hold\", \"hold\", \"hold\", \"hold\", \"hold\", \"hold\", \"holland\", \"holland\", \"holland\", \"holland\", \"holland\", \"holland\", \"honour_memory\", \"honour_memory\", \"honour_memory\", \"honour_memory\", \"honour_memory\", \"honour_memory\", \"house\", \"house\", \"house\", \"house\", \"house\", \"house\", \"human\", \"human\", \"human\", \"human\", \"human\", \"human\", \"human\", \"human_rights\", \"human_rights\", \"human_rights\", \"human_rights\", \"human_rights\", \"human_rights\", \"human_rights\", \"id\", \"id\", \"id\", \"id\", \"id\", \"id\", \"id\", \"id_like\", \"id_like\", \"id_like\", \"id_like\", \"id_like\", \"id_like\", \"id_like\", \"ignore\", \"ignore\", \"ignore\", \"ignore\", \"ignore\", \"ignore\", \"ignore\", \"immense\", \"immense\", \"immense\", \"immense\", \"immense\", \"immense\", \"immense\", \"improvement\", \"improvement\", \"improvement\", \"improvement\", \"improvement\", \"improvement\", \"increased\", \"increased\", \"increased\", \"increased\", \"increased\", \"increased\", \"independent\", \"independent\", \"independent\", \"independent\", \"independent\", \"independent\", \"independent\", \"india\", \"india\", \"india\", \"india\", \"india\", \"india\", \"india\", \"india\", \"individuals\", \"individuals\", \"individuals\", \"individuals\", \"individuals\", \"individuals\", \"indonesia\", \"indonesia\", \"indonesia\", \"indonesia\", \"indonesia\", \"indonesia\", \"indonesia\", \"indonesian\", \"indonesian\", \"indonesian\", \"indonesian\", \"indonesian\", \"indonesian\", \"indonesian\", \"information\", \"information\", \"information\", \"information\", \"information\", \"information\", \"information\", \"infrastructure\", \"infrastructure\", \"infrastructure\", \"infrastructure\", \"infrastructure\", \"infrastructure\", \"infrastructure\", \"innovation\", \"innovation\", \"innovation\", \"innovation\", \"innovation\", \"innovation\", \"innovation\", \"innovation\", \"innovative\", \"innovative\", \"innovative\", \"innovative\", \"innovative\", \"innovative\", \"innovative\", \"instance\", \"instance\", \"instance\", \"instance\", \"instance\", \"instance\", \"intensive\", \"intensive\", \"intensive\", \"intensive\", \"intensive\", \"intensive\", \"international_efforts\", \"international_efforts\", \"international_efforts\", \"international_efforts\", \"international_efforts\", \"international_efforts\", \"internet\", \"internet\", \"internet\", \"internet\", \"internet\", \"internet\", \"internet\", \"investment\", \"investment\", \"investment\", \"investment\", \"investment\", \"investment\", \"investment\", \"it\\u2019s\", \"it\\u2019s\", \"it\\u2019s\", \"it\\u2019s\", \"it\\u2019s\", \"it\\u2019s\", \"it\\u2019s\", \"it\\u2019s\", \"ive\", \"ive\", \"ive\", \"ive\", \"ive\", \"ive\", \"jakarta\", \"jakarta\", \"jakarta\", \"jakarta\", \"jakarta\", \"jakarta\", \"japan\", \"japan\", \"japan\", \"japan\", \"japan\", \"japan\", \"japan\", \"japan\", \"japan_netherlands\", \"japan_netherlands\", \"japan_netherlands\", \"japan_netherlands\", \"japan_netherlands\", \"japan_netherlands\", \"japan_netherlands\", \"japan_netherlands\", \"japanese\", \"japanese\", \"japanese\", \"japanese\", \"japanese\", \"japanese\", \"japanese\", \"japanese\", \"jobs\", \"jobs\", \"jobs\", \"jobs\", \"jobs\", \"jobs\", \"jobs\", \"july\", \"july\", \"july\", \"july\", \"july\", \"july\", \"july\", \"keep\", \"keep\", \"keep\", \"keep\", \"keep\", \"keep\", \"keep\", \"knowledge_experience\", \"knowledge_experience\", \"knowledge_experience\", \"knowledge_experience\", \"knowledge_experience\", \"knowledge_experience\", \"knowledge_experience\", \"lady\", \"lady\", \"lady\", \"lady\", \"lady\", \"lady\", \"lady\", \"last_decade\", \"last_decade\", \"last_decade\", \"last_decade\", \"last_decade\", \"last_decade\", \"launch\", \"launch\", \"launch\", \"launch\", \"launch\", \"launch\", \"launch\", \"law\", \"law\", \"law\", \"law\", \"law\", \"law\", \"law\", \"legal\", \"legal\", \"legal\", \"legal\", \"legal\", \"legal\", \"legal\", \"legal_order\", \"legal_order\", \"legal_order\", \"legal_order\", \"legal_order\", \"legal_order\", \"legal_order\", \"legislation\", \"legislation\", \"legislation\", \"legislation\", \"legislation\", \"legislation\", \"lets\", \"lets\", \"lets\", \"lets\", \"lets\", \"lets\", \"let\\u2019s\", \"let\\u2019s\", \"let\\u2019s\", \"let\\u2019s\", \"let\\u2019s\", \"let\\u2019s\", \"liberation\", \"liberation\", \"liberation\", \"liberation\", \"liberation\", \"liberation\", \"lines\", \"lines\", \"lines\", \"lines\", \"lines\", \"lines\", \"lives\", \"lives\", \"lives\", \"lives\", \"lives\", \"lives\", \"lives\", \"longterm\", \"longterm\", \"longterm\", \"longterm\", \"longterm\", \"longterm\", \"longterm\", \"lose\", \"lose\", \"lose\", \"lose\", \"lose\", \"lose\", \"lose\", \"lost\", \"lost\", \"lost\", \"lost\", \"lost\", \"lost\", \"lost\", \"love\", \"love\", \"love\", \"love\", \"love\", \"love\", \"make_new\", \"make_new\", \"make_new\", \"make_new\", \"make_new\", \"make_new\", \"make_new\", \"malaysia\", \"malaysia\", \"malaysia\", \"malaysia\", \"malaysia\", \"malaysia\", \"malaysia\", \"maritime\", \"maritime\", \"maritime\", \"maritime\", \"maritime\", \"maritime\", \"material\", \"material\", \"material\", \"material\", \"material\", \"material\", \"material\", \"mdgs\", \"mdgs\", \"mdgs\", \"mdgs\", \"mdgs\", \"mdgs\", \"mdgs\", \"mdgs\", \"measures\", \"measures\", \"measures\", \"measures\", \"measures\", \"measures\", \"measures\", \"memories\", \"memories\", \"memories\", \"memories\", \"memories\", \"memories\", \"memories\", \"memories\", \"men\", \"men\", \"men\", \"men\", \"men\", \"men\", \"men\", \"men\", \"mh17\", \"mh17\", \"mh17\", \"mh17\", \"mh17\", \"mh17\", \"mh17\", \"ministerial\", \"ministerial\", \"ministerial\", \"ministerial\", \"ministerial\", \"ministerial\", \"ministerial\", \"missing\", \"missing\", \"missing\", \"missing\", \"missing\", \"missing\", \"missions\", \"missions\", \"missions\", \"missions\", \"missions\", \"missions\", \"missions\", \"modern\", \"modern\", \"modern\", \"modern\", \"modern\", \"modern\", \"modern\", \"mortality\", \"mortality\", \"mortality\", \"mortality\", \"mortality\", \"mortality\", \"mortality\", \"movement\", \"movement\", \"movement\", \"movement\", \"movement\", \"movement\", \"movement\", \"mrs\", \"mrs\", \"mrs\", \"mrs\", \"mrs\", \"mrs\", \"must\", \"must\", \"must\", \"must\", \"must\", \"must\", \"must\", \"name\", \"name\", \"name\", \"name\", \"name\", \"name\", \"nato\", \"nato\", \"nato\", \"nato\", \"nato\", \"nato\", \"need\", \"need\", \"need\", \"need\", \"need\", \"need\", \"need\", \"need_take\", \"need_take\", \"need_take\", \"need_take\", \"need_take\", \"need_take\", \"netherlands_believes\", \"netherlands_believes\", \"netherlands_believes\", \"netherlands_believes\", \"netherlands_believes\", \"netherlands_believes\", \"netherlands_believes\", \"netherlands_flanders\", \"netherlands_flanders\", \"netherlands_flanders\", \"netherlands_flanders\", \"netherlands_flanders\", \"netherlands_flanders\", \"netherlands_flanders\", \"netherlands_remain\", \"netherlands_remain\", \"netherlands_remain\", \"netherlands_remain\", \"netherlands_remain\", \"netherlands_remain\", \"netherlands_remain\", \"network\", \"network\", \"network\", \"network\", \"network\", \"network\", \"network\", \"never\", \"never\", \"never\", \"never\", \"never\", \"never\", \"never\", \"never\", \"new_york\", \"new_york\", \"new_york\", \"new_york\", \"new_york\", \"new_york\", \"news\", \"news\", \"news\", \"news\", \"news\", \"news\", \"news\", \"nuclear\", \"nuclear\", \"nuclear\", \"nuclear\", \"nuclear\", \"nuclear\", \"nuclear\", \"nuclear\", \"nuclear_material\", \"nuclear_material\", \"nuclear_material\", \"nuclear_material\", \"nuclear_material\", \"nuclear_material\", \"nuclear_material\", \"nuclear_security\", \"nuclear_security\", \"nuclear_security\", \"nuclear_security\", \"nuclear_security\", \"nuclear_security\", \"nuclear_security\", \"nuclear_security\", \"numbers\", \"numbers\", \"numbers\", \"numbers\", \"numbers\", \"numbers\", \"obama\", \"obama\", \"obama\", \"obama\", \"obama\", \"obama\", \"obama\", \"obama\", \"office\", \"office\", \"office\", \"office\", \"office\", \"office\", \"office\", \"operate\", \"operate\", \"operate\", \"operate\", \"operate\", \"operate\", \"paid\", \"paid\", \"paid\", \"paid\", \"paid\", \"paid\", \"palace\", \"palace\", \"palace\", \"palace\", \"palace\", \"palace\", \"parents\", \"parents\", \"parents\", \"parents\", \"parents\", \"parents\", \"part\", \"part\", \"part\", \"part\", \"part\", \"part\", \"part\", \"particular\", \"particular\", \"particular\", \"particular\", \"particular\", \"particular\", \"particular\", \"particular\", \"partnership\", \"partnership\", \"partnership\", \"partnership\", \"partnership\", \"partnership\", \"partnership\", \"partnerships\", \"partnerships\", \"partnerships\", \"partnerships\", \"partnerships\", \"partnerships\", \"partnerships\", \"partnerships\", \"peace\", \"peace\", \"peace\", \"peace\", \"peace\", \"peace\", \"peace\", \"peace\", \"pension\", \"pension\", \"pension\", \"pension\", \"pension\", \"pension\", \"pension\", \"pension\", \"perfectly\", \"perfectly\", \"perfectly\", \"perfectly\", \"perfectly\", \"perfectly\", \"personally\", \"personally\", \"personally\", \"personally\", \"personally\", \"personally\", \"personally\", \"plan\", \"plan\", \"plan\", \"plan\", \"plan\", \"plan\", \"plane\", \"plane\", \"plane\", \"plane\", \"plane\", \"plane\", \"plane\", \"played\", \"played\", \"played\", \"played\", \"played\", \"played\", \"played\", \"political\", \"political\", \"political\", \"political\", \"political\", \"political\", \"political\", \"poorest\", \"poorest\", \"poorest\", \"poorest\", \"poorest\", \"poorest\", \"poorest\", \"poorest\", \"president_obama\", \"president_obama\", \"president_obama\", \"president_obama\", \"president_obama\", \"president_obama\", \"president_obama\", \"president_obama\", \"prevent\", \"prevent\", \"prevent\", \"prevent\", \"prevent\", \"prevent\", \"prevent\", \"price\", \"price\", \"price\", \"price\", \"price\", \"price\", \"private\", \"private\", \"private\", \"private\", \"private\", \"private\", \"private\", \"private\", \"private\", \"private_sector\", \"private_sector\", \"private_sector\", \"private_sector\", \"private_sector\", \"private_sector\", \"private_sector\", \"private_sector\", \"produced\", \"produced\", \"produced\", \"produced\", \"produced\", \"produced\", \"produced\", \"producers\", \"producers\", \"producers\", \"producers\", \"producers\", \"producers\", \"production\", \"production\", \"production\", \"production\", \"production\", \"production\", \"production\", \"production\", \"profit\", \"profit\", \"profit\", \"profit\", \"profit\", \"profit\", \"pursuit\", \"pursuit\", \"pursuit\", \"pursuit\", \"pursuit\", \"pursuit\", \"quality_life\", \"quality_life\", \"quality_life\", \"quality_life\", \"quality_life\", \"quality_life\", \"quality_life\", \"range\", \"range\", \"range\", \"range\", \"range\", \"range\", \"range\", \"range\", \"ready\", \"ready\", \"ready\", \"ready\", \"ready\", \"ready\", \"ready\", \"recognition\", \"recognition\", \"recognition\", \"recognition\", \"recognition\", \"recognition\", \"recognition\", \"recovery\", \"recovery\", \"recovery\", \"recovery\", \"recovery\", \"recovery\", \"recovery\", \"reduce\", \"reduce\", \"reduce\", \"reduce\", \"reduce\", \"reduce\", \"region\", \"region\", \"region\", \"region\", \"region\", \"region\", \"region\", \"related\", \"related\", \"related\", \"related\", \"related\", \"related\", \"relatives\", \"relatives\", \"relatives\", \"relatives\", \"relatives\", \"relatives\", \"relatives\", \"relatives\", \"remain\", \"remain\", \"remain\", \"remain\", \"remain\", \"remain\", \"remain\", \"remember\", \"remember\", \"remember\", \"remember\", \"remember\", \"remember\", \"remember\", \"remember\", \"representatives\", \"representatives\", \"representatives\", \"representatives\", \"representatives\", \"representatives\", \"require\", \"require\", \"require\", \"require\", \"require\", \"require\", \"research\", \"research\", \"research\", \"research\", \"research\", \"research\", \"research\", \"responsibility\", \"responsibility\", \"responsibility\", \"responsibility\", \"responsibility\", \"responsibility\", \"responsibility\", \"responsibility\", \"rights\", \"rights\", \"rights\", \"rights\", \"rights\", \"rights\", \"rights\", \"rights\", \"rights\", \"roosevelt\", \"roosevelt\", \"roosevelt\", \"roosevelt\", \"roosevelt\", \"roosevelt\", \"roosevelt\", \"roosevelt_said\", \"roosevelt_said\", \"roosevelt_said\", \"roosevelt_said\", \"roosevelt_said\", \"roosevelt_said\", \"roosevelt_said\", \"round\", \"round\", \"round\", \"round\", \"round\", \"round\", \"royal\", \"royal\", \"royal\", \"royal\", \"royal\", \"royal\", \"rule\", \"rule\", \"rule\", \"rule\", \"rule\", \"rule\", \"rule\", \"rule_law\", \"rule_law\", \"rule_law\", \"rule_law\", \"rule_law\", \"rule_law\", \"rule_law\", \"running\", \"running\", \"running\", \"running\", \"running\", \"running\", \"russia\", \"russia\", \"russia\", \"russia\", \"russia\", \"russia\", \"sacrifices\", \"sacrifices\", \"sacrifices\", \"sacrifices\", \"sacrifices\", \"sacrifices\", \"sacrifices\", \"says\", \"says\", \"says\", \"says\", \"says\", \"says\", \"school\", \"school\", \"school\", \"school\", \"school\", \"school\", \"school\", \"seat_un\", \"seat_un\", \"seat_un\", \"seat_un\", \"seat_un\", \"seat_un\", \"seat_un\", \"secretarygeneral\", \"secretarygeneral\", \"secretarygeneral\", \"secretarygeneral\", \"secretarygeneral\", \"secretarygeneral\", \"secretarygeneral\", \"sector\", \"sector\", \"sector\", \"sector\", \"sector\", \"sector\", \"sector\", \"sector\", \"sector\", \"security\", \"security\", \"security\", \"security\", \"security\", \"security\", \"security\", \"security\", \"security_council\", \"security_council\", \"security_council\", \"security_council\", \"security_council\", \"security_council\", \"security_council\", \"security_summit\", \"security_summit\", \"security_summit\", \"security_summit\", \"security_summit\", \"security_summit\", \"security_summit\", \"security_summit\", \"selfinterest\", \"selfinterest\", \"selfinterest\", \"selfinterest\", \"selfinterest\", \"selfinterest\", \"seminar\", \"seminar\", \"seminar\", \"seminar\", \"seminar\", \"seminar\", \"seminar\", \"seminar\", \"seventeen\", \"seventeen\", \"seventeen\", \"seventeen\", \"seventeen\", \"seventeen\", \"seventeen\", \"seventy\", \"seventy\", \"seventy\", \"seventy\", \"seventy\", \"seventy\", \"seventy_years\", \"seventy_years\", \"seventy_years\", \"seventy_years\", \"seventy_years\", \"seventy_years\", \"shared\", \"shared\", \"shared\", \"shared\", \"shared\", \"shared\", \"shock\", \"shock\", \"shock\", \"shock\", \"shock\", \"shock\", \"shock\", \"shock\", \"significance\", \"significance\", \"significance\", \"significance\", \"significance\", \"significance\", \"significance\", \"since_first\", \"since_first\", \"since_first\", \"since_first\", \"since_first\", \"since_first\", \"site\", \"site\", \"site\", \"site\", \"site\", \"site\", \"site\", \"socially\", \"socially\", \"socially\", \"socially\", \"socially\", \"socially\", \"solidarity\", \"solidarity\", \"solidarity\", \"solidarity\", \"solidarity\", \"solidarity\", \"solidarity\", \"solution\", \"solution\", \"solution\", \"solution\", \"solution\", \"solution\", \"solution\", \"south\", \"south\", \"south\", \"south\", \"south\", \"south\", \"south\", \"space\", \"space\", \"space\", \"space\", \"space\", \"space\", \"special\", \"special\", \"special\", \"special\", \"special\", \"special\", \"special\", \"stable_world\", \"stable_world\", \"stable_world\", \"stable_world\", \"stable_world\", \"stable_world\", \"stable_world\", \"stable_world\", \"startups\", \"startups\", \"startups\", \"startups\", \"startups\", \"startups\", \"startups\", \"statement\", \"statement\", \"statement\", \"statement\", \"statement\", \"statement\", \"statement\", \"states\", \"states\", \"states\", \"states\", \"states\", \"states\", \"states\", \"states\", \"states\", \"step\", \"step\", \"step\", \"step\", \"step\", \"step\", \"step\", \"step_towards\", \"step_towards\", \"step_towards\", \"step_towards\", \"step_towards\", \"step_towards\", \"strategic\", \"strategic\", \"strategic\", \"strategic\", \"strategic\", \"strategic\", \"street\", \"street\", \"street\", \"street\", \"street\", \"street\", \"struggle\", \"struggle\", \"struggle\", \"struggle\", \"struggle\", \"struggle\", \"struggle\", \"summit\", \"summit\", \"summit\", \"summit\", \"summit\", \"summit\", \"summit\", \"summit\", \"sustainable\", \"sustainable\", \"sustainable\", \"sustainable\", \"sustainable\", \"sustainable\", \"sustainable\", \"sustainable\", \"system\", \"system\", \"system\", \"system\", \"system\", \"system\", \"system\", \"system\", \"talk\", \"talk\", \"talk\", \"talk\", \"talk\", \"talk\", \"talk\", \"targets\", \"targets\", \"targets\", \"targets\", \"targets\", \"targets\", \"tax\", \"tax\", \"tax\", \"tax\", \"tax\", \"tax\", \"tenfold\", \"tenfold\", \"tenfold\", \"tenfold\", \"tenfold\", \"tenfold\", \"terrorism\", \"terrorism\", \"terrorism\", \"terrorism\", \"terrorism\", \"terrorism\", \"terrorism\", \"terrorist\", \"terrorist\", \"terrorist\", \"terrorist\", \"terrorist\", \"terrorist\", \"terrorist\", \"terrorists\", \"terrorists\", \"terrorists\", \"terrorists\", \"terrorists\", \"terrorists\", \"thank_coming\", \"thank_coming\", \"thank_coming\", \"thank_coming\", \"thank_coming\", \"thank_coming\", \"thats\", \"thats\", \"thats\", \"thats\", \"thats\", \"thats\", \"thats\", \"that\\u2019s\", \"that\\u2019s\", \"that\\u2019s\", \"that\\u2019s\", \"that\\u2019s\", \"that\\u2019s\", \"that\\u2019s\", \"they\\u2019re\", \"they\\u2019re\", \"they\\u2019re\", \"they\\u2019re\", \"they\\u2019re\", \"they\\u2019re\", \"they\\u2019re\", \"thirdbiggest\", \"thirdbiggest\", \"thirdbiggest\", \"thirdbiggest\", \"thirdbiggest\", \"thirdbiggest\", \"thought\", \"thought\", \"thought\", \"thought\", \"thought\", \"thought\", \"thousand\", \"thousand\", \"thousand\", \"thousand\", \"thousand\", \"thousand\", \"threat\", \"threat\", \"threat\", \"threat\", \"threat\", \"threat\", \"threat\", \"today_tomorrow\", \"today_tomorrow\", \"today_tomorrow\", \"today_tomorrow\", \"today_tomorrow\", \"today_tomorrow\", \"today_tomorrow\", \"today_tomorrow\", \"tonight\", \"tonight\", \"tonight\", \"tonight\", \"tonight\", \"tonight\", \"town\", \"town\", \"town\", \"town\", \"town\", \"town\", \"town\", \"trade\", \"trade\", \"trade\", \"trade\", \"trade\", \"trade\", \"trade\", \"trade\", \"trade_agreement\", \"trade_agreement\", \"trade_agreement\", \"trade_agreement\", \"trade_agreement\", \"trade_agreement\", \"trading\", \"trading\", \"trading\", \"trading\", \"trading\", \"trading\", \"trading\", \"trading_partners\", \"trading_partners\", \"trading_partners\", \"trading_partners\", \"trading_partners\", \"trading_partners\", \"tragedy\", \"tragedy\", \"tragedy\", \"tragedy\", \"tragedy\", \"tragedy\", \"tragedy\", \"trip\", \"trip\", \"trip\", \"trip\", \"trip\", \"trip\", \"uk\", \"uk\", \"uk\", \"uk\", \"uk\", \"uk\", \"un\", \"un\", \"un\", \"un\", \"un\", \"un\", \"un\", \"un_security\", \"un_security\", \"un_security\", \"un_security\", \"un_security\", \"un_security\", \"un_security\", \"unilever\", \"unilever\", \"unilever\", \"unilever\", \"unilever\", \"unilever\", \"unilever\", \"united_nations\", \"united_nations\", \"united_nations\", \"united_nations\", \"united_nations\", \"united_nations\", \"united_nations\", \"united_states\", \"united_states\", \"united_states\", \"united_states\", \"united_states\", \"united_states\", \"united_states\", \"united_states\", \"unity\", \"unity\", \"unity\", \"unity\", \"unity\", \"unity\", \"unity\", \"veterans\", \"veterans\", \"veterans\", \"veterans\", \"veterans\", \"veterans\", \"victims\", \"victims\", \"victims\", \"victims\", \"victims\", \"victims\", \"victims\", \"vietnam\", \"vietnam\", \"vietnam\", \"vietnam\", \"vietnam\", \"vietnam\", \"vietnam_netherlands\", \"vietnam_netherlands\", \"vietnam_netherlands\", \"vietnam_netherlands\", \"vietnam_netherlands\", \"vietnam_netherlands\", \"vietnamese\", \"vietnamese\", \"vietnamese\", \"vietnamese\", \"vietnamese\", \"vietnamese\", \"vision\", \"vision\", \"vision\", \"vision\", \"vision\", \"vision\", \"want\", \"want\", \"want\", \"want\", \"want\", \"want\", \"want\", \"war\", \"war\", \"war\", \"war\", \"war\", \"war\", \"war\", \"war\", \"warm_welcome\", \"warm_welcome\", \"warm_welcome\", \"warm_welcome\", \"warm_welcome\", \"warm_welcome\", \"warm_welcome\", \"watching\", \"watching\", \"watching\", \"watching\", \"watching\", \"watching\", \"water\", \"water\", \"water\", \"water\", \"water\", \"water\", \"water\", \"welcome\", \"welcome\", \"welcome\", \"welcome\", \"welcome\", \"welcome\", \"welcome\", \"welcome\", \"weve\", \"weve\", \"weve\", \"weve\", \"weve\", \"weve\", \"weve\", \"we\\u2019re\", \"we\\u2019re\", \"we\\u2019re\", \"we\\u2019re\", \"we\\u2019re\", \"we\\u2019re\", \"whole_world\", \"whole_world\", \"whole_world\", \"whole_world\", \"whole_world\", \"whole_world\", \"wide_range\", \"wide_range\", \"wide_range\", \"wide_range\", \"wide_range\", \"wide_range\", \"wide_range\", \"wide_range\", \"without\", \"without\", \"without\", \"without\", \"without\", \"without\", \"without\", \"women\", \"women\", \"women\", \"women\", \"women\", \"women\", \"women\", \"women\", \"world_trade\", \"world_trade\", \"world_trade\", \"world_trade\", \"world_trade\", \"world_trade\", \"worlds\", \"worlds\", \"worlds\", \"worlds\", \"worlds\", \"worlds\", \"worlds\", \"worlds\", \"years_ago\", \"years_ago\", \"years_ago\", \"years_ago\", \"years_ago\", \"years_ago\", \"years_ago\", \"years_ago\", \"years_ago\", \"yesterday\", \"yesterday\", \"yesterday\", \"yesterday\", \"yesterday\", \"yesterday\", \"york\", \"york\", \"york\", \"york\", \"york\", \"york\", \"\\u2013\", \"\\u2013\", \"\\u2013\", \"\\u2013\", \"\\u2013\", \"\\u2013\", \"\\u2013\", \"\\u2013\", \"\\u2013\", \"\\u2212\", \"\\u2212\", \"\\u2212\", \"\\u2212\", \"\\u2212\", \"\\u2212\"]}, \"R\": 30, \"lambda.step\": 0.01, \"plot.opts\": {\"xlab\": \"PC1\", \"ylab\": \"PC2\"}, \"topic.order\": [1, 2, 8, 3, 9, 6, 5, 4, 10, 7]};\n",
       "\n",
       "function LDAvis_load_lib(url, callback){\n",
       "  var s = document.createElement('script');\n",
       "  s.src = url;\n",
       "  s.async = true;\n",
       "  s.onreadystatechange = s.onload = callback;\n",
       "  s.onerror = function(){console.warn(\"failed to load library \" + url);};\n",
       "  document.getElementsByTagName(\"head\")[0].appendChild(s);\n",
       "}\n",
       "\n",
       "if(typeof(LDAvis) !== \"undefined\"){\n",
       "   // already loaded: just create the visualization\n",
       "   !function(LDAvis){\n",
       "       new LDAvis(\"#\" + \"ldavis_el462621405693002705441663097681\", ldavis_el462621405693002705441663097681_data);\n",
       "   }(LDAvis);\n",
       "}else if(typeof define === \"function\" && define.amd){\n",
       "   // require.js is available: use it to load d3/LDAvis\n",
       "   require.config({paths: {d3: \"https://d3js.org/d3.v5\"}});\n",
       "   require([\"d3\"], function(d3){\n",
       "      window.d3 = d3;\n",
       "      LDAvis_load_lib(\"https://cdn.jsdelivr.net/gh/bmabey/pyLDAvis@3.3.1/pyLDAvis/js/ldavis.v3.0.0.js\", function(){\n",
       "        new LDAvis(\"#\" + \"ldavis_el462621405693002705441663097681\", ldavis_el462621405693002705441663097681_data);\n",
       "      });\n",
       "    });\n",
       "}else{\n",
       "    // require.js not available: dynamically load d3 & LDAvis\n",
       "    LDAvis_load_lib(\"https://d3js.org/d3.v5.js\", function(){\n",
       "         LDAvis_load_lib(\"https://cdn.jsdelivr.net/gh/bmabey/pyLDAvis@3.3.1/pyLDAvis/js/ldavis.v3.0.0.js\", function(){\n",
       "                 new LDAvis(\"#\" + \"ldavis_el462621405693002705441663097681\", ldavis_el462621405693002705441663097681_data);\n",
       "            })\n",
       "         });\n",
       "}\n",
       "</script>"
      ],
      "text/plain": [
       "<IPython.core.display.HTML object>"
      ]
     },
     "execution_count": 41,
     "metadata": {},
     "output_type": "execute_result"
    }
   ],
   "source": [
    "vis_data = gensimvis.prepare(lda_m5,ldacorpus_m5,id2word_m5)\n",
    "pyLDAvis.display(vis_data)"
   ]
  },
  {
   "cell_type": "markdown",
   "metadata": {},
   "source": [
    "# 7. What’s the next step in the pipeline? Using the results of a topic model (Damian)\n",
    "\n",
    "Until know, we have mainly considered the interpretation of the topics themselves. While it can indeed be interesting to use topic models to summarize and interpret large corpora, this is usually not where social scientists stop: We want to relate the topics back to documents to say something about which topics occur in which documents.\n",
    "\n",
    "## Saving topic scores to a file\n",
    "Somewhat similar to factor analysis and principal component analysis, where one can also store factor scores that indicate how high a specific case scores on each of the factors that were identified, for each document, we can estimate a score for each of the topics we identified.\n",
    "\n",
    "To do so, we can simply call the `.inference()` method on the model we estimated. "
   ]
  },
  {
   "cell_type": "code",
   "execution_count": 42,
   "metadata": {},
   "outputs": [
    {
     "name": "stderr",
     "output_type": "stream",
     "text": [
      "/usr/local/lib/python3.8/dist-packages/ipykernel/ipkernel.py:283: DeprecationWarning: `should_run_async` will not call `transform_cell` automatically in the future. Please pass the result to `transformed_cell` argument and any exception that happen during thetransform in `preprocessing_exc_tuple` in IPython 7.17 and above.\n",
      "  and should_run_async(code)\n"
     ]
    }
   ],
   "source": [
    "scoresperdoc=lda_m5.inference(ldacorpus_m5)"
   ]
  },
  {
   "cell_type": "code",
   "execution_count": 43,
   "metadata": {},
   "outputs": [
    {
     "name": "stderr",
     "output_type": "stream",
     "text": [
      "/usr/local/lib/python3.8/dist-packages/ipykernel/ipkernel.py:283: DeprecationWarning: `should_run_async` will not call `transform_cell` automatically in the future. Please pass the result to `transformed_cell` argument and any exception that happen during thetransform in `preprocessing_exc_tuple` in IPython 7.17 and above.\n",
      "  and should_run_async(code)\n"
     ]
    },
    {
     "data": {
      "text/plain": [
       "132"
      ]
     },
     "execution_count": 43,
     "metadata": {},
     "output_type": "execute_result"
    }
   ],
   "source": [
    "len(scoresperdoc[0])"
   ]
  },
  {
   "cell_type": "markdown",
   "metadata": {},
   "source": [
    "We could do a lot of different stuff with the resulting matrix, in which each row represents one of the documents and each row consists of one score for each topic.\n",
    "For example, we just could create a tab-separated file:"
   ]
  },
  {
   "cell_type": "code",
   "execution_count": 44,
   "metadata": {},
   "outputs": [
    {
     "name": "stderr",
     "output_type": "stream",
     "text": [
      "/usr/local/lib/python3.8/dist-packages/ipykernel/ipkernel.py:283: DeprecationWarning: `should_run_async` will not call `transform_cell` automatically in the future. Please pass the result to `transformed_cell` argument and any exception that happen during thetransform in `preprocessing_exc_tuple` in IPython 7.17 and above.\n",
      "  and should_run_async(code)\n"
     ]
    }
   ],
   "source": [
    "with open(\"topicscores.tsv\",\"w\",encoding=\"utf-8\") as fo:\n",
    "    for row in scoresperdoc[0]:\n",
    "       fo.write(\"\\t\".join([\"{:0.3f}\".format(score) for score in row]))\n",
    "       fo.write(\"\\n\")"
   ]
  },
  {
   "cell_type": "markdown",
   "metadata": {},
   "source": [
    "... or we put it into a Pandas dataframe"
   ]
  },
  {
   "cell_type": "code",
   "execution_count": 45,
   "metadata": {
    "scrolled": false
   },
   "outputs": [
    {
     "name": "stderr",
     "output_type": "stream",
     "text": [
      "/usr/local/lib/python3.8/dist-packages/ipykernel/ipkernel.py:283: DeprecationWarning: `should_run_async` will not call `transform_cell` automatically in the future. Please pass the result to `transformed_cell` argument and any exception that happen during thetransform in `preprocessing_exc_tuple` in IPython 7.17 and above.\n",
      "  and should_run_async(code)\n"
     ]
    },
    {
     "data": {
      "text/html": [
       "<div>\n",
       "<style scoped>\n",
       "    .dataframe tbody tr th:only-of-type {\n",
       "        vertical-align: middle;\n",
       "    }\n",
       "\n",
       "    .dataframe tbody tr th {\n",
       "        vertical-align: top;\n",
       "    }\n",
       "\n",
       "    .dataframe thead th {\n",
       "        text-align: right;\n",
       "    }\n",
       "</style>\n",
       "<table border=\"1\" class=\"dataframe\">\n",
       "  <thead>\n",
       "    <tr style=\"text-align: right;\">\n",
       "      <th></th>\n",
       "      <th>0</th>\n",
       "      <th>1</th>\n",
       "      <th>2</th>\n",
       "      <th>3</th>\n",
       "      <th>4</th>\n",
       "      <th>5</th>\n",
       "      <th>6</th>\n",
       "      <th>7</th>\n",
       "      <th>8</th>\n",
       "      <th>9</th>\n",
       "    </tr>\n",
       "  </thead>\n",
       "  <tbody>\n",
       "    <tr>\n",
       "      <th>0</th>\n",
       "      <td>95.803513</td>\n",
       "      <td>164.639603</td>\n",
       "      <td>2.271330</td>\n",
       "      <td>0.100037</td>\n",
       "      <td>0.100029</td>\n",
       "      <td>0.100030</td>\n",
       "      <td>0.100016</td>\n",
       "      <td>259.408783</td>\n",
       "      <td>0.100034</td>\n",
       "      <td>0.100017</td>\n",
       "    </tr>\n",
       "    <tr>\n",
       "      <th>1</th>\n",
       "      <td>71.797333</td>\n",
       "      <td>59.436352</td>\n",
       "      <td>0.100025</td>\n",
       "      <td>237.256454</td>\n",
       "      <td>0.100016</td>\n",
       "      <td>0.100038</td>\n",
       "      <td>0.100007</td>\n",
       "      <td>4.547783</td>\n",
       "      <td>0.100023</td>\n",
       "      <td>0.100015</td>\n",
       "    </tr>\n",
       "    <tr>\n",
       "      <th>2</th>\n",
       "      <td>0.100034</td>\n",
       "      <td>59.707764</td>\n",
       "      <td>112.655312</td>\n",
       "      <td>0.100024</td>\n",
       "      <td>0.100011</td>\n",
       "      <td>3.266003</td>\n",
       "      <td>0.100004</td>\n",
       "      <td>0.100009</td>\n",
       "      <td>17.724358</td>\n",
       "      <td>0.100009</td>\n",
       "    </tr>\n",
       "    <tr>\n",
       "      <th>3</th>\n",
       "      <td>611.217041</td>\n",
       "      <td>326.563629</td>\n",
       "      <td>25.395943</td>\n",
       "      <td>0.100018</td>\n",
       "      <td>0.100032</td>\n",
       "      <td>19.684704</td>\n",
       "      <td>0.100020</td>\n",
       "      <td>51.258152</td>\n",
       "      <td>70.050606</td>\n",
       "      <td>0.100027</td>\n",
       "    </tr>\n",
       "    <tr>\n",
       "      <th>4</th>\n",
       "      <td>39.888710</td>\n",
       "      <td>39.904011</td>\n",
       "      <td>129.515854</td>\n",
       "      <td>0.100012</td>\n",
       "      <td>0.100015</td>\n",
       "      <td>22.508051</td>\n",
       "      <td>0.100006</td>\n",
       "      <td>0.100028</td>\n",
       "      <td>0.100028</td>\n",
       "      <td>0.100008</td>\n",
       "    </tr>\n",
       "    <tr>\n",
       "      <th>...</th>\n",
       "      <td>...</td>\n",
       "      <td>...</td>\n",
       "      <td>...</td>\n",
       "      <td>...</td>\n",
       "      <td>...</td>\n",
       "      <td>...</td>\n",
       "      <td>...</td>\n",
       "      <td>...</td>\n",
       "      <td>...</td>\n",
       "      <td>...</td>\n",
       "    </tr>\n",
       "    <tr>\n",
       "      <th>127</th>\n",
       "      <td>147.087540</td>\n",
       "      <td>317.375153</td>\n",
       "      <td>5.765640</td>\n",
       "      <td>12.333256</td>\n",
       "      <td>0.100030</td>\n",
       "      <td>11.839808</td>\n",
       "      <td>2.500140</td>\n",
       "      <td>28.845358</td>\n",
       "      <td>20.238258</td>\n",
       "      <td>0.100016</td>\n",
       "    </tr>\n",
       "    <tr>\n",
       "      <th>128</th>\n",
       "      <td>140.617630</td>\n",
       "      <td>558.247009</td>\n",
       "      <td>6.615144</td>\n",
       "      <td>0.100017</td>\n",
       "      <td>0.100028</td>\n",
       "      <td>0.100027</td>\n",
       "      <td>0.100009</td>\n",
       "      <td>0.100027</td>\n",
       "      <td>0.100027</td>\n",
       "      <td>0.100012</td>\n",
       "    </tr>\n",
       "    <tr>\n",
       "      <th>129</th>\n",
       "      <td>16.113674</td>\n",
       "      <td>15.166436</td>\n",
       "      <td>0.100037</td>\n",
       "      <td>0.100009</td>\n",
       "      <td>0.100019</td>\n",
       "      <td>0.100016</td>\n",
       "      <td>0.100008</td>\n",
       "      <td>14.279188</td>\n",
       "      <td>87.965019</td>\n",
       "      <td>0.100029</td>\n",
       "    </tr>\n",
       "    <tr>\n",
       "      <th>130</th>\n",
       "      <td>76.758690</td>\n",
       "      <td>23.601952</td>\n",
       "      <td>0.100028</td>\n",
       "      <td>0.100011</td>\n",
       "      <td>0.100013</td>\n",
       "      <td>0.100034</td>\n",
       "      <td>0.100005</td>\n",
       "      <td>0.100027</td>\n",
       "      <td>165.024048</td>\n",
       "      <td>0.100021</td>\n",
       "    </tr>\n",
       "    <tr>\n",
       "      <th>131</th>\n",
       "      <td>7.702151</td>\n",
       "      <td>0.100029</td>\n",
       "      <td>0.100022</td>\n",
       "      <td>0.100007</td>\n",
       "      <td>0.100009</td>\n",
       "      <td>301.351318</td>\n",
       "      <td>0.100004</td>\n",
       "      <td>0.100015</td>\n",
       "      <td>0.100024</td>\n",
       "      <td>0.100007</td>\n",
       "    </tr>\n",
       "  </tbody>\n",
       "</table>\n",
       "<p>132 rows × 10 columns</p>\n",
       "</div>"
      ],
      "text/plain": [
       "              0           1           2           3         4           5  \\\n",
       "0     95.803513  164.639603    2.271330    0.100037  0.100029    0.100030   \n",
       "1     71.797333   59.436352    0.100025  237.256454  0.100016    0.100038   \n",
       "2      0.100034   59.707764  112.655312    0.100024  0.100011    3.266003   \n",
       "3    611.217041  326.563629   25.395943    0.100018  0.100032   19.684704   \n",
       "4     39.888710   39.904011  129.515854    0.100012  0.100015   22.508051   \n",
       "..          ...         ...         ...         ...       ...         ...   \n",
       "127  147.087540  317.375153    5.765640   12.333256  0.100030   11.839808   \n",
       "128  140.617630  558.247009    6.615144    0.100017  0.100028    0.100027   \n",
       "129   16.113674   15.166436    0.100037    0.100009  0.100019    0.100016   \n",
       "130   76.758690   23.601952    0.100028    0.100011  0.100013    0.100034   \n",
       "131    7.702151    0.100029    0.100022    0.100007  0.100009  301.351318   \n",
       "\n",
       "            6           7           8         9  \n",
       "0    0.100016  259.408783    0.100034  0.100017  \n",
       "1    0.100007    4.547783    0.100023  0.100015  \n",
       "2    0.100004    0.100009   17.724358  0.100009  \n",
       "3    0.100020   51.258152   70.050606  0.100027  \n",
       "4    0.100006    0.100028    0.100028  0.100008  \n",
       "..        ...         ...         ...       ...  \n",
       "127  2.500140   28.845358   20.238258  0.100016  \n",
       "128  0.100009    0.100027    0.100027  0.100012  \n",
       "129  0.100008   14.279188   87.965019  0.100029  \n",
       "130  0.100005    0.100027  165.024048  0.100021  \n",
       "131  0.100004    0.100015    0.100024  0.100007  \n",
       "\n",
       "[132 rows x 10 columns]"
      ]
     },
     "execution_count": 45,
     "metadata": {},
     "output_type": "execute_result"
    }
   ],
   "source": [
    "df = pd.DataFrame.from_records(scoresperdoc[0])\n",
    "df"
   ]
  },
  {
   "cell_type": "markdown",
   "metadata": {},
   "source": [
    "We see that these scores are extremely skewed. Maybe we just want to know which topics score really high? Let's recode:"
   ]
  },
  {
   "cell_type": "code",
   "execution_count": 46,
   "metadata": {
    "scrolled": true
   },
   "outputs": [
    {
     "name": "stderr",
     "output_type": "stream",
     "text": [
      "/usr/local/lib/python3.8/dist-packages/ipykernel/ipkernel.py:283: DeprecationWarning: `should_run_async` will not call `transform_cell` automatically in the future. Please pass the result to `transformed_cell` argument and any exception that happen during thetransform in `preprocessing_exc_tuple` in IPython 7.17 and above.\n",
      "  and should_run_async(code)\n"
     ]
    },
    {
     "data": {
      "text/html": [
       "<div>\n",
       "<style scoped>\n",
       "    .dataframe tbody tr th:only-of-type {\n",
       "        vertical-align: middle;\n",
       "    }\n",
       "\n",
       "    .dataframe tbody tr th {\n",
       "        vertical-align: top;\n",
       "    }\n",
       "\n",
       "    .dataframe thead th {\n",
       "        text-align: right;\n",
       "    }\n",
       "</style>\n",
       "<table border=\"1\" class=\"dataframe\">\n",
       "  <thead>\n",
       "    <tr style=\"text-align: right;\">\n",
       "      <th></th>\n",
       "      <th>0</th>\n",
       "      <th>1</th>\n",
       "      <th>2</th>\n",
       "      <th>3</th>\n",
       "      <th>4</th>\n",
       "      <th>5</th>\n",
       "      <th>6</th>\n",
       "      <th>7</th>\n",
       "      <th>8</th>\n",
       "      <th>9</th>\n",
       "    </tr>\n",
       "  </thead>\n",
       "  <tbody>\n",
       "    <tr>\n",
       "      <th>0</th>\n",
       "      <td>1</td>\n",
       "      <td>1</td>\n",
       "      <td>0</td>\n",
       "      <td>0</td>\n",
       "      <td>0</td>\n",
       "      <td>0</td>\n",
       "      <td>0</td>\n",
       "      <td>1</td>\n",
       "      <td>0</td>\n",
       "      <td>0</td>\n",
       "    </tr>\n",
       "    <tr>\n",
       "      <th>1</th>\n",
       "      <td>1</td>\n",
       "      <td>1</td>\n",
       "      <td>0</td>\n",
       "      <td>1</td>\n",
       "      <td>0</td>\n",
       "      <td>0</td>\n",
       "      <td>0</td>\n",
       "      <td>0</td>\n",
       "      <td>0</td>\n",
       "      <td>0</td>\n",
       "    </tr>\n",
       "    <tr>\n",
       "      <th>2</th>\n",
       "      <td>0</td>\n",
       "      <td>1</td>\n",
       "      <td>1</td>\n",
       "      <td>0</td>\n",
       "      <td>0</td>\n",
       "      <td>0</td>\n",
       "      <td>0</td>\n",
       "      <td>0</td>\n",
       "      <td>1</td>\n",
       "      <td>0</td>\n",
       "    </tr>\n",
       "    <tr>\n",
       "      <th>3</th>\n",
       "      <td>1</td>\n",
       "      <td>1</td>\n",
       "      <td>1</td>\n",
       "      <td>0</td>\n",
       "      <td>0</td>\n",
       "      <td>1</td>\n",
       "      <td>0</td>\n",
       "      <td>1</td>\n",
       "      <td>1</td>\n",
       "      <td>0</td>\n",
       "    </tr>\n",
       "    <tr>\n",
       "      <th>4</th>\n",
       "      <td>1</td>\n",
       "      <td>1</td>\n",
       "      <td>1</td>\n",
       "      <td>0</td>\n",
       "      <td>0</td>\n",
       "      <td>1</td>\n",
       "      <td>0</td>\n",
       "      <td>0</td>\n",
       "      <td>0</td>\n",
       "      <td>0</td>\n",
       "    </tr>\n",
       "    <tr>\n",
       "      <th>...</th>\n",
       "      <td>...</td>\n",
       "      <td>...</td>\n",
       "      <td>...</td>\n",
       "      <td>...</td>\n",
       "      <td>...</td>\n",
       "      <td>...</td>\n",
       "      <td>...</td>\n",
       "      <td>...</td>\n",
       "      <td>...</td>\n",
       "      <td>...</td>\n",
       "    </tr>\n",
       "    <tr>\n",
       "      <th>127</th>\n",
       "      <td>1</td>\n",
       "      <td>1</td>\n",
       "      <td>0</td>\n",
       "      <td>1</td>\n",
       "      <td>0</td>\n",
       "      <td>1</td>\n",
       "      <td>0</td>\n",
       "      <td>1</td>\n",
       "      <td>1</td>\n",
       "      <td>0</td>\n",
       "    </tr>\n",
       "    <tr>\n",
       "      <th>128</th>\n",
       "      <td>1</td>\n",
       "      <td>1</td>\n",
       "      <td>0</td>\n",
       "      <td>0</td>\n",
       "      <td>0</td>\n",
       "      <td>0</td>\n",
       "      <td>0</td>\n",
       "      <td>0</td>\n",
       "      <td>0</td>\n",
       "      <td>0</td>\n",
       "    </tr>\n",
       "    <tr>\n",
       "      <th>129</th>\n",
       "      <td>1</td>\n",
       "      <td>1</td>\n",
       "      <td>0</td>\n",
       "      <td>0</td>\n",
       "      <td>0</td>\n",
       "      <td>0</td>\n",
       "      <td>0</td>\n",
       "      <td>1</td>\n",
       "      <td>1</td>\n",
       "      <td>0</td>\n",
       "    </tr>\n",
       "    <tr>\n",
       "      <th>130</th>\n",
       "      <td>1</td>\n",
       "      <td>1</td>\n",
       "      <td>0</td>\n",
       "      <td>0</td>\n",
       "      <td>0</td>\n",
       "      <td>0</td>\n",
       "      <td>0</td>\n",
       "      <td>0</td>\n",
       "      <td>1</td>\n",
       "      <td>0</td>\n",
       "    </tr>\n",
       "    <tr>\n",
       "      <th>131</th>\n",
       "      <td>0</td>\n",
       "      <td>0</td>\n",
       "      <td>0</td>\n",
       "      <td>0</td>\n",
       "      <td>0</td>\n",
       "      <td>1</td>\n",
       "      <td>0</td>\n",
       "      <td>0</td>\n",
       "      <td>0</td>\n",
       "      <td>0</td>\n",
       "    </tr>\n",
       "  </tbody>\n",
       "</table>\n",
       "<p>132 rows × 10 columns</p>\n",
       "</div>"
      ],
      "text/plain": [
       "     0  1  2  3  4  5  6  7  8  9\n",
       "0    1  1  0  0  0  0  0  1  0  0\n",
       "1    1  1  0  1  0  0  0  0  0  0\n",
       "2    0  1  1  0  0  0  0  0  1  0\n",
       "3    1  1  1  0  0  1  0  1  1  0\n",
       "4    1  1  1  0  0  1  0  0  0  0\n",
       "..  .. .. .. .. .. .. .. .. .. ..\n",
       "127  1  1  0  1  0  1  0  1  1  0\n",
       "128  1  1  0  0  0  0  0  0  0  0\n",
       "129  1  1  0  0  0  0  0  1  1  0\n",
       "130  1  1  0  0  0  0  0  0  1  0\n",
       "131  0  0  0  0  0  1  0  0  0  0\n",
       "\n",
       "[132 rows x 10 columns]"
      ]
     },
     "execution_count": 46,
     "metadata": {},
     "output_type": "execute_result"
    }
   ],
   "source": [
    "df2 = df.applymap(lambda x: int(x>10))\n",
    "df2"
   ]
  },
  {
   "cell_type": "markdown",
   "metadata": {},
   "source": [
    "Or a heatmap?"
   ]
  },
  {
   "cell_type": "code",
   "execution_count": 47,
   "metadata": {},
   "outputs": [
    {
     "name": "stderr",
     "output_type": "stream",
     "text": [
      "/usr/local/lib/python3.8/dist-packages/ipykernel/ipkernel.py:283: DeprecationWarning: `should_run_async` will not call `transform_cell` automatically in the future. Please pass the result to `transformed_cell` argument and any exception that happen during thetransform in `preprocessing_exc_tuple` in IPython 7.17 and above.\n",
      "  and should_run_async(code)\n"
     ]
    },
    {
     "data": {
      "text/plain": [
       "<AxesSubplot:>"
      ]
     },
     "execution_count": 47,
     "metadata": {},
     "output_type": "execute_result"
    },
    {
     "data": {
      "image/png": "[encoded data removed]",
      "text/plain": [
       "<Figure size 720x1440 with 2 Axes>"
      ]
     },
     "metadata": {
      "needs_background": "light"
     },
     "output_type": "display_data"
    }
   ],
   "source": [
    "plt.figure(figsize=(10, 20))\n",
    "sns.heatmap(df)"
   ]
  },
  {
   "cell_type": "markdown",
   "metadata": {},
   "source": [
    "# Tuning alpha and eta\n",
    "different parameters. From docstring:\n",
    "```\n",
    "`alpha` and `eta` are hyperparameters that affect sparsity of the document-topic\n",
    "(theta) and topic-word (lambda) distributions. Both default to a symmetric\n",
    "1.0/num_topics prior.\n",
    "\n",
    "`alpha` can be set to an explicit array = prior of your choice. It also\n",
    "support special values of 'asymmetric' and 'auto': the former uses a fixed\n",
    "normalized asymmetric 1.0/topicno prior, the latter learns an asymmetric\n",
    "prior directly from your data.\n",
    "\n",
    "`eta` can be a scalar for a symmetric prior over topic/word\n",
    "distributions, or a matrix of shape num_topics x num_words, which can\n",
    "be used to impose asymmetric priors over the word distribution on a\n",
    "per-topic basis. This may be useful if you want to seed certain topics\n",
    "with particular words by boosting the priors for those words.  It also\n",
    "supports the special value 'auto', which learns an asymmetric prior\n",
    "directly from your data.\n",
    "```\n"
   ]
  },
  {
   "cell_type": "code",
   "execution_count": 48,
   "metadata": {
    "scrolled": true
   },
   "outputs": [
    {
     "name": "stderr",
     "output_type": "stream",
     "text": [
      "/usr/local/lib/python3.8/dist-packages/ipykernel/ipkernel.py:283: DeprecationWarning: `should_run_async` will not call `transform_cell` automatically in the future. Please pass the result to `transformed_cell` argument and any exception that happen during thetransform in `preprocessing_exc_tuple` in IPython 7.17 and above.\n",
      "  and should_run_async(code)\n"
     ]
    }
   ],
   "source": [
    "# example for different specification: repeat analysis 10 times, while learning alpha and eta from the data \n",
    "# instead of using 1/number of topics as defailt\n",
    "lda_m6 = models.ldamodel.LdaModel(corpus=tfidfcorpus_m5[ldacorpus_m5],id2word=id2word_m5,num_topics=50, alpha='auto', eta = 'auto',passes=10)\n"
   ]
  },
  {
   "cell_type": "code",
   "execution_count": 49,
   "metadata": {
    "scrolled": true
   },
   "outputs": [
    {
     "name": "stderr",
     "output_type": "stream",
     "text": [
      "/usr/local/lib/python3.8/dist-packages/ipykernel/ipkernel.py:283: DeprecationWarning: `should_run_async` will not call `transform_cell` automatically in the future. Please pass the result to `transformed_cell` argument and any exception that happen during thetransform in `preprocessing_exc_tuple` in IPython 7.17 and above.\n",
      "  and should_run_async(code)\n"
     ]
    },
    {
     "ename": "TypeError",
     "evalue": "Object of type complex is not JSON serializable",
     "output_type": "error",
     "traceback": [
      "\u001b[0;31m---------------------------------------------------------------------------\u001b[0m",
      "\u001b[0;31mTypeError\u001b[0m                                 Traceback (most recent call last)",
      "\u001b[0;32m<ipython-input-49-af3c34ecc9b8>\u001b[0m in \u001b[0;36m<module>\u001b[0;34m\u001b[0m\n\u001b[1;32m      1\u001b[0m \u001b[0mvis_data\u001b[0m \u001b[0;34m=\u001b[0m \u001b[0mgensimvis\u001b[0m\u001b[0;34m.\u001b[0m\u001b[0mprepare\u001b[0m\u001b[0;34m(\u001b[0m\u001b[0mlda_m6\u001b[0m\u001b[0;34m,\u001b[0m\u001b[0mldacorpus_m5\u001b[0m\u001b[0;34m,\u001b[0m\u001b[0mid2word_m5\u001b[0m\u001b[0;34m)\u001b[0m\u001b[0;34m\u001b[0m\u001b[0;34m\u001b[0m\u001b[0m\n\u001b[0;32m----> 2\u001b[0;31m \u001b[0mpyLDAvis\u001b[0m\u001b[0;34m.\u001b[0m\u001b[0mdisplay\u001b[0m\u001b[0;34m(\u001b[0m\u001b[0mvis_data\u001b[0m\u001b[0;34m)\u001b[0m\u001b[0;34m\u001b[0m\u001b[0;34m\u001b[0m\u001b[0m\n\u001b[0m",
      "\u001b[0;32m~/.local/lib/python3.8/site-packages/pyLDAvis/_display.py\u001b[0m in \u001b[0;36mdisplay\u001b[0;34m(data, local, **kwargs)\u001b[0m\n\u001b[1;32m    220\u001b[0m         \u001b[0mkwargs\u001b[0m\u001b[0;34m[\u001b[0m\u001b[0;34m'd3_url'\u001b[0m\u001b[0;34m]\u001b[0m\u001b[0;34m,\u001b[0m \u001b[0mkwargs\u001b[0m\u001b[0;34m[\u001b[0m\u001b[0;34m'ldavis_url'\u001b[0m\u001b[0;34m]\u001b[0m\u001b[0;34m,\u001b[0m \u001b[0mkwargs\u001b[0m\u001b[0;34m[\u001b[0m\u001b[0;34m'ldavis_css_url'\u001b[0m\u001b[0;34m]\u001b[0m \u001b[0;34m=\u001b[0m \u001b[0mwrite_ipynb_local_js\u001b[0m\u001b[0;34m(\u001b[0m\u001b[0;34m)\u001b[0m\u001b[0;34m\u001b[0m\u001b[0;34m\u001b[0m\u001b[0m\n\u001b[1;32m    221\u001b[0m \u001b[0;34m\u001b[0m\u001b[0m\n\u001b[0;32m--> 222\u001b[0;31m     \u001b[0;32mreturn\u001b[0m \u001b[0mHTML\u001b[0m\u001b[0;34m(\u001b[0m\u001b[0mprepared_data_to_html\u001b[0m\u001b[0;34m(\u001b[0m\u001b[0mdata\u001b[0m\u001b[0;34m,\u001b[0m \u001b[0;34m**\u001b[0m\u001b[0mkwargs\u001b[0m\u001b[0;34m)\u001b[0m\u001b[0;34m)\u001b[0m\u001b[0;34m\u001b[0m\u001b[0;34m\u001b[0m\u001b[0m\n\u001b[0m\u001b[1;32m    223\u001b[0m \u001b[0;34m\u001b[0m\u001b[0m\n\u001b[1;32m    224\u001b[0m \u001b[0;34m\u001b[0m\u001b[0m\n",
      "\u001b[0;32m~/.local/lib/python3.8/site-packages/pyLDAvis/_display.py\u001b[0m in \u001b[0;36mprepared_data_to_html\u001b[0;34m(data, d3_url, ldavis_url, ldavis_css_url, template_type, visid, use_http)\u001b[0m\n\u001b[1;32m    175\u001b[0m                            \u001b[0md3_url\u001b[0m\u001b[0;34m=\u001b[0m\u001b[0md3_url\u001b[0m\u001b[0;34m,\u001b[0m\u001b[0;34m\u001b[0m\u001b[0;34m\u001b[0m\u001b[0m\n\u001b[1;32m    176\u001b[0m                            \u001b[0mldavis_url\u001b[0m\u001b[0;34m=\u001b[0m\u001b[0mldavis_url\u001b[0m\u001b[0;34m,\u001b[0m\u001b[0;34m\u001b[0m\u001b[0;34m\u001b[0m\u001b[0m\n\u001b[0;32m--> 177\u001b[0;31m                            \u001b[0mvis_json\u001b[0m\u001b[0;34m=\u001b[0m\u001b[0mdata\u001b[0m\u001b[0;34m.\u001b[0m\u001b[0mto_json\u001b[0m\u001b[0;34m(\u001b[0m\u001b[0;34m)\u001b[0m\u001b[0;34m,\u001b[0m\u001b[0;34m\u001b[0m\u001b[0;34m\u001b[0m\u001b[0m\n\u001b[0m\u001b[1;32m    178\u001b[0m                            ldavis_css_url=ldavis_css_url)\n\u001b[1;32m    179\u001b[0m \u001b[0;34m\u001b[0m\u001b[0m\n",
      "\u001b[0;32m~/.local/lib/python3.8/site-packages/pyLDAvis/_prepare.py\u001b[0m in \u001b[0;36mto_json\u001b[0;34m(self)\u001b[0m\n\u001b[1;32m    469\u001b[0m \u001b[0;34m\u001b[0m\u001b[0m\n\u001b[1;32m    470\u001b[0m     \u001b[0;32mdef\u001b[0m \u001b[0mto_json\u001b[0m\u001b[0;34m(\u001b[0m\u001b[0mself\u001b[0m\u001b[0;34m)\u001b[0m\u001b[0;34m:\u001b[0m\u001b[0;34m\u001b[0m\u001b[0;34m\u001b[0m\u001b[0m\n\u001b[0;32m--> 471\u001b[0;31m         \u001b[0;32mreturn\u001b[0m \u001b[0mjson\u001b[0m\u001b[0;34m.\u001b[0m\u001b[0mdumps\u001b[0m\u001b[0;34m(\u001b[0m\u001b[0mself\u001b[0m\u001b[0;34m.\u001b[0m\u001b[0mto_dict\u001b[0m\u001b[0;34m(\u001b[0m\u001b[0;34m)\u001b[0m\u001b[0;34m,\u001b[0m \u001b[0mcls\u001b[0m\u001b[0;34m=\u001b[0m\u001b[0mNumPyEncoder\u001b[0m\u001b[0;34m)\u001b[0m\u001b[0;34m\u001b[0m\u001b[0;34m\u001b[0m\u001b[0m\n\u001b[0m",
      "\u001b[0;32m/usr/lib/python3.8/json/__init__.py\u001b[0m in \u001b[0;36mdumps\u001b[0;34m(obj, skipkeys, ensure_ascii, check_circular, allow_nan, cls, indent, separators, default, sort_keys, **kw)\u001b[0m\n\u001b[1;32m    232\u001b[0m     \u001b[0;32mif\u001b[0m \u001b[0mcls\u001b[0m \u001b[0;32mis\u001b[0m \u001b[0;32mNone\u001b[0m\u001b[0;34m:\u001b[0m\u001b[0;34m\u001b[0m\u001b[0;34m\u001b[0m\u001b[0m\n\u001b[1;32m    233\u001b[0m         \u001b[0mcls\u001b[0m \u001b[0;34m=\u001b[0m \u001b[0mJSONEncoder\u001b[0m\u001b[0;34m\u001b[0m\u001b[0;34m\u001b[0m\u001b[0m\n\u001b[0;32m--> 234\u001b[0;31m     return cls(\n\u001b[0m\u001b[1;32m    235\u001b[0m         \u001b[0mskipkeys\u001b[0m\u001b[0;34m=\u001b[0m\u001b[0mskipkeys\u001b[0m\u001b[0;34m,\u001b[0m \u001b[0mensure_ascii\u001b[0m\u001b[0;34m=\u001b[0m\u001b[0mensure_ascii\u001b[0m\u001b[0;34m,\u001b[0m\u001b[0;34m\u001b[0m\u001b[0;34m\u001b[0m\u001b[0m\n\u001b[1;32m    236\u001b[0m         \u001b[0mcheck_circular\u001b[0m\u001b[0;34m=\u001b[0m\u001b[0mcheck_circular\u001b[0m\u001b[0;34m,\u001b[0m \u001b[0mallow_nan\u001b[0m\u001b[0;34m=\u001b[0m\u001b[0mallow_nan\u001b[0m\u001b[0;34m,\u001b[0m \u001b[0mindent\u001b[0m\u001b[0;34m=\u001b[0m\u001b[0mindent\u001b[0m\u001b[0;34m,\u001b[0m\u001b[0;34m\u001b[0m\u001b[0;34m\u001b[0m\u001b[0m\n",
      "\u001b[0;32m/usr/lib/python3.8/json/encoder.py\u001b[0m in \u001b[0;36mencode\u001b[0;34m(self, o)\u001b[0m\n\u001b[1;32m    197\u001b[0m         \u001b[0;31m# exceptions aren't as detailed.  The list call should be roughly\u001b[0m\u001b[0;34m\u001b[0m\u001b[0;34m\u001b[0m\u001b[0;34m\u001b[0m\u001b[0m\n\u001b[1;32m    198\u001b[0m         \u001b[0;31m# equivalent to the PySequence_Fast that ''.join() would do.\u001b[0m\u001b[0;34m\u001b[0m\u001b[0;34m\u001b[0m\u001b[0;34m\u001b[0m\u001b[0m\n\u001b[0;32m--> 199\u001b[0;31m         \u001b[0mchunks\u001b[0m \u001b[0;34m=\u001b[0m \u001b[0mself\u001b[0m\u001b[0;34m.\u001b[0m\u001b[0miterencode\u001b[0m\u001b[0;34m(\u001b[0m\u001b[0mo\u001b[0m\u001b[0;34m,\u001b[0m \u001b[0m_one_shot\u001b[0m\u001b[0;34m=\u001b[0m\u001b[0;32mTrue\u001b[0m\u001b[0;34m)\u001b[0m\u001b[0;34m\u001b[0m\u001b[0;34m\u001b[0m\u001b[0m\n\u001b[0m\u001b[1;32m    200\u001b[0m         \u001b[0;32mif\u001b[0m \u001b[0;32mnot\u001b[0m \u001b[0misinstance\u001b[0m\u001b[0;34m(\u001b[0m\u001b[0mchunks\u001b[0m\u001b[0;34m,\u001b[0m \u001b[0;34m(\u001b[0m\u001b[0mlist\u001b[0m\u001b[0;34m,\u001b[0m \u001b[0mtuple\u001b[0m\u001b[0;34m)\u001b[0m\u001b[0;34m)\u001b[0m\u001b[0;34m:\u001b[0m\u001b[0;34m\u001b[0m\u001b[0;34m\u001b[0m\u001b[0m\n\u001b[1;32m    201\u001b[0m             \u001b[0mchunks\u001b[0m \u001b[0;34m=\u001b[0m \u001b[0mlist\u001b[0m\u001b[0;34m(\u001b[0m\u001b[0mchunks\u001b[0m\u001b[0;34m)\u001b[0m\u001b[0;34m\u001b[0m\u001b[0;34m\u001b[0m\u001b[0m\n",
      "\u001b[0;32m/usr/lib/python3.8/json/encoder.py\u001b[0m in \u001b[0;36miterencode\u001b[0;34m(self, o, _one_shot)\u001b[0m\n\u001b[1;32m    255\u001b[0m                 \u001b[0mself\u001b[0m\u001b[0;34m.\u001b[0m\u001b[0mkey_separator\u001b[0m\u001b[0;34m,\u001b[0m \u001b[0mself\u001b[0m\u001b[0;34m.\u001b[0m\u001b[0mitem_separator\u001b[0m\u001b[0;34m,\u001b[0m \u001b[0mself\u001b[0m\u001b[0;34m.\u001b[0m\u001b[0msort_keys\u001b[0m\u001b[0;34m,\u001b[0m\u001b[0;34m\u001b[0m\u001b[0;34m\u001b[0m\u001b[0m\n\u001b[1;32m    256\u001b[0m                 self.skipkeys, _one_shot)\n\u001b[0;32m--> 257\u001b[0;31m         \u001b[0;32mreturn\u001b[0m \u001b[0m_iterencode\u001b[0m\u001b[0;34m(\u001b[0m\u001b[0mo\u001b[0m\u001b[0;34m,\u001b[0m \u001b[0;36m0\u001b[0m\u001b[0;34m)\u001b[0m\u001b[0;34m\u001b[0m\u001b[0;34m\u001b[0m\u001b[0m\n\u001b[0m\u001b[1;32m    258\u001b[0m \u001b[0;34m\u001b[0m\u001b[0m\n\u001b[1;32m    259\u001b[0m def _make_iterencode(markers, _default, _encoder, _indent, _floatstr,\n",
      "\u001b[0;32m~/.local/lib/python3.8/site-packages/pyLDAvis/utils.py\u001b[0m in \u001b[0;36mdefault\u001b[0;34m(self, obj)\u001b[0m\n\u001b[1;32m    148\u001b[0m         \u001b[0;32mif\u001b[0m \u001b[0misinstance\u001b[0m\u001b[0;34m(\u001b[0m\u001b[0mobj\u001b[0m\u001b[0;34m,\u001b[0m \u001b[0mnp\u001b[0m\u001b[0;34m.\u001b[0m\u001b[0mfloat64\u001b[0m\u001b[0;34m)\u001b[0m \u001b[0;32mor\u001b[0m \u001b[0misinstance\u001b[0m\u001b[0;34m(\u001b[0m\u001b[0mobj\u001b[0m\u001b[0;34m,\u001b[0m \u001b[0mnp\u001b[0m\u001b[0;34m.\u001b[0m\u001b[0mfloat32\u001b[0m\u001b[0;34m)\u001b[0m\u001b[0;34m:\u001b[0m\u001b[0;34m\u001b[0m\u001b[0;34m\u001b[0m\u001b[0m\n\u001b[1;32m    149\u001b[0m             \u001b[0;32mreturn\u001b[0m \u001b[0mfloat\u001b[0m\u001b[0;34m(\u001b[0m\u001b[0mobj\u001b[0m\u001b[0;34m)\u001b[0m\u001b[0;34m\u001b[0m\u001b[0;34m\u001b[0m\u001b[0m\n\u001b[0;32m--> 150\u001b[0;31m         \u001b[0;32mreturn\u001b[0m \u001b[0mjson\u001b[0m\u001b[0;34m.\u001b[0m\u001b[0mJSONEncoder\u001b[0m\u001b[0;34m.\u001b[0m\u001b[0mdefault\u001b[0m\u001b[0;34m(\u001b[0m\u001b[0mself\u001b[0m\u001b[0;34m,\u001b[0m \u001b[0mobj\u001b[0m\u001b[0;34m)\u001b[0m\u001b[0;34m\u001b[0m\u001b[0;34m\u001b[0m\u001b[0m\n\u001b[0m",
      "\u001b[0;32m/usr/lib/python3.8/json/encoder.py\u001b[0m in \u001b[0;36mdefault\u001b[0;34m(self, o)\u001b[0m\n\u001b[1;32m    177\u001b[0m \u001b[0;34m\u001b[0m\u001b[0m\n\u001b[1;32m    178\u001b[0m         \"\"\"\n\u001b[0;32m--> 179\u001b[0;31m         raise TypeError(f'Object of type {o.__class__.__name__} '\n\u001b[0m\u001b[1;32m    180\u001b[0m                         f'is not JSON serializable')\n\u001b[1;32m    181\u001b[0m \u001b[0;34m\u001b[0m\u001b[0m\n",
      "\u001b[0;31mTypeError\u001b[0m: Object of type complex is not JSON serializable"
     ]
    }
   ],
   "source": [
    "# with this specific data, this fails b/c of a fitting issue (there is a complex number instead of a float returned somewhere)\n",
    "vis_data = gensimvis.prepare(lda_m6,ldacorpus_m5,id2word_m5)\n",
    "pyLDAvis.display(vis_data)"
   ]
  },
  {
   "cell_type": "markdown",
   "metadata": {},
   "source": [
    "# Handle with care! Topic model with *all* documents - will take a while to run"
   ]
  },
  {
   "cell_type": "code",
   "execution_count": null,
   "metadata": {},
   "outputs": [],
   "source": [
    "#filelist = glob('Cleaned_Speeches/Speeches_*_Cleaned.csv')\n",
    "# instead of all speeches, to speed up things, we are focusing on speeches from the Netherlands only\n",
    "filelist = glob('/home/damian/Downloads/Cleaned_Speeches/Speeches_*_Cleaned.csv')\n",
    "print(filelist)\n",
    "speeches=[]\n",
    "for fn in filelist:\n",
    "    with open(fn) as fi:\n",
    "        reader=csv.reader(fi)\n",
    "        for row in reader:\n",
    "            if row[7]=='en':   # only include english-language speches; we might as well choose 'nl' or 'fr'\n",
    "                speeches.append(row[5])\n",
    "print(len(speeches))"
   ]
  },
  {
   "cell_type": "code",
   "execution_count": null,
   "metadata": {},
   "outputs": [],
   "source": [
    "speeches=[speech.replace('<p>',' ').replace('</p>',' ') for speech in speeches]   #remove HTML tags\n",
    "speeches=[\"\".join([l for l in speech if l not in punctuation]) for speech in speeches]  #remove punctuation\n",
    "speeches=[speech.lower() for speech in speeches]  # convert to lower case\n",
    "speeches=[\" \".join([w for w in speech.split() if w not in mystopwords]) for speech in speeches] # remove stopwords"
   ]
  },
  {
   "cell_type": "code",
   "execution_count": null,
   "metadata": {
    "scrolled": true
   },
   "outputs": [],
   "source": [
    "ldainput_m99 = [speech.split() for speech in speeches]           \n",
    "id2word_m99 = corpora.Dictionary(ldainput_m99)                       \n",
    "\n",
    "id2word_m99.filter_extremes(no_below=5, no_above=0.5)   # do not consider all words that occur in less than n=5 documents\n",
    "                                                    # or in more than 50% of all documents.\n",
    "\n",
    "ldacorpus_m99 = [id2word_m99.doc2bow(doc) for doc in ldainput_m99]\n",
    "tfidfcorpus_m99 = models.TfidfModel(ldacorpus_m99)\n",
    "lda_m99 = models.ldamodel.LdaModel(corpus=tfidfcorpus_m99[ldacorpus_m99],id2word=id2word_m99,num_topics=50, passes=5, eta='auto',alpha='auto')\n",
    "lda_m99.print_topics(num_words=5)"
   ]
  },
  {
   "cell_type": "code",
   "execution_count": null,
   "metadata": {},
   "outputs": [],
   "source": [
    "vis_data = pyLDAvis.gensim.prepare(lda_m99,ldacorpus_m99,id2word_m99)\n",
    "pyLDAvis.display(vis_data)"
   ]
  },
  {
   "cell_type": "code",
   "execution_count": null,
   "metadata": {},
   "outputs": [],
   "source": [
    "print(\"FINISHED RUNNING:\",str(datetime.now()))"
   ]
  }
 ],
 "metadata": {
  "kernelspec": {
   "display_name": "Python 3",
   "language": "python",
   "name": "python3"
  },
  "language_info": {
   "codemirror_mode": {
    "name": "ipython",
    "version": 3
   },
   "file_extension": ".py",
   "mimetype": "text/x-python",
   "name": "python",
   "nbconvert_exporter": "python",
   "pygments_lexer": "ipython3",
   "version": "3.8.5"
  }
 },
 "nbformat": 4,
 "nbformat_minor": 2
}
